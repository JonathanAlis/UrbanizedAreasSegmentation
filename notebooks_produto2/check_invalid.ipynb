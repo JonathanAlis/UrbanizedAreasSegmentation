{
 "cells": [
  {
   "cell_type": "markdown",
   "metadata": {},
   "source": [
    "## Checagem de pixels inválidos"
   ]
  },
  {
   "cell_type": "code",
   "execution_count": null,
   "metadata": {},
   "outputs": [],
   "source": [
    "# imports\n",
    "\n",
    "import os\n",
    "import sys\n",
    "sys.path.append(os.path.abspath('..'))\n",
    "from rasterio.coords import BoundingBox\n",
    "\n",
    "import src.data.preprocess_data as data\n",
    "import src.data.view as view\n",
    "\n",
    "import torch\n",
    "import numpy as np\n",
    "import matplotlib.pyplot as plt"
   ]
  },
  {
   "cell_type": "code",
   "execution_count": null,
   "metadata": {},
   "outputs": [],
   "source": [
    "tiles = ['032027']#, '032026'] \n",
    "num_subtiles = 6\n",
    "\n",
    "train_files, val_files, test_files = data.train_val_test_stratify(tiles, \n",
    "                                                                  num_subtiles,\n",
    "                                                                    train_size = 0.6, \n",
    "                                                                    val_size = 0.2, \n",
    "                                                                    stratify_by = 'type')"
   ]
  },
  {
   "cell_type": "markdown",
   "metadata": {},
   "source": [
    "Primeiramente, vamos carregar um dataset"
   ]
  },
  {
   "cell_type": "code",
   "execution_count": null,
   "metadata": {},
   "outputs": [],
   "source": [
    "working_dir = os.path.abspath('..')\n",
    "dataset_nans = data.SubtileDataset(train_files+val_files+test_files, \n",
    "                    num_subtiles = num_subtiles, \n",
    "                    classes_mode = 'type', \n",
    "                    patch_size=256, \n",
    "                    stride=256, # sem overlap \n",
    "                    data_augmentation = False, \n",
    "                    ignore_most_nans= False,\n",
    "                    return_imgidx = False,\n",
    "                    treat_nans=False, # they supposelly are saved as negative, then a true here cut costs\n",
    "                    debug=False)"
   ]
  },
  {
   "cell_type": "markdown",
   "metadata": {},
   "source": [
    "O dataset carrega como foi salvo: Valores inválidos são negativos dos valores de interpolação.\n",
    "\n",
    "Aqui, calculamos a quantidade ordenada de valores inválidos e obtemos o índice da ordenação por quantidade deles. \n"
   ]
  },
  {
   "cell_type": "code",
   "execution_count": null,
   "metadata": {},
   "outputs": [],
   "source": [
    "\n",
    "most_nan_img = None\n",
    "most_nan_mask = None\n",
    "num_nan = 0\n",
    "\n",
    "indices = []\n",
    "num_nans = []\n",
    "for i, (img, mask) in enumerate(dataset_nans):\n",
    "    negatives = torch.sum(img < 0).item()\n",
    "    urban = torch.sum(mask > 0).item()\n",
    "    indices.append(i)\n",
    "    num_nans.append(negatives)\n",
    "\n",
    "ordered_idx = np.argsort(num_nans)\n",
    "len(ordered_idx)"
   ]
  },
  {
   "cell_type": "markdown",
   "metadata": {},
   "source": [
    "### Histograma"
   ]
  },
  {
   "cell_type": "code",
   "execution_count": null,
   "metadata": {},
   "outputs": [],
   "source": [
    "\n",
    "print(num_nans)\n",
    "print(indices)\n",
    "print([indices[i] for i in ordered_idx])\n",
    "print([num_nans[i] for i in ordered_idx])\n",
    "print([num_nans[i]/img.numel() for i in ordered_idx])\n",
    "\n",
    "data = [num_nans[i]/img.numel()*100 for i in ordered_idx]\n",
    "plt.figure(figsize=(14, 8))\n",
    "counts, bins, patches = plt.hist(data, bins=20, edgecolor='black', weights=[100/len(data)]*len(data))  # Histogram\n",
    "sample_counts, _ = np.histogram(data, bins=20)\n",
    "cumulative_sum = [sum(sample_counts[:i+1]) for i in range(len(sample_counts))]\n",
    "print(cumulative_sum)\n",
    "# Calculate midpoints for labels\n",
    "midpoints = 0.5 * (bins[1:] + bins[:-1])  # Midpoints for 20 bins\n",
    "bin_labels = [f'{bins[i]:.1f}-{bins[i+1]:.1f}' for i in range(len(bins)-1)]\n",
    "\n",
    "for i in range(len(counts)):\n",
    "    print(f\"Bin {i+1}: Range [{bins[i]:.2f}, {bins[i+1]:.2f}) contains {counts[i]} points\")\n",
    "\n",
    "for count, bin_edge in zip(counts, bins[:-1]):\n",
    "    plt.text(bin_edge + (bins[1] - bins[0]) / 2, count, f'{count:.2f}%', ha='center', va='bottom', rotation=45)  # Centered above each bar\n",
    "# Apply labels to midpoints\n",
    "plt.xticks(midpoints, bin_labels, rotation=45)  # Use midpoints instead of bin edges\n",
    "\n",
    "plt.xlabel('Percentual de NaN na imagem')\n",
    "plt.ylabel('Percentual de imagens')\n",
    "plt.title('Distribuição de quantidade de NaN em dataset de 9800 imagens')\n",
    "#plt.yscale('log')  # Use log scale to better visualize large ranges\n",
    "\n",
    "save_to = os.path.join(working_dir, 'figs', 'nans_distribution.png')\n",
    "plt.savefig(save_to, bbox_inches='tight', pad_inches=0)\n",
    "plt.show()"
   ]
  },
  {
   "cell_type": "markdown",
   "metadata": {},
   "source": [
    "Escolhemos as imagens com mais valores inválidos entro dos bins 1, 10 e 20 para mostrar."
   ]
  },
  {
   "cell_type": "code",
   "execution_count": null,
   "metadata": {},
   "outputs": [],
   "source": [
    "\n",
    "num_nans.sort\n",
    "most_nan_img = img.clone() \n",
    "num_nan = negatives\n",
    "most_nan_mask = mask.clone()\n",
    "\n",
    "chosen_bins = [0,9,19] #bins 1, 10 e 20\n",
    "idxs_ =[cumulative_sum[i]-1 for i in chosen_bins]\n",
    "\n",
    "choices = [indices[i] for i in [ordered_idx[j] for j in idxs_]]\n",
    "\n",
    "print(choices)\n",
    "print([num_nans[i] for i in choices])\n",
    "imgs = []\n",
    "masks = []\n",
    "for c in choices:\n",
    "    img,mask = dataset_nans[c]\n",
    "    imgs.append(img)\n",
    "    masks.append(mask)\n",
    "\n"
   ]
  },
  {
   "cell_type": "markdown",
   "metadata": {},
   "source": [
    "### Plot das imagens\n",
    "Adicionando pixel vermelhor nos valores inválidos."
   ]
  },
  {
   "cell_type": "code",
   "execution_count": null,
   "metadata": {},
   "outputs": [],
   "source": [
    "import numpy as np\n",
    "nan_value = most_nan_img.max()\n",
    "\n",
    "plt.figure(figsize=(12,16))\n",
    "imgs_with_nan = []\n",
    "nan_count = [0,0,0]\n",
    "for idx in range(3):\n",
    "    plt.subplot(1,3,idx+1)\n",
    "    img_ = imgs[idx]\n",
    "    mask_ = masks[idx]\n",
    "    r = img_[1,:,:].squeeze()\n",
    "    g = img_[2,:,:].squeeze()\n",
    "    b = img_[3,:,:].squeeze()\n",
    "    rgb_image = torch.stack([r, g, b], axis=-1)\n",
    "    min = rgb_image[rgb_image > 0].min().item()\n",
    "    rgb_image = rgb_image-min\n",
    "    rgb_image*=1/(rgb_image.max())\n",
    "    for i in range(r.shape[0]):\n",
    "        for j in range(r.shape[1]):\n",
    "            if r[i,j]<0:\n",
    "                nan_count[idx]+=1\n",
    "                rgb_image[i,j,0] = 1\n",
    "                rgb_image[i,j,1] = 0\n",
    "                rgb_image[i,j,2] = 0\n",
    "    #rgb_image = rgb_image-rgb_image.min()\n",
    "    #rgb_image*=1/(rgb_image.max())\n",
    "    imgs_with_nan.append(rgb_image)\n",
    "    plt.imshow(rgb_image)\n",
    "    #plt.imshow(mask_.squeeze(), alpha=0.1)\n",
    "    plt.tight_layout()\n",
    "    plt.axis('off')\n",
    "    \n",
    "\n",
    "save_to = os.path.join(working_dir, 'figs', 'invalid_pixels.png')\n",
    "plt.savefig(save_to, bbox_inches='tight', pad_inches=0)\n",
    "plt.show()"
   ]
  },
  {
   "cell_type": "code",
   "execution_count": null,
   "metadata": {},
   "outputs": [],
   "source": [
    "import numpy as np\n",
    "nan_value = most_nan_img.max()\n",
    "imgs_nearest = []\n",
    "plt.figure(figsize=(12,16))\n",
    "\n",
    "for idx in range(3):\n",
    "    plt.subplot(1,3,idx+1)\n",
    "    img_ = torch.abs(imgs[idx])\n",
    "    mask_ = masks[idx]\n",
    "    r = img_[1,:,:].squeeze()\n",
    "    g = img_[2,:,:].squeeze()\n",
    "    b = img_[3,:,:].squeeze()\n",
    "    rgb_image = torch.stack([r, g, b], axis=-1)\n",
    "    min = rgb_image[rgb_image > 0].min().item()\n",
    "    rgb_image = rgb_image-min\n",
    "    rgb_image*=1/(rgb_image.max())\n",
    "    for i in range(r.shape[0]):\n",
    "        for j in range(r.shape[1]):\n",
    "            if r[i,j]<0:\n",
    "                rgb_image[i,j,0] = 1\n",
    "                rgb_image[i,j,1] = 0\n",
    "                rgb_image[i,j,2] = 0\n",
    "    #rgb_image = rgb_image-rgb_image.min()\n",
    "    #rgb_image*=1/(rgb_image.max())\n",
    "    imgs_nearest.append(rgb_image)\n",
    "    plt.imshow(rgb_image)\n",
    "    #plt.imshow(mask_.squeeze(), alpha=0.1)\n",
    "    plt.tight_layout()\n",
    "    plt.axis('off')\n",
    "    \n",
    "save_to = os.path.join(working_dir, 'figs', 'nearest_pixels.png')\n",
    "plt.savefig(save_to, bbox_inches='tight', pad_inches=0)\n",
    "\n",
    "plt.show()"
   ]
  },
  {
   "cell_type": "code",
   "execution_count": null,
   "metadata": {},
   "outputs": [],
   "source": [
    "fig, ax = plt.subplots(figsize=(14, 8))\n",
    "counts, bins, patches = ax.hist(data, bins=20, edgecolor='black', weights=[100/len(data)]*len(data))  # Histogram\n",
    "\n",
    "for count, bin_edge in zip(counts, bins[:-1]):\n",
    "    ax.text(bin_edge + (bins[1] - bins[0]) / 2, count, f'{count:.2f}%', ha='center', va='bottom', rotation=45)  # Centered above each bar\n",
    "# Apply labels to midpoints\n",
    "plt.xticks(midpoints, bin_labels, rotation=45)  # Use midpoints instead of bin edges\n",
    "\n",
    "plt.xlabel('Percentual de NaN na imagem')\n",
    "plt.ylabel('Percentual de imagens')\n",
    "plt.title('Distribuição da quantidade percentual de NaN para as imagens do dataset')\n",
    "#plt.yscale('log')  # Use log scale to better visualize large ranges\n",
    "\n",
    "positions = [\n",
    "    (0.17, 0.3),  # Top-left\n",
    "    (0.39, 0.3),  # Top-center\n",
    "    (0.61, 0.3),  # Top-right\n",
    "]\n",
    "\n",
    "# Step 5: Overlay the images at specified positions\n",
    "for i, pos in enumerate(positions):\n",
    "    image = imgs_with_nan[i]\n",
    "    \n",
    "    # Create a new axes for the image at the specified position\n",
    "    image_ax = fig.add_axes([pos[0], pos[1], 0.35, 0.35])  # [x, y, width, height] in figure coordinates\n",
    "    image_ax.imshow(image)\n",
    "    image_ax.axis('off')  # Turn off axes for the image\n",
    "\n",
    "bin_indices = [0, 9, 19]  # Indices of the bins to connect to\n",
    "bin_centers = [(bins[i] + bins[i+1]) / 2 for i in bin_indices]  # Get the center of the selected bins\n",
    "bin_heights = [counts[i] for i in bin_indices]  # Get the height (frequency) of the selected bins\n",
    "\n",
    "linepos = [\n",
    "    (0.2, 0.7), \n",
    "    (0.55, 0.3), \n",
    "    (0.87, 0.3), \n",
    "]\n",
    "for i, (pos, bin_center, bin_height) in enumerate(zip(linepos, bin_centers, bin_heights)):\n",
    "    # Convert image position from axes fraction to data coordinates\n",
    "    image_x, image_y = ax.transAxes.transform(pos)  # Transform to display coordinates\n",
    "    image_x, image_y = ax.transData.inverted().transform((image_x, image_y))  # Transform to data coordinates\n",
    "    \n",
    "    # Draw a line from the image to the bin\n",
    "    ax.plot([bin_center, image_x], [bin_height, image_y], color='red', linestyle='--', linewidth=1.5)\n",
    "\n",
    "\n",
    "\n",
    "save_to = os.path.join(working_dir, 'figs', 'nans_distribution.png')\n",
    "plt.savefig(save_to, bbox_inches='tight', pad_inches=0)\n",
    "plt.show()\n",
    "print(nan_count)"
   ]
  },
  {
   "cell_type": "code",
   "execution_count": null,
   "metadata": {},
   "outputs": [],
   "source": []
  },
  {
   "cell_type": "code",
   "execution_count": null,
   "metadata": {},
   "outputs": [],
   "source": []
  }
 ],
 "metadata": {
  "kernelspec": {
   "display_name": ".venv",
   "language": "python",
   "name": "python3"
  },
  "language_info": {
   "codemirror_mode": {
    "name": "ipython",
    "version": 3
   },
   "file_extension": ".py",
   "mimetype": "text/x-python",
   "name": "python",
   "nbconvert_exporter": "python",
   "pygments_lexer": "ipython3",
   "version": "3.10.12"
  }
 },
 "nbformat": 4,
 "nbformat_minor": 2
}
