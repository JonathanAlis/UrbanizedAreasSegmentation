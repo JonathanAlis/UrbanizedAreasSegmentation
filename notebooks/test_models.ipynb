{
 "cells": [
  {
   "cell_type": "markdown",
   "metadata": {},
   "source": [
    "### Testando os modelos UNET\n",
    "\n",
    "Principalmente verificando os shapes dos inputs e outputs, e o uso de memória da GPU"
   ]
  },
  {
   "cell_type": "code",
   "execution_count": 1,
   "metadata": {},
   "outputs": [],
   "source": [
    "# imports\n",
    "\n",
    "import os\n",
    "import sys\n",
    "sys.path.append(os.path.abspath('..'))\n",
    "from rasterio.coords import BoundingBox\n",
    "\n",
    "import src.models.unets as unets\n",
    "#import src.models.unets as unets\n",
    "\n",
    "import torch"
   ]
  },
  {
   "cell_type": "code",
   "execution_count": null,
   "metadata": {},
   "outputs": [],
   "source": []
  },
  {
   "cell_type": "markdown",
   "metadata": {},
   "source": []
  },
  {
   "cell_type": "code",
   "execution_count": 2,
   "metadata": {},
   "outputs": [
    {
     "name": "stdout",
     "output_type": "stream",
     "text": [
      " Memory Allocated: 0.00 MB\n",
      " Memory Reserved: 0.00 MB\n"
     ]
    }
   ],
   "source": [
    "def print_gpu_memory(prefix=\"\"):\n",
    "    if torch.cuda.is_available():\n",
    "        allocated = torch.cuda.memory_allocated() / (1024 ** 2)\n",
    "        reserved = torch.cuda.memory_reserved() / (1024 ** 2)\n",
    "        print(f\"{prefix} Memory Allocated: {allocated:.2f} MB\")\n",
    "        print(f\"{prefix} Memory Reserved: {reserved:.2f} MB\")\n",
    "    else:\n",
    "        print(\"CUDA is not available.\")\n",
    "\n",
    "\n",
    "device = torch.device(\"cuda\" if torch.cuda.is_available() else \"cpu\")\n",
    "torch.cuda.empty_cache() \n",
    "\n",
    "print_gpu_memory()\n"
   ]
  },
  {
   "cell_type": "code",
   "execution_count": 3,
   "metadata": {},
   "outputs": [
    {
     "name": "stdout",
     "output_type": "stream",
     "text": [
      "-------------------------------------------\n",
      "UNet shapes:\n",
      "Input: torch.Size([6, 12, 64, 64])\n",
      "Output: torch.Size([6, 5, 64, 64])\n",
      " Memory Allocated: 245.96 MB\n",
      " Memory Reserved: 264.00 MB\n"
     ]
    }
   ],
   "source": [
    "\n",
    "model = unets.UNet(12, out_channels=5).to(device)  # 12 channels, 5 classes\n",
    "input_tensor = torch.rand(6, 12, 64, 64).to(device)  # batch = 6\n",
    "output = model(input_tensor)\n",
    "print('-------------------------------------------')\n",
    "print('UNet shapes:')\n",
    "print('Input:', input_tensor.shape)\n",
    "print('Output:', output.shape)\n",
    "print_gpu_memory()\n",
    "torch.cuda.empty_cache() \n"
   ]
  },
  {
   "cell_type": "code",
   "execution_count": 6,
   "metadata": {},
   "outputs": [
    {
     "name": "stdout",
     "output_type": "stream",
     "text": [
      "-------------------------------------------\n",
      "UNet shapes:\n",
      "Input: torch.Size([6, 12, 256, 256])\n",
      "Output: torch.Size([6, 2, 256, 256])\n",
      "Output: torch.Size([6, 5, 256, 256])\n",
      "Output: torch.Size([6, 4, 256, 256])\n",
      " Memory Allocated: 2363.19 MB\n",
      " Memory Reserved: 2900.00 MB\n"
     ]
    }
   ],
   "source": [
    "\n",
    "model = unets.MultiUNet(12, out_channels=[2, 5, 4]).to(device)  # 12 channels, 5 classes\n",
    "input_tensor = torch.rand(6, 12, 256, 256).to(device)  # batch = 6\n",
    "output = model(input_tensor)\n",
    "print('-------------------------------------------')\n",
    "print('UNet shapes:')\n",
    "print('Input:', input_tensor.shape)\n",
    "for out in output:\n",
    "    print('Output:', out.shape)\n",
    "print_gpu_memory()\n",
    "torch.cuda.empty_cache() "
   ]
  },
  {
   "cell_type": "code",
   "execution_count": null,
   "metadata": {},
   "outputs": [
    {
     "name": "stdout",
     "output_type": "stream",
     "text": [
      "-------------------------------------------\n",
      "UNetResNet34 shapes:\n",
      "Input: torch.Size([6, 12, 224, 224])\n",
      "Output: torch.Size([6, 5, 224, 224])\n",
      " Memory Allocated: 379.98 MB\n",
      " Memory Reserved: 634.00 MB\n"
     ]
    }
   ],
   "source": [
    "\n",
    "model = unets.UNetResNet34(12, out_channels=5).to(device)  # 12 channels, 5 classes\n",
    "input_tensor = torch.rand(6, 12, 224, 224).to(device)  # batch = 6\n",
    "output = model(input_tensor)\n",
    "print('-------------------------------------------')\n",
    "print('UNetResNet34 shapes:')\n",
    "print('Input:', input_tensor.shape)\n",
    "print('Output:', output.shape)\n",
    "print_gpu_memory()\n",
    "torch.cuda.empty_cache() \n"
   ]
  },
  {
   "cell_type": "code",
   "execution_count": null,
   "metadata": {},
   "outputs": [
    {
     "name": "stdout",
     "output_type": "stream",
     "text": [
      "-------------------------------------------\n",
      "UNetEfficientNetB0 shapes:\n",
      "Input: torch.Size([6, 12, 224, 224])\n",
      "Output: torch.Size([6, 5, 224, 224])\n",
      " Memory Allocated: 684.22 MB\n",
      " Memory Reserved: 1112.00 MB\n"
     ]
    }
   ],
   "source": [
    "\n",
    "model = unets.UNetEfficientNetB0(12, out_channels=5).to(device)\n",
    "input_tensor = torch.rand(6, 12, 224, 224).to(device)  # batch = 6\n",
    "output = model(input_tensor)\n",
    "print('-------------------------------------------')\n",
    "print('UNetEfficientNetB0 shapes:')\n",
    "print('Input:', input_tensor.shape)\n",
    "print('Output:', output.shape)\n",
    "print_gpu_memory()\n",
    "torch.cuda.empty_cache() \n"
   ]
  },
  {
   "cell_type": "code",
   "execution_count": null,
   "metadata": {},
   "outputs": [
    {
     "name": "stdout",
     "output_type": "stream",
     "text": [
      "-------------------------------------------\n",
      "UNetConvNext shapes:\n",
      "Input: torch.Size([6, 12, 224, 224])\n",
      "Output: torch.Size([6, 5, 224, 224])\n",
      " Memory Allocated: 984.83 MB\n",
      " Memory Reserved: 1760.00 MB\n"
     ]
    }
   ],
   "source": [
    "\n",
    "model = unets.UNetConvNext(12, out_channels=5).to(device)\n",
    "input_tensor = torch.rand(6, 12, 224, 224).to(device)  # batch = 6\n",
    "output = model(input_tensor)\n",
    "print('-------------------------------------------')\n",
    "print('UNetConvNext shapes:')\n",
    "print('Input:', input_tensor.shape)\n",
    "print('Output:', output.shape)\n",
    "print_gpu_memory()\n",
    "torch.cuda.empty_cache() \n",
    "\n"
   ]
  },
  {
   "cell_type": "markdown",
   "metadata": {},
   "source": [
    "## Testando modelos HRNet"
   ]
  },
  {
   "cell_type": "code",
   "execution_count": null,
   "metadata": {},
   "outputs": [],
   "source": [
    "import src.models.unets as unets\n"
   ]
  }
 ],
 "metadata": {
  "kernelspec": {
   "display_name": ".venv",
   "language": "python",
   "name": "python3"
  },
  "language_info": {
   "codemirror_mode": {
    "name": "ipython",
    "version": 3
   },
   "file_extension": ".py",
   "mimetype": "text/x-python",
   "name": "python",
   "nbconvert_exporter": "python",
   "pygments_lexer": "ipython3",
   "version": "3.10.12"
  }
 },
 "nbformat": 4,
 "nbformat_minor": 2
}
