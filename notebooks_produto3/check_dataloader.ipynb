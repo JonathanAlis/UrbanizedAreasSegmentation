{
 "cells": [
  {
   "cell_type": "markdown",
   "metadata": {},
   "source": [
    "# Checagem de dados\n",
    "\n",
    "Scripts com exemplos de como fazer o carregamento e divisão dos dados de forma estratificada.\n",
    " "
   ]
  },
  {
   "cell_type": "code",
   "execution_count": 1,
   "metadata": {},
   "outputs": [],
   "source": [
    "# imports\n",
    "\n",
    "import os\n",
    "import sys\n",
    "sys.path.append(os.path.abspath('..'))\n",
    "from rasterio.coords import BoundingBox\n",
    "\n",
    "import src.data.preprocess_data as data\n",
    "import src.data.view as view\n",
    "import src.data.utils as utils\n",
    "\n",
    "import torch"
   ]
  },
  {
   "cell_type": "markdown",
   "metadata": {},
   "source": [
    "### Definições\n",
    "Quais tiles e o número de subtiels são definidos a seguir. \n",
    "\n",
    "Este primeiro conjunto é o de treino e tem 4 tiles.\n",
    "\n",
    "O número de subtiles define a divisão do tile (de 10560 x 10560 pixels) por linha e coluna\n",
    "\n",
    "Vão ser gerados num_subtiles² subtiles pra cada tile"
   ]
  },
  {
   "cell_type": "code",
   "execution_count": 2,
   "metadata": {},
   "outputs": [],
   "source": [
    "tiles_treino = {\n",
    "              'Manaus': '016009',\n",
    "              'Porto Alegre': '025037',\n",
    "              'Belo Horizonte': '032027',\n",
    "              'Salvador': '038019',      \n",
    "              }\n",
    "tiles = tiles_treino.values() \n",
    "num_subtiles = 6\n"
   ]
  },
  {
   "cell_type": "markdown",
   "metadata": {},
   "source": [
    "- Divisão do conjunto de treino, validação e teste, em que cada arquivo em data/processed dos tiles correspondentes são associados a um dos conjuntos.\n",
    "- A divisão entre treino, validação e teste é de 60/20/20%\n",
    "- A função train_val_test_stratify aplica a divisão de dados, de forma aleatória.\n",
    "- Neste exemplo a seguir foi gerada a divisão dos datasets de um tile inteiro\n",
    "- Salva um arquivo que mapeia os subtiles escolhidos para cada dataset. (na pasta config)\n",
    "- Também tem como output, impresso na célula, o percentual de pixels de cada uma das 5 classes."
   ]
  },
  {
   "cell_type": "code",
   "execution_count": 3,
   "metadata": {},
   "outputs": [
    {
     "name": "stdout",
     "output_type": "stream",
     "text": [
      "016009\n",
      "025037\n",
      "032027\n",
      "038019\n",
      "Training set size: 86\n",
      "Validation set size: 29\n",
      "Test set size: 29\n",
      "creating /home/jonathan/UrbanizedAreasSegmentation/config/train_val_test_split/6-subtiles/mode-/num_tiles-4\n",
      "saved /home/jonathan/UrbanizedAreasSegmentation/config/train_val_test_split/6-subtiles/mode-/num_tiles-4/train_val_test_split.yaml\n",
      "Percentual por classe, Dataset inteiro:\n",
      "Classe 0: 94.52%, Classe 1: 0.12%, Classe 2: 0.31%, Classe 3: 5.05%\n",
      "----------------------\n",
      "Percentual por classe, Dataset de treino:\n",
      "Classe 0: 95.63%, Classe 1: 0.12%, Classe 2: 0.23%, Classe 3: 4.01%\n",
      "----------------------\n",
      "Percentual por classe, Dataset de validação:\n",
      "Classe 0: 89.44%, Classe 1: 0.14%, Classe 2: 0.35%, Classe 3: 10.07%\n",
      "----------------------\n",
      "Percentual por classe, Dataset de teste:\n",
      "Classe 0: 96.30%, Classe 1: 0.11%, Classe 2: 0.50%, Classe 3: 3.09%\n",
      "----------------------\n"
     ]
    }
   ],
   "source": [
    "train_files_no_strat, val_files_no_strat, test_files_no_strat = data.train_val_test_stratify(tiles, \n",
    "                                                                  num_subtiles,\n",
    "                                                                    train_size = 0.6, \n",
    "                                                                    val_size = 0.2,\n",
    "                                                                    subfolder='q_12ch')\n",
    "print('Percentual por classe, Dataset inteiro:')\n",
    "data.count_classes(train_files_no_strat+val_files_no_strat+test_files_no_strat, num_subtiles=6, agregate_by='4types')\n",
    "print('Percentual por classe, Dataset de treino:')\n",
    "data.count_classes(train_files_no_strat, num_subtiles=6, agregate_by='4types')\n",
    "print('Percentual por classe, Dataset de validação:')\n",
    "data.count_classes(val_files_no_strat, num_subtiles=6, agregate_by='4types')\n",
    "print('Percentual por classe, Dataset de teste:')\n",
    "data.count_classes(test_files_no_strat, num_subtiles=6, agregate_by='4types')\n"
   ]
  },
  {
   "cell_type": "markdown",
   "metadata": {},
   "source": []
  },
  {
   "cell_type": "markdown",
   "metadata": {},
   "source": [
    "## Checagem de resultados da estratificação\n",
    "- Se passar o argumento stratify_by, ele lê as máscaras e estratifica pelos labels da máscara.\n",
    "- stratify_by aceita binary (binário), type (por tipo) e density (por densidade).\n",
    "data.check_stratification imprime o número de pixels de cada classe por divisão de conjunto. "
   ]
  },
  {
   "cell_type": "code",
   "execution_count": 4,
   "metadata": {},
   "outputs": [
    {
     "name": "stdout",
     "output_type": "stream",
     "text": [
      "016009\n",
      "025037\n",
      "032027\n",
      "038019\n",
      "Training set size: 86\n",
      "Validation set size: 29\n",
      "Test set size: 29\n",
      "saved /home/jonathan/UrbanizedAreasSegmentation/config/train_val_test_split/6-subtiles/mode-4types/num_tiles-4/train_val_test_split.yaml\n",
      "86 29 29\n",
      "Percentual por classe, Dataset inteiro:\n",
      "Classe 0: 94.52%, Classe 1: 0.12%, Classe 2: 0.31%, Classe 3: 5.05%\n",
      "----------------------\n",
      "Percentual por classe, Dataset de treino:\n",
      "Classe 0: 95.63%, Classe 1: 0.12%, Classe 2: 0.23%, Classe 3: 4.01%\n",
      "----------------------\n",
      "Percentual por classe, Dataset de validação:\n",
      "Classe 0: 89.44%, Classe 1: 0.14%, Classe 2: 0.35%, Classe 3: 10.07%\n",
      "----------------------\n",
      "Percentual por classe, Dataset de teste:\n",
      "Classe 0: 96.30%, Classe 1: 0.11%, Classe 2: 0.50%, Classe 3: 3.09%\n",
      "----------------------\n"
     ]
    }
   ],
   "source": [
    "train_files, val_files, test_files = data.train_val_test_stratify(tiles, \n",
    "                                                                  num_subtiles,\n",
    "                                                                    train_size = 0.6, \n",
    "                                                                    val_size = 0.2, \n",
    "                                                                    stratify_by = '4types',\n",
    "                                                                    subfolder = 'q_12ch')\n",
    "\n",
    "train_files, val_files, test_files\n",
    "print(len(train_files), len(val_files), len(test_files))\n",
    "\n",
    "print('Percentual por classe, Dataset inteiro:')\n",
    "data.count_classes(train_files_no_strat+val_files_no_strat+test_files_no_strat, num_subtiles=6, agregate_by='4types')\n",
    "print('Percentual por classe, Dataset de treino:')\n",
    "data.count_classes(train_files_no_strat, num_subtiles=6, agregate_by='4types')\n",
    "print('Percentual por classe, Dataset de validação:')\n",
    "data.count_classes(val_files_no_strat, num_subtiles=6, agregate_by='4types')\n",
    "print('Percentual por classe, Dataset de teste:')\n",
    "data.count_classes(test_files_no_strat, num_subtiles=6, agregate_by='4types')\n"
   ]
  },
  {
   "cell_type": "code",
   "execution_count": null,
   "metadata": {},
   "outputs": [
    {
     "name": "stdout",
     "output_type": "stream",
     "text": [
      "tensor([267246529,    253239,    427684,   8241252])\n",
      "tensor([4209,  114,  240,  947])\n",
      "Percentual de pixels de cada classe:\n",
      "[96.7693030834198, 0.09169721161015332, 0.15486330958083272, 2.984136901795864]\n",
      "Percentual de pixels de cada classe presentes em cada patch:\n",
      "[99.88134503364563, 2.7052681893110275, 5.695301294326782, 22.47270941734314]\n",
      "Pesos:\n"
     ]
    },
    {
     "data": {
      "text/plain": [
       "[tensor(1.0012), tensor(36.9649), tensor(17.5583), tensor(4.4498)]"
      ]
     },
     "execution_count": 14,
     "metadata": {},
     "output_type": "execute_result"
    }
   ],
   "source": [
    "train_dataset = data.SubtileDataset(train_files,\n",
    "                    num_subtiles = num_subtiles,\n",
    "                    classes_mode = '4types',\n",
    "                    patch_size=256,\n",
    "                    stride = 256,\n",
    "                    dynamic_sampling=False,\n",
    "                    data_augmentation = False, \n",
    "                    )\n",
    "\n",
    "class_counter, class_counter_img = train_dataset.count_classes()\n",
    "percentual_counter = [c/sum(class_counter) for c in class_counter]\n",
    "img_percentual = [c/len(train_dataset) for c in class_counter_img]\n",
    "print(class_counter)\n",
    "print(class_counter_img)\n",
    "print('Percentual de pixels de cada classe:')\n",
    "print([100*t.item() for t in percentual_counter])\n",
    "print('Percentual de classes presentes em cada patch:')\n",
    "print([100*t.item() for t in img_percentual])\n",
    "print('Pesos:')\n",
    "[1/c for c in img_percentual]\n",
    "\n",
    "\n"
   ]
  },
  {
   "cell_type": "code",
   "execution_count": null,
   "metadata": {},
   "outputs": [
    {
     "name": "stdout",
     "output_type": "stream",
     "text": [
      "Doing dynamic sampling (DS)\n",
      "Before DS:\n",
      "Num of pixels for each class: tensor([267246529,    253239,    427684,   8241252])\n",
      "% of pixels for each class: [tensor(96.7693), tensor(0.0917), tensor(0.1549), tensor(2.9841)]\n",
      "Num of images with each class: tensor([4209,  114,  240,  947])\n",
      "% of images with each class: [tensor(99.8813), tensor(2.7053), tensor(5.6953), tensor(22.4727)]\n",
      "[3, 2, 1]\n",
      "[128, 64, 64]\n"
     ]
    },
    {
     "name": "stderr",
     "output_type": "stream",
     "text": [
      "100%|██████████| 4214/4214 [02:37<00:00, 26.81it/s] \n"
     ]
    },
    {
     "name": "stdout",
     "output_type": "stream",
     "text": [
      "tensor([622532908,   6800798,   9463548,  88586810])\n",
      "tensor([11078,  2422,  4562,  7193])\n",
      "Percentual de pixels de cada classe:\n",
      "[85.58517694473267, 0.9349665604531765, 1.3010386377573013, 12.178821861743927]\n",
      "Percentual de pixels de cada classe presentes em cada patch:\n",
      "[99.810791015625, 21.82178646326065, 41.102802753448486, 64.80764150619507]\n",
      "Pesos:\n",
      "CPU times: user 13min 11s, sys: 4.48 s, total: 13min 16s\n",
      "Wall time: 6min 6s\n"
     ]
    },
    {
     "data": {
      "text/plain": [
       "[tensor(1.0019), tensor(4.5826), tensor(2.4329), tensor(1.5430)]"
      ]
     },
     "execution_count": 15,
     "metadata": {},
     "output_type": "execute_result"
    }
   ],
   "source": [
    "%%time\n",
    "train_dataset = data.SubtileDataset(train_files, \n",
    "                    num_subtiles = num_subtiles, \n",
    "                    classes_mode = '4types', \n",
    "                    patch_size=256, \n",
    "                    stride = 256,\n",
    "                    dynamic_sampling=True,\n",
    "                    data_augmentation = False \n",
    "                    )\n",
    "\n",
    "class_counter, class_counter_img = train_dataset.count_classes()\n",
    "percentual_counter = [c/sum(class_counter) for c in class_counter]\n",
    "img_percentual = [c/len(train_dataset) for c in class_counter_img]\n",
    "print(class_counter)\n",
    "print(class_counter_img)\n",
    "print('Percentual de pixels de cada classe:')\n",
    "print([100*t.item() for t in percentual_counter])\n",
    "print('Percentual de classes presentes em cada patch:')\n",
    "print([100*t.item() for t in img_percentual])\n",
    "print('Pesos:')\n",
    "[1/c for c in img_percentual]\n"
   ]
  },
  {
   "cell_type": "code",
   "execution_count": null,
   "metadata": {},
   "outputs": [
    {
     "ename": "ZeroDivisionError",
     "evalue": "division by zero",
     "output_type": "error",
     "traceback": [
      "\u001b[0;31m---------------------------------------------------------------------------\u001b[0m",
      "\u001b[0;31mZeroDivisionError\u001b[0m                         Traceback (most recent call last)",
      "Cell \u001b[0;32mIn[7], line 1\u001b[0m\n\u001b[0;32m----> 1\u001b[0m \u001b[38;5;241;43m1\u001b[39;49m\u001b[38;5;241;43m/\u001b[39;49m\u001b[38;5;241;43m0\u001b[39;49m\n",
      "\u001b[0;31mZeroDivisionError\u001b[0m: division by zero"
     ]
    }
   ],
   "source": []
  },
  {
   "cell_type": "code",
   "execution_count": null,
   "metadata": {},
   "outputs": [],
   "source": []
  },
  {
   "cell_type": "code",
   "execution_count": 16,
   "metadata": {},
   "outputs": [
    {
     "name": "stdout",
     "output_type": "stream",
     "text": [
      "015002\n",
      "021027\n",
      "025005\n",
      "027032\n",
      "028022\n",
      "033029\n",
      "034011\n",
      "036016\n",
      "Training set size: 173\n",
      "Validation set size: 58\n",
      "Test set size: 57\n",
      "creating /home/jonathan/UrbanizedAreasSegmentation/config/train_val_test_split/6-subtiles/mode-/num_tiles-8\n",
      "saved /home/jonathan/UrbanizedAreasSegmentation/config/train_val_test_split/6-subtiles/mode-/num_tiles-8/train_val_test_split.yaml\n",
      "Percentual por classe, Dataset inteiro:\n",
      "Classe 0: 96.90%, Classe 1: 0.08%, Classe 2: 0.11%, Classe 3: 2.91%\n",
      "----------------------\n",
      "Percentual por classe, Dataset de treino:\n",
      "Classe 0: 97.26%, Classe 1: 0.04%, Classe 2: 0.09%, Classe 3: 2.60%\n",
      "----------------------\n",
      "Percentual por classe, Dataset de validação:\n",
      "Classe 0: 96.55%, Classe 1: 0.11%, Classe 2: 0.14%, Classe 3: 3.21%\n",
      "----------------------\n",
      "Percentual por classe, Dataset de teste:\n",
      "Classe 0: 96.17%, Classe 1: 0.16%, Classe 2: 0.13%, Classe 3: 3.54%\n",
      "----------------------\n",
      "015002\n",
      "021027\n",
      "025005\n",
      "027032\n",
      "028022\n",
      "033029\n",
      "034011\n",
      "036016\n",
      "Training set size: 173\n",
      "Validation set size: 58\n",
      "Test set size: 57\n",
      "saved /home/jonathan/UrbanizedAreasSegmentation/config/train_val_test_split/6-subtiles/mode-4types/num_tiles-8/train_val_test_split.yaml\n",
      "Percentual por classe, Dataset inteiro:\n",
      "Classe 0: 96.90%, Classe 1: 0.08%, Classe 2: 0.11%, Classe 3: 2.91%\n",
      "----------------------\n",
      "Percentual por classe, Dataset de treino:\n",
      "Classe 0: 98.04%, Classe 1: 0.04%, Classe 2: 0.05%, Classe 3: 1.86%\n",
      "----------------------\n",
      "Percentual por classe, Dataset de validação:\n",
      "Classe 0: 95.53%, Classe 1: 0.14%, Classe 2: 0.20%, Classe 3: 4.13%\n",
      "----------------------\n",
      "Percentual por classe, Dataset de teste:\n",
      "Classe 0: 94.84%, Classe 1: 0.12%, Classe 2: 0.19%, Classe 3: 4.85%\n",
      "----------------------\n"
     ]
    }
   ],
   "source": [
    "tiles_finetune = {\n",
    "              'Boa Vista': '015002',  \n",
    "              'Campo Grande': '021027',\n",
    "              'Macapá': '025005',\n",
    "              'Curitiba': '027032',\n",
    "              'Brasília': '028022',                      \n",
    "              'Rio de Janeiro': '033029',\n",
    "              'Teresina': '034011',\n",
    "              'Petrolina': '036016',\n",
    "              }\n",
    "\n",
    "tiles = tiles_finetune.values() \n",
    "num_subtiles = 6\n",
    "classes_mode = '4types'\n",
    "\n",
    "train_files_no_strat, val_files_no_strat, test_files_no_strat = data.train_val_test_stratify(tiles, \n",
    "                                                                  num_subtiles,\n",
    "                                                                    train_size = 0.6, \n",
    "                                                                    val_size = 0.2,\n",
    "                                                                    subfolder='q_12ch')\n",
    "print('Percentual por classe, Dataset inteiro:')\n",
    "data.count_classes(train_files_no_strat+val_files_no_strat+test_files_no_strat, num_subtiles=6, agregate_by='4types')\n",
    "print('Percentual por classe, Dataset de treino:')\n",
    "data.count_classes(train_files_no_strat, num_subtiles=6, agregate_by='4types')\n",
    "print('Percentual por classe, Dataset de validação:')\n",
    "data.count_classes(val_files_no_strat, num_subtiles=6, agregate_by='4types')\n",
    "print('Percentual por classe, Dataset de teste:')\n",
    "data.count_classes(test_files_no_strat, num_subtiles=6, agregate_by='4types')\n",
    "\n",
    "train_files_no_strat, val_files_no_strat, test_files_no_strat = data.train_val_test_stratify(tiles, \n",
    "                                                                  num_subtiles,\n",
    "                                                                    train_size = 0.6, \n",
    "                                                                    val_size = 0.2,\n",
    "                                                                    stratify_by = '4types',\n",
    "                                                                    subfolder='q_12ch')\n",
    "print('Percentual por classe, Dataset inteiro:')\n",
    "data.count_classes(train_files_no_strat+val_files_no_strat+test_files_no_strat, num_subtiles=6, agregate_by='4types')\n",
    "print('Percentual por classe, Dataset de treino:')\n",
    "data.count_classes(train_files_no_strat, num_subtiles=6, agregate_by='4types')\n",
    "print('Percentual por classe, Dataset de validação:')\n",
    "data.count_classes(val_files_no_strat, num_subtiles=6, agregate_by='4types')\n",
    "print('Percentual por classe, Dataset de teste:')\n",
    "data.count_classes(test_files_no_strat, num_subtiles=6, agregate_by='4types')\n",
    "\n"
   ]
  },
  {
   "cell_type": "code",
   "execution_count": null,
   "metadata": {},
   "outputs": [],
   "source": [
    "%%time\n",
    "train_dataset = data.SubtileDataset(train_files, \n",
    "                    num_subtiles = num_subtiles, \n",
    "                    classes_mode = '4types', \n",
    "                    patch_size=256, \n",
    "                    stride = 256,\n",
    "                    dynamic_sampling=False,\n",
    "                    data_augmentation = False \n",
    "                    )\n",
    "\n",
    "class_counter, class_counter_img = train_dataset.count_classes()\n",
    "percentual_counter = [c/sum(class_counter) for c in class_counter]\n",
    "img_percentual = [c/len(train_dataset) for c in class_counter_img]\n",
    "print(class_counter)\n",
    "print(class_counter_img)\n",
    "print('Percentual de pixels de cada classe:')\n",
    "print([100*t.item() for t in percentual_counter])\n",
    "print('Percentual de classes presentes em cada patch:')\n",
    "print([100*t.item() for t in img_percentual])\n",
    "print('Pesos:')\n",
    "[1/c for c in img_percentual]"
   ]
  },
  {
   "cell_type": "code",
   "execution_count": null,
   "metadata": {},
   "outputs": [],
   "source": [
    "%%time\n",
    "train_dataset = data.SubtileDataset(train_files, \n",
    "                    num_subtiles = num_subtiles, \n",
    "                    classes_mode = '4types', \n",
    "                    patch_size=256, \n",
    "                    stride = 256,\n",
    "                    dynamic_sampling=True,\n",
    "                    data_augmentation = False \n",
    "                    )\n",
    "\n",
    "class_counter, class_counter_img = train_dataset.count_classes()\n",
    "percentual_counter = [c/sum(class_counter) for c in class_counter]\n",
    "img_percentual = [c/len(train_dataset) for c in class_counter_img]\n",
    "print(class_counter)\n",
    "print(class_counter_img)\n",
    "print('Percentual de pixels de cada classe:')\n",
    "print([100*t.item() for t in percentual_counter])\n",
    "print('Percentual de classes presentes em cada patch:')\n",
    "print([100*t.item() for t in img_percentual])\n",
    "print('Pesos:')\n",
    "[1/c for c in img_percentual]"
   ]
  },
  {
   "cell_type": "code",
   "execution_count": null,
   "metadata": {},
   "outputs": [],
   "source": []
  },
  {
   "cell_type": "markdown",
   "metadata": {},
   "source": [
    "### Salvar e carregar\n",
    "\n",
    "Ao chamar train_val_test_stratify pela primeira vez, um arquivo yaml é salvo automaticamente. Isso foi feito porque checar a estratificação pode levar muito tempo.\n",
    "Ao chamar train_val_test_stratify após já ter sido criado, é carregado do arquivo salvo.\n",
    "A célula a seguir é um exemplo, deve rodar rápido porque já tinha sido salvo o yaml."
   ]
  },
  {
   "cell_type": "code",
   "execution_count": null,
   "metadata": {},
   "outputs": [],
   "source": []
  },
  {
   "cell_type": "code",
   "execution_count": null,
   "metadata": {},
   "outputs": [
    {
     "name": "stdout",
     "output_type": "stream",
     "text": [
      "015002\n",
      "016009\n",
      "021027\n",
      "025005\n",
      "025037\n",
      "027032\n",
      "028022\n",
      "032027\n",
      "033029\n",
      "034011\n",
      "036016\n",
      "038019\n",
      "Loading:  /home/jonathan/UrbanizedAreasSegmentation/config/train_val_test_split-6_subtiles-015002_016009_021027_025005_025037_027032_028022_032027_033029_034011_036016_038019-stratified_by_4types.yaml\n",
      "File already saved, loading it.\n"
     ]
    }
   ],
   "source": [
    "train_files, val_files, test_files = data.train_val_test_stratify(tiles, \n",
    "                                                                  num_subtiles,\n",
    "                                                                    train_size = 0.6, \n",
    "                                                                    val_size = 0.2, \n",
    "                                                                    stratify_by = '4types',\n",
    "                                                                    subfolder='q_12ch')"
   ]
  },
  {
   "cell_type": "markdown",
   "metadata": {},
   "source": [
    "## Dataset e dataloader\n",
    "\n",
    "O dataset foi feito com base na classe Dataset do pytorch, ele divide os subtiles e máscaras em patches e atribui ao dataset.\n",
    "\n",
    "Na célula a seguir, é feito o carregamento de imagens e mascaras, por tipo.\n",
    "\n",
    "É feita com janelamento com stride igual ao tamanho da imagem.\n"
   ]
  },
  {
   "cell_type": "code",
   "execution_count": null,
   "metadata": {},
   "outputs": [],
   "source": []
  },
  {
   "cell_type": "code",
   "execution_count": null,
   "metadata": {},
   "outputs": [
    {
     "name": "stdout",
     "output_type": "stream",
     "text": [
      "/home/jonathan/UrbanizedAreasSegmentation/config/train_val_test_split-6_subtiles-015002_016009_021027_025005_025037_027032_028022_032027_033029_034011_036016_038019-stratified_by_4types.yaml\n",
      "Loading:  /home/jonathan/UrbanizedAreasSegmentation/config/train_val_test_split-6_subtiles-015002_016009_021027_025005_025037_027032_028022_032027_033029_034011_036016_038019-stratified_by_4types.yaml\n",
      "{'num_subtiles': 6, 'test_files': ['/home/jonathan/UrbanizedAreasSegmentation/data/processed/S2-16D_V2_016009/6x6_subtiles/q_12ch/x=0_y=1760.tif', '/home/jonathan/UrbanizedAreasSegmentation/data/processed/S2-16D_V2_027032/6x6_subtiles/q_12ch/x=0_y=7040.tif', '/home/jonathan/UrbanizedAreasSegmentation/data/processed/S2-16D_V2_015002/6x6_subtiles/q_12ch/x=1760_y=3520.tif', '/home/jonathan/UrbanizedAreasSegmentation/data/processed/S2-16D_V2_028022/6x6_subtiles/q_12ch/x=8800_y=1760.tif', '/home/jonathan/UrbanizedAreasSegmentation/data/processed/S2-16D_V2_025037/6x6_subtiles/q_12ch/x=1760_y=3520.tif', '/home/jonathan/UrbanizedAreasSegmentation/data/processed/S2-16D_V2_034011/6x6_subtiles/q_12ch/x=8800_y=7040.tif', '/home/jonathan/UrbanizedAreasSegmentation/data/processed/S2-16D_V2_016009/6x6_subtiles/q_12ch/x=0_y=0.tif', '/home/jonathan/UrbanizedAreasSegmentation/data/processed/S2-16D_V2_025037/6x6_subtiles/q_12ch/x=1760_y=0.tif', '/home/jonathan/UrbanizedAreasSegmentation/data/processed/S2-16D_V2_025005/6x6_subtiles/q_12ch/x=3520_y=0.tif', '/home/jonathan/UrbanizedAreasSegmentation/data/processed/S2-16D_V2_032027/6x6_subtiles/q_12ch/x=0_y=1760.tif', '/home/jonathan/UrbanizedAreasSegmentation/data/processed/S2-16D_V2_028022/6x6_subtiles/q_12ch/x=3520_y=5280.tif', '/home/jonathan/UrbanizedAreasSegmentation/data/processed/S2-16D_V2_016009/6x6_subtiles/q_12ch/x=0_y=7040.tif', '/home/jonathan/UrbanizedAreasSegmentation/data/processed/S2-16D_V2_036016/6x6_subtiles/q_12ch/x=3520_y=1760.tif', '/home/jonathan/UrbanizedAreasSegmentation/data/processed/S2-16D_V2_028022/6x6_subtiles/q_12ch/x=3520_y=7040.tif', '/home/jonathan/UrbanizedAreasSegmentation/data/processed/S2-16D_V2_025005/6x6_subtiles/q_12ch/x=8800_y=5280.tif', '/home/jonathan/UrbanizedAreasSegmentation/data/processed/S2-16D_V2_038019/6x6_subtiles/q_12ch/x=7040_y=3520.tif', '/home/jonathan/UrbanizedAreasSegmentation/data/processed/S2-16D_V2_028022/6x6_subtiles/q_12ch/x=5280_y=7040.tif', '/home/jonathan/UrbanizedAreasSegmentation/data/processed/S2-16D_V2_028022/6x6_subtiles/q_12ch/x=0_y=0.tif', '/home/jonathan/UrbanizedAreasSegmentation/data/processed/S2-16D_V2_038019/6x6_subtiles/q_12ch/x=3520_y=7040.tif', '/home/jonathan/UrbanizedAreasSegmentation/data/processed/S2-16D_V2_038019/6x6_subtiles/q_12ch/x=1760_y=7040.tif', '/home/jonathan/UrbanizedAreasSegmentation/data/processed/S2-16D_V2_038019/6x6_subtiles/q_12ch/x=5280_y=8800.tif', '/home/jonathan/UrbanizedAreasSegmentation/data/processed/S2-16D_V2_032027/6x6_subtiles/q_12ch/x=5280_y=7040.tif', '/home/jonathan/UrbanizedAreasSegmentation/data/processed/S2-16D_V2_033029/6x6_subtiles/q_12ch/x=1760_y=7040.tif', '/home/jonathan/UrbanizedAreasSegmentation/data/processed/S2-16D_V2_021027/6x6_subtiles/q_12ch/x=8800_y=0.tif', '/home/jonathan/UrbanizedAreasSegmentation/data/processed/S2-16D_V2_015002/6x6_subtiles/q_12ch/x=0_y=7040.tif', '/home/jonathan/UrbanizedAreasSegmentation/data/processed/S2-16D_V2_028022/6x6_subtiles/q_12ch/x=3520_y=8800.tif', '/home/jonathan/UrbanizedAreasSegmentation/data/processed/S2-16D_V2_036016/6x6_subtiles/q_12ch/x=1760_y=7040.tif', '/home/jonathan/UrbanizedAreasSegmentation/data/processed/S2-16D_V2_038019/6x6_subtiles/q_12ch/x=1760_y=0.tif', '/home/jonathan/UrbanizedAreasSegmentation/data/processed/S2-16D_V2_025037/6x6_subtiles/q_12ch/x=0_y=1760.tif', '/home/jonathan/UrbanizedAreasSegmentation/data/processed/S2-16D_V2_025005/6x6_subtiles/q_12ch/x=5280_y=0.tif', '/home/jonathan/UrbanizedAreasSegmentation/data/processed/S2-16D_V2_034011/6x6_subtiles/q_12ch/x=7040_y=1760.tif', '/home/jonathan/UrbanizedAreasSegmentation/data/processed/S2-16D_V2_028022/6x6_subtiles/q_12ch/x=7040_y=3520.tif', '/home/jonathan/UrbanizedAreasSegmentation/data/processed/S2-16D_V2_027032/6x6_subtiles/q_12ch/x=5280_y=1760.tif', '/home/jonathan/UrbanizedAreasSegmentation/data/processed/S2-16D_V2_032027/6x6_subtiles/q_12ch/x=8800_y=5280.tif', '/home/jonathan/UrbanizedAreasSegmentation/data/processed/S2-16D_V2_025037/6x6_subtiles/q_12ch/x=0_y=0.tif', '/home/jonathan/UrbanizedAreasSegmentation/data/processed/S2-16D_V2_021027/6x6_subtiles/q_12ch/x=0_y=1760.tif', '/home/jonathan/UrbanizedAreasSegmentation/data/processed/S2-16D_V2_021027/6x6_subtiles/q_12ch/x=5280_y=8800.tif', '/home/jonathan/UrbanizedAreasSegmentation/data/processed/S2-16D_V2_027032/6x6_subtiles/q_12ch/x=7040_y=7040.tif', '/home/jonathan/UrbanizedAreasSegmentation/data/processed/S2-16D_V2_025005/6x6_subtiles/q_12ch/x=7040_y=8800.tif', '/home/jonathan/UrbanizedAreasSegmentation/data/processed/S2-16D_V2_021027/6x6_subtiles/q_12ch/x=5280_y=3520.tif', '/home/jonathan/UrbanizedAreasSegmentation/data/processed/S2-16D_V2_033029/6x6_subtiles/q_12ch/x=0_y=3520.tif', '/home/jonathan/UrbanizedAreasSegmentation/data/processed/S2-16D_V2_025037/6x6_subtiles/q_12ch/x=0_y=8800.tif', '/home/jonathan/UrbanizedAreasSegmentation/data/processed/S2-16D_V2_032027/6x6_subtiles/q_12ch/x=5280_y=1760.tif', '/home/jonathan/UrbanizedAreasSegmentation/data/processed/S2-16D_V2_015002/6x6_subtiles/q_12ch/x=3520_y=8800.tif', '/home/jonathan/UrbanizedAreasSegmentation/data/processed/S2-16D_V2_034011/6x6_subtiles/q_12ch/x=5280_y=0.tif', '/home/jonathan/UrbanizedAreasSegmentation/data/processed/S2-16D_V2_021027/6x6_subtiles/q_12ch/x=0_y=3520.tif', '/home/jonathan/UrbanizedAreasSegmentation/data/processed/S2-16D_V2_025037/6x6_subtiles/q_12ch/x=5280_y=0.tif', '/home/jonathan/UrbanizedAreasSegmentation/data/processed/S2-16D_V2_036016/6x6_subtiles/q_12ch/x=7040_y=3520.tif', '/home/jonathan/UrbanizedAreasSegmentation/data/processed/S2-16D_V2_032027/6x6_subtiles/q_12ch/x=0_y=5280.tif', '/home/jonathan/UrbanizedAreasSegmentation/data/processed/S2-16D_V2_025037/6x6_subtiles/q_12ch/x=7040_y=1760.tif', '/home/jonathan/UrbanizedAreasSegmentation/data/processed/S2-16D_V2_016009/6x6_subtiles/q_12ch/x=8800_y=8800.tif', '/home/jonathan/UrbanizedAreasSegmentation/data/processed/S2-16D_V2_034011/6x6_subtiles/q_12ch/x=8800_y=1760.tif', '/home/jonathan/UrbanizedAreasSegmentation/data/processed/S2-16D_V2_033029/6x6_subtiles/q_12ch/x=0_y=5280.tif', '/home/jonathan/UrbanizedAreasSegmentation/data/processed/S2-16D_V2_015002/6x6_subtiles/q_12ch/x=0_y=8800.tif', '/home/jonathan/UrbanizedAreasSegmentation/data/processed/S2-16D_V2_032027/6x6_subtiles/q_12ch/x=8800_y=1760.tif', '/home/jonathan/UrbanizedAreasSegmentation/data/processed/S2-16D_V2_033029/6x6_subtiles/q_12ch/x=1760_y=5280.tif', '/home/jonathan/UrbanizedAreasSegmentation/data/processed/S2-16D_V2_015002/6x6_subtiles/q_12ch/x=8800_y=5280.tif', '/home/jonathan/UrbanizedAreasSegmentation/data/processed/S2-16D_V2_016009/6x6_subtiles/q_12ch/x=0_y=3520.tif', '/home/jonathan/UrbanizedAreasSegmentation/data/processed/S2-16D_V2_027032/6x6_subtiles/q_12ch/x=0_y=3520.tif', '/home/jonathan/UrbanizedAreasSegmentation/data/processed/S2-16D_V2_025005/6x6_subtiles/q_12ch/x=1760_y=1760.tif', '/home/jonathan/UrbanizedAreasSegmentation/data/processed/S2-16D_V2_038019/6x6_subtiles/q_12ch/x=3520_y=0.tif', '/home/jonathan/UrbanizedAreasSegmentation/data/processed/S2-16D_V2_033029/6x6_subtiles/q_12ch/x=5280_y=1760.tif', '/home/jonathan/UrbanizedAreasSegmentation/data/processed/S2-16D_V2_034011/6x6_subtiles/q_12ch/x=3520_y=7040.tif', '/home/jonathan/UrbanizedAreasSegmentation/data/processed/S2-16D_V2_038019/6x6_subtiles/q_12ch/x=8800_y=1760.tif', '/home/jonathan/UrbanizedAreasSegmentation/data/processed/S2-16D_V2_038019/6x6_subtiles/q_12ch/x=3520_y=3520.tif', '/home/jonathan/UrbanizedAreasSegmentation/data/processed/S2-16D_V2_015002/6x6_subtiles/q_12ch/x=5280_y=8800.tif', '/home/jonathan/UrbanizedAreasSegmentation/data/processed/S2-16D_V2_034011/6x6_subtiles/q_12ch/x=0_y=8800.tif', '/home/jonathan/UrbanizedAreasSegmentation/data/processed/S2-16D_V2_038019/6x6_subtiles/q_12ch/x=1760_y=3520.tif', '/home/jonathan/UrbanizedAreasSegmentation/data/processed/S2-16D_V2_025037/6x6_subtiles/q_12ch/x=7040_y=8800.tif', '/home/jonathan/UrbanizedAreasSegmentation/data/processed/S2-16D_V2_032027/6x6_subtiles/q_12ch/x=3520_y=8800.tif', '/home/jonathan/UrbanizedAreasSegmentation/data/processed/S2-16D_V2_033029/6x6_subtiles/q_12ch/x=1760_y=3520.tif', '/home/jonathan/UrbanizedAreasSegmentation/data/processed/S2-16D_V2_021027/6x6_subtiles/q_12ch/x=5280_y=5280.tif', '/home/jonathan/UrbanizedAreasSegmentation/data/processed/S2-16D_V2_025037/6x6_subtiles/q_12ch/x=8800_y=0.tif', '/home/jonathan/UrbanizedAreasSegmentation/data/processed/S2-16D_V2_033029/6x6_subtiles/q_12ch/x=3520_y=7040.tif', '/home/jonathan/UrbanizedAreasSegmentation/data/processed/S2-16D_V2_034011/6x6_subtiles/q_12ch/x=5280_y=8800.tif', '/home/jonathan/UrbanizedAreasSegmentation/data/processed/S2-16D_V2_025005/6x6_subtiles/q_12ch/x=8800_y=1760.tif', '/home/jonathan/UrbanizedAreasSegmentation/data/processed/S2-16D_V2_025037/6x6_subtiles/q_12ch/x=5280_y=1760.tif', '/home/jonathan/UrbanizedAreasSegmentation/data/processed/S2-16D_V2_016009/6x6_subtiles/q_12ch/x=8800_y=1760.tif', '/home/jonathan/UrbanizedAreasSegmentation/data/processed/S2-16D_V2_027032/6x6_subtiles/q_12ch/x=1760_y=3520.tif', '/home/jonathan/UrbanizedAreasSegmentation/data/processed/S2-16D_V2_015002/6x6_subtiles/q_12ch/x=3520_y=5280.tif', '/home/jonathan/UrbanizedAreasSegmentation/data/processed/S2-16D_V2_025005/6x6_subtiles/q_12ch/x=7040_y=7040.tif', '/home/jonathan/UrbanizedAreasSegmentation/data/processed/S2-16D_V2_015002/6x6_subtiles/q_12ch/x=7040_y=5280.tif', '/home/jonathan/UrbanizedAreasSegmentation/data/processed/S2-16D_V2_033029/6x6_subtiles/q_12ch/x=8800_y=3520.tif', '/home/jonathan/UrbanizedAreasSegmentation/data/processed/S2-16D_V2_025005/6x6_subtiles/q_12ch/x=0_y=7040.tif', '/home/jonathan/UrbanizedAreasSegmentation/data/processed/S2-16D_V2_016009/6x6_subtiles/q_12ch/x=5280_y=8800.tif', '/home/jonathan/UrbanizedAreasSegmentation/data/processed/S2-16D_V2_038019/6x6_subtiles/q_12ch/x=3520_y=1760.tif', '/home/jonathan/UrbanizedAreasSegmentation/data/processed/S2-16D_V2_025037/6x6_subtiles/q_12ch/x=1760_y=8800.tif'], 'tiles': ['036016', '032027', '027032', '034011', '025037', '028022', '021027', '038019', '025005', '033029', '015002', '016009'], 'train_files': ['/home/jonathan/UrbanizedAreasSegmentation/data/processed/S2-16D_V2_036016/6x6_subtiles/q_12ch/x=1760_y=0.tif', '/home/jonathan/UrbanizedAreasSegmentation/data/processed/S2-16D_V2_032027/6x6_subtiles/q_12ch/x=3520_y=0.tif', '/home/jonathan/UrbanizedAreasSegmentation/data/processed/S2-16D_V2_027032/6x6_subtiles/q_12ch/x=8800_y=3520.tif', '/home/jonathan/UrbanizedAreasSegmentation/data/processed/S2-16D_V2_034011/6x6_subtiles/q_12ch/x=1760_y=5280.tif', '/home/jonathan/UrbanizedAreasSegmentation/data/processed/S2-16D_V2_032027/6x6_subtiles/q_12ch/x=1760_y=0.tif', '/home/jonathan/UrbanizedAreasSegmentation/data/processed/S2-16D_V2_025037/6x6_subtiles/q_12ch/x=5280_y=7040.tif', '/home/jonathan/UrbanizedAreasSegmentation/data/processed/S2-16D_V2_028022/6x6_subtiles/q_12ch/x=5280_y=8800.tif', '/home/jonathan/UrbanizedAreasSegmentation/data/processed/S2-16D_V2_025037/6x6_subtiles/q_12ch/x=1760_y=1760.tif', '/home/jonathan/UrbanizedAreasSegmentation/data/processed/S2-16D_V2_027032/6x6_subtiles/q_12ch/x=1760_y=0.tif', '/home/jonathan/UrbanizedAreasSegmentation/data/processed/S2-16D_V2_021027/6x6_subtiles/q_12ch/x=8800_y=3520.tif', '/home/jonathan/UrbanizedAreasSegmentation/data/processed/S2-16D_V2_025037/6x6_subtiles/q_12ch/x=0_y=3520.tif', '/home/jonathan/UrbanizedAreasSegmentation/data/processed/S2-16D_V2_038019/6x6_subtiles/q_12ch/x=7040_y=8800.tif', '/home/jonathan/UrbanizedAreasSegmentation/data/processed/S2-16D_V2_021027/6x6_subtiles/q_12ch/x=7040_y=5280.tif', '/home/jonathan/UrbanizedAreasSegmentation/data/processed/S2-16D_V2_021027/6x6_subtiles/q_12ch/x=8800_y=5280.tif', '/home/jonathan/UrbanizedAreasSegmentation/data/processed/S2-16D_V2_021027/6x6_subtiles/q_12ch/x=8800_y=8800.tif', '/home/jonathan/UrbanizedAreasSegmentation/data/processed/S2-16D_V2_034011/6x6_subtiles/q_12ch/x=1760_y=1760.tif', '/home/jonathan/UrbanizedAreasSegmentation/data/processed/S2-16D_V2_027032/6x6_subtiles/q_12ch/x=1760_y=7040.tif', '/home/jonathan/UrbanizedAreasSegmentation/data/processed/S2-16D_V2_025005/6x6_subtiles/q_12ch/x=0_y=3520.tif', '/home/jonathan/UrbanizedAreasSegmentation/data/processed/S2-16D_V2_036016/6x6_subtiles/q_12ch/x=3520_y=0.tif', '/home/jonathan/UrbanizedAreasSegmentation/data/processed/S2-16D_V2_033029/6x6_subtiles/q_12ch/x=0_y=7040.tif', '/home/jonathan/UrbanizedAreasSegmentation/data/processed/S2-16D_V2_021027/6x6_subtiles/q_12ch/x=3520_y=5280.tif', '/home/jonathan/UrbanizedAreasSegmentation/data/processed/S2-16D_V2_032027/6x6_subtiles/q_12ch/x=5280_y=8800.tif', '/home/jonathan/UrbanizedAreasSegmentation/data/processed/S2-16D_V2_028022/6x6_subtiles/q_12ch/x=1760_y=5280.tif', '/home/jonathan/UrbanizedAreasSegmentation/data/processed/S2-16D_V2_025005/6x6_subtiles/q_12ch/x=1760_y=5280.tif', '/home/jonathan/UrbanizedAreasSegmentation/data/processed/S2-16D_V2_025037/6x6_subtiles/q_12ch/x=3520_y=1760.tif', '/home/jonathan/UrbanizedAreasSegmentation/data/processed/S2-16D_V2_033029/6x6_subtiles/q_12ch/x=1760_y=8800.tif', '/home/jonathan/UrbanizedAreasSegmentation/data/processed/S2-16D_V2_021027/6x6_subtiles/q_12ch/x=0_y=8800.tif', '/home/jonathan/UrbanizedAreasSegmentation/data/processed/S2-16D_V2_021027/6x6_subtiles/q_12ch/x=7040_y=3520.tif', '/home/jonathan/UrbanizedAreasSegmentation/data/processed/S2-16D_V2_038019/6x6_subtiles/q_12ch/x=3520_y=5280.tif', '/home/jonathan/UrbanizedAreasSegmentation/data/processed/S2-16D_V2_025005/6x6_subtiles/q_12ch/x=8800_y=7040.tif', '/home/jonathan/UrbanizedAreasSegmentation/data/processed/S2-16D_V2_034011/6x6_subtiles/q_12ch/x=5280_y=3520.tif', '/home/jonathan/UrbanizedAreasSegmentation/data/processed/S2-16D_V2_025037/6x6_subtiles/q_12ch/x=1760_y=5280.tif', '/home/jonathan/UrbanizedAreasSegmentation/data/processed/S2-16D_V2_015002/6x6_subtiles/q_12ch/x=8800_y=0.tif', '/home/jonathan/UrbanizedAreasSegmentation/data/processed/S2-16D_V2_025005/6x6_subtiles/q_12ch/x=5280_y=8800.tif', '/home/jonathan/UrbanizedAreasSegmentation/data/processed/S2-16D_V2_016009/6x6_subtiles/q_12ch/x=1760_y=1760.tif', '/home/jonathan/UrbanizedAreasSegmentation/data/processed/S2-16D_V2_028022/6x6_subtiles/q_12ch/x=0_y=3520.tif', '/home/jonathan/UrbanizedAreasSegmentation/data/processed/S2-16D_V2_032027/6x6_subtiles/q_12ch/x=8800_y=0.tif', '/home/jonathan/UrbanizedAreasSegmentation/data/processed/S2-16D_V2_027032/6x6_subtiles/q_12ch/x=7040_y=8800.tif', '/home/jonathan/UrbanizedAreasSegmentation/data/processed/S2-16D_V2_025005/6x6_subtiles/q_12ch/x=8800_y=8800.tif', '/home/jonathan/UrbanizedAreasSegmentation/data/processed/S2-16D_V2_032027/6x6_subtiles/q_12ch/x=0_y=3520.tif', '/home/jonathan/UrbanizedAreasSegmentation/data/processed/S2-16D_V2_028022/6x6_subtiles/q_12ch/x=1760_y=3520.tif', '/home/jonathan/UrbanizedAreasSegmentation/data/processed/S2-16D_V2_016009/6x6_subtiles/q_12ch/x=1760_y=7040.tif', '/home/jonathan/UrbanizedAreasSegmentation/data/processed/S2-16D_V2_032027/6x6_subtiles/q_12ch/x=5280_y=0.tif', '/home/jonathan/UrbanizedAreasSegmentation/data/processed/S2-16D_V2_025037/6x6_subtiles/q_12ch/x=0_y=5280.tif', '/home/jonathan/UrbanizedAreasSegmentation/data/processed/S2-16D_V2_015002/6x6_subtiles/q_12ch/x=8800_y=3520.tif', '/home/jonathan/UrbanizedAreasSegmentation/data/processed/S2-16D_V2_032027/6x6_subtiles/q_12ch/x=1760_y=8800.tif', '/home/jonathan/UrbanizedAreasSegmentation/data/processed/S2-16D_V2_038019/6x6_subtiles/q_12ch/x=5280_y=7040.tif', '/home/jonathan/UrbanizedAreasSegmentation/data/processed/S2-16D_V2_025005/6x6_subtiles/q_12ch/x=5280_y=1760.tif', '/home/jonathan/UrbanizedAreasSegmentation/data/processed/S2-16D_V2_025037/6x6_subtiles/q_12ch/x=3520_y=0.tif', '/home/jonathan/UrbanizedAreasSegmentation/data/processed/S2-16D_V2_038019/6x6_subtiles/q_12ch/x=5280_y=5280.tif', '/home/jonathan/UrbanizedAreasSegmentation/data/processed/S2-16D_V2_028022/6x6_subtiles/q_12ch/x=3520_y=1760.tif', '/home/jonathan/UrbanizedAreasSegmentation/data/processed/S2-16D_V2_034011/6x6_subtiles/q_12ch/x=5280_y=5280.tif', '/home/jonathan/UrbanizedAreasSegmentation/data/processed/S2-16D_V2_038019/6x6_subtiles/q_12ch/x=0_y=5280.tif', '/home/jonathan/UrbanizedAreasSegmentation/data/processed/S2-16D_V2_038019/6x6_subtiles/q_12ch/x=8800_y=5280.tif', '/home/jonathan/UrbanizedAreasSegmentation/data/processed/S2-16D_V2_034011/6x6_subtiles/q_12ch/x=3520_y=0.tif', '/home/jonathan/UrbanizedAreasSegmentation/data/processed/S2-16D_V2_032027/6x6_subtiles/q_12ch/x=7040_y=0.tif', '/home/jonathan/UrbanizedAreasSegmentation/data/processed/S2-16D_V2_036016/6x6_subtiles/q_12ch/x=8800_y=7040.tif', '/home/jonathan/UrbanizedAreasSegmentation/data/processed/S2-16D_V2_036016/6x6_subtiles/q_12ch/x=0_y=0.tif', '/home/jonathan/UrbanizedAreasSegmentation/data/processed/S2-16D_V2_038019/6x6_subtiles/q_12ch/x=0_y=7040.tif', '/home/jonathan/UrbanizedAreasSegmentation/data/processed/S2-16D_V2_021027/6x6_subtiles/q_12ch/x=3520_y=0.tif', '/home/jonathan/UrbanizedAreasSegmentation/data/processed/S2-16D_V2_021027/6x6_subtiles/q_12ch/x=1760_y=7040.tif', '/home/jonathan/UrbanizedAreasSegmentation/data/processed/S2-16D_V2_027032/6x6_subtiles/q_12ch/x=5280_y=7040.tif', '/home/jonathan/UrbanizedAreasSegmentation/data/processed/S2-16D_V2_021027/6x6_subtiles/q_12ch/x=5280_y=0.tif', '/home/jonathan/UrbanizedAreasSegmentation/data/processed/S2-16D_V2_033029/6x6_subtiles/q_12ch/x=5280_y=7040.tif', '/home/jonathan/UrbanizedAreasSegmentation/data/processed/S2-16D_V2_027032/6x6_subtiles/q_12ch/x=3520_y=7040.tif', '/home/jonathan/UrbanizedAreasSegmentation/data/processed/S2-16D_V2_025037/6x6_subtiles/q_12ch/x=5280_y=8800.tif', '/home/jonathan/UrbanizedAreasSegmentation/data/processed/S2-16D_V2_032027/6x6_subtiles/q_12ch/x=3520_y=5280.tif', '/home/jonathan/UrbanizedAreasSegmentation/data/processed/S2-16D_V2_025037/6x6_subtiles/q_12ch/x=3520_y=5280.tif', '/home/jonathan/UrbanizedAreasSegmentation/data/processed/S2-16D_V2_027032/6x6_subtiles/q_12ch/x=5280_y=0.tif', '/home/jonathan/UrbanizedAreasSegmentation/data/processed/S2-16D_V2_034011/6x6_subtiles/q_12ch/x=5280_y=7040.tif', '/home/jonathan/UrbanizedAreasSegmentation/data/processed/S2-16D_V2_033029/6x6_subtiles/q_12ch/x=1760_y=0.tif', '/home/jonathan/UrbanizedAreasSegmentation/data/processed/S2-16D_V2_028022/6x6_subtiles/q_12ch/x=5280_y=0.tif', '/home/jonathan/UrbanizedAreasSegmentation/data/processed/S2-16D_V2_032027/6x6_subtiles/q_12ch/x=7040_y=8800.tif', '/home/jonathan/UrbanizedAreasSegmentation/data/processed/S2-16D_V2_033029/6x6_subtiles/q_12ch/x=8800_y=1760.tif', '/home/jonathan/UrbanizedAreasSegmentation/data/processed/S2-16D_V2_021027/6x6_subtiles/q_12ch/x=3520_y=3520.tif', '/home/jonathan/UrbanizedAreasSegmentation/data/processed/S2-16D_V2_032027/6x6_subtiles/q_12ch/x=1760_y=3520.tif', '/home/jonathan/UrbanizedAreasSegmentation/data/processed/S2-16D_V2_038019/6x6_subtiles/q_12ch/x=7040_y=5280.tif', '/home/jonathan/UrbanizedAreasSegmentation/data/processed/S2-16D_V2_015002/6x6_subtiles/q_12ch/x=1760_y=0.tif', '/home/jonathan/UrbanizedAreasSegmentation/data/processed/S2-16D_V2_015002/6x6_subtiles/q_12ch/x=3520_y=7040.tif', '/home/jonathan/UrbanizedAreasSegmentation/data/processed/S2-16D_V2_025005/6x6_subtiles/q_12ch/x=1760_y=0.tif', '/home/jonathan/UrbanizedAreasSegmentation/data/processed/S2-16D_V2_021027/6x6_subtiles/q_12ch/x=0_y=7040.tif', '/home/jonathan/UrbanizedAreasSegmentation/data/processed/S2-16D_V2_025005/6x6_subtiles/q_12ch/x=7040_y=0.tif', '/home/jonathan/UrbanizedAreasSegmentation/data/processed/S2-16D_V2_038019/6x6_subtiles/q_12ch/x=8800_y=3520.tif', '/home/jonathan/UrbanizedAreasSegmentation/data/processed/S2-16D_V2_021027/6x6_subtiles/q_12ch/x=7040_y=7040.tif', '/home/jonathan/UrbanizedAreasSegmentation/data/processed/S2-16D_V2_036016/6x6_subtiles/q_12ch/x=3520_y=5280.tif', '/home/jonathan/UrbanizedAreasSegmentation/data/processed/S2-16D_V2_025037/6x6_subtiles/q_12ch/x=8800_y=1760.tif', '/home/jonathan/UrbanizedAreasSegmentation/data/processed/S2-16D_V2_021027/6x6_subtiles/q_12ch/x=3520_y=8800.tif', '/home/jonathan/UrbanizedAreasSegmentation/data/processed/S2-16D_V2_038019/6x6_subtiles/q_12ch/x=7040_y=7040.tif', '/home/jonathan/UrbanizedAreasSegmentation/data/processed/S2-16D_V2_025037/6x6_subtiles/q_12ch/x=5280_y=3520.tif', '/home/jonathan/UrbanizedAreasSegmentation/data/processed/S2-16D_V2_036016/6x6_subtiles/q_12ch/x=8800_y=3520.tif', '/home/jonathan/UrbanizedAreasSegmentation/data/processed/S2-16D_V2_036016/6x6_subtiles/q_12ch/x=0_y=1760.tif', '/home/jonathan/UrbanizedAreasSegmentation/data/processed/S2-16D_V2_033029/6x6_subtiles/q_12ch/x=3520_y=3520.tif', '/home/jonathan/UrbanizedAreasSegmentation/data/processed/S2-16D_V2_016009/6x6_subtiles/q_12ch/x=8800_y=7040.tif', '/home/jonathan/UrbanizedAreasSegmentation/data/processed/S2-16D_V2_016009/6x6_subtiles/q_12ch/x=0_y=5280.tif', '/home/jonathan/UrbanizedAreasSegmentation/data/processed/S2-16D_V2_033029/6x6_subtiles/q_12ch/x=5280_y=8800.tif', '/home/jonathan/UrbanizedAreasSegmentation/data/processed/S2-16D_V2_028022/6x6_subtiles/q_12ch/x=3520_y=0.tif', '/home/jonathan/UrbanizedAreasSegmentation/data/processed/S2-16D_V2_021027/6x6_subtiles/q_12ch/x=1760_y=5280.tif', '/home/jonathan/UrbanizedAreasSegmentation/data/processed/S2-16D_V2_033029/6x6_subtiles/q_12ch/x=7040_y=8800.tif', '/home/jonathan/UrbanizedAreasSegmentation/data/processed/S2-16D_V2_025037/6x6_subtiles/q_12ch/x=3520_y=8800.tif', '/home/jonathan/UrbanizedAreasSegmentation/data/processed/S2-16D_V2_025005/6x6_subtiles/q_12ch/x=7040_y=1760.tif', '/home/jonathan/UrbanizedAreasSegmentation/data/processed/S2-16D_V2_032027/6x6_subtiles/q_12ch/x=7040_y=7040.tif', '/home/jonathan/UrbanizedAreasSegmentation/data/processed/S2-16D_V2_036016/6x6_subtiles/q_12ch/x=1760_y=8800.tif', '/home/jonathan/UrbanizedAreasSegmentation/data/processed/S2-16D_V2_021027/6x6_subtiles/q_12ch/x=7040_y=0.tif', '/home/jonathan/UrbanizedAreasSegmentation/data/processed/S2-16D_V2_033029/6x6_subtiles/q_12ch/x=8800_y=7040.tif', '/home/jonathan/UrbanizedAreasSegmentation/data/processed/S2-16D_V2_028022/6x6_subtiles/q_12ch/x=5280_y=1760.tif', '/home/jonathan/UrbanizedAreasSegmentation/data/processed/S2-16D_V2_016009/6x6_subtiles/q_12ch/x=7040_y=8800.tif', '/home/jonathan/UrbanizedAreasSegmentation/data/processed/S2-16D_V2_033029/6x6_subtiles/q_12ch/x=8800_y=5280.tif', '/home/jonathan/UrbanizedAreasSegmentation/data/processed/S2-16D_V2_016009/6x6_subtiles/q_12ch/x=3520_y=5280.tif', '/home/jonathan/UrbanizedAreasSegmentation/data/processed/S2-16D_V2_021027/6x6_subtiles/q_12ch/x=1760_y=8800.tif', '/home/jonathan/UrbanizedAreasSegmentation/data/processed/S2-16D_V2_028022/6x6_subtiles/q_12ch/x=8800_y=7040.tif', '/home/jonathan/UrbanizedAreasSegmentation/data/processed/S2-16D_V2_025005/6x6_subtiles/q_12ch/x=3520_y=1760.tif', '/home/jonathan/UrbanizedAreasSegmentation/data/processed/S2-16D_V2_036016/6x6_subtiles/q_12ch/x=0_y=3520.tif', '/home/jonathan/UrbanizedAreasSegmentation/data/processed/S2-16D_V2_036016/6x6_subtiles/q_12ch/x=5280_y=8800.tif', '/home/jonathan/UrbanizedAreasSegmentation/data/processed/S2-16D_V2_016009/6x6_subtiles/q_12ch/x=7040_y=3520.tif', '/home/jonathan/UrbanizedAreasSegmentation/data/processed/S2-16D_V2_025005/6x6_subtiles/q_12ch/x=1760_y=8800.tif', '/home/jonathan/UrbanizedAreasSegmentation/data/processed/S2-16D_V2_034011/6x6_subtiles/q_12ch/x=0_y=5280.tif', '/home/jonathan/UrbanizedAreasSegmentation/data/processed/S2-16D_V2_028022/6x6_subtiles/q_12ch/x=7040_y=0.tif', '/home/jonathan/UrbanizedAreasSegmentation/data/processed/S2-16D_V2_025005/6x6_subtiles/q_12ch/x=1760_y=3520.tif', '/home/jonathan/UrbanizedAreasSegmentation/data/processed/S2-16D_V2_033029/6x6_subtiles/q_12ch/x=0_y=1760.tif', '/home/jonathan/UrbanizedAreasSegmentation/data/processed/S2-16D_V2_027032/6x6_subtiles/q_12ch/x=7040_y=3520.tif', '/home/jonathan/UrbanizedAreasSegmentation/data/processed/S2-16D_V2_032027/6x6_subtiles/q_12ch/x=7040_y=1760.tif', '/home/jonathan/UrbanizedAreasSegmentation/data/processed/S2-16D_V2_038019/6x6_subtiles/q_12ch/x=0_y=0.tif', '/home/jonathan/UrbanizedAreasSegmentation/data/processed/S2-16D_V2_025005/6x6_subtiles/q_12ch/x=0_y=5280.tif', '/home/jonathan/UrbanizedAreasSegmentation/data/processed/S2-16D_V2_036016/6x6_subtiles/q_12ch/x=5280_y=3520.tif', '/home/jonathan/UrbanizedAreasSegmentation/data/processed/S2-16D_V2_028022/6x6_subtiles/q_12ch/x=0_y=5280.tif', '/home/jonathan/UrbanizedAreasSegmentation/data/processed/S2-16D_V2_027032/6x6_subtiles/q_12ch/x=8800_y=1760.tif', '/home/jonathan/UrbanizedAreasSegmentation/data/processed/S2-16D_V2_016009/6x6_subtiles/q_12ch/x=5280_y=0.tif', '/home/jonathan/UrbanizedAreasSegmentation/data/processed/S2-16D_V2_025037/6x6_subtiles/q_12ch/x=8800_y=5280.tif', '/home/jonathan/UrbanizedAreasSegmentation/data/processed/S2-16D_V2_016009/6x6_subtiles/q_12ch/x=8800_y=5280.tif', '/home/jonathan/UrbanizedAreasSegmentation/data/processed/S2-16D_V2_028022/6x6_subtiles/q_12ch/x=1760_y=1760.tif', '/home/jonathan/UrbanizedAreasSegmentation/data/processed/S2-16D_V2_034011/6x6_subtiles/q_12ch/x=7040_y=5280.tif', '/home/jonathan/UrbanizedAreasSegmentation/data/processed/S2-16D_V2_021027/6x6_subtiles/q_12ch/x=5280_y=7040.tif', '/home/jonathan/UrbanizedAreasSegmentation/data/processed/S2-16D_V2_016009/6x6_subtiles/q_12ch/x=7040_y=1760.tif', '/home/jonathan/UrbanizedAreasSegmentation/data/processed/S2-16D_V2_033029/6x6_subtiles/q_12ch/x=7040_y=0.tif', '/home/jonathan/UrbanizedAreasSegmentation/data/processed/S2-16D_V2_015002/6x6_subtiles/q_12ch/x=5280_y=0.tif', '/home/jonathan/UrbanizedAreasSegmentation/data/processed/S2-16D_V2_033029/6x6_subtiles/q_12ch/x=8800_y=8800.tif', '/home/jonathan/UrbanizedAreasSegmentation/data/processed/S2-16D_V2_027032/6x6_subtiles/q_12ch/x=1760_y=1760.tif', '/home/jonathan/UrbanizedAreasSegmentation/data/processed/S2-16D_V2_016009/6x6_subtiles/q_12ch/x=5280_y=7040.tif', '/home/jonathan/UrbanizedAreasSegmentation/data/processed/S2-16D_V2_036016/6x6_subtiles/q_12ch/x=0_y=8800.tif', '/home/jonathan/UrbanizedAreasSegmentation/data/processed/S2-16D_V2_038019/6x6_subtiles/q_12ch/x=1760_y=1760.tif', '/home/jonathan/UrbanizedAreasSegmentation/data/processed/S2-16D_V2_015002/6x6_subtiles/q_12ch/x=7040_y=0.tif', '/home/jonathan/UrbanizedAreasSegmentation/data/processed/S2-16D_V2_038019/6x6_subtiles/q_12ch/x=8800_y=0.tif', '/home/jonathan/UrbanizedAreasSegmentation/data/processed/S2-16D_V2_025005/6x6_subtiles/q_12ch/x=7040_y=5280.tif', '/home/jonathan/UrbanizedAreasSegmentation/data/processed/S2-16D_V2_015002/6x6_subtiles/q_12ch/x=5280_y=5280.tif', '/home/jonathan/UrbanizedAreasSegmentation/data/processed/S2-16D_V2_028022/6x6_subtiles/q_12ch/x=0_y=7040.tif', '/home/jonathan/UrbanizedAreasSegmentation/data/processed/S2-16D_V2_025037/6x6_subtiles/q_12ch/x=8800_y=7040.tif', '/home/jonathan/UrbanizedAreasSegmentation/data/processed/S2-16D_V2_034011/6x6_subtiles/q_12ch/x=5280_y=1760.tif', '/home/jonathan/UrbanizedAreasSegmentation/data/processed/S2-16D_V2_015002/6x6_subtiles/q_12ch/x=5280_y=1760.tif', '/home/jonathan/UrbanizedAreasSegmentation/data/processed/S2-16D_V2_027032/6x6_subtiles/q_12ch/x=8800_y=5280.tif', '/home/jonathan/UrbanizedAreasSegmentation/data/processed/S2-16D_V2_025037/6x6_subtiles/q_12ch/x=1760_y=7040.tif', '/home/jonathan/UrbanizedAreasSegmentation/data/processed/S2-16D_V2_027032/6x6_subtiles/q_12ch/x=8800_y=0.tif', '/home/jonathan/UrbanizedAreasSegmentation/data/processed/S2-16D_V2_034011/6x6_subtiles/q_12ch/x=3520_y=1760.tif', '/home/jonathan/UrbanizedAreasSegmentation/data/processed/S2-16D_V2_032027/6x6_subtiles/q_12ch/x=0_y=7040.tif', '/home/jonathan/UrbanizedAreasSegmentation/data/processed/S2-16D_V2_015002/6x6_subtiles/q_12ch/x=3520_y=0.tif', '/home/jonathan/UrbanizedAreasSegmentation/data/processed/S2-16D_V2_027032/6x6_subtiles/q_12ch/x=0_y=0.tif', '/home/jonathan/UrbanizedAreasSegmentation/data/processed/S2-16D_V2_034011/6x6_subtiles/q_12ch/x=7040_y=7040.tif', '/home/jonathan/UrbanizedAreasSegmentation/data/processed/S2-16D_V2_036016/6x6_subtiles/q_12ch/x=0_y=7040.tif', '/home/jonathan/UrbanizedAreasSegmentation/data/processed/S2-16D_V2_036016/6x6_subtiles/q_12ch/x=8800_y=5280.tif', '/home/jonathan/UrbanizedAreasSegmentation/data/processed/S2-16D_V2_025005/6x6_subtiles/q_12ch/x=1760_y=7040.tif', '/home/jonathan/UrbanizedAreasSegmentation/data/processed/S2-16D_V2_027032/6x6_subtiles/q_12ch/x=7040_y=1760.tif', '/home/jonathan/UrbanizedAreasSegmentation/data/processed/S2-16D_V2_033029/6x6_subtiles/q_12ch/x=5280_y=3520.tif', '/home/jonathan/UrbanizedAreasSegmentation/data/processed/S2-16D_V2_036016/6x6_subtiles/q_12ch/x=8800_y=1760.tif', '/home/jonathan/UrbanizedAreasSegmentation/data/processed/S2-16D_V2_034011/6x6_subtiles/q_12ch/x=7040_y=8800.tif', '/home/jonathan/UrbanizedAreasSegmentation/data/processed/S2-16D_V2_028022/6x6_subtiles/q_12ch/x=1760_y=0.tif', '/home/jonathan/UrbanizedAreasSegmentation/data/processed/S2-16D_V2_027032/6x6_subtiles/q_12ch/x=3520_y=8800.tif', '/home/jonathan/UrbanizedAreasSegmentation/data/processed/S2-16D_V2_025005/6x6_subtiles/q_12ch/x=5280_y=3520.tif', '/home/jonathan/UrbanizedAreasSegmentation/data/processed/S2-16D_V2_027032/6x6_subtiles/q_12ch/x=3520_y=3520.tif', '/home/jonathan/UrbanizedAreasSegmentation/data/processed/S2-16D_V2_027032/6x6_subtiles/q_12ch/x=3520_y=5280.tif', '/home/jonathan/UrbanizedAreasSegmentation/data/processed/S2-16D_V2_036016/6x6_subtiles/q_12ch/x=3520_y=3520.tif', '/home/jonathan/UrbanizedAreasSegmentation/data/processed/S2-16D_V2_027032/6x6_subtiles/q_12ch/x=5280_y=8800.tif', '/home/jonathan/UrbanizedAreasSegmentation/data/processed/S2-16D_V2_036016/6x6_subtiles/q_12ch/x=5280_y=1760.tif', '/home/jonathan/UrbanizedAreasSegmentation/data/processed/S2-16D_V2_015002/6x6_subtiles/q_12ch/x=0_y=1760.tif', '/home/jonathan/UrbanizedAreasSegmentation/data/processed/S2-16D_V2_025005/6x6_subtiles/q_12ch/x=8800_y=3520.tif', '/home/jonathan/UrbanizedAreasSegmentation/data/processed/S2-16D_V2_015002/6x6_subtiles/q_12ch/x=1760_y=5280.tif', '/home/jonathan/UrbanizedAreasSegmentation/data/processed/S2-16D_V2_016009/6x6_subtiles/q_12ch/x=8800_y=0.tif', '/home/jonathan/UrbanizedAreasSegmentation/data/processed/S2-16D_V2_033029/6x6_subtiles/q_12ch/x=1760_y=1760.tif', '/home/jonathan/UrbanizedAreasSegmentation/data/processed/S2-16D_V2_032027/6x6_subtiles/q_12ch/x=1760_y=7040.tif', '/home/jonathan/UrbanizedAreasSegmentation/data/processed/S2-16D_V2_038019/6x6_subtiles/q_12ch/x=7040_y=0.tif', '/home/jonathan/UrbanizedAreasSegmentation/data/processed/S2-16D_V2_016009/6x6_subtiles/q_12ch/x=5280_y=3520.tif', '/home/jonathan/UrbanizedAreasSegmentation/data/processed/S2-16D_V2_034011/6x6_subtiles/q_12ch/x=8800_y=5280.tif', '/home/jonathan/UrbanizedAreasSegmentation/data/processed/S2-16D_V2_016009/6x6_subtiles/q_12ch/x=5280_y=5280.tif', '/home/jonathan/UrbanizedAreasSegmentation/data/processed/S2-16D_V2_038019/6x6_subtiles/q_12ch/x=5280_y=0.tif', '/home/jonathan/UrbanizedAreasSegmentation/data/processed/S2-16D_V2_033029/6x6_subtiles/q_12ch/x=8800_y=0.tif', '/home/jonathan/UrbanizedAreasSegmentation/data/processed/S2-16D_V2_015002/6x6_subtiles/q_12ch/x=8800_y=1760.tif', '/home/jonathan/UrbanizedAreasSegmentation/data/processed/S2-16D_V2_032027/6x6_subtiles/q_12ch/x=8800_y=3520.tif', '/home/jonathan/UrbanizedAreasSegmentation/data/processed/S2-16D_V2_036016/6x6_subtiles/q_12ch/x=0_y=5280.tif', '/home/jonathan/UrbanizedAreasSegmentation/data/processed/S2-16D_V2_027032/6x6_subtiles/q_12ch/x=3520_y=1760.tif', '/home/jonathan/UrbanizedAreasSegmentation/data/processed/S2-16D_V2_038019/6x6_subtiles/q_12ch/x=5280_y=1760.tif', '/home/jonathan/UrbanizedAreasSegmentation/data/processed/S2-16D_V2_015002/6x6_subtiles/q_12ch/x=7040_y=1760.tif', '/home/jonathan/UrbanizedAreasSegmentation/data/processed/S2-16D_V2_016009/6x6_subtiles/q_12ch/x=3520_y=3520.tif', '/home/jonathan/UrbanizedAreasSegmentation/data/processed/S2-16D_V2_027032/6x6_subtiles/q_12ch/x=7040_y=0.tif', '/home/jonathan/UrbanizedAreasSegmentation/data/processed/S2-16D_V2_016009/6x6_subtiles/q_12ch/x=7040_y=5280.tif', '/home/jonathan/UrbanizedAreasSegmentation/data/processed/S2-16D_V2_025037/6x6_subtiles/q_12ch/x=8800_y=3520.tif', '/home/jonathan/UrbanizedAreasSegmentation/data/processed/S2-16D_V2_033029/6x6_subtiles/q_12ch/x=5280_y=0.tif', '/home/jonathan/UrbanizedAreasSegmentation/data/processed/S2-16D_V2_036016/6x6_subtiles/q_12ch/x=5280_y=5280.tif', '/home/jonathan/UrbanizedAreasSegmentation/data/processed/S2-16D_V2_016009/6x6_subtiles/q_12ch/x=1760_y=5280.tif', '/home/jonathan/UrbanizedAreasSegmentation/data/processed/S2-16D_V2_015002/6x6_subtiles/q_12ch/x=1760_y=7040.tif', '/home/jonathan/UrbanizedAreasSegmentation/data/processed/S2-16D_V2_036016/6x6_subtiles/q_12ch/x=3520_y=8800.tif', '/home/jonathan/UrbanizedAreasSegmentation/data/processed/S2-16D_V2_025005/6x6_subtiles/q_12ch/x=3520_y=5280.tif', '/home/jonathan/UrbanizedAreasSegmentation/data/processed/S2-16D_V2_038019/6x6_subtiles/q_12ch/x=0_y=1760.tif', '/home/jonathan/UrbanizedAreasSegmentation/data/processed/S2-16D_V2_034011/6x6_subtiles/q_12ch/x=3520_y=5280.tif', '/home/jonathan/UrbanizedAreasSegmentation/data/processed/S2-16D_V2_021027/6x6_subtiles/q_12ch/x=8800_y=1760.tif', '/home/jonathan/UrbanizedAreasSegmentation/data/processed/S2-16D_V2_034011/6x6_subtiles/q_12ch/x=0_y=0.tif', '/home/jonathan/UrbanizedAreasSegmentation/data/processed/S2-16D_V2_036016/6x6_subtiles/q_12ch/x=3520_y=7040.tif', '/home/jonathan/UrbanizedAreasSegmentation/data/processed/S2-16D_V2_036016/6x6_subtiles/q_12ch/x=1760_y=5280.tif', '/home/jonathan/UrbanizedAreasSegmentation/data/processed/S2-16D_V2_025005/6x6_subtiles/q_12ch/x=5280_y=5280.tif', '/home/jonathan/UrbanizedAreasSegmentation/data/processed/S2-16D_V2_016009/6x6_subtiles/q_12ch/x=7040_y=0.tif', '/home/jonathan/UrbanizedAreasSegmentation/data/processed/S2-16D_V2_025037/6x6_subtiles/q_12ch/x=7040_y=3520.tif', '/home/jonathan/UrbanizedAreasSegmentation/data/processed/S2-16D_V2_016009/6x6_subtiles/q_12ch/x=8800_y=3520.tif', '/home/jonathan/UrbanizedAreasSegmentation/data/processed/S2-16D_V2_015002/6x6_subtiles/q_12ch/x=5280_y=7040.tif', '/home/jonathan/UrbanizedAreasSegmentation/data/processed/S2-16D_V2_015002/6x6_subtiles/q_12ch/x=7040_y=8800.tif', '/home/jonathan/UrbanizedAreasSegmentation/data/processed/S2-16D_V2_028022/6x6_subtiles/q_12ch/x=8800_y=0.tif', '/home/jonathan/UrbanizedAreasSegmentation/data/processed/S2-16D_V2_036016/6x6_subtiles/q_12ch/x=5280_y=7040.tif', '/home/jonathan/UrbanizedAreasSegmentation/data/processed/S2-16D_V2_036016/6x6_subtiles/q_12ch/x=7040_y=5280.tif', '/home/jonathan/UrbanizedAreasSegmentation/data/processed/S2-16D_V2_027032/6x6_subtiles/q_12ch/x=5280_y=5280.tif', '/home/jonathan/UrbanizedAreasSegmentation/data/processed/S2-16D_V2_034011/6x6_subtiles/q_12ch/x=1760_y=0.tif', '/home/jonathan/UrbanizedAreasSegmentation/data/processed/S2-16D_V2_015002/6x6_subtiles/q_12ch/x=3520_y=3520.tif', '/home/jonathan/UrbanizedAreasSegmentation/data/processed/S2-16D_V2_025037/6x6_subtiles/q_12ch/x=5280_y=5280.tif', '/home/jonathan/UrbanizedAreasSegmentation/data/processed/S2-16D_V2_027032/6x6_subtiles/q_12ch/x=5280_y=3520.tif', '/home/jonathan/UrbanizedAreasSegmentation/data/processed/S2-16D_V2_036016/6x6_subtiles/q_12ch/x=8800_y=8800.tif', '/home/jonathan/UrbanizedAreasSegmentation/data/processed/S2-16D_V2_025005/6x6_subtiles/q_12ch/x=3520_y=7040.tif', '/home/jonathan/UrbanizedAreasSegmentation/data/processed/S2-16D_V2_033029/6x6_subtiles/q_12ch/x=7040_y=1760.tif', '/home/jonathan/UrbanizedAreasSegmentation/data/processed/S2-16D_V2_015002/6x6_subtiles/q_12ch/x=5280_y=3520.tif', '/home/jonathan/UrbanizedAreasSegmentation/data/processed/S2-16D_V2_021027/6x6_subtiles/q_12ch/x=1760_y=1760.tif', '/home/jonathan/UrbanizedAreasSegmentation/data/processed/S2-16D_V2_015002/6x6_subtiles/q_12ch/x=7040_y=3520.tif', '/home/jonathan/UrbanizedAreasSegmentation/data/processed/S2-16D_V2_015002/6x6_subtiles/q_12ch/x=3520_y=1760.tif', '/home/jonathan/UrbanizedAreasSegmentation/data/processed/S2-16D_V2_025037/6x6_subtiles/q_12ch/x=3520_y=7040.tif', '/home/jonathan/UrbanizedAreasSegmentation/data/processed/S2-16D_V2_025005/6x6_subtiles/q_12ch/x=7040_y=3520.tif', '/home/jonathan/UrbanizedAreasSegmentation/data/processed/S2-16D_V2_015002/6x6_subtiles/q_12ch/x=1760_y=1760.tif', '/home/jonathan/UrbanizedAreasSegmentation/data/processed/S2-16D_V2_016009/6x6_subtiles/q_12ch/x=5280_y=1760.tif', '/home/jonathan/UrbanizedAreasSegmentation/data/processed/S2-16D_V2_015002/6x6_subtiles/q_12ch/x=8800_y=7040.tif', '/home/jonathan/UrbanizedAreasSegmentation/data/processed/S2-16D_V2_025037/6x6_subtiles/q_12ch/x=7040_y=7040.tif', '/home/jonathan/UrbanizedAreasSegmentation/data/processed/S2-16D_V2_025037/6x6_subtiles/q_12ch/x=8800_y=8800.tif', '/home/jonathan/UrbanizedAreasSegmentation/data/processed/S2-16D_V2_036016/6x6_subtiles/q_12ch/x=1760_y=3520.tif', '/home/jonathan/UrbanizedAreasSegmentation/data/processed/S2-16D_V2_032027/6x6_subtiles/q_12ch/x=8800_y=8800.tif', '/home/jonathan/UrbanizedAreasSegmentation/data/processed/S2-16D_V2_025005/6x6_subtiles/q_12ch/x=8800_y=0.tif', '/home/jonathan/UrbanizedAreasSegmentation/data/processed/S2-16D_V2_016009/6x6_subtiles/q_12ch/x=1760_y=3520.tif', '/home/jonathan/UrbanizedAreasSegmentation/data/processed/S2-16D_V2_028022/6x6_subtiles/q_12ch/x=1760_y=8800.tif', '/home/jonathan/UrbanizedAreasSegmentation/data/processed/S2-16D_V2_032027/6x6_subtiles/q_12ch/x=7040_y=3520.tif', '/home/jonathan/UrbanizedAreasSegmentation/data/processed/S2-16D_V2_025037/6x6_subtiles/q_12ch/x=0_y=7040.tif', '/home/jonathan/UrbanizedAreasSegmentation/data/processed/S2-16D_V2_028022/6x6_subtiles/q_12ch/x=8800_y=5280.tif', '/home/jonathan/UrbanizedAreasSegmentation/data/processed/S2-16D_V2_033029/6x6_subtiles/q_12ch/x=3520_y=0.tif', '/home/jonathan/UrbanizedAreasSegmentation/data/processed/S2-16D_V2_027032/6x6_subtiles/q_12ch/x=8800_y=7040.tif', '/home/jonathan/UrbanizedAreasSegmentation/data/processed/S2-16D_V2_036016/6x6_subtiles/q_12ch/x=7040_y=8800.tif', '/home/jonathan/UrbanizedAreasSegmentation/data/processed/S2-16D_V2_016009/6x6_subtiles/q_12ch/x=3520_y=1760.tif', '/home/jonathan/UrbanizedAreasSegmentation/data/processed/S2-16D_V2_021027/6x6_subtiles/q_12ch/x=3520_y=7040.tif', '/home/jonathan/UrbanizedAreasSegmentation/data/processed/S2-16D_V2_015002/6x6_subtiles/q_12ch/x=0_y=5280.tif', '/home/jonathan/UrbanizedAreasSegmentation/data/processed/S2-16D_V2_032027/6x6_subtiles/q_12ch/x=0_y=8800.tif', '/home/jonathan/UrbanizedAreasSegmentation/data/processed/S2-16D_V2_032027/6x6_subtiles/q_12ch/x=8800_y=7040.tif', '/home/jonathan/UrbanizedAreasSegmentation/data/processed/S2-16D_V2_021027/6x6_subtiles/q_12ch/x=0_y=0.tif', '/home/jonathan/UrbanizedAreasSegmentation/data/processed/S2-16D_V2_038019/6x6_subtiles/q_12ch/x=7040_y=1760.tif', '/home/jonathan/UrbanizedAreasSegmentation/data/processed/S2-16D_V2_015002/6x6_subtiles/q_12ch/x=0_y=0.tif', '/home/jonathan/UrbanizedAreasSegmentation/data/processed/S2-16D_V2_038019/6x6_subtiles/q_12ch/x=5280_y=3520.tif', '/home/jonathan/UrbanizedAreasSegmentation/data/processed/S2-16D_V2_033029/6x6_subtiles/q_12ch/x=3520_y=1760.tif', '/home/jonathan/UrbanizedAreasSegmentation/data/processed/S2-16D_V2_034011/6x6_subtiles/q_12ch/x=1760_y=8800.tif', '/home/jonathan/UrbanizedAreasSegmentation/data/processed/S2-16D_V2_028022/6x6_subtiles/q_12ch/x=3520_y=3520.tif', '/home/jonathan/UrbanizedAreasSegmentation/data/processed/S2-16D_V2_034011/6x6_subtiles/q_12ch/x=7040_y=3520.tif', '/home/jonathan/UrbanizedAreasSegmentation/data/processed/S2-16D_V2_036016/6x6_subtiles/q_12ch/x=1760_y=1760.tif', '/home/jonathan/UrbanizedAreasSegmentation/data/processed/S2-16D_V2_015002/6x6_subtiles/q_12ch/x=8800_y=8800.tif'], 'val_files': ['/home/jonathan/UrbanizedAreasSegmentation/data/processed/S2-16D_V2_034011/6x6_subtiles/q_12ch/x=1760_y=3520.tif', '/home/jonathan/UrbanizedAreasSegmentation/data/processed/S2-16D_V2_016009/6x6_subtiles/q_12ch/x=1760_y=0.tif', '/home/jonathan/UrbanizedAreasSegmentation/data/processed/S2-16D_V2_016009/6x6_subtiles/q_12ch/x=0_y=8800.tif', '/home/jonathan/UrbanizedAreasSegmentation/data/processed/S2-16D_V2_025005/6x6_subtiles/q_12ch/x=5280_y=7040.tif', '/home/jonathan/UrbanizedAreasSegmentation/data/processed/S2-16D_V2_038019/6x6_subtiles/q_12ch/x=1760_y=8800.tif', '/home/jonathan/UrbanizedAreasSegmentation/data/processed/S2-16D_V2_027032/6x6_subtiles/q_12ch/x=0_y=1760.tif', '/home/jonathan/UrbanizedAreasSegmentation/data/processed/S2-16D_V2_032027/6x6_subtiles/q_12ch/x=0_y=0.tif', '/home/jonathan/UrbanizedAreasSegmentation/data/processed/S2-16D_V2_028022/6x6_subtiles/q_12ch/x=5280_y=5280.tif', '/home/jonathan/UrbanizedAreasSegmentation/data/processed/S2-16D_V2_036016/6x6_subtiles/q_12ch/x=7040_y=7040.tif', '/home/jonathan/UrbanizedAreasSegmentation/data/processed/S2-16D_V2_032027/6x6_subtiles/q_12ch/x=5280_y=3520.tif', '/home/jonathan/UrbanizedAreasSegmentation/data/processed/S2-16D_V2_027032/6x6_subtiles/q_12ch/x=0_y=5280.tif', '/home/jonathan/UrbanizedAreasSegmentation/data/processed/S2-16D_V2_021027/6x6_subtiles/q_12ch/x=5280_y=1760.tif', '/home/jonathan/UrbanizedAreasSegmentation/data/processed/S2-16D_V2_028022/6x6_subtiles/q_12ch/x=7040_y=8800.tif', '/home/jonathan/UrbanizedAreasSegmentation/data/processed/S2-16D_V2_027032/6x6_subtiles/q_12ch/x=0_y=8800.tif', '/home/jonathan/UrbanizedAreasSegmentation/data/processed/S2-16D_V2_038019/6x6_subtiles/q_12ch/x=8800_y=8800.tif', '/home/jonathan/UrbanizedAreasSegmentation/data/processed/S2-16D_V2_034011/6x6_subtiles/q_12ch/x=0_y=3520.tif', '/home/jonathan/UrbanizedAreasSegmentation/data/processed/S2-16D_V2_033029/6x6_subtiles/q_12ch/x=0_y=8800.tif', '/home/jonathan/UrbanizedAreasSegmentation/data/processed/S2-16D_V2_027032/6x6_subtiles/q_12ch/x=3520_y=0.tif', '/home/jonathan/UrbanizedAreasSegmentation/data/processed/S2-16D_V2_032027/6x6_subtiles/q_12ch/x=1760_y=1760.tif', '/home/jonathan/UrbanizedAreasSegmentation/data/processed/S2-16D_V2_038019/6x6_subtiles/q_12ch/x=3520_y=8800.tif', '/home/jonathan/UrbanizedAreasSegmentation/data/processed/S2-16D_V2_027032/6x6_subtiles/q_12ch/x=7040_y=5280.tif', '/home/jonathan/UrbanizedAreasSegmentation/data/processed/S2-16D_V2_015002/6x6_subtiles/q_12ch/x=1760_y=8800.tif', '/home/jonathan/UrbanizedAreasSegmentation/data/processed/S2-16D_V2_028022/6x6_subtiles/q_12ch/x=7040_y=5280.tif', '/home/jonathan/UrbanizedAreasSegmentation/data/processed/S2-16D_V2_015002/6x6_subtiles/q_12ch/x=7040_y=7040.tif', '/home/jonathan/UrbanizedAreasSegmentation/data/processed/S2-16D_V2_034011/6x6_subtiles/q_12ch/x=0_y=1760.tif', '/home/jonathan/UrbanizedAreasSegmentation/data/processed/S2-16D_V2_027032/6x6_subtiles/q_12ch/x=1760_y=5280.tif', '/home/jonathan/UrbanizedAreasSegmentation/data/processed/S2-16D_V2_016009/6x6_subtiles/q_12ch/x=3520_y=8800.tif', '/home/jonathan/UrbanizedAreasSegmentation/data/processed/S2-16D_V2_032027/6x6_subtiles/q_12ch/x=7040_y=5280.tif', '/home/jonathan/UrbanizedAreasSegmentation/data/processed/S2-16D_V2_028022/6x6_subtiles/q_12ch/x=7040_y=7040.tif', '/home/jonathan/UrbanizedAreasSegmentation/data/processed/S2-16D_V2_015002/6x6_subtiles/q_12ch/x=0_y=3520.tif', '/home/jonathan/UrbanizedAreasSegmentation/data/processed/S2-16D_V2_028022/6x6_subtiles/q_12ch/x=8800_y=8800.tif', '/home/jonathan/UrbanizedAreasSegmentation/data/processed/S2-16D_V2_033029/6x6_subtiles/q_12ch/x=7040_y=5280.tif', '/home/jonathan/UrbanizedAreasSegmentation/data/processed/S2-16D_V2_021027/6x6_subtiles/q_12ch/x=0_y=5280.tif', '/home/jonathan/UrbanizedAreasSegmentation/data/processed/S2-16D_V2_032027/6x6_subtiles/q_12ch/x=3520_y=7040.tif', '/home/jonathan/UrbanizedAreasSegmentation/data/processed/S2-16D_V2_038019/6x6_subtiles/q_12ch/x=0_y=8800.tif', '/home/jonathan/UrbanizedAreasSegmentation/data/processed/S2-16D_V2_025005/6x6_subtiles/q_12ch/x=0_y=1760.tif', '/home/jonathan/UrbanizedAreasSegmentation/data/processed/S2-16D_V2_033029/6x6_subtiles/q_12ch/x=3520_y=8800.tif', '/home/jonathan/UrbanizedAreasSegmentation/data/processed/S2-16D_V2_028022/6x6_subtiles/q_12ch/x=8800_y=3520.tif', '/home/jonathan/UrbanizedAreasSegmentation/data/processed/S2-16D_V2_021027/6x6_subtiles/q_12ch/x=7040_y=1760.tif', '/home/jonathan/UrbanizedAreasSegmentation/data/processed/S2-16D_V2_032027/6x6_subtiles/q_12ch/x=3520_y=3520.tif', '/home/jonathan/UrbanizedAreasSegmentation/data/processed/S2-16D_V2_032027/6x6_subtiles/q_12ch/x=3520_y=1760.tif', '/home/jonathan/UrbanizedAreasSegmentation/data/processed/S2-16D_V2_038019/6x6_subtiles/q_12ch/x=8800_y=7040.tif', '/home/jonathan/UrbanizedAreasSegmentation/data/processed/S2-16D_V2_032027/6x6_subtiles/q_12ch/x=5280_y=5280.tif', '/home/jonathan/UrbanizedAreasSegmentation/data/processed/S2-16D_V2_027032/6x6_subtiles/q_12ch/x=8800_y=8800.tif', '/home/jonathan/UrbanizedAreasSegmentation/data/processed/S2-16D_V2_021027/6x6_subtiles/q_12ch/x=1760_y=0.tif', '/home/jonathan/UrbanizedAreasSegmentation/data/processed/S2-16D_V2_034011/6x6_subtiles/q_12ch/x=3520_y=3520.tif', '/home/jonathan/UrbanizedAreasSegmentation/data/processed/S2-16D_V2_028022/6x6_subtiles/q_12ch/x=1760_y=7040.tif', '/home/jonathan/UrbanizedAreasSegmentation/data/processed/S2-16D_V2_034011/6x6_subtiles/q_12ch/x=8800_y=8800.tif', '/home/jonathan/UrbanizedAreasSegmentation/data/processed/S2-16D_V2_034011/6x6_subtiles/q_12ch/x=7040_y=0.tif', '/home/jonathan/UrbanizedAreasSegmentation/data/processed/S2-16D_V2_025005/6x6_subtiles/q_12ch/x=3520_y=8800.tif', '/home/jonathan/UrbanizedAreasSegmentation/data/processed/S2-16D_V2_028022/6x6_subtiles/q_12ch/x=7040_y=1760.tif', '/home/jonathan/UrbanizedAreasSegmentation/data/processed/S2-16D_V2_036016/6x6_subtiles/q_12ch/x=5280_y=0.tif', '/home/jonathan/UrbanizedAreasSegmentation/data/processed/S2-16D_V2_028022/6x6_subtiles/q_12ch/x=5280_y=3520.tif', '/home/jonathan/UrbanizedAreasSegmentation/data/processed/S2-16D_V2_021027/6x6_subtiles/q_12ch/x=7040_y=8800.tif', '/home/jonathan/UrbanizedAreasSegmentation/data/processed/S2-16D_V2_025037/6x6_subtiles/q_12ch/x=7040_y=5280.tif', '/home/jonathan/UrbanizedAreasSegmentation/data/processed/S2-16D_V2_025037/6x6_subtiles/q_12ch/x=7040_y=0.tif', '/home/jonathan/UrbanizedAreasSegmentation/data/processed/S2-16D_V2_025005/6x6_subtiles/q_12ch/x=0_y=0.tif', '/home/jonathan/UrbanizedAreasSegmentation/data/processed/S2-16D_V2_032027/6x6_subtiles/q_12ch/x=1760_y=5280.tif', '/home/jonathan/UrbanizedAreasSegmentation/data/processed/S2-16D_V2_027032/6x6_subtiles/q_12ch/x=1760_y=8800.tif', '/home/jonathan/UrbanizedAreasSegmentation/data/processed/S2-16D_V2_016009/6x6_subtiles/q_12ch/x=1760_y=8800.tif', '/home/jonathan/UrbanizedAreasSegmentation/data/processed/S2-16D_V2_034011/6x6_subtiles/q_12ch/x=0_y=7040.tif', '/home/jonathan/UrbanizedAreasSegmentation/data/processed/S2-16D_V2_021027/6x6_subtiles/q_12ch/x=8800_y=7040.tif', '/home/jonathan/UrbanizedAreasSegmentation/data/processed/S2-16D_V2_036016/6x6_subtiles/q_12ch/x=8800_y=0.tif', '/home/jonathan/UrbanizedAreasSegmentation/data/processed/S2-16D_V2_034011/6x6_subtiles/q_12ch/x=1760_y=7040.tif', '/home/jonathan/UrbanizedAreasSegmentation/data/processed/S2-16D_V2_025037/6x6_subtiles/q_12ch/x=3520_y=3520.tif', '/home/jonathan/UrbanizedAreasSegmentation/data/processed/S2-16D_V2_025005/6x6_subtiles/q_12ch/x=3520_y=3520.tif', '/home/jonathan/UrbanizedAreasSegmentation/data/processed/S2-16D_V2_033029/6x6_subtiles/q_12ch/x=0_y=0.tif', '/home/jonathan/UrbanizedAreasSegmentation/data/processed/S2-16D_V2_038019/6x6_subtiles/q_12ch/x=1760_y=5280.tif', '/home/jonathan/UrbanizedAreasSegmentation/data/processed/S2-16D_V2_016009/6x6_subtiles/q_12ch/x=7040_y=7040.tif', '/home/jonathan/UrbanizedAreasSegmentation/data/processed/S2-16D_V2_028022/6x6_subtiles/q_12ch/x=0_y=8800.tif', '/home/jonathan/UrbanizedAreasSegmentation/data/processed/S2-16D_V2_033029/6x6_subtiles/q_12ch/x=7040_y=7040.tif', '/home/jonathan/UrbanizedAreasSegmentation/data/processed/S2-16D_V2_021027/6x6_subtiles/q_12ch/x=3520_y=1760.tif', '/home/jonathan/UrbanizedAreasSegmentation/data/processed/S2-16D_V2_034011/6x6_subtiles/q_12ch/x=8800_y=0.tif', '/home/jonathan/UrbanizedAreasSegmentation/data/processed/S2-16D_V2_033029/6x6_subtiles/q_12ch/x=7040_y=3520.tif', '/home/jonathan/UrbanizedAreasSegmentation/data/processed/S2-16D_V2_028022/6x6_subtiles/q_12ch/x=0_y=1760.tif', '/home/jonathan/UrbanizedAreasSegmentation/data/processed/S2-16D_V2_034011/6x6_subtiles/q_12ch/x=3520_y=8800.tif', '/home/jonathan/UrbanizedAreasSegmentation/data/processed/S2-16D_V2_033029/6x6_subtiles/q_12ch/x=5280_y=5280.tif', '/home/jonathan/UrbanizedAreasSegmentation/data/processed/S2-16D_V2_036016/6x6_subtiles/q_12ch/x=7040_y=1760.tif', '/home/jonathan/UrbanizedAreasSegmentation/data/processed/S2-16D_V2_034011/6x6_subtiles/q_12ch/x=8800_y=3520.tif', '/home/jonathan/UrbanizedAreasSegmentation/data/processed/S2-16D_V2_033029/6x6_subtiles/q_12ch/x=3520_y=5280.tif', '/home/jonathan/UrbanizedAreasSegmentation/data/processed/S2-16D_V2_036016/6x6_subtiles/q_12ch/x=7040_y=0.tif', '/home/jonathan/UrbanizedAreasSegmentation/data/processed/S2-16D_V2_016009/6x6_subtiles/q_12ch/x=3520_y=7040.tif', '/home/jonathan/UrbanizedAreasSegmentation/data/processed/S2-16D_V2_016009/6x6_subtiles/q_12ch/x=3520_y=0.tif', '/home/jonathan/UrbanizedAreasSegmentation/data/processed/S2-16D_V2_025005/6x6_subtiles/q_12ch/x=0_y=8800.tif', '/home/jonathan/UrbanizedAreasSegmentation/data/processed/S2-16D_V2_021027/6x6_subtiles/q_12ch/x=1760_y=3520.tif', '/home/jonathan/UrbanizedAreasSegmentation/data/processed/S2-16D_V2_038019/6x6_subtiles/q_12ch/x=0_y=3520.tif']}\n",
      "/home/jonathan/UrbanizedAreasSegmentation/config/dataset_6-subtiles_mode-4types_patchsize-256_stride-256_dynamicsampling-True_dataaugmentation-False_set-train_filestrain_val_test_split-6_subtiles-015002_016009_021027_025005_025037_027032_028022_032027_033029_034011_036016_038019-stratified_by_4types.pkl\n",
      "Loading instance from /home/jonathan/UrbanizedAreasSegmentation/config/dataset_6-subtiles_mode-4types_patchsize-256_stride-256_dynamicsampling-True_dataaugmentation-False_set-train_filestrain_val_test_split-6_subtiles-015002_016009_021027_025005_025037_027032_028022_032027_033029_034011_036016_038019-stratified_by_4types.pkl\n",
      "Instance saved to /home/jonathan/UrbanizedAreasSegmentation/config/dataset_6-subtiles_mode-4types_patchsize-256_stride-256_dynamicsampling-True_dataaugmentation-False_set-train_filestrain_val_test_split-6_subtiles-015002_016009_021027_025005_025037_027032_028022_032027_033029_034011_036016_038019-stratified_by_4types.pkl\n",
      "36770\n",
      "tensor([1862179191,   45484658,   40079638,  462015233])\n",
      "[tensor(0.7728), tensor(0.0189), tensor(0.0166), tensor(0.1917)]\n",
      "tensor([36633, 15926, 13873, 24367])\n",
      "[tensor(0.9963), tensor(0.4331), tensor(0.3773), tensor(0.6627)]\n"
     ]
    }
   ],
   "source": [
    "yaml_filename = data.yaml_filename(num_subtiles, tiles, stratified_by = '4types')\n",
    "\n",
    "print(yaml_filename)\n",
    "train_dataset = data.SubtileDataset(yaml_filename,\n",
    "                                    set = 'train_files',\n",
    "                                    patch_size=256, \n",
    "                                    stride=256, \n",
    "                                    dynamic_sampling=True,\n",
    "                                    data_augmentation = False, # testando \n",
    "                                    )\n",
    "print(len(train_dataset))\n",
    "class_counter, class_counter_img = train_dataset.count_classes()\n",
    "percentual_counter = [c/sum(class_counter) for c in class_counter]\n",
    "img_percentual = [c/len(train_dataset) for c in class_counter_img]\n",
    "print(class_counter)\n",
    "print(percentual_counter)\n",
    "print(class_counter_img)\n",
    "print(img_percentual)\n",
    "\n"
   ]
  },
  {
   "cell_type": "code",
   "execution_count": null,
   "metadata": {},
   "outputs": [],
   "source": []
  },
  {
   "cell_type": "code",
   "execution_count": null,
   "metadata": {},
   "outputs": [],
   "source": []
  },
  {
   "cell_type": "code",
   "execution_count": null,
   "metadata": {},
   "outputs": [],
   "source": []
  },
  {
   "cell_type": "code",
   "execution_count": null,
   "metadata": {},
   "outputs": [],
   "source": []
  },
  {
   "cell_type": "markdown",
   "metadata": {},
   "source": [
    "Doing data augmentation, stage 1...\n",
    "Before data augmentation stage 1:\n",
    "Pixels for each class: tensor([78086449,   119428,   175285,    11951,  1888487])\n",
    "Num images with each class: tensor([1225,   82,   67,    5,  368])\n",
    "[4, 1, 2, 3]\n",
    "100%|██████████| 1225/1225 [08:12<00:00,  2.49it/s]\n",
    "Before data augmentation stage 2:\n",
    "Pixels for each class: tensor([217938265,   1339280,   6290601,   2197203,  38638491])\n",
    "Num images with each class: tensor([4065, 1042, 2195,  965, 2596])\n",
    "[4, 2, 1, 3]\n",
    "[tensor(1), tensor(1), tensor(3), tensor(4)]\n",
    "100%|██████████| 4065/4065 [00:11<00:00, 352.55it/s]\n",
    "After data augmentation:\n",
    "Pixels for each class: tensor([745605717,   3140102,  24110105,   4915387, 111290065])\n",
    "Num images with each class: tensor([13566,  2399,  3515,  2197,  9073])\n",
    "Starting from 1225 images\n",
    "Dinamic Window step added 2840 images\n",
    "Data augmentation added 9501 images with transform\n",
    "Total: 13566\n",
    "tensor([745605717,   3140102,  24110105,   4915387, 111290065])\n",
    "[tensor(0.8386), tensor(0.0035), tensor(0.0271), tensor(0.0055), tensor(0.1252)]\n",
    "tensor([13566,  2399,  3515,  2197,  9073])\n",
    "[tensor(1.), tensor(0.1768), tensor(0.2591), tensor(0.1619), tensor(0.6688)]"
   ]
  },
  {
   "cell_type": "code",
   "execution_count": null,
   "metadata": {},
   "outputs": [],
   "source": [
    "\n",
    "        "
   ]
  },
  {
   "cell_type": "code",
   "execution_count": null,
   "metadata": {},
   "outputs": [],
   "source": []
  },
  {
   "cell_type": "markdown",
   "metadata": {},
   "source": [
    "Das 9800 imagens, 1455 delas tiveram mais de 1% de área de classes minoritárias. Essas são readicionadas no dataset em 7 transformações adicionais.\n",
    "\n",
    "Isso gera, para este conjunto de treino, 1455*7 + 9800 = 19985 imagens.\n",
    " "
   ]
  },
  {
   "cell_type": "code",
   "execution_count": null,
   "metadata": {},
   "outputs": [],
   "source": [
    "print(len(train_dataset))\n",
    "for img, mask in train_dataset:\n",
    "    print(img.shape)\n",
    "    print(mask.shape)\n",
    "    break"
   ]
  },
  {
   "cell_type": "markdown",
   "metadata": {},
   "source": [
    "### Exemplo de imagem"
   ]
  },
  {
   "cell_type": "code",
   "execution_count": null,
   "metadata": {},
   "outputs": [],
   "source": [
    "%%time\n",
    "import matplotlib.pyplot as plt\n",
    "\n",
    "i = 0\n",
    "for img, mask in train_dataset:\n",
    "    if  (mask != 0).any():\n",
    "        #subtile_composition.display_images(img)\n",
    "        plt.figure(figsize=(20,20))\n",
    "        plt.subplot(1,2,1)\n",
    "        plt.imshow(mask.squeeze())\n",
    "        plt.subplot(1,2,2)\n",
    "        plt.imshow(img[2].squeeze(),cmap='gray')\n",
    "        plt.show()\n",
    "        i+=1\n",
    "\n",
    "    if i == 3:\n",
    "        pass\n",
    "        break\n",
    "    print(i)\n",
    "    #img,mask = next(train_dataset)"
   ]
  },
  {
   "cell_type": "code",
   "execution_count": null,
   "metadata": {},
   "outputs": [],
   "source": [
    "%%time\n",
    "for i in range(len(train_dataset)):\n",
    "    image, label = train_dataset[i]\n",
    "    print(f\"Sample {i}: Image shape = {image.shape}, Label shape = {label.shape}\")\n",
    "#4 min, with nan =  false\n"
   ]
  },
  {
   "cell_type": "markdown",
   "metadata": {},
   "source": [
    "### Dataloader\n",
    "\n",
    "Para carregar várias imagens em batches, usamos dataloaders"
   ]
  },
  {
   "cell_type": "code",
   "execution_count": null,
   "metadata": {},
   "outputs": [],
   "source": [
    "from torch.utils.data import DataLoader\n",
    "batch_size = 16\n",
    "train_loader = DataLoader(train_dataset, \n",
    "                            batch_size=16, \n",
    "                            shuffle=True)"
   ]
  },
  {
   "cell_type": "code",
   "execution_count": null,
   "metadata": {},
   "outputs": [],
   "source": [
    "for batch in train_loader:\n",
    "    img = batch[0]\n",
    "    mask = batch[1]\n",
    "    print(img.shape)\n",
    "    print(mask.shape)\n",
    "    print(mask.unique(return_counts=True))\n",
    "    break\n",
    "\n"
   ]
  },
  {
   "cell_type": "code",
   "execution_count": null,
   "metadata": {},
   "outputs": [],
   "source": [
    "# Compute PCA components\n",
    "working_dir = os.path.abspath('..')\n",
    "save_path = os.path.join(working_dir, 'config', 'pca_weights.npy')\n",
    "pca_weights = data.compute_pca_from_dataloader(train_loader, save_path=save_path)\n",
    "print(\"PCA Weights Shape:\", pca_weights.shape)  # Expected: [3, 12]\n"
   ]
  },
  {
   "cell_type": "code",
   "execution_count": null,
   "metadata": {},
   "outputs": [],
   "source": [
    "for img,lab in train_loader:\n",
    "    print(pca_weights.shape)\n",
    "    print(img.shape)\n",
    "    pca_img = data.apply_pca_weights(img, torch.Tensor(pca_weights.T))\n",
    "    #plt.imshow(img)\n",
    "    print(pca_img.shape)\n",
    "    break\n",
    "\n"
   ]
  },
  {
   "cell_type": "code",
   "execution_count": null,
   "metadata": {},
   "outputs": [],
   "source": [
    "\n",
    "\n",
    "\n",
    "\n",
    "view.plot_pca_batch(pca_img, images_per_row=4)\n"
   ]
  },
  {
   "cell_type": "code",
   "execution_count": null,
   "metadata": {},
   "outputs": [],
   "source": []
  },
  {
   "cell_type": "markdown",
   "metadata": {},
   "source": [
    "### Mostrando 1 batch"
   ]
  },
  {
   "cell_type": "code",
   "execution_count": null,
   "metadata": {},
   "outputs": [],
   "source": [
    "#subtile_composition.display_images(img)\n",
    "import matplotlib.pyplot as plt\n",
    "plt.figure(figsize=(20,20))\n",
    "for i in range(batch_size):\n",
    "    plt.subplot(4,4,i+1)\n",
    "    plt.imshow(img[i,1,:,:].squeeze(),cmap='gray')\n",
    "    plt.imshow(mask[i,...])\n",
    "    plt.tight_layout()\n",
    "plt.show()\n"
   ]
  },
  {
   "cell_type": "code",
   "execution_count": null,
   "metadata": {},
   "outputs": [],
   "source": [
    "for batch in train_loader:\n",
    "    img = batch[0]\n",
    "    mask = batch[1]\n",
    "    unique_classes, counts = torch.unique(mask, return_counts=True)\n",
    "    print(\"Class distribution in y_true:\")\n",
    "    for cls, count in zip(unique_classes, counts):\n",
    "        print(f\"Class {cls.item()}: {count.item()} samples\")"
   ]
  },
  {
   "cell_type": "code",
   "execution_count": null,
   "metadata": {},
   "outputs": [],
   "source": [
    "for i in range(len(train_dataset)):\n",
    "    image, label = train_dataset[i]\n",
    "    print(f\"Sample {i}: Image shape = {image.shape}, Label shape = {label.shape}\")\n",
    "    \n",
    "    unique_classes, counts = torch.unique(label, return_counts=True)\n",
    "    print(\"Class distribution in y_true:\")\n",
    "    for cls, count in zip(unique_classes, counts):\n",
    "        print(f\"Class {cls.item()}: {count.item()} samples\")\n",
    "    print()"
   ]
  },
  {
   "cell_type": "code",
   "execution_count": null,
   "metadata": {},
   "outputs": [],
   "source": []
  },
  {
   "cell_type": "code",
   "execution_count": null,
   "metadata": {},
   "outputs": [],
   "source": []
  },
  {
   "cell_type": "code",
   "execution_count": null,
   "metadata": {},
   "outputs": [],
   "source": []
  },
  {
   "cell_type": "code",
   "execution_count": null,
   "metadata": {},
   "outputs": [],
   "source": [
    "\n"
   ]
  },
  {
   "cell_type": "code",
   "execution_count": null,
   "metadata": {},
   "outputs": [],
   "source": []
  },
  {
   "cell_type": "code",
   "execution_count": null,
   "metadata": {},
   "outputs": [],
   "source": []
  },
  {
   "cell_type": "markdown",
   "metadata": {},
   "source": [
    "### Visualizando a interpolação"
   ]
  },
  {
   "cell_type": "code",
   "execution_count": null,
   "metadata": {},
   "outputs": [],
   "source": [
    "working_dir = os.path.abspath('..')\n",
    "train_dataset_nans = data.SubtileDataset(train_files+val_files+test_files, \n",
    "                    num_subtiles = num_subtiles, \n",
    "                    classes_mode = '4types', \n",
    "                    patch_size=256, \n",
    "                    stride=256, # sem overlap \n",
    "                    data_augmentation = False, \n",
    "                    ignore_most_nans= False,\n",
    "                    return_imgidx = False,\n",
    "                    treat_nans=False, # they supposelly are saved as negative, then a true here cut costs\n",
    "                    debug=False)"
   ]
  },
  {
   "cell_type": "code",
   "execution_count": null,
   "metadata": {},
   "outputs": [],
   "source": [
    "import numpy as np\n",
    "import matplotlib.pyplot as plt\n",
    "most_nan_img = None\n",
    "most_nan_mask = None\n",
    "num_nan = 0\n",
    "\n",
    "indices = []\n",
    "num_nans = []\n",
    "for i, (img, mask) in enumerate(train_dataset_nans):\n",
    "    negatives = torch.sum(img < 0).item()\n",
    "    urban = torch.sum(mask > 0).item()\n",
    "    #if negatives > 0 and urban > 0:\n",
    "    indices.append(i)\n",
    "    num_nans.append(negatives)\n",
    "\n",
    "ordered_idx = np.argsort(num_nans)\n",
    "len(ordered_idx)"
   ]
  },
  {
   "cell_type": "code",
   "execution_count": null,
   "metadata": {},
   "outputs": [],
   "source": [
    "\n",
    "print(num_nans)\n",
    "print(indices)\n",
    "print([indices[i] for i in ordered_idx])\n",
    "print([num_nans[i] for i in ordered_idx])\n",
    "print([num_nans[i]/img.numel() for i in ordered_idx])\n",
    "\n",
    "data = [num_nans[i]/img.numel()*100 for i in ordered_idx]\n",
    "plt.figure(figsize=(14, 8))\n",
    "counts, bins, patches = plt.hist(data, bins=30, edgecolor='black', weights=[100/len(data)]*len(data))  # Histogram\n",
    "# Calculate midpoints for labels\n",
    "midpoints = 0.5 * (bins[1:] + bins[:-1])  # Midpoints for 20 bins\n",
    "bin_labels = [f'{bins[i]:.2f}-{bins[i+1]:.2f}' for i in range(len(bins)-1)]\n",
    "\n",
    "for count, bin_edge in zip(counts, bins[:-1]):\n",
    "    plt.text(bin_edge + (bins[1] - bins[0]) / 2, count, f'{count:.2f}%', ha='center', va='bottom', rotation=45)  # Centered above each bar\n",
    "# Apply labels to midpoints\n",
    "plt.xticks(midpoints, bin_labels, rotation=45)  # Use midpoints instead of bin edges\n",
    "\n",
    "plt.xlabel('Percentual de NaN na imagem')\n",
    "plt.ylabel('Quantidade de imagens')\n",
    "plt.title(f'Distribuição de quantidade de NaN em dataset de {len(train_dataset_nans)} imagens')\n",
    "#plt.yscale('log')  # Use log scale to better visualize large ranges\n",
    "\n",
    "save_to = os.path.join(working_dir, 'figs', 'nans_distribution.png')\n",
    "plt.savefig(save_to, bbox_inches='tight', pad_inches=0)\n",
    "plt.show()"
   ]
  },
  {
   "cell_type": "code",
   "execution_count": null,
   "metadata": {},
   "outputs": [],
   "source": [
    "print(len(ordered_idx))\n",
    "num_nans.sort\n",
    "most_nan_img = img.clone() \n",
    "num_nan = negatives\n",
    "most_nan_mask = mask.clone()\n",
    "#print(type(most_nan_img))\n",
    "#print(img.shape)\n",
    "num_nan\n",
    "#choices = [int(ordered_idx[j]) for j in [9500, 9650, 9800-1]]\n",
    "choices = [indices[i] for i in [j for j in ordered_idx[1000, 1200, 1343]]]\n",
    "\n",
    "print(choices)\n",
    "print([num_nans[i] for i in choices])\n",
    "imgs = []\n",
    "masks = []\n",
    "for c in choices:\n",
    "    img,mask = train_dataset_nans[c]\n",
    "    imgs.append(img)\n",
    "    masks.append(mask)\n",
    "    print(torch.sum(img < 0).item())\n",
    "\n"
   ]
  },
  {
   "cell_type": "code",
   "execution_count": null,
   "metadata": {},
   "outputs": [],
   "source": [
    "import numpy as np\n",
    "nan_value = most_nan_img.max()\n",
    "\n",
    "plt.figure(figsize=(12,16))\n",
    "\n",
    "for idx in range(3):\n",
    "    plt.subplot(1,3,idx+1)\n",
    "    img_ = imgs[idx]\n",
    "    mask_ = masks[idx]\n",
    "    r = img_[1,:,:].squeeze()\n",
    "    g = img_[2,:,:].squeeze()\n",
    "    b = img_[3,:,:].squeeze()\n",
    "    rgb_image = torch.stack([r, g, b], axis=-1)\n",
    "    min = rgb_image[rgb_image > 0].min().item()\n",
    "    rgb_image = rgb_image-min\n",
    "    rgb_image*=1/(rgb_image.max())\n",
    "    for i in range(r.shape[0]):\n",
    "        for j in range(r.shape[1]):\n",
    "            if r[i,j]<0:\n",
    "                rgb_image[i,j,0] = 1\n",
    "                rgb_image[i,j,1] = 0\n",
    "                rgb_image[i,j,2] = 0\n",
    "    #rgb_image = rgb_image-rgb_image.min()\n",
    "    #rgb_image*=1/(rgb_image.max())\n",
    "    \n",
    "    plt.imshow(rgb_image)\n",
    "    #plt.imshow(mask_.squeeze(), alpha=0.1)\n",
    "    plt.tight_layout()\n",
    "    plt.axis('off')\n",
    "    \n",
    "\n",
    "save_to = os.path.join(working_dir, 'figs', 'invalid_pixels.png')\n",
    "plt.savefig(save_to, bbox_inches='tight', pad_inches=0)\n",
    "plt.show()"
   ]
  },
  {
   "cell_type": "code",
   "execution_count": null,
   "metadata": {},
   "outputs": [],
   "source": [
    "import numpy as np\n",
    "nan_value = most_nan_img.max()\n",
    "\n",
    "plt.figure(figsize=(12,16))\n",
    "\n",
    "for idx in range(3):\n",
    "    plt.subplot(1,3,idx+1)\n",
    "    img_ = torch.abs(imgs[idx])\n",
    "    mask_ = masks[idx]\n",
    "    r = img_[1,:,:].squeeze()\n",
    "    g = img_[2,:,:].squeeze()\n",
    "    b = img_[3,:,:].squeeze()\n",
    "    rgb_image = torch.stack([r, g, b], axis=-1)\n",
    "    min = rgb_image[rgb_image > 0].min().item()\n",
    "    rgb_image = rgb_image-min\n",
    "    rgb_image*=1/(rgb_image.max())\n",
    "    for i in range(r.shape[0]):\n",
    "        for j in range(r.shape[1]):\n",
    "            if r[i,j]<0:\n",
    "                rgb_image[i,j,0] = 1\n",
    "                rgb_image[i,j,1] = 0\n",
    "                rgb_image[i,j,2] = 0\n",
    "    #rgb_image = rgb_image-rgb_image.min()\n",
    "    #rgb_image*=1/(rgb_image.max())\n",
    "    \n",
    "    plt.imshow(rgb_image)\n",
    "    #plt.imshow(mask_.squeeze(), alpha=0.1)\n",
    "    plt.tight_layout()\n",
    "    plt.axis('off')\n",
    "    \n",
    "save_to = os.path.join(working_dir, 'figs', 'nearest_pixels.png')\n",
    "plt.savefig(save_to, bbox_inches='tight', pad_inches=0)\n",
    "\n",
    "plt.show()"
   ]
  },
  {
   "cell_type": "code",
   "execution_count": null,
   "metadata": {},
   "outputs": [],
   "source": []
  },
  {
   "cell_type": "code",
   "execution_count": null,
   "metadata": {},
   "outputs": [],
   "source": []
  },
  {
   "cell_type": "code",
   "execution_count": null,
   "metadata": {},
   "outputs": [],
   "source": []
  },
  {
   "cell_type": "code",
   "execution_count": null,
   "metadata": {},
   "outputs": [],
   "source": [
    "train_files, val_files, test_files\n",
    "len(train_files), len(val_files), len(test_files)"
   ]
  },
  {
   "cell_type": "code",
   "execution_count": null,
   "metadata": {},
   "outputs": [],
   "source": [
    "test_files"
   ]
  },
  {
   "cell_type": "code",
   "execution_count": null,
   "metadata": {},
   "outputs": [],
   "source": [
    "import matplotlib.pyplot as plt\n",
    "import numpy as np\n",
    "working_dir = os.path.abspath('..')\n",
    "\n",
    "def fill_with(f, rgb = (0,0,1)):\n",
    "    x, y = utils.extract_integers(f)\n",
    "    x = x//ratio\n",
    "    y = y//ratio\n",
    "    set_division[x+borda:x+subtile_size-borda, y+borda:y+subtile_size-borda, 0] = rgb[0]\n",
    "    set_division[x+borda:x+subtile_size-borda, y+borda:y+subtile_size-borda, 1] = rgb[1]\n",
    "    set_division[x+borda:x+subtile_size-borda, y+borda:y+subtile_size-borda, 2] = rgb[2]\n",
    "ratio = 10\n",
    "set_division = np.zeros(shape=(10560//ratio,10560//ratio, 3))\n",
    "subtile_size = 10560//6//ratio\n",
    "borda = 3\n",
    "\n",
    "for f in train_files:\n",
    "    fill_with(f, rgb = (1,0,0))\n",
    "for f in val_files:\n",
    "    fill_with(f, rgb = (0,1,0))\n",
    "for f in test_files:\n",
    "    fill_with(f, rgb = (0,0,1))\n",
    "\n",
    "plt.figure(figsize=(15,15))\n",
    "plt.imshow(set_division)\n",
    "\n",
    "plt.tight_layout()\n",
    "plt.axis('off')\n",
    "    \n",
    "save_to = os.path.join(working_dir, 'figs', 'set_division.png')\n",
    "plt.savefig(save_to, bbox_inches='tight', pad_inches=0)"
   ]
  },
  {
   "cell_type": "code",
   "execution_count": null,
   "metadata": {},
   "outputs": [],
   "source": [
    "#################"
   ]
  },
  {
   "cell_type": "markdown",
   "metadata": {},
   "source": [
    "# Amostragem dinâmica e data augmentation\n",
    "\n",
    "Aqui vamos testar qual o efeito da amostragem dinâmica e data augmentation na distribuição de classes entre as amostras\n",
    "\n",
    "Vamos utilizar os dados de treino."
   ]
  },
  {
   "cell_type": "code",
   "execution_count": null,
   "metadata": {},
   "outputs": [],
   "source": [
    "tiles = ['032027']#, '032026'] \n",
    "num_subtiles = 6\n",
    "working_dir = os.path.abspath('..')\n",
    "train_files, val_files, test_files = data.train_val_test_stratify(tiles, \n",
    "                                                                  num_subtiles,\n",
    "                                                                    train_size = 0.6, \n",
    "                                                                    val_size = 0.2, \n",
    "                                                                    stratify_by = '4types',\n",
    "                                                                    subfolder='q_12ch',\n",
    "                                                                    debug = True)\n"
   ]
  },
  {
   "cell_type": "markdown",
   "metadata": {},
   "source": [
    "##### Carregando um dataset sem amostragem dinamica nem data augmentation, e observando a distribuição.\n",
    "\n",
    "O método stats printa na tela as distribuições por classe de quantidade de patches que a classe aparece, quantidade de pixels e os equivalentes em percentual.\n",
    "\n",
    "Observe o alto desbalanceamento. Classe 3 aparece em 1% dos patches e representa 0.07% do total de pixels."
   ]
  },
  {
   "cell_type": "code",
   "execution_count": null,
   "metadata": {},
   "outputs": [],
   "source": [
    "simple_dataset = data.SubtileDataset(train_files, #[file], #train_files,#train_files+val_files+test_files, \n",
    "                    num_subtiles = num_subtiles, \n",
    "                    classes_mode = '4types', \n",
    "                    patch_size=256, \n",
    "                    stride = 256,\n",
    "                    dynamic_sampling=False,\n",
    "                    data_augmentation = False, \n",
    "                    ignore_most_nans = True, # testando \n",
    "                    )\n",
    "simple_dataset.stats()"
   ]
  },
  {
   "cell_type": "markdown",
   "metadata": {},
   "source": [
    "##### Carregando dataset e adicionando amostragem dinâmica\n",
    "\n",
    "Os passos são respectivamente 256, 128, 64 e 32 para as classes 4, 1, 2, 3."
   ]
  },
  {
   "cell_type": "code",
   "execution_count": null,
   "metadata": {},
   "outputs": [],
   "source": [
    "\n",
    "sample_dataset = data.SubtileDataset(train_files, #[file], #train_files,#train_files+val_files+test_files, \n",
    "                    num_subtiles = num_subtiles, \n",
    "                    classes_mode = '4types', \n",
    "                    patch_size=256, \n",
    "                    stride = 256,\n",
    "                    dynamic_sampling=True,\n",
    "                    data_augmentation = False, \n",
    "                    ignore_most_nans = True, # testando \n",
    "                    )"
   ]
  },
  {
   "cell_type": "code",
   "execution_count": null,
   "metadata": {},
   "outputs": [],
   "source": [
    "sample_dataset.plot_sampled_outlines(area_limits=(0,1760,0,1760), save_to=os.path.join(working_dir, 'figs', 'dynamic.png'))"
   ]
  },
  {
   "cell_type": "markdown",
   "metadata": {},
   "source": [
    "Foram adicionados cerca de 1600 patches (versóes com shift de patches previamente amostrados)\n",
    "\n",
    "Agora a classe que menos aparece é a 1, aparecendo em 15% dos patches.\n",
    "\n",
    "O efeito no percentual de pixels é menor, pois também ao amostrar também aumenta-se os pixels das classes super representadas."
   ]
  },
  {
   "cell_type": "code",
   "execution_count": null,
   "metadata": {},
   "outputs": [],
   "source": [
    "sample_dataset.stats()"
   ]
  },
  {
   "cell_type": "markdown",
   "metadata": {},
   "source": [
    "### Data augmentation\n",
    "Carregando dataset e aplicando o data augmentation D4\n",
    "\n",
    "São adicionados mais de 2000 patches, de rotações e reflexões de patches com classes minoritárias.\n",
    "\n",
    "A classe 3 aparece em cerca de 2% dos patches, o efeito é menor que da amostragem dinâmica. \n",
    "\n",
    "Deve-se ao fato de data augmentation estar limitada a x8, enquanto a amostragem dinâmica permite até 64 repetições. "
   ]
  },
  {
   "cell_type": "code",
   "execution_count": null,
   "metadata": {},
   "outputs": [],
   "source": [
    "da_dataset = data.SubtileDataset(train_files, #[file], #train_files,#train_files+val_files+test_files, \n",
    "                    num_subtiles = num_subtiles, \n",
    "                    classes_mode = '4types', \n",
    "                    patch_size=256, \n",
    "                    stride = 256,\n",
    "                    dynamic_sampling=False,\n",
    "                    data_augmentation = True, \n",
    "                    ignore_most_nans = True, # testando \n",
    "                    )\n",
    "da_dataset.stats()"
   ]
  },
  {
   "cell_type": "markdown",
   "metadata": {},
   "source": [
    "### Amostragem dinâmica + data augmentation"
   ]
  },
  {
   "cell_type": "code",
   "execution_count": null,
   "metadata": {},
   "outputs": [],
   "source": [
    "full_da_dataset = data.SubtileDataset(train_files, #[file], #train_files,#train_files+val_files+test_files, \n",
    "                    num_subtiles = num_subtiles, \n",
    "                    classes_mode = '4types', \n",
    "                    patch_size=256, \n",
    "                    stride = 256,\n",
    "                    dynamic_sampling=True,\n",
    "                    data_augmentation = True, \n",
    "                    ignore_most_nans = True, # testando \n",
    "                    )\n",
    "full_da_dataset.stats()"
   ]
  },
  {
   "cell_type": "code",
   "execution_count": null,
   "metadata": {},
   "outputs": [],
   "source": [
    "full_da_dataset.plot_transformed(save_to=os.path.join(working_dir, 'figs', 'transformed.png'))"
   ]
  },
  {
   "cell_type": "code",
   "execution_count": null,
   "metadata": {},
   "outputs": [],
   "source": []
  },
  {
   "cell_type": "markdown",
   "metadata": {},
   "source": [
    "### Contagem de batches do experimento"
   ]
  },
  {
   "cell_type": "code",
   "execution_count": null,
   "metadata": {},
   "outputs": [
    {
     "name": "stdout",
     "output_type": "stream",
     "text": [
      "Loading:  <function yaml_filename at 0x717e64ff3400>\n",
      "{'num_subtiles': 6, 'test_files': ['/home/jonathan/UrbanizedAreasSegmentation/data/processed/S2-16D_V2_032027/6x6_subtiles/S2-16D_V2_032027_x=8800_y=8800.tif', '/home/jonathan/UrbanizedAreasSegmentation/data/processed/S2-16D_V2_032027/6x6_subtiles/S2-16D_V2_032027_x=0_y=1760.tif', '/home/jonathan/UrbanizedAreasSegmentation/data/processed/S2-16D_V2_032027/6x6_subtiles/S2-16D_V2_032027_x=1760_y=0.tif', '/home/jonathan/UrbanizedAreasSegmentation/data/processed/S2-16D_V2_032027/6x6_subtiles/S2-16D_V2_032027_x=5280_y=0.tif', '/home/jonathan/UrbanizedAreasSegmentation/data/processed/S2-16D_V2_032027/6x6_subtiles/S2-16D_V2_032027_x=1760_y=7040.tif', '/home/jonathan/UrbanizedAreasSegmentation/data/processed/S2-16D_V2_032027/6x6_subtiles/S2-16D_V2_032027_x=8800_y=7040.tif', '/home/jonathan/UrbanizedAreasSegmentation/data/processed/S2-16D_V2_032027/6x6_subtiles/S2-16D_V2_032027_x=8800_y=5280.tif'], 'tiles': ['032027'], 'train_files': ['/home/jonathan/UrbanizedAreasSegmentation/data/processed/S2-16D_V2_032027/6x6_subtiles/S2-16D_V2_032027_x=1760_y=1760.tif', '/home/jonathan/UrbanizedAreasSegmentation/data/processed/S2-16D_V2_032027/6x6_subtiles/S2-16D_V2_032027_x=5280_y=3520.tif', '/home/jonathan/UrbanizedAreasSegmentation/data/processed/S2-16D_V2_032027/6x6_subtiles/S2-16D_V2_032027_x=3520_y=0.tif', '/home/jonathan/UrbanizedAreasSegmentation/data/processed/S2-16D_V2_032027/6x6_subtiles/S2-16D_V2_032027_x=3520_y=1760.tif', '/home/jonathan/UrbanizedAreasSegmentation/data/processed/S2-16D_V2_032027/6x6_subtiles/S2-16D_V2_032027_x=7040_y=1760.tif', '/home/jonathan/UrbanizedAreasSegmentation/data/processed/S2-16D_V2_032027/6x6_subtiles/S2-16D_V2_032027_x=0_y=8800.tif', '/home/jonathan/UrbanizedAreasSegmentation/data/processed/S2-16D_V2_032027/6x6_subtiles/S2-16D_V2_032027_x=7040_y=5280.tif', '/home/jonathan/UrbanizedAreasSegmentation/data/processed/S2-16D_V2_032027/6x6_subtiles/S2-16D_V2_032027_x=8800_y=0.tif', '/home/jonathan/UrbanizedAreasSegmentation/data/processed/S2-16D_V2_032027/6x6_subtiles/S2-16D_V2_032027_x=7040_y=0.tif', '/home/jonathan/UrbanizedAreasSegmentation/data/processed/S2-16D_V2_032027/6x6_subtiles/S2-16D_V2_032027_x=3520_y=8800.tif', '/home/jonathan/UrbanizedAreasSegmentation/data/processed/S2-16D_V2_032027/6x6_subtiles/S2-16D_V2_032027_x=8800_y=3520.tif', '/home/jonathan/UrbanizedAreasSegmentation/data/processed/S2-16D_V2_032027/6x6_subtiles/S2-16D_V2_032027_x=0_y=3520.tif', '/home/jonathan/UrbanizedAreasSegmentation/data/processed/S2-16D_V2_032027/6x6_subtiles/S2-16D_V2_032027_x=5280_y=5280.tif', '/home/jonathan/UrbanizedAreasSegmentation/data/processed/S2-16D_V2_032027/6x6_subtiles/S2-16D_V2_032027_x=5280_y=1760.tif', '/home/jonathan/UrbanizedAreasSegmentation/data/processed/S2-16D_V2_032027/6x6_subtiles/S2-16D_V2_032027_x=7040_y=8800.tif', '/home/jonathan/UrbanizedAreasSegmentation/data/processed/S2-16D_V2_032027/6x6_subtiles/S2-16D_V2_032027_x=3520_y=5280.tif', '/home/jonathan/UrbanizedAreasSegmentation/data/processed/S2-16D_V2_032027/6x6_subtiles/S2-16D_V2_032027_x=1760_y=8800.tif', '/home/jonathan/UrbanizedAreasSegmentation/data/processed/S2-16D_V2_032027/6x6_subtiles/S2-16D_V2_032027_x=8800_y=1760.tif', '/home/jonathan/UrbanizedAreasSegmentation/data/processed/S2-16D_V2_032027/6x6_subtiles/S2-16D_V2_032027_x=1760_y=3520.tif', '/home/jonathan/UrbanizedAreasSegmentation/data/processed/S2-16D_V2_032027/6x6_subtiles/S2-16D_V2_032027_x=7040_y=7040.tif', '/home/jonathan/UrbanizedAreasSegmentation/data/processed/S2-16D_V2_032027/6x6_subtiles/S2-16D_V2_032027_x=1760_y=5280.tif', '/home/jonathan/UrbanizedAreasSegmentation/data/processed/S2-16D_V2_032027/6x6_subtiles/S2-16D_V2_032027_x=0_y=5280.tif'], 'val_files': ['/home/jonathan/UrbanizedAreasSegmentation/data/processed/S2-16D_V2_032027/6x6_subtiles/S2-16D_V2_032027_x=3520_y=3520.tif', '/home/jonathan/UrbanizedAreasSegmentation/data/processed/S2-16D_V2_032027/6x6_subtiles/S2-16D_V2_032027_x=0_y=0.tif', '/home/jonathan/UrbanizedAreasSegmentation/data/processed/S2-16D_V2_032027/6x6_subtiles/S2-16D_V2_032027_x=5280_y=7040.tif', '/home/jonathan/UrbanizedAreasSegmentation/data/processed/S2-16D_V2_032027/6x6_subtiles/S2-16D_V2_032027_x=5280_y=8800.tif', '/home/jonathan/UrbanizedAreasSegmentation/data/processed/S2-16D_V2_032027/6x6_subtiles/S2-16D_V2_032027_x=0_y=7040.tif', '/home/jonathan/UrbanizedAreasSegmentation/data/processed/S2-16D_V2_032027/6x6_subtiles/S2-16D_V2_032027_x=7040_y=3520.tif', '/home/jonathan/UrbanizedAreasSegmentation/data/processed/S2-16D_V2_032027/6x6_subtiles/S2-16D_V2_032027_x=3520_y=7040.tif']}\n",
      "/home/jonathan/UrbanizedAreasSegmentation/config/dataset_6-subtiles_mode-type_patchsize-64_stride-64_dynamicsampling-False_dataaugmentation-False_set-train_filestrain_val_test_split-6_subtiles-032027-stratified_by_type.pkl\n",
      "Loading instance from /home/jonathan/UrbanizedAreasSegmentation/config/dataset_6-subtiles_mode-type_patchsize-64_stride-64_dynamicsampling-False_dataaugmentation-False_set-train_filestrain_val_test_split-6_subtiles-032027-stratified_by_type.pkl\n",
      "Instance saved to /home/jonathan/UrbanizedAreasSegmentation/config/dataset_6-subtiles_mode-type_patchsize-64_stride-64_dynamicsampling-False_dataaugmentation-False_set-train_filestrain_val_test_split-6_subtiles-032027-stratified_by_type.pkl\n",
      "Loading:  <function yaml_filename at 0x717e64ff3400>\n",
      "{'num_subtiles': 6, 'test_files': ['/home/jonathan/UrbanizedAreasSegmentation/data/processed/S2-16D_V2_032027/6x6_subtiles/S2-16D_V2_032027_x=8800_y=8800.tif', '/home/jonathan/UrbanizedAreasSegmentation/data/processed/S2-16D_V2_032027/6x6_subtiles/S2-16D_V2_032027_x=0_y=1760.tif', '/home/jonathan/UrbanizedAreasSegmentation/data/processed/S2-16D_V2_032027/6x6_subtiles/S2-16D_V2_032027_x=1760_y=0.tif', '/home/jonathan/UrbanizedAreasSegmentation/data/processed/S2-16D_V2_032027/6x6_subtiles/S2-16D_V2_032027_x=5280_y=0.tif', '/home/jonathan/UrbanizedAreasSegmentation/data/processed/S2-16D_V2_032027/6x6_subtiles/S2-16D_V2_032027_x=1760_y=7040.tif', '/home/jonathan/UrbanizedAreasSegmentation/data/processed/S2-16D_V2_032027/6x6_subtiles/S2-16D_V2_032027_x=8800_y=7040.tif', '/home/jonathan/UrbanizedAreasSegmentation/data/processed/S2-16D_V2_032027/6x6_subtiles/S2-16D_V2_032027_x=8800_y=5280.tif'], 'tiles': ['032027'], 'train_files': ['/home/jonathan/UrbanizedAreasSegmentation/data/processed/S2-16D_V2_032027/6x6_subtiles/S2-16D_V2_032027_x=1760_y=1760.tif', '/home/jonathan/UrbanizedAreasSegmentation/data/processed/S2-16D_V2_032027/6x6_subtiles/S2-16D_V2_032027_x=5280_y=3520.tif', '/home/jonathan/UrbanizedAreasSegmentation/data/processed/S2-16D_V2_032027/6x6_subtiles/S2-16D_V2_032027_x=3520_y=0.tif', '/home/jonathan/UrbanizedAreasSegmentation/data/processed/S2-16D_V2_032027/6x6_subtiles/S2-16D_V2_032027_x=3520_y=1760.tif', '/home/jonathan/UrbanizedAreasSegmentation/data/processed/S2-16D_V2_032027/6x6_subtiles/S2-16D_V2_032027_x=7040_y=1760.tif', '/home/jonathan/UrbanizedAreasSegmentation/data/processed/S2-16D_V2_032027/6x6_subtiles/S2-16D_V2_032027_x=0_y=8800.tif', '/home/jonathan/UrbanizedAreasSegmentation/data/processed/S2-16D_V2_032027/6x6_subtiles/S2-16D_V2_032027_x=7040_y=5280.tif', '/home/jonathan/UrbanizedAreasSegmentation/data/processed/S2-16D_V2_032027/6x6_subtiles/S2-16D_V2_032027_x=8800_y=0.tif', '/home/jonathan/UrbanizedAreasSegmentation/data/processed/S2-16D_V2_032027/6x6_subtiles/S2-16D_V2_032027_x=7040_y=0.tif', '/home/jonathan/UrbanizedAreasSegmentation/data/processed/S2-16D_V2_032027/6x6_subtiles/S2-16D_V2_032027_x=3520_y=8800.tif', '/home/jonathan/UrbanizedAreasSegmentation/data/processed/S2-16D_V2_032027/6x6_subtiles/S2-16D_V2_032027_x=8800_y=3520.tif', '/home/jonathan/UrbanizedAreasSegmentation/data/processed/S2-16D_V2_032027/6x6_subtiles/S2-16D_V2_032027_x=0_y=3520.tif', '/home/jonathan/UrbanizedAreasSegmentation/data/processed/S2-16D_V2_032027/6x6_subtiles/S2-16D_V2_032027_x=5280_y=5280.tif', '/home/jonathan/UrbanizedAreasSegmentation/data/processed/S2-16D_V2_032027/6x6_subtiles/S2-16D_V2_032027_x=5280_y=1760.tif', '/home/jonathan/UrbanizedAreasSegmentation/data/processed/S2-16D_V2_032027/6x6_subtiles/S2-16D_V2_032027_x=7040_y=8800.tif', '/home/jonathan/UrbanizedAreasSegmentation/data/processed/S2-16D_V2_032027/6x6_subtiles/S2-16D_V2_032027_x=3520_y=5280.tif', '/home/jonathan/UrbanizedAreasSegmentation/data/processed/S2-16D_V2_032027/6x6_subtiles/S2-16D_V2_032027_x=1760_y=8800.tif', '/home/jonathan/UrbanizedAreasSegmentation/data/processed/S2-16D_V2_032027/6x6_subtiles/S2-16D_V2_032027_x=8800_y=1760.tif', '/home/jonathan/UrbanizedAreasSegmentation/data/processed/S2-16D_V2_032027/6x6_subtiles/S2-16D_V2_032027_x=1760_y=3520.tif', '/home/jonathan/UrbanizedAreasSegmentation/data/processed/S2-16D_V2_032027/6x6_subtiles/S2-16D_V2_032027_x=7040_y=7040.tif', '/home/jonathan/UrbanizedAreasSegmentation/data/processed/S2-16D_V2_032027/6x6_subtiles/S2-16D_V2_032027_x=1760_y=5280.tif', '/home/jonathan/UrbanizedAreasSegmentation/data/processed/S2-16D_V2_032027/6x6_subtiles/S2-16D_V2_032027_x=0_y=5280.tif'], 'val_files': ['/home/jonathan/UrbanizedAreasSegmentation/data/processed/S2-16D_V2_032027/6x6_subtiles/S2-16D_V2_032027_x=3520_y=3520.tif', '/home/jonathan/UrbanizedAreasSegmentation/data/processed/S2-16D_V2_032027/6x6_subtiles/S2-16D_V2_032027_x=0_y=0.tif', '/home/jonathan/UrbanizedAreasSegmentation/data/processed/S2-16D_V2_032027/6x6_subtiles/S2-16D_V2_032027_x=5280_y=7040.tif', '/home/jonathan/UrbanizedAreasSegmentation/data/processed/S2-16D_V2_032027/6x6_subtiles/S2-16D_V2_032027_x=5280_y=8800.tif', '/home/jonathan/UrbanizedAreasSegmentation/data/processed/S2-16D_V2_032027/6x6_subtiles/S2-16D_V2_032027_x=0_y=7040.tif', '/home/jonathan/UrbanizedAreasSegmentation/data/processed/S2-16D_V2_032027/6x6_subtiles/S2-16D_V2_032027_x=7040_y=3520.tif', '/home/jonathan/UrbanizedAreasSegmentation/data/processed/S2-16D_V2_032027/6x6_subtiles/S2-16D_V2_032027_x=3520_y=7040.tif']}\n",
      "/home/jonathan/UrbanizedAreasSegmentation/config/dataset_6-subtiles_mode-type_patchsize-64_stride-64_dynamicsampling-False_dataaugmentation-False_set-val_filestrain_val_test_split-6_subtiles-032027-stratified_by_type.pkl\n",
      "Loading instance from /home/jonathan/UrbanizedAreasSegmentation/config/dataset_6-subtiles_mode-type_patchsize-64_stride-64_dynamicsampling-False_dataaugmentation-False_set-val_filestrain_val_test_split-6_subtiles-032027-stratified_by_type.pkl\n",
      "Instance saved to /home/jonathan/UrbanizedAreasSegmentation/config/dataset_6-subtiles_mode-type_patchsize-64_stride-64_dynamicsampling-False_dataaugmentation-False_set-val_filestrain_val_test_split-6_subtiles-032027-stratified_by_type.pkl\n",
      "Dataset info:\n",
      "64 False 17248 1078.0\n",
      "64 False 5488 343.0\n",
      "Loading:  <function yaml_filename at 0x717e64ff3400>\n",
      "{'num_subtiles': 6, 'test_files': ['/home/jonathan/UrbanizedAreasSegmentation/data/processed/S2-16D_V2_032027/6x6_subtiles/S2-16D_V2_032027_x=8800_y=8800.tif', '/home/jonathan/UrbanizedAreasSegmentation/data/processed/S2-16D_V2_032027/6x6_subtiles/S2-16D_V2_032027_x=0_y=1760.tif', '/home/jonathan/UrbanizedAreasSegmentation/data/processed/S2-16D_V2_032027/6x6_subtiles/S2-16D_V2_032027_x=1760_y=0.tif', '/home/jonathan/UrbanizedAreasSegmentation/data/processed/S2-16D_V2_032027/6x6_subtiles/S2-16D_V2_032027_x=5280_y=0.tif', '/home/jonathan/UrbanizedAreasSegmentation/data/processed/S2-16D_V2_032027/6x6_subtiles/S2-16D_V2_032027_x=1760_y=7040.tif', '/home/jonathan/UrbanizedAreasSegmentation/data/processed/S2-16D_V2_032027/6x6_subtiles/S2-16D_V2_032027_x=8800_y=7040.tif', '/home/jonathan/UrbanizedAreasSegmentation/data/processed/S2-16D_V2_032027/6x6_subtiles/S2-16D_V2_032027_x=8800_y=5280.tif'], 'tiles': ['032027'], 'train_files': ['/home/jonathan/UrbanizedAreasSegmentation/data/processed/S2-16D_V2_032027/6x6_subtiles/S2-16D_V2_032027_x=1760_y=1760.tif', '/home/jonathan/UrbanizedAreasSegmentation/data/processed/S2-16D_V2_032027/6x6_subtiles/S2-16D_V2_032027_x=5280_y=3520.tif', '/home/jonathan/UrbanizedAreasSegmentation/data/processed/S2-16D_V2_032027/6x6_subtiles/S2-16D_V2_032027_x=3520_y=0.tif', '/home/jonathan/UrbanizedAreasSegmentation/data/processed/S2-16D_V2_032027/6x6_subtiles/S2-16D_V2_032027_x=3520_y=1760.tif', '/home/jonathan/UrbanizedAreasSegmentation/data/processed/S2-16D_V2_032027/6x6_subtiles/S2-16D_V2_032027_x=7040_y=1760.tif', '/home/jonathan/UrbanizedAreasSegmentation/data/processed/S2-16D_V2_032027/6x6_subtiles/S2-16D_V2_032027_x=0_y=8800.tif', '/home/jonathan/UrbanizedAreasSegmentation/data/processed/S2-16D_V2_032027/6x6_subtiles/S2-16D_V2_032027_x=7040_y=5280.tif', '/home/jonathan/UrbanizedAreasSegmentation/data/processed/S2-16D_V2_032027/6x6_subtiles/S2-16D_V2_032027_x=8800_y=0.tif', '/home/jonathan/UrbanizedAreasSegmentation/data/processed/S2-16D_V2_032027/6x6_subtiles/S2-16D_V2_032027_x=7040_y=0.tif', '/home/jonathan/UrbanizedAreasSegmentation/data/processed/S2-16D_V2_032027/6x6_subtiles/S2-16D_V2_032027_x=3520_y=8800.tif', '/home/jonathan/UrbanizedAreasSegmentation/data/processed/S2-16D_V2_032027/6x6_subtiles/S2-16D_V2_032027_x=8800_y=3520.tif', '/home/jonathan/UrbanizedAreasSegmentation/data/processed/S2-16D_V2_032027/6x6_subtiles/S2-16D_V2_032027_x=0_y=3520.tif', '/home/jonathan/UrbanizedAreasSegmentation/data/processed/S2-16D_V2_032027/6x6_subtiles/S2-16D_V2_032027_x=5280_y=5280.tif', '/home/jonathan/UrbanizedAreasSegmentation/data/processed/S2-16D_V2_032027/6x6_subtiles/S2-16D_V2_032027_x=5280_y=1760.tif', '/home/jonathan/UrbanizedAreasSegmentation/data/processed/S2-16D_V2_032027/6x6_subtiles/S2-16D_V2_032027_x=7040_y=8800.tif', '/home/jonathan/UrbanizedAreasSegmentation/data/processed/S2-16D_V2_032027/6x6_subtiles/S2-16D_V2_032027_x=3520_y=5280.tif', '/home/jonathan/UrbanizedAreasSegmentation/data/processed/S2-16D_V2_032027/6x6_subtiles/S2-16D_V2_032027_x=1760_y=8800.tif', '/home/jonathan/UrbanizedAreasSegmentation/data/processed/S2-16D_V2_032027/6x6_subtiles/S2-16D_V2_032027_x=8800_y=1760.tif', '/home/jonathan/UrbanizedAreasSegmentation/data/processed/S2-16D_V2_032027/6x6_subtiles/S2-16D_V2_032027_x=1760_y=3520.tif', '/home/jonathan/UrbanizedAreasSegmentation/data/processed/S2-16D_V2_032027/6x6_subtiles/S2-16D_V2_032027_x=7040_y=7040.tif', '/home/jonathan/UrbanizedAreasSegmentation/data/processed/S2-16D_V2_032027/6x6_subtiles/S2-16D_V2_032027_x=1760_y=5280.tif', '/home/jonathan/UrbanizedAreasSegmentation/data/processed/S2-16D_V2_032027/6x6_subtiles/S2-16D_V2_032027_x=0_y=5280.tif'], 'val_files': ['/home/jonathan/UrbanizedAreasSegmentation/data/processed/S2-16D_V2_032027/6x6_subtiles/S2-16D_V2_032027_x=3520_y=3520.tif', '/home/jonathan/UrbanizedAreasSegmentation/data/processed/S2-16D_V2_032027/6x6_subtiles/S2-16D_V2_032027_x=0_y=0.tif', '/home/jonathan/UrbanizedAreasSegmentation/data/processed/S2-16D_V2_032027/6x6_subtiles/S2-16D_V2_032027_x=5280_y=7040.tif', '/home/jonathan/UrbanizedAreasSegmentation/data/processed/S2-16D_V2_032027/6x6_subtiles/S2-16D_V2_032027_x=5280_y=8800.tif', '/home/jonathan/UrbanizedAreasSegmentation/data/processed/S2-16D_V2_032027/6x6_subtiles/S2-16D_V2_032027_x=0_y=7040.tif', '/home/jonathan/UrbanizedAreasSegmentation/data/processed/S2-16D_V2_032027/6x6_subtiles/S2-16D_V2_032027_x=7040_y=3520.tif', '/home/jonathan/UrbanizedAreasSegmentation/data/processed/S2-16D_V2_032027/6x6_subtiles/S2-16D_V2_032027_x=3520_y=7040.tif']}\n",
      "/home/jonathan/UrbanizedAreasSegmentation/config/dataset_6-subtiles_mode-type_patchsize-224_stride-224_dynamicsampling-False_dataaugmentation-False_set-train_filestrain_val_test_split-6_subtiles-032027-stratified_by_type.pkl\n",
      "Loading instance from /home/jonathan/UrbanizedAreasSegmentation/config/dataset_6-subtiles_mode-type_patchsize-224_stride-224_dynamicsampling-False_dataaugmentation-False_set-train_filestrain_val_test_split-6_subtiles-032027-stratified_by_type.pkl\n",
      "Instance saved to /home/jonathan/UrbanizedAreasSegmentation/config/dataset_6-subtiles_mode-type_patchsize-224_stride-224_dynamicsampling-False_dataaugmentation-False_set-train_filestrain_val_test_split-6_subtiles-032027-stratified_by_type.pkl\n",
      "Loading:  <function yaml_filename at 0x717e64ff3400>\n",
      "{'num_subtiles': 6, 'test_files': ['/home/jonathan/UrbanizedAreasSegmentation/data/processed/S2-16D_V2_032027/6x6_subtiles/S2-16D_V2_032027_x=8800_y=8800.tif', '/home/jonathan/UrbanizedAreasSegmentation/data/processed/S2-16D_V2_032027/6x6_subtiles/S2-16D_V2_032027_x=0_y=1760.tif', '/home/jonathan/UrbanizedAreasSegmentation/data/processed/S2-16D_V2_032027/6x6_subtiles/S2-16D_V2_032027_x=1760_y=0.tif', '/home/jonathan/UrbanizedAreasSegmentation/data/processed/S2-16D_V2_032027/6x6_subtiles/S2-16D_V2_032027_x=5280_y=0.tif', '/home/jonathan/UrbanizedAreasSegmentation/data/processed/S2-16D_V2_032027/6x6_subtiles/S2-16D_V2_032027_x=1760_y=7040.tif', '/home/jonathan/UrbanizedAreasSegmentation/data/processed/S2-16D_V2_032027/6x6_subtiles/S2-16D_V2_032027_x=8800_y=7040.tif', '/home/jonathan/UrbanizedAreasSegmentation/data/processed/S2-16D_V2_032027/6x6_subtiles/S2-16D_V2_032027_x=8800_y=5280.tif'], 'tiles': ['032027'], 'train_files': ['/home/jonathan/UrbanizedAreasSegmentation/data/processed/S2-16D_V2_032027/6x6_subtiles/S2-16D_V2_032027_x=1760_y=1760.tif', '/home/jonathan/UrbanizedAreasSegmentation/data/processed/S2-16D_V2_032027/6x6_subtiles/S2-16D_V2_032027_x=5280_y=3520.tif', '/home/jonathan/UrbanizedAreasSegmentation/data/processed/S2-16D_V2_032027/6x6_subtiles/S2-16D_V2_032027_x=3520_y=0.tif', '/home/jonathan/UrbanizedAreasSegmentation/data/processed/S2-16D_V2_032027/6x6_subtiles/S2-16D_V2_032027_x=3520_y=1760.tif', '/home/jonathan/UrbanizedAreasSegmentation/data/processed/S2-16D_V2_032027/6x6_subtiles/S2-16D_V2_032027_x=7040_y=1760.tif', '/home/jonathan/UrbanizedAreasSegmentation/data/processed/S2-16D_V2_032027/6x6_subtiles/S2-16D_V2_032027_x=0_y=8800.tif', '/home/jonathan/UrbanizedAreasSegmentation/data/processed/S2-16D_V2_032027/6x6_subtiles/S2-16D_V2_032027_x=7040_y=5280.tif', '/home/jonathan/UrbanizedAreasSegmentation/data/processed/S2-16D_V2_032027/6x6_subtiles/S2-16D_V2_032027_x=8800_y=0.tif', '/home/jonathan/UrbanizedAreasSegmentation/data/processed/S2-16D_V2_032027/6x6_subtiles/S2-16D_V2_032027_x=7040_y=0.tif', '/home/jonathan/UrbanizedAreasSegmentation/data/processed/S2-16D_V2_032027/6x6_subtiles/S2-16D_V2_032027_x=3520_y=8800.tif', '/home/jonathan/UrbanizedAreasSegmentation/data/processed/S2-16D_V2_032027/6x6_subtiles/S2-16D_V2_032027_x=8800_y=3520.tif', '/home/jonathan/UrbanizedAreasSegmentation/data/processed/S2-16D_V2_032027/6x6_subtiles/S2-16D_V2_032027_x=0_y=3520.tif', '/home/jonathan/UrbanizedAreasSegmentation/data/processed/S2-16D_V2_032027/6x6_subtiles/S2-16D_V2_032027_x=5280_y=5280.tif', '/home/jonathan/UrbanizedAreasSegmentation/data/processed/S2-16D_V2_032027/6x6_subtiles/S2-16D_V2_032027_x=5280_y=1760.tif', '/home/jonathan/UrbanizedAreasSegmentation/data/processed/S2-16D_V2_032027/6x6_subtiles/S2-16D_V2_032027_x=7040_y=8800.tif', '/home/jonathan/UrbanizedAreasSegmentation/data/processed/S2-16D_V2_032027/6x6_subtiles/S2-16D_V2_032027_x=3520_y=5280.tif', '/home/jonathan/UrbanizedAreasSegmentation/data/processed/S2-16D_V2_032027/6x6_subtiles/S2-16D_V2_032027_x=1760_y=8800.tif', '/home/jonathan/UrbanizedAreasSegmentation/data/processed/S2-16D_V2_032027/6x6_subtiles/S2-16D_V2_032027_x=8800_y=1760.tif', '/home/jonathan/UrbanizedAreasSegmentation/data/processed/S2-16D_V2_032027/6x6_subtiles/S2-16D_V2_032027_x=1760_y=3520.tif', '/home/jonathan/UrbanizedAreasSegmentation/data/processed/S2-16D_V2_032027/6x6_subtiles/S2-16D_V2_032027_x=7040_y=7040.tif', '/home/jonathan/UrbanizedAreasSegmentation/data/processed/S2-16D_V2_032027/6x6_subtiles/S2-16D_V2_032027_x=1760_y=5280.tif', '/home/jonathan/UrbanizedAreasSegmentation/data/processed/S2-16D_V2_032027/6x6_subtiles/S2-16D_V2_032027_x=0_y=5280.tif'], 'val_files': ['/home/jonathan/UrbanizedAreasSegmentation/data/processed/S2-16D_V2_032027/6x6_subtiles/S2-16D_V2_032027_x=3520_y=3520.tif', '/home/jonathan/UrbanizedAreasSegmentation/data/processed/S2-16D_V2_032027/6x6_subtiles/S2-16D_V2_032027_x=0_y=0.tif', '/home/jonathan/UrbanizedAreasSegmentation/data/processed/S2-16D_V2_032027/6x6_subtiles/S2-16D_V2_032027_x=5280_y=7040.tif', '/home/jonathan/UrbanizedAreasSegmentation/data/processed/S2-16D_V2_032027/6x6_subtiles/S2-16D_V2_032027_x=5280_y=8800.tif', '/home/jonathan/UrbanizedAreasSegmentation/data/processed/S2-16D_V2_032027/6x6_subtiles/S2-16D_V2_032027_x=0_y=7040.tif', '/home/jonathan/UrbanizedAreasSegmentation/data/processed/S2-16D_V2_032027/6x6_subtiles/S2-16D_V2_032027_x=7040_y=3520.tif', '/home/jonathan/UrbanizedAreasSegmentation/data/processed/S2-16D_V2_032027/6x6_subtiles/S2-16D_V2_032027_x=3520_y=7040.tif']}\n",
      "/home/jonathan/UrbanizedAreasSegmentation/config/dataset_6-subtiles_mode-type_patchsize-224_stride-224_dynamicsampling-False_dataaugmentation-False_set-val_filestrain_val_test_split-6_subtiles-032027-stratified_by_type.pkl\n",
      "Loading instance from /home/jonathan/UrbanizedAreasSegmentation/config/dataset_6-subtiles_mode-type_patchsize-224_stride-224_dynamicsampling-False_dataaugmentation-False_set-val_filestrain_val_test_split-6_subtiles-032027-stratified_by_type.pkl\n",
      "Instance saved to /home/jonathan/UrbanizedAreasSegmentation/config/dataset_6-subtiles_mode-type_patchsize-224_stride-224_dynamicsampling-False_dataaugmentation-False_set-val_filestrain_val_test_split-6_subtiles-032027-stratified_by_type.pkl\n",
      "Dataset info:\n",
      "224 False 1408 88.0\n",
      "224 False 448 28.0\n",
      "Loading:  <function yaml_filename at 0x717e64ff3400>\n",
      "{'num_subtiles': 6, 'test_files': ['/home/jonathan/UrbanizedAreasSegmentation/data/processed/S2-16D_V2_032027/6x6_subtiles/S2-16D_V2_032027_x=8800_y=8800.tif', '/home/jonathan/UrbanizedAreasSegmentation/data/processed/S2-16D_V2_032027/6x6_subtiles/S2-16D_V2_032027_x=0_y=1760.tif', '/home/jonathan/UrbanizedAreasSegmentation/data/processed/S2-16D_V2_032027/6x6_subtiles/S2-16D_V2_032027_x=1760_y=0.tif', '/home/jonathan/UrbanizedAreasSegmentation/data/processed/S2-16D_V2_032027/6x6_subtiles/S2-16D_V2_032027_x=5280_y=0.tif', '/home/jonathan/UrbanizedAreasSegmentation/data/processed/S2-16D_V2_032027/6x6_subtiles/S2-16D_V2_032027_x=1760_y=7040.tif', '/home/jonathan/UrbanizedAreasSegmentation/data/processed/S2-16D_V2_032027/6x6_subtiles/S2-16D_V2_032027_x=8800_y=7040.tif', '/home/jonathan/UrbanizedAreasSegmentation/data/processed/S2-16D_V2_032027/6x6_subtiles/S2-16D_V2_032027_x=8800_y=5280.tif'], 'tiles': ['032027'], 'train_files': ['/home/jonathan/UrbanizedAreasSegmentation/data/processed/S2-16D_V2_032027/6x6_subtiles/S2-16D_V2_032027_x=1760_y=1760.tif', '/home/jonathan/UrbanizedAreasSegmentation/data/processed/S2-16D_V2_032027/6x6_subtiles/S2-16D_V2_032027_x=5280_y=3520.tif', '/home/jonathan/UrbanizedAreasSegmentation/data/processed/S2-16D_V2_032027/6x6_subtiles/S2-16D_V2_032027_x=3520_y=0.tif', '/home/jonathan/UrbanizedAreasSegmentation/data/processed/S2-16D_V2_032027/6x6_subtiles/S2-16D_V2_032027_x=3520_y=1760.tif', '/home/jonathan/UrbanizedAreasSegmentation/data/processed/S2-16D_V2_032027/6x6_subtiles/S2-16D_V2_032027_x=7040_y=1760.tif', '/home/jonathan/UrbanizedAreasSegmentation/data/processed/S2-16D_V2_032027/6x6_subtiles/S2-16D_V2_032027_x=0_y=8800.tif', '/home/jonathan/UrbanizedAreasSegmentation/data/processed/S2-16D_V2_032027/6x6_subtiles/S2-16D_V2_032027_x=7040_y=5280.tif', '/home/jonathan/UrbanizedAreasSegmentation/data/processed/S2-16D_V2_032027/6x6_subtiles/S2-16D_V2_032027_x=8800_y=0.tif', '/home/jonathan/UrbanizedAreasSegmentation/data/processed/S2-16D_V2_032027/6x6_subtiles/S2-16D_V2_032027_x=7040_y=0.tif', '/home/jonathan/UrbanizedAreasSegmentation/data/processed/S2-16D_V2_032027/6x6_subtiles/S2-16D_V2_032027_x=3520_y=8800.tif', '/home/jonathan/UrbanizedAreasSegmentation/data/processed/S2-16D_V2_032027/6x6_subtiles/S2-16D_V2_032027_x=8800_y=3520.tif', '/home/jonathan/UrbanizedAreasSegmentation/data/processed/S2-16D_V2_032027/6x6_subtiles/S2-16D_V2_032027_x=0_y=3520.tif', '/home/jonathan/UrbanizedAreasSegmentation/data/processed/S2-16D_V2_032027/6x6_subtiles/S2-16D_V2_032027_x=5280_y=5280.tif', '/home/jonathan/UrbanizedAreasSegmentation/data/processed/S2-16D_V2_032027/6x6_subtiles/S2-16D_V2_032027_x=5280_y=1760.tif', '/home/jonathan/UrbanizedAreasSegmentation/data/processed/S2-16D_V2_032027/6x6_subtiles/S2-16D_V2_032027_x=7040_y=8800.tif', '/home/jonathan/UrbanizedAreasSegmentation/data/processed/S2-16D_V2_032027/6x6_subtiles/S2-16D_V2_032027_x=3520_y=5280.tif', '/home/jonathan/UrbanizedAreasSegmentation/data/processed/S2-16D_V2_032027/6x6_subtiles/S2-16D_V2_032027_x=1760_y=8800.tif', '/home/jonathan/UrbanizedAreasSegmentation/data/processed/S2-16D_V2_032027/6x6_subtiles/S2-16D_V2_032027_x=8800_y=1760.tif', '/home/jonathan/UrbanizedAreasSegmentation/data/processed/S2-16D_V2_032027/6x6_subtiles/S2-16D_V2_032027_x=1760_y=3520.tif', '/home/jonathan/UrbanizedAreasSegmentation/data/processed/S2-16D_V2_032027/6x6_subtiles/S2-16D_V2_032027_x=7040_y=7040.tif', '/home/jonathan/UrbanizedAreasSegmentation/data/processed/S2-16D_V2_032027/6x6_subtiles/S2-16D_V2_032027_x=1760_y=5280.tif', '/home/jonathan/UrbanizedAreasSegmentation/data/processed/S2-16D_V2_032027/6x6_subtiles/S2-16D_V2_032027_x=0_y=5280.tif'], 'val_files': ['/home/jonathan/UrbanizedAreasSegmentation/data/processed/S2-16D_V2_032027/6x6_subtiles/S2-16D_V2_032027_x=3520_y=3520.tif', '/home/jonathan/UrbanizedAreasSegmentation/data/processed/S2-16D_V2_032027/6x6_subtiles/S2-16D_V2_032027_x=0_y=0.tif', '/home/jonathan/UrbanizedAreasSegmentation/data/processed/S2-16D_V2_032027/6x6_subtiles/S2-16D_V2_032027_x=5280_y=7040.tif', '/home/jonathan/UrbanizedAreasSegmentation/data/processed/S2-16D_V2_032027/6x6_subtiles/S2-16D_V2_032027_x=5280_y=8800.tif', '/home/jonathan/UrbanizedAreasSegmentation/data/processed/S2-16D_V2_032027/6x6_subtiles/S2-16D_V2_032027_x=0_y=7040.tif', '/home/jonathan/UrbanizedAreasSegmentation/data/processed/S2-16D_V2_032027/6x6_subtiles/S2-16D_V2_032027_x=7040_y=3520.tif', '/home/jonathan/UrbanizedAreasSegmentation/data/processed/S2-16D_V2_032027/6x6_subtiles/S2-16D_V2_032027_x=3520_y=7040.tif']}\n",
      "/home/jonathan/UrbanizedAreasSegmentation/config/dataset_6-subtiles_mode-type_patchsize-256_stride-256_dynamicsampling-False_dataaugmentation-False_set-train_filestrain_val_test_split-6_subtiles-032027-stratified_by_type.pkl\n",
      "Loading instance from /home/jonathan/UrbanizedAreasSegmentation/config/dataset_6-subtiles_mode-type_patchsize-256_stride-256_dynamicsampling-False_dataaugmentation-False_set-train_filestrain_val_test_split-6_subtiles-032027-stratified_by_type.pkl\n",
      "Instance saved to /home/jonathan/UrbanizedAreasSegmentation/config/dataset_6-subtiles_mode-type_patchsize-256_stride-256_dynamicsampling-False_dataaugmentation-False_set-train_filestrain_val_test_split-6_subtiles-032027-stratified_by_type.pkl\n",
      "Loading:  <function yaml_filename at 0x717e64ff3400>\n",
      "{'num_subtiles': 6, 'test_files': ['/home/jonathan/UrbanizedAreasSegmentation/data/processed/S2-16D_V2_032027/6x6_subtiles/S2-16D_V2_032027_x=8800_y=8800.tif', '/home/jonathan/UrbanizedAreasSegmentation/data/processed/S2-16D_V2_032027/6x6_subtiles/S2-16D_V2_032027_x=0_y=1760.tif', '/home/jonathan/UrbanizedAreasSegmentation/data/processed/S2-16D_V2_032027/6x6_subtiles/S2-16D_V2_032027_x=1760_y=0.tif', '/home/jonathan/UrbanizedAreasSegmentation/data/processed/S2-16D_V2_032027/6x6_subtiles/S2-16D_V2_032027_x=5280_y=0.tif', '/home/jonathan/UrbanizedAreasSegmentation/data/processed/S2-16D_V2_032027/6x6_subtiles/S2-16D_V2_032027_x=1760_y=7040.tif', '/home/jonathan/UrbanizedAreasSegmentation/data/processed/S2-16D_V2_032027/6x6_subtiles/S2-16D_V2_032027_x=8800_y=7040.tif', '/home/jonathan/UrbanizedAreasSegmentation/data/processed/S2-16D_V2_032027/6x6_subtiles/S2-16D_V2_032027_x=8800_y=5280.tif'], 'tiles': ['032027'], 'train_files': ['/home/jonathan/UrbanizedAreasSegmentation/data/processed/S2-16D_V2_032027/6x6_subtiles/S2-16D_V2_032027_x=1760_y=1760.tif', '/home/jonathan/UrbanizedAreasSegmentation/data/processed/S2-16D_V2_032027/6x6_subtiles/S2-16D_V2_032027_x=5280_y=3520.tif', '/home/jonathan/UrbanizedAreasSegmentation/data/processed/S2-16D_V2_032027/6x6_subtiles/S2-16D_V2_032027_x=3520_y=0.tif', '/home/jonathan/UrbanizedAreasSegmentation/data/processed/S2-16D_V2_032027/6x6_subtiles/S2-16D_V2_032027_x=3520_y=1760.tif', '/home/jonathan/UrbanizedAreasSegmentation/data/processed/S2-16D_V2_032027/6x6_subtiles/S2-16D_V2_032027_x=7040_y=1760.tif', '/home/jonathan/UrbanizedAreasSegmentation/data/processed/S2-16D_V2_032027/6x6_subtiles/S2-16D_V2_032027_x=0_y=8800.tif', '/home/jonathan/UrbanizedAreasSegmentation/data/processed/S2-16D_V2_032027/6x6_subtiles/S2-16D_V2_032027_x=7040_y=5280.tif', '/home/jonathan/UrbanizedAreasSegmentation/data/processed/S2-16D_V2_032027/6x6_subtiles/S2-16D_V2_032027_x=8800_y=0.tif', '/home/jonathan/UrbanizedAreasSegmentation/data/processed/S2-16D_V2_032027/6x6_subtiles/S2-16D_V2_032027_x=7040_y=0.tif', '/home/jonathan/UrbanizedAreasSegmentation/data/processed/S2-16D_V2_032027/6x6_subtiles/S2-16D_V2_032027_x=3520_y=8800.tif', '/home/jonathan/UrbanizedAreasSegmentation/data/processed/S2-16D_V2_032027/6x6_subtiles/S2-16D_V2_032027_x=8800_y=3520.tif', '/home/jonathan/UrbanizedAreasSegmentation/data/processed/S2-16D_V2_032027/6x6_subtiles/S2-16D_V2_032027_x=0_y=3520.tif', '/home/jonathan/UrbanizedAreasSegmentation/data/processed/S2-16D_V2_032027/6x6_subtiles/S2-16D_V2_032027_x=5280_y=5280.tif', '/home/jonathan/UrbanizedAreasSegmentation/data/processed/S2-16D_V2_032027/6x6_subtiles/S2-16D_V2_032027_x=5280_y=1760.tif', '/home/jonathan/UrbanizedAreasSegmentation/data/processed/S2-16D_V2_032027/6x6_subtiles/S2-16D_V2_032027_x=7040_y=8800.tif', '/home/jonathan/UrbanizedAreasSegmentation/data/processed/S2-16D_V2_032027/6x6_subtiles/S2-16D_V2_032027_x=3520_y=5280.tif', '/home/jonathan/UrbanizedAreasSegmentation/data/processed/S2-16D_V2_032027/6x6_subtiles/S2-16D_V2_032027_x=1760_y=8800.tif', '/home/jonathan/UrbanizedAreasSegmentation/data/processed/S2-16D_V2_032027/6x6_subtiles/S2-16D_V2_032027_x=8800_y=1760.tif', '/home/jonathan/UrbanizedAreasSegmentation/data/processed/S2-16D_V2_032027/6x6_subtiles/S2-16D_V2_032027_x=1760_y=3520.tif', '/home/jonathan/UrbanizedAreasSegmentation/data/processed/S2-16D_V2_032027/6x6_subtiles/S2-16D_V2_032027_x=7040_y=7040.tif', '/home/jonathan/UrbanizedAreasSegmentation/data/processed/S2-16D_V2_032027/6x6_subtiles/S2-16D_V2_032027_x=1760_y=5280.tif', '/home/jonathan/UrbanizedAreasSegmentation/data/processed/S2-16D_V2_032027/6x6_subtiles/S2-16D_V2_032027_x=0_y=5280.tif'], 'val_files': ['/home/jonathan/UrbanizedAreasSegmentation/data/processed/S2-16D_V2_032027/6x6_subtiles/S2-16D_V2_032027_x=3520_y=3520.tif', '/home/jonathan/UrbanizedAreasSegmentation/data/processed/S2-16D_V2_032027/6x6_subtiles/S2-16D_V2_032027_x=0_y=0.tif', '/home/jonathan/UrbanizedAreasSegmentation/data/processed/S2-16D_V2_032027/6x6_subtiles/S2-16D_V2_032027_x=5280_y=7040.tif', '/home/jonathan/UrbanizedAreasSegmentation/data/processed/S2-16D_V2_032027/6x6_subtiles/S2-16D_V2_032027_x=5280_y=8800.tif', '/home/jonathan/UrbanizedAreasSegmentation/data/processed/S2-16D_V2_032027/6x6_subtiles/S2-16D_V2_032027_x=0_y=7040.tif', '/home/jonathan/UrbanizedAreasSegmentation/data/processed/S2-16D_V2_032027/6x6_subtiles/S2-16D_V2_032027_x=7040_y=3520.tif', '/home/jonathan/UrbanizedAreasSegmentation/data/processed/S2-16D_V2_032027/6x6_subtiles/S2-16D_V2_032027_x=3520_y=7040.tif']}\n",
      "/home/jonathan/UrbanizedAreasSegmentation/config/dataset_6-subtiles_mode-type_patchsize-256_stride-256_dynamicsampling-False_dataaugmentation-False_set-val_filestrain_val_test_split-6_subtiles-032027-stratified_by_type.pkl\n",
      "Loading instance from /home/jonathan/UrbanizedAreasSegmentation/config/dataset_6-subtiles_mode-type_patchsize-256_stride-256_dynamicsampling-False_dataaugmentation-False_set-val_filestrain_val_test_split-6_subtiles-032027-stratified_by_type.pkl\n",
      "Instance saved to /home/jonathan/UrbanizedAreasSegmentation/config/dataset_6-subtiles_mode-type_patchsize-256_stride-256_dynamicsampling-False_dataaugmentation-False_set-val_filestrain_val_test_split-6_subtiles-032027-stratified_by_type.pkl\n",
      "Dataset info:\n",
      "256 False 1078 67.375\n",
      "256 False 343 21.4375\n",
      "Loading:  <function yaml_filename at 0x717e64ff3400>\n",
      "{'num_subtiles': 6, 'test_files': ['/home/jonathan/UrbanizedAreasSegmentation/data/processed/S2-16D_V2_032027/6x6_subtiles/S2-16D_V2_032027_x=8800_y=8800.tif', '/home/jonathan/UrbanizedAreasSegmentation/data/processed/S2-16D_V2_032027/6x6_subtiles/S2-16D_V2_032027_x=0_y=1760.tif', '/home/jonathan/UrbanizedAreasSegmentation/data/processed/S2-16D_V2_032027/6x6_subtiles/S2-16D_V2_032027_x=1760_y=0.tif', '/home/jonathan/UrbanizedAreasSegmentation/data/processed/S2-16D_V2_032027/6x6_subtiles/S2-16D_V2_032027_x=5280_y=0.tif', '/home/jonathan/UrbanizedAreasSegmentation/data/processed/S2-16D_V2_032027/6x6_subtiles/S2-16D_V2_032027_x=1760_y=7040.tif', '/home/jonathan/UrbanizedAreasSegmentation/data/processed/S2-16D_V2_032027/6x6_subtiles/S2-16D_V2_032027_x=8800_y=7040.tif', '/home/jonathan/UrbanizedAreasSegmentation/data/processed/S2-16D_V2_032027/6x6_subtiles/S2-16D_V2_032027_x=8800_y=5280.tif'], 'tiles': ['032027'], 'train_files': ['/home/jonathan/UrbanizedAreasSegmentation/data/processed/S2-16D_V2_032027/6x6_subtiles/S2-16D_V2_032027_x=1760_y=1760.tif', '/home/jonathan/UrbanizedAreasSegmentation/data/processed/S2-16D_V2_032027/6x6_subtiles/S2-16D_V2_032027_x=5280_y=3520.tif', '/home/jonathan/UrbanizedAreasSegmentation/data/processed/S2-16D_V2_032027/6x6_subtiles/S2-16D_V2_032027_x=3520_y=0.tif', '/home/jonathan/UrbanizedAreasSegmentation/data/processed/S2-16D_V2_032027/6x6_subtiles/S2-16D_V2_032027_x=3520_y=1760.tif', '/home/jonathan/UrbanizedAreasSegmentation/data/processed/S2-16D_V2_032027/6x6_subtiles/S2-16D_V2_032027_x=7040_y=1760.tif', '/home/jonathan/UrbanizedAreasSegmentation/data/processed/S2-16D_V2_032027/6x6_subtiles/S2-16D_V2_032027_x=0_y=8800.tif', '/home/jonathan/UrbanizedAreasSegmentation/data/processed/S2-16D_V2_032027/6x6_subtiles/S2-16D_V2_032027_x=7040_y=5280.tif', '/home/jonathan/UrbanizedAreasSegmentation/data/processed/S2-16D_V2_032027/6x6_subtiles/S2-16D_V2_032027_x=8800_y=0.tif', '/home/jonathan/UrbanizedAreasSegmentation/data/processed/S2-16D_V2_032027/6x6_subtiles/S2-16D_V2_032027_x=7040_y=0.tif', '/home/jonathan/UrbanizedAreasSegmentation/data/processed/S2-16D_V2_032027/6x6_subtiles/S2-16D_V2_032027_x=3520_y=8800.tif', '/home/jonathan/UrbanizedAreasSegmentation/data/processed/S2-16D_V2_032027/6x6_subtiles/S2-16D_V2_032027_x=8800_y=3520.tif', '/home/jonathan/UrbanizedAreasSegmentation/data/processed/S2-16D_V2_032027/6x6_subtiles/S2-16D_V2_032027_x=0_y=3520.tif', '/home/jonathan/UrbanizedAreasSegmentation/data/processed/S2-16D_V2_032027/6x6_subtiles/S2-16D_V2_032027_x=5280_y=5280.tif', '/home/jonathan/UrbanizedAreasSegmentation/data/processed/S2-16D_V2_032027/6x6_subtiles/S2-16D_V2_032027_x=5280_y=1760.tif', '/home/jonathan/UrbanizedAreasSegmentation/data/processed/S2-16D_V2_032027/6x6_subtiles/S2-16D_V2_032027_x=7040_y=8800.tif', '/home/jonathan/UrbanizedAreasSegmentation/data/processed/S2-16D_V2_032027/6x6_subtiles/S2-16D_V2_032027_x=3520_y=5280.tif', '/home/jonathan/UrbanizedAreasSegmentation/data/processed/S2-16D_V2_032027/6x6_subtiles/S2-16D_V2_032027_x=1760_y=8800.tif', '/home/jonathan/UrbanizedAreasSegmentation/data/processed/S2-16D_V2_032027/6x6_subtiles/S2-16D_V2_032027_x=8800_y=1760.tif', '/home/jonathan/UrbanizedAreasSegmentation/data/processed/S2-16D_V2_032027/6x6_subtiles/S2-16D_V2_032027_x=1760_y=3520.tif', '/home/jonathan/UrbanizedAreasSegmentation/data/processed/S2-16D_V2_032027/6x6_subtiles/S2-16D_V2_032027_x=7040_y=7040.tif', '/home/jonathan/UrbanizedAreasSegmentation/data/processed/S2-16D_V2_032027/6x6_subtiles/S2-16D_V2_032027_x=1760_y=5280.tif', '/home/jonathan/UrbanizedAreasSegmentation/data/processed/S2-16D_V2_032027/6x6_subtiles/S2-16D_V2_032027_x=0_y=5280.tif'], 'val_files': ['/home/jonathan/UrbanizedAreasSegmentation/data/processed/S2-16D_V2_032027/6x6_subtiles/S2-16D_V2_032027_x=3520_y=3520.tif', '/home/jonathan/UrbanizedAreasSegmentation/data/processed/S2-16D_V2_032027/6x6_subtiles/S2-16D_V2_032027_x=0_y=0.tif', '/home/jonathan/UrbanizedAreasSegmentation/data/processed/S2-16D_V2_032027/6x6_subtiles/S2-16D_V2_032027_x=5280_y=7040.tif', '/home/jonathan/UrbanizedAreasSegmentation/data/processed/S2-16D_V2_032027/6x6_subtiles/S2-16D_V2_032027_x=5280_y=8800.tif', '/home/jonathan/UrbanizedAreasSegmentation/data/processed/S2-16D_V2_032027/6x6_subtiles/S2-16D_V2_032027_x=0_y=7040.tif', '/home/jonathan/UrbanizedAreasSegmentation/data/processed/S2-16D_V2_032027/6x6_subtiles/S2-16D_V2_032027_x=7040_y=3520.tif', '/home/jonathan/UrbanizedAreasSegmentation/data/processed/S2-16D_V2_032027/6x6_subtiles/S2-16D_V2_032027_x=3520_y=7040.tif']}\n",
      "/home/jonathan/UrbanizedAreasSegmentation/config/dataset_6-subtiles_mode-type_patchsize-512_stride-512_dynamicsampling-False_dataaugmentation-False_set-train_filestrain_val_test_split-6_subtiles-032027-stratified_by_type.pkl\n",
      "Loading instance from /home/jonathan/UrbanizedAreasSegmentation/config/dataset_6-subtiles_mode-type_patchsize-512_stride-512_dynamicsampling-False_dataaugmentation-False_set-train_filestrain_val_test_split-6_subtiles-032027-stratified_by_type.pkl\n",
      "Instance saved to /home/jonathan/UrbanizedAreasSegmentation/config/dataset_6-subtiles_mode-type_patchsize-512_stride-512_dynamicsampling-False_dataaugmentation-False_set-train_filestrain_val_test_split-6_subtiles-032027-stratified_by_type.pkl\n",
      "Loading:  <function yaml_filename at 0x717e64ff3400>\n",
      "{'num_subtiles': 6, 'test_files': ['/home/jonathan/UrbanizedAreasSegmentation/data/processed/S2-16D_V2_032027/6x6_subtiles/S2-16D_V2_032027_x=8800_y=8800.tif', '/home/jonathan/UrbanizedAreasSegmentation/data/processed/S2-16D_V2_032027/6x6_subtiles/S2-16D_V2_032027_x=0_y=1760.tif', '/home/jonathan/UrbanizedAreasSegmentation/data/processed/S2-16D_V2_032027/6x6_subtiles/S2-16D_V2_032027_x=1760_y=0.tif', '/home/jonathan/UrbanizedAreasSegmentation/data/processed/S2-16D_V2_032027/6x6_subtiles/S2-16D_V2_032027_x=5280_y=0.tif', '/home/jonathan/UrbanizedAreasSegmentation/data/processed/S2-16D_V2_032027/6x6_subtiles/S2-16D_V2_032027_x=1760_y=7040.tif', '/home/jonathan/UrbanizedAreasSegmentation/data/processed/S2-16D_V2_032027/6x6_subtiles/S2-16D_V2_032027_x=8800_y=7040.tif', '/home/jonathan/UrbanizedAreasSegmentation/data/processed/S2-16D_V2_032027/6x6_subtiles/S2-16D_V2_032027_x=8800_y=5280.tif'], 'tiles': ['032027'], 'train_files': ['/home/jonathan/UrbanizedAreasSegmentation/data/processed/S2-16D_V2_032027/6x6_subtiles/S2-16D_V2_032027_x=1760_y=1760.tif', '/home/jonathan/UrbanizedAreasSegmentation/data/processed/S2-16D_V2_032027/6x6_subtiles/S2-16D_V2_032027_x=5280_y=3520.tif', '/home/jonathan/UrbanizedAreasSegmentation/data/processed/S2-16D_V2_032027/6x6_subtiles/S2-16D_V2_032027_x=3520_y=0.tif', '/home/jonathan/UrbanizedAreasSegmentation/data/processed/S2-16D_V2_032027/6x6_subtiles/S2-16D_V2_032027_x=3520_y=1760.tif', '/home/jonathan/UrbanizedAreasSegmentation/data/processed/S2-16D_V2_032027/6x6_subtiles/S2-16D_V2_032027_x=7040_y=1760.tif', '/home/jonathan/UrbanizedAreasSegmentation/data/processed/S2-16D_V2_032027/6x6_subtiles/S2-16D_V2_032027_x=0_y=8800.tif', '/home/jonathan/UrbanizedAreasSegmentation/data/processed/S2-16D_V2_032027/6x6_subtiles/S2-16D_V2_032027_x=7040_y=5280.tif', '/home/jonathan/UrbanizedAreasSegmentation/data/processed/S2-16D_V2_032027/6x6_subtiles/S2-16D_V2_032027_x=8800_y=0.tif', '/home/jonathan/UrbanizedAreasSegmentation/data/processed/S2-16D_V2_032027/6x6_subtiles/S2-16D_V2_032027_x=7040_y=0.tif', '/home/jonathan/UrbanizedAreasSegmentation/data/processed/S2-16D_V2_032027/6x6_subtiles/S2-16D_V2_032027_x=3520_y=8800.tif', '/home/jonathan/UrbanizedAreasSegmentation/data/processed/S2-16D_V2_032027/6x6_subtiles/S2-16D_V2_032027_x=8800_y=3520.tif', '/home/jonathan/UrbanizedAreasSegmentation/data/processed/S2-16D_V2_032027/6x6_subtiles/S2-16D_V2_032027_x=0_y=3520.tif', '/home/jonathan/UrbanizedAreasSegmentation/data/processed/S2-16D_V2_032027/6x6_subtiles/S2-16D_V2_032027_x=5280_y=5280.tif', '/home/jonathan/UrbanizedAreasSegmentation/data/processed/S2-16D_V2_032027/6x6_subtiles/S2-16D_V2_032027_x=5280_y=1760.tif', '/home/jonathan/UrbanizedAreasSegmentation/data/processed/S2-16D_V2_032027/6x6_subtiles/S2-16D_V2_032027_x=7040_y=8800.tif', '/home/jonathan/UrbanizedAreasSegmentation/data/processed/S2-16D_V2_032027/6x6_subtiles/S2-16D_V2_032027_x=3520_y=5280.tif', '/home/jonathan/UrbanizedAreasSegmentation/data/processed/S2-16D_V2_032027/6x6_subtiles/S2-16D_V2_032027_x=1760_y=8800.tif', '/home/jonathan/UrbanizedAreasSegmentation/data/processed/S2-16D_V2_032027/6x6_subtiles/S2-16D_V2_032027_x=8800_y=1760.tif', '/home/jonathan/UrbanizedAreasSegmentation/data/processed/S2-16D_V2_032027/6x6_subtiles/S2-16D_V2_032027_x=1760_y=3520.tif', '/home/jonathan/UrbanizedAreasSegmentation/data/processed/S2-16D_V2_032027/6x6_subtiles/S2-16D_V2_032027_x=7040_y=7040.tif', '/home/jonathan/UrbanizedAreasSegmentation/data/processed/S2-16D_V2_032027/6x6_subtiles/S2-16D_V2_032027_x=1760_y=5280.tif', '/home/jonathan/UrbanizedAreasSegmentation/data/processed/S2-16D_V2_032027/6x6_subtiles/S2-16D_V2_032027_x=0_y=5280.tif'], 'val_files': ['/home/jonathan/UrbanizedAreasSegmentation/data/processed/S2-16D_V2_032027/6x6_subtiles/S2-16D_V2_032027_x=3520_y=3520.tif', '/home/jonathan/UrbanizedAreasSegmentation/data/processed/S2-16D_V2_032027/6x6_subtiles/S2-16D_V2_032027_x=0_y=0.tif', '/home/jonathan/UrbanizedAreasSegmentation/data/processed/S2-16D_V2_032027/6x6_subtiles/S2-16D_V2_032027_x=5280_y=7040.tif', '/home/jonathan/UrbanizedAreasSegmentation/data/processed/S2-16D_V2_032027/6x6_subtiles/S2-16D_V2_032027_x=5280_y=8800.tif', '/home/jonathan/UrbanizedAreasSegmentation/data/processed/S2-16D_V2_032027/6x6_subtiles/S2-16D_V2_032027_x=0_y=7040.tif', '/home/jonathan/UrbanizedAreasSegmentation/data/processed/S2-16D_V2_032027/6x6_subtiles/S2-16D_V2_032027_x=7040_y=3520.tif', '/home/jonathan/UrbanizedAreasSegmentation/data/processed/S2-16D_V2_032027/6x6_subtiles/S2-16D_V2_032027_x=3520_y=7040.tif']}\n",
      "/home/jonathan/UrbanizedAreasSegmentation/config/dataset_6-subtiles_mode-type_patchsize-512_stride-512_dynamicsampling-False_dataaugmentation-False_set-val_filestrain_val_test_split-6_subtiles-032027-stratified_by_type.pkl\n",
      "Loading instance from /home/jonathan/UrbanizedAreasSegmentation/config/dataset_6-subtiles_mode-type_patchsize-512_stride-512_dynamicsampling-False_dataaugmentation-False_set-val_filestrain_val_test_split-6_subtiles-032027-stratified_by_type.pkl\n",
      "Instance saved to /home/jonathan/UrbanizedAreasSegmentation/config/dataset_6-subtiles_mode-type_patchsize-512_stride-512_dynamicsampling-False_dataaugmentation-False_set-val_filestrain_val_test_split-6_subtiles-032027-stratified_by_type.pkl\n",
      "Dataset info:\n",
      "512 False 352 88.0\n",
      "512 False 112 28.0\n",
      "Loading:  <function yaml_filename at 0x717e64ff3400>\n",
      "{'num_subtiles': 6, 'test_files': ['/home/jonathan/UrbanizedAreasSegmentation/data/processed/S2-16D_V2_032027/6x6_subtiles/S2-16D_V2_032027_x=8800_y=8800.tif', '/home/jonathan/UrbanizedAreasSegmentation/data/processed/S2-16D_V2_032027/6x6_subtiles/S2-16D_V2_032027_x=0_y=1760.tif', '/home/jonathan/UrbanizedAreasSegmentation/data/processed/S2-16D_V2_032027/6x6_subtiles/S2-16D_V2_032027_x=1760_y=0.tif', '/home/jonathan/UrbanizedAreasSegmentation/data/processed/S2-16D_V2_032027/6x6_subtiles/S2-16D_V2_032027_x=5280_y=0.tif', '/home/jonathan/UrbanizedAreasSegmentation/data/processed/S2-16D_V2_032027/6x6_subtiles/S2-16D_V2_032027_x=1760_y=7040.tif', '/home/jonathan/UrbanizedAreasSegmentation/data/processed/S2-16D_V2_032027/6x6_subtiles/S2-16D_V2_032027_x=8800_y=7040.tif', '/home/jonathan/UrbanizedAreasSegmentation/data/processed/S2-16D_V2_032027/6x6_subtiles/S2-16D_V2_032027_x=8800_y=5280.tif'], 'tiles': ['032027'], 'train_files': ['/home/jonathan/UrbanizedAreasSegmentation/data/processed/S2-16D_V2_032027/6x6_subtiles/S2-16D_V2_032027_x=1760_y=1760.tif', '/home/jonathan/UrbanizedAreasSegmentation/data/processed/S2-16D_V2_032027/6x6_subtiles/S2-16D_V2_032027_x=5280_y=3520.tif', '/home/jonathan/UrbanizedAreasSegmentation/data/processed/S2-16D_V2_032027/6x6_subtiles/S2-16D_V2_032027_x=3520_y=0.tif', '/home/jonathan/UrbanizedAreasSegmentation/data/processed/S2-16D_V2_032027/6x6_subtiles/S2-16D_V2_032027_x=3520_y=1760.tif', '/home/jonathan/UrbanizedAreasSegmentation/data/processed/S2-16D_V2_032027/6x6_subtiles/S2-16D_V2_032027_x=7040_y=1760.tif', '/home/jonathan/UrbanizedAreasSegmentation/data/processed/S2-16D_V2_032027/6x6_subtiles/S2-16D_V2_032027_x=0_y=8800.tif', '/home/jonathan/UrbanizedAreasSegmentation/data/processed/S2-16D_V2_032027/6x6_subtiles/S2-16D_V2_032027_x=7040_y=5280.tif', '/home/jonathan/UrbanizedAreasSegmentation/data/processed/S2-16D_V2_032027/6x6_subtiles/S2-16D_V2_032027_x=8800_y=0.tif', '/home/jonathan/UrbanizedAreasSegmentation/data/processed/S2-16D_V2_032027/6x6_subtiles/S2-16D_V2_032027_x=7040_y=0.tif', '/home/jonathan/UrbanizedAreasSegmentation/data/processed/S2-16D_V2_032027/6x6_subtiles/S2-16D_V2_032027_x=3520_y=8800.tif', '/home/jonathan/UrbanizedAreasSegmentation/data/processed/S2-16D_V2_032027/6x6_subtiles/S2-16D_V2_032027_x=8800_y=3520.tif', '/home/jonathan/UrbanizedAreasSegmentation/data/processed/S2-16D_V2_032027/6x6_subtiles/S2-16D_V2_032027_x=0_y=3520.tif', '/home/jonathan/UrbanizedAreasSegmentation/data/processed/S2-16D_V2_032027/6x6_subtiles/S2-16D_V2_032027_x=5280_y=5280.tif', '/home/jonathan/UrbanizedAreasSegmentation/data/processed/S2-16D_V2_032027/6x6_subtiles/S2-16D_V2_032027_x=5280_y=1760.tif', '/home/jonathan/UrbanizedAreasSegmentation/data/processed/S2-16D_V2_032027/6x6_subtiles/S2-16D_V2_032027_x=7040_y=8800.tif', '/home/jonathan/UrbanizedAreasSegmentation/data/processed/S2-16D_V2_032027/6x6_subtiles/S2-16D_V2_032027_x=3520_y=5280.tif', '/home/jonathan/UrbanizedAreasSegmentation/data/processed/S2-16D_V2_032027/6x6_subtiles/S2-16D_V2_032027_x=1760_y=8800.tif', '/home/jonathan/UrbanizedAreasSegmentation/data/processed/S2-16D_V2_032027/6x6_subtiles/S2-16D_V2_032027_x=8800_y=1760.tif', '/home/jonathan/UrbanizedAreasSegmentation/data/processed/S2-16D_V2_032027/6x6_subtiles/S2-16D_V2_032027_x=1760_y=3520.tif', '/home/jonathan/UrbanizedAreasSegmentation/data/processed/S2-16D_V2_032027/6x6_subtiles/S2-16D_V2_032027_x=7040_y=7040.tif', '/home/jonathan/UrbanizedAreasSegmentation/data/processed/S2-16D_V2_032027/6x6_subtiles/S2-16D_V2_032027_x=1760_y=5280.tif', '/home/jonathan/UrbanizedAreasSegmentation/data/processed/S2-16D_V2_032027/6x6_subtiles/S2-16D_V2_032027_x=0_y=5280.tif'], 'val_files': ['/home/jonathan/UrbanizedAreasSegmentation/data/processed/S2-16D_V2_032027/6x6_subtiles/S2-16D_V2_032027_x=3520_y=3520.tif', '/home/jonathan/UrbanizedAreasSegmentation/data/processed/S2-16D_V2_032027/6x6_subtiles/S2-16D_V2_032027_x=0_y=0.tif', '/home/jonathan/UrbanizedAreasSegmentation/data/processed/S2-16D_V2_032027/6x6_subtiles/S2-16D_V2_032027_x=5280_y=7040.tif', '/home/jonathan/UrbanizedAreasSegmentation/data/processed/S2-16D_V2_032027/6x6_subtiles/S2-16D_V2_032027_x=5280_y=8800.tif', '/home/jonathan/UrbanizedAreasSegmentation/data/processed/S2-16D_V2_032027/6x6_subtiles/S2-16D_V2_032027_x=0_y=7040.tif', '/home/jonathan/UrbanizedAreasSegmentation/data/processed/S2-16D_V2_032027/6x6_subtiles/S2-16D_V2_032027_x=7040_y=3520.tif', '/home/jonathan/UrbanizedAreasSegmentation/data/processed/S2-16D_V2_032027/6x6_subtiles/S2-16D_V2_032027_x=3520_y=7040.tif']}\n",
      "/home/jonathan/UrbanizedAreasSegmentation/config/dataset_6-subtiles_mode-type_patchsize-64_stride-64_dynamicsampling-True_dataaugmentation-False_set-train_filestrain_val_test_split-6_subtiles-032027-stratified_by_type.pkl\n",
      "Loading instance from /home/jonathan/UrbanizedAreasSegmentation/config/dataset_6-subtiles_mode-type_patchsize-64_stride-64_dynamicsampling-True_dataaugmentation-False_set-train_filestrain_val_test_split-6_subtiles-032027-stratified_by_type.pkl\n",
      "Instance saved to /home/jonathan/UrbanizedAreasSegmentation/config/dataset_6-subtiles_mode-type_patchsize-64_stride-64_dynamicsampling-True_dataaugmentation-False_set-train_filestrain_val_test_split-6_subtiles-032027-stratified_by_type.pkl\n",
      "Loading:  <function yaml_filename at 0x717e64ff3400>\n",
      "{'num_subtiles': 6, 'test_files': ['/home/jonathan/UrbanizedAreasSegmentation/data/processed/S2-16D_V2_032027/6x6_subtiles/S2-16D_V2_032027_x=8800_y=8800.tif', '/home/jonathan/UrbanizedAreasSegmentation/data/processed/S2-16D_V2_032027/6x6_subtiles/S2-16D_V2_032027_x=0_y=1760.tif', '/home/jonathan/UrbanizedAreasSegmentation/data/processed/S2-16D_V2_032027/6x6_subtiles/S2-16D_V2_032027_x=1760_y=0.tif', '/home/jonathan/UrbanizedAreasSegmentation/data/processed/S2-16D_V2_032027/6x6_subtiles/S2-16D_V2_032027_x=5280_y=0.tif', '/home/jonathan/UrbanizedAreasSegmentation/data/processed/S2-16D_V2_032027/6x6_subtiles/S2-16D_V2_032027_x=1760_y=7040.tif', '/home/jonathan/UrbanizedAreasSegmentation/data/processed/S2-16D_V2_032027/6x6_subtiles/S2-16D_V2_032027_x=8800_y=7040.tif', '/home/jonathan/UrbanizedAreasSegmentation/data/processed/S2-16D_V2_032027/6x6_subtiles/S2-16D_V2_032027_x=8800_y=5280.tif'], 'tiles': ['032027'], 'train_files': ['/home/jonathan/UrbanizedAreasSegmentation/data/processed/S2-16D_V2_032027/6x6_subtiles/S2-16D_V2_032027_x=1760_y=1760.tif', '/home/jonathan/UrbanizedAreasSegmentation/data/processed/S2-16D_V2_032027/6x6_subtiles/S2-16D_V2_032027_x=5280_y=3520.tif', '/home/jonathan/UrbanizedAreasSegmentation/data/processed/S2-16D_V2_032027/6x6_subtiles/S2-16D_V2_032027_x=3520_y=0.tif', '/home/jonathan/UrbanizedAreasSegmentation/data/processed/S2-16D_V2_032027/6x6_subtiles/S2-16D_V2_032027_x=3520_y=1760.tif', '/home/jonathan/UrbanizedAreasSegmentation/data/processed/S2-16D_V2_032027/6x6_subtiles/S2-16D_V2_032027_x=7040_y=1760.tif', '/home/jonathan/UrbanizedAreasSegmentation/data/processed/S2-16D_V2_032027/6x6_subtiles/S2-16D_V2_032027_x=0_y=8800.tif', '/home/jonathan/UrbanizedAreasSegmentation/data/processed/S2-16D_V2_032027/6x6_subtiles/S2-16D_V2_032027_x=7040_y=5280.tif', '/home/jonathan/UrbanizedAreasSegmentation/data/processed/S2-16D_V2_032027/6x6_subtiles/S2-16D_V2_032027_x=8800_y=0.tif', '/home/jonathan/UrbanizedAreasSegmentation/data/processed/S2-16D_V2_032027/6x6_subtiles/S2-16D_V2_032027_x=7040_y=0.tif', '/home/jonathan/UrbanizedAreasSegmentation/data/processed/S2-16D_V2_032027/6x6_subtiles/S2-16D_V2_032027_x=3520_y=8800.tif', '/home/jonathan/UrbanizedAreasSegmentation/data/processed/S2-16D_V2_032027/6x6_subtiles/S2-16D_V2_032027_x=8800_y=3520.tif', '/home/jonathan/UrbanizedAreasSegmentation/data/processed/S2-16D_V2_032027/6x6_subtiles/S2-16D_V2_032027_x=0_y=3520.tif', '/home/jonathan/UrbanizedAreasSegmentation/data/processed/S2-16D_V2_032027/6x6_subtiles/S2-16D_V2_032027_x=5280_y=5280.tif', '/home/jonathan/UrbanizedAreasSegmentation/data/processed/S2-16D_V2_032027/6x6_subtiles/S2-16D_V2_032027_x=5280_y=1760.tif', '/home/jonathan/UrbanizedAreasSegmentation/data/processed/S2-16D_V2_032027/6x6_subtiles/S2-16D_V2_032027_x=7040_y=8800.tif', '/home/jonathan/UrbanizedAreasSegmentation/data/processed/S2-16D_V2_032027/6x6_subtiles/S2-16D_V2_032027_x=3520_y=5280.tif', '/home/jonathan/UrbanizedAreasSegmentation/data/processed/S2-16D_V2_032027/6x6_subtiles/S2-16D_V2_032027_x=1760_y=8800.tif', '/home/jonathan/UrbanizedAreasSegmentation/data/processed/S2-16D_V2_032027/6x6_subtiles/S2-16D_V2_032027_x=8800_y=1760.tif', '/home/jonathan/UrbanizedAreasSegmentation/data/processed/S2-16D_V2_032027/6x6_subtiles/S2-16D_V2_032027_x=1760_y=3520.tif', '/home/jonathan/UrbanizedAreasSegmentation/data/processed/S2-16D_V2_032027/6x6_subtiles/S2-16D_V2_032027_x=7040_y=7040.tif', '/home/jonathan/UrbanizedAreasSegmentation/data/processed/S2-16D_V2_032027/6x6_subtiles/S2-16D_V2_032027_x=1760_y=5280.tif', '/home/jonathan/UrbanizedAreasSegmentation/data/processed/S2-16D_V2_032027/6x6_subtiles/S2-16D_V2_032027_x=0_y=5280.tif'], 'val_files': ['/home/jonathan/UrbanizedAreasSegmentation/data/processed/S2-16D_V2_032027/6x6_subtiles/S2-16D_V2_032027_x=3520_y=3520.tif', '/home/jonathan/UrbanizedAreasSegmentation/data/processed/S2-16D_V2_032027/6x6_subtiles/S2-16D_V2_032027_x=0_y=0.tif', '/home/jonathan/UrbanizedAreasSegmentation/data/processed/S2-16D_V2_032027/6x6_subtiles/S2-16D_V2_032027_x=5280_y=7040.tif', '/home/jonathan/UrbanizedAreasSegmentation/data/processed/S2-16D_V2_032027/6x6_subtiles/S2-16D_V2_032027_x=5280_y=8800.tif', '/home/jonathan/UrbanizedAreasSegmentation/data/processed/S2-16D_V2_032027/6x6_subtiles/S2-16D_V2_032027_x=0_y=7040.tif', '/home/jonathan/UrbanizedAreasSegmentation/data/processed/S2-16D_V2_032027/6x6_subtiles/S2-16D_V2_032027_x=7040_y=3520.tif', '/home/jonathan/UrbanizedAreasSegmentation/data/processed/S2-16D_V2_032027/6x6_subtiles/S2-16D_V2_032027_x=3520_y=7040.tif']}\n",
      "/home/jonathan/UrbanizedAreasSegmentation/config/dataset_6-subtiles_mode-type_patchsize-64_stride-64_dynamicsampling-False_dataaugmentation-False_set-val_filestrain_val_test_split-6_subtiles-032027-stratified_by_type.pkl\n",
      "Loading instance from /home/jonathan/UrbanizedAreasSegmentation/config/dataset_6-subtiles_mode-type_patchsize-64_stride-64_dynamicsampling-False_dataaugmentation-False_set-val_filestrain_val_test_split-6_subtiles-032027-stratified_by_type.pkl\n",
      "Instance saved to /home/jonathan/UrbanizedAreasSegmentation/config/dataset_6-subtiles_mode-type_patchsize-64_stride-64_dynamicsampling-False_dataaugmentation-False_set-val_filestrain_val_test_split-6_subtiles-032027-stratified_by_type.pkl\n",
      "Dataset info:\n",
      "64 True 24127 1507.9375\n",
      "64 True 5488 343.0\n",
      "Loading:  <function yaml_filename at 0x717e64ff3400>\n",
      "{'num_subtiles': 6, 'test_files': ['/home/jonathan/UrbanizedAreasSegmentation/data/processed/S2-16D_V2_032027/6x6_subtiles/S2-16D_V2_032027_x=8800_y=8800.tif', '/home/jonathan/UrbanizedAreasSegmentation/data/processed/S2-16D_V2_032027/6x6_subtiles/S2-16D_V2_032027_x=0_y=1760.tif', '/home/jonathan/UrbanizedAreasSegmentation/data/processed/S2-16D_V2_032027/6x6_subtiles/S2-16D_V2_032027_x=1760_y=0.tif', '/home/jonathan/UrbanizedAreasSegmentation/data/processed/S2-16D_V2_032027/6x6_subtiles/S2-16D_V2_032027_x=5280_y=0.tif', '/home/jonathan/UrbanizedAreasSegmentation/data/processed/S2-16D_V2_032027/6x6_subtiles/S2-16D_V2_032027_x=1760_y=7040.tif', '/home/jonathan/UrbanizedAreasSegmentation/data/processed/S2-16D_V2_032027/6x6_subtiles/S2-16D_V2_032027_x=8800_y=7040.tif', '/home/jonathan/UrbanizedAreasSegmentation/data/processed/S2-16D_V2_032027/6x6_subtiles/S2-16D_V2_032027_x=8800_y=5280.tif'], 'tiles': ['032027'], 'train_files': ['/home/jonathan/UrbanizedAreasSegmentation/data/processed/S2-16D_V2_032027/6x6_subtiles/S2-16D_V2_032027_x=1760_y=1760.tif', '/home/jonathan/UrbanizedAreasSegmentation/data/processed/S2-16D_V2_032027/6x6_subtiles/S2-16D_V2_032027_x=5280_y=3520.tif', '/home/jonathan/UrbanizedAreasSegmentation/data/processed/S2-16D_V2_032027/6x6_subtiles/S2-16D_V2_032027_x=3520_y=0.tif', '/home/jonathan/UrbanizedAreasSegmentation/data/processed/S2-16D_V2_032027/6x6_subtiles/S2-16D_V2_032027_x=3520_y=1760.tif', '/home/jonathan/UrbanizedAreasSegmentation/data/processed/S2-16D_V2_032027/6x6_subtiles/S2-16D_V2_032027_x=7040_y=1760.tif', '/home/jonathan/UrbanizedAreasSegmentation/data/processed/S2-16D_V2_032027/6x6_subtiles/S2-16D_V2_032027_x=0_y=8800.tif', '/home/jonathan/UrbanizedAreasSegmentation/data/processed/S2-16D_V2_032027/6x6_subtiles/S2-16D_V2_032027_x=7040_y=5280.tif', '/home/jonathan/UrbanizedAreasSegmentation/data/processed/S2-16D_V2_032027/6x6_subtiles/S2-16D_V2_032027_x=8800_y=0.tif', '/home/jonathan/UrbanizedAreasSegmentation/data/processed/S2-16D_V2_032027/6x6_subtiles/S2-16D_V2_032027_x=7040_y=0.tif', '/home/jonathan/UrbanizedAreasSegmentation/data/processed/S2-16D_V2_032027/6x6_subtiles/S2-16D_V2_032027_x=3520_y=8800.tif', '/home/jonathan/UrbanizedAreasSegmentation/data/processed/S2-16D_V2_032027/6x6_subtiles/S2-16D_V2_032027_x=8800_y=3520.tif', '/home/jonathan/UrbanizedAreasSegmentation/data/processed/S2-16D_V2_032027/6x6_subtiles/S2-16D_V2_032027_x=0_y=3520.tif', '/home/jonathan/UrbanizedAreasSegmentation/data/processed/S2-16D_V2_032027/6x6_subtiles/S2-16D_V2_032027_x=5280_y=5280.tif', '/home/jonathan/UrbanizedAreasSegmentation/data/processed/S2-16D_V2_032027/6x6_subtiles/S2-16D_V2_032027_x=5280_y=1760.tif', '/home/jonathan/UrbanizedAreasSegmentation/data/processed/S2-16D_V2_032027/6x6_subtiles/S2-16D_V2_032027_x=7040_y=8800.tif', '/home/jonathan/UrbanizedAreasSegmentation/data/processed/S2-16D_V2_032027/6x6_subtiles/S2-16D_V2_032027_x=3520_y=5280.tif', '/home/jonathan/UrbanizedAreasSegmentation/data/processed/S2-16D_V2_032027/6x6_subtiles/S2-16D_V2_032027_x=1760_y=8800.tif', '/home/jonathan/UrbanizedAreasSegmentation/data/processed/S2-16D_V2_032027/6x6_subtiles/S2-16D_V2_032027_x=8800_y=1760.tif', '/home/jonathan/UrbanizedAreasSegmentation/data/processed/S2-16D_V2_032027/6x6_subtiles/S2-16D_V2_032027_x=1760_y=3520.tif', '/home/jonathan/UrbanizedAreasSegmentation/data/processed/S2-16D_V2_032027/6x6_subtiles/S2-16D_V2_032027_x=7040_y=7040.tif', '/home/jonathan/UrbanizedAreasSegmentation/data/processed/S2-16D_V2_032027/6x6_subtiles/S2-16D_V2_032027_x=1760_y=5280.tif', '/home/jonathan/UrbanizedAreasSegmentation/data/processed/S2-16D_V2_032027/6x6_subtiles/S2-16D_V2_032027_x=0_y=5280.tif'], 'val_files': ['/home/jonathan/UrbanizedAreasSegmentation/data/processed/S2-16D_V2_032027/6x6_subtiles/S2-16D_V2_032027_x=3520_y=3520.tif', '/home/jonathan/UrbanizedAreasSegmentation/data/processed/S2-16D_V2_032027/6x6_subtiles/S2-16D_V2_032027_x=0_y=0.tif', '/home/jonathan/UrbanizedAreasSegmentation/data/processed/S2-16D_V2_032027/6x6_subtiles/S2-16D_V2_032027_x=5280_y=7040.tif', '/home/jonathan/UrbanizedAreasSegmentation/data/processed/S2-16D_V2_032027/6x6_subtiles/S2-16D_V2_032027_x=5280_y=8800.tif', '/home/jonathan/UrbanizedAreasSegmentation/data/processed/S2-16D_V2_032027/6x6_subtiles/S2-16D_V2_032027_x=0_y=7040.tif', '/home/jonathan/UrbanizedAreasSegmentation/data/processed/S2-16D_V2_032027/6x6_subtiles/S2-16D_V2_032027_x=7040_y=3520.tif', '/home/jonathan/UrbanizedAreasSegmentation/data/processed/S2-16D_V2_032027/6x6_subtiles/S2-16D_V2_032027_x=3520_y=7040.tif']}\n",
      "/home/jonathan/UrbanizedAreasSegmentation/config/dataset_6-subtiles_mode-type_patchsize-224_stride-224_dynamicsampling-True_dataaugmentation-False_set-train_filestrain_val_test_split-6_subtiles-032027-stratified_by_type.pkl\n",
      "Loading instance from /home/jonathan/UrbanizedAreasSegmentation/config/dataset_6-subtiles_mode-type_patchsize-224_stride-224_dynamicsampling-True_dataaugmentation-False_set-train_filestrain_val_test_split-6_subtiles-032027-stratified_by_type.pkl\n",
      "Instance saved to /home/jonathan/UrbanizedAreasSegmentation/config/dataset_6-subtiles_mode-type_patchsize-224_stride-224_dynamicsampling-True_dataaugmentation-False_set-train_filestrain_val_test_split-6_subtiles-032027-stratified_by_type.pkl\n",
      "Loading:  <function yaml_filename at 0x717e64ff3400>\n",
      "{'num_subtiles': 6, 'test_files': ['/home/jonathan/UrbanizedAreasSegmentation/data/processed/S2-16D_V2_032027/6x6_subtiles/S2-16D_V2_032027_x=8800_y=8800.tif', '/home/jonathan/UrbanizedAreasSegmentation/data/processed/S2-16D_V2_032027/6x6_subtiles/S2-16D_V2_032027_x=0_y=1760.tif', '/home/jonathan/UrbanizedAreasSegmentation/data/processed/S2-16D_V2_032027/6x6_subtiles/S2-16D_V2_032027_x=1760_y=0.tif', '/home/jonathan/UrbanizedAreasSegmentation/data/processed/S2-16D_V2_032027/6x6_subtiles/S2-16D_V2_032027_x=5280_y=0.tif', '/home/jonathan/UrbanizedAreasSegmentation/data/processed/S2-16D_V2_032027/6x6_subtiles/S2-16D_V2_032027_x=1760_y=7040.tif', '/home/jonathan/UrbanizedAreasSegmentation/data/processed/S2-16D_V2_032027/6x6_subtiles/S2-16D_V2_032027_x=8800_y=7040.tif', '/home/jonathan/UrbanizedAreasSegmentation/data/processed/S2-16D_V2_032027/6x6_subtiles/S2-16D_V2_032027_x=8800_y=5280.tif'], 'tiles': ['032027'], 'train_files': ['/home/jonathan/UrbanizedAreasSegmentation/data/processed/S2-16D_V2_032027/6x6_subtiles/S2-16D_V2_032027_x=1760_y=1760.tif', '/home/jonathan/UrbanizedAreasSegmentation/data/processed/S2-16D_V2_032027/6x6_subtiles/S2-16D_V2_032027_x=5280_y=3520.tif', '/home/jonathan/UrbanizedAreasSegmentation/data/processed/S2-16D_V2_032027/6x6_subtiles/S2-16D_V2_032027_x=3520_y=0.tif', '/home/jonathan/UrbanizedAreasSegmentation/data/processed/S2-16D_V2_032027/6x6_subtiles/S2-16D_V2_032027_x=3520_y=1760.tif', '/home/jonathan/UrbanizedAreasSegmentation/data/processed/S2-16D_V2_032027/6x6_subtiles/S2-16D_V2_032027_x=7040_y=1760.tif', '/home/jonathan/UrbanizedAreasSegmentation/data/processed/S2-16D_V2_032027/6x6_subtiles/S2-16D_V2_032027_x=0_y=8800.tif', '/home/jonathan/UrbanizedAreasSegmentation/data/processed/S2-16D_V2_032027/6x6_subtiles/S2-16D_V2_032027_x=7040_y=5280.tif', '/home/jonathan/UrbanizedAreasSegmentation/data/processed/S2-16D_V2_032027/6x6_subtiles/S2-16D_V2_032027_x=8800_y=0.tif', '/home/jonathan/UrbanizedAreasSegmentation/data/processed/S2-16D_V2_032027/6x6_subtiles/S2-16D_V2_032027_x=7040_y=0.tif', '/home/jonathan/UrbanizedAreasSegmentation/data/processed/S2-16D_V2_032027/6x6_subtiles/S2-16D_V2_032027_x=3520_y=8800.tif', '/home/jonathan/UrbanizedAreasSegmentation/data/processed/S2-16D_V2_032027/6x6_subtiles/S2-16D_V2_032027_x=8800_y=3520.tif', '/home/jonathan/UrbanizedAreasSegmentation/data/processed/S2-16D_V2_032027/6x6_subtiles/S2-16D_V2_032027_x=0_y=3520.tif', '/home/jonathan/UrbanizedAreasSegmentation/data/processed/S2-16D_V2_032027/6x6_subtiles/S2-16D_V2_032027_x=5280_y=5280.tif', '/home/jonathan/UrbanizedAreasSegmentation/data/processed/S2-16D_V2_032027/6x6_subtiles/S2-16D_V2_032027_x=5280_y=1760.tif', '/home/jonathan/UrbanizedAreasSegmentation/data/processed/S2-16D_V2_032027/6x6_subtiles/S2-16D_V2_032027_x=7040_y=8800.tif', '/home/jonathan/UrbanizedAreasSegmentation/data/processed/S2-16D_V2_032027/6x6_subtiles/S2-16D_V2_032027_x=3520_y=5280.tif', '/home/jonathan/UrbanizedAreasSegmentation/data/processed/S2-16D_V2_032027/6x6_subtiles/S2-16D_V2_032027_x=1760_y=8800.tif', '/home/jonathan/UrbanizedAreasSegmentation/data/processed/S2-16D_V2_032027/6x6_subtiles/S2-16D_V2_032027_x=8800_y=1760.tif', '/home/jonathan/UrbanizedAreasSegmentation/data/processed/S2-16D_V2_032027/6x6_subtiles/S2-16D_V2_032027_x=1760_y=3520.tif', '/home/jonathan/UrbanizedAreasSegmentation/data/processed/S2-16D_V2_032027/6x6_subtiles/S2-16D_V2_032027_x=7040_y=7040.tif', '/home/jonathan/UrbanizedAreasSegmentation/data/processed/S2-16D_V2_032027/6x6_subtiles/S2-16D_V2_032027_x=1760_y=5280.tif', '/home/jonathan/UrbanizedAreasSegmentation/data/processed/S2-16D_V2_032027/6x6_subtiles/S2-16D_V2_032027_x=0_y=5280.tif'], 'val_files': ['/home/jonathan/UrbanizedAreasSegmentation/data/processed/S2-16D_V2_032027/6x6_subtiles/S2-16D_V2_032027_x=3520_y=3520.tif', '/home/jonathan/UrbanizedAreasSegmentation/data/processed/S2-16D_V2_032027/6x6_subtiles/S2-16D_V2_032027_x=0_y=0.tif', '/home/jonathan/UrbanizedAreasSegmentation/data/processed/S2-16D_V2_032027/6x6_subtiles/S2-16D_V2_032027_x=5280_y=7040.tif', '/home/jonathan/UrbanizedAreasSegmentation/data/processed/S2-16D_V2_032027/6x6_subtiles/S2-16D_V2_032027_x=5280_y=8800.tif', '/home/jonathan/UrbanizedAreasSegmentation/data/processed/S2-16D_V2_032027/6x6_subtiles/S2-16D_V2_032027_x=0_y=7040.tif', '/home/jonathan/UrbanizedAreasSegmentation/data/processed/S2-16D_V2_032027/6x6_subtiles/S2-16D_V2_032027_x=7040_y=3520.tif', '/home/jonathan/UrbanizedAreasSegmentation/data/processed/S2-16D_V2_032027/6x6_subtiles/S2-16D_V2_032027_x=3520_y=7040.tif']}\n",
      "/home/jonathan/UrbanizedAreasSegmentation/config/dataset_6-subtiles_mode-type_patchsize-224_stride-224_dynamicsampling-False_dataaugmentation-False_set-val_filestrain_val_test_split-6_subtiles-032027-stratified_by_type.pkl\n",
      "Loading instance from /home/jonathan/UrbanizedAreasSegmentation/config/dataset_6-subtiles_mode-type_patchsize-224_stride-224_dynamicsampling-False_dataaugmentation-False_set-val_filestrain_val_test_split-6_subtiles-032027-stratified_by_type.pkl\n",
      "Instance saved to /home/jonathan/UrbanizedAreasSegmentation/config/dataset_6-subtiles_mode-type_patchsize-224_stride-224_dynamicsampling-False_dataaugmentation-False_set-val_filestrain_val_test_split-6_subtiles-032027-stratified_by_type.pkl\n",
      "Dataset info:\n",
      "224 True 4043 252.6875\n",
      "224 True 448 28.0\n",
      "Loading:  <function yaml_filename at 0x717e64ff3400>\n",
      "{'num_subtiles': 6, 'test_files': ['/home/jonathan/UrbanizedAreasSegmentation/data/processed/S2-16D_V2_032027/6x6_subtiles/S2-16D_V2_032027_x=8800_y=8800.tif', '/home/jonathan/UrbanizedAreasSegmentation/data/processed/S2-16D_V2_032027/6x6_subtiles/S2-16D_V2_032027_x=0_y=1760.tif', '/home/jonathan/UrbanizedAreasSegmentation/data/processed/S2-16D_V2_032027/6x6_subtiles/S2-16D_V2_032027_x=1760_y=0.tif', '/home/jonathan/UrbanizedAreasSegmentation/data/processed/S2-16D_V2_032027/6x6_subtiles/S2-16D_V2_032027_x=5280_y=0.tif', '/home/jonathan/UrbanizedAreasSegmentation/data/processed/S2-16D_V2_032027/6x6_subtiles/S2-16D_V2_032027_x=1760_y=7040.tif', '/home/jonathan/UrbanizedAreasSegmentation/data/processed/S2-16D_V2_032027/6x6_subtiles/S2-16D_V2_032027_x=8800_y=7040.tif', '/home/jonathan/UrbanizedAreasSegmentation/data/processed/S2-16D_V2_032027/6x6_subtiles/S2-16D_V2_032027_x=8800_y=5280.tif'], 'tiles': ['032027'], 'train_files': ['/home/jonathan/UrbanizedAreasSegmentation/data/processed/S2-16D_V2_032027/6x6_subtiles/S2-16D_V2_032027_x=1760_y=1760.tif', '/home/jonathan/UrbanizedAreasSegmentation/data/processed/S2-16D_V2_032027/6x6_subtiles/S2-16D_V2_032027_x=5280_y=3520.tif', '/home/jonathan/UrbanizedAreasSegmentation/data/processed/S2-16D_V2_032027/6x6_subtiles/S2-16D_V2_032027_x=3520_y=0.tif', '/home/jonathan/UrbanizedAreasSegmentation/data/processed/S2-16D_V2_032027/6x6_subtiles/S2-16D_V2_032027_x=3520_y=1760.tif', '/home/jonathan/UrbanizedAreasSegmentation/data/processed/S2-16D_V2_032027/6x6_subtiles/S2-16D_V2_032027_x=7040_y=1760.tif', '/home/jonathan/UrbanizedAreasSegmentation/data/processed/S2-16D_V2_032027/6x6_subtiles/S2-16D_V2_032027_x=0_y=8800.tif', '/home/jonathan/UrbanizedAreasSegmentation/data/processed/S2-16D_V2_032027/6x6_subtiles/S2-16D_V2_032027_x=7040_y=5280.tif', '/home/jonathan/UrbanizedAreasSegmentation/data/processed/S2-16D_V2_032027/6x6_subtiles/S2-16D_V2_032027_x=8800_y=0.tif', '/home/jonathan/UrbanizedAreasSegmentation/data/processed/S2-16D_V2_032027/6x6_subtiles/S2-16D_V2_032027_x=7040_y=0.tif', '/home/jonathan/UrbanizedAreasSegmentation/data/processed/S2-16D_V2_032027/6x6_subtiles/S2-16D_V2_032027_x=3520_y=8800.tif', '/home/jonathan/UrbanizedAreasSegmentation/data/processed/S2-16D_V2_032027/6x6_subtiles/S2-16D_V2_032027_x=8800_y=3520.tif', '/home/jonathan/UrbanizedAreasSegmentation/data/processed/S2-16D_V2_032027/6x6_subtiles/S2-16D_V2_032027_x=0_y=3520.tif', '/home/jonathan/UrbanizedAreasSegmentation/data/processed/S2-16D_V2_032027/6x6_subtiles/S2-16D_V2_032027_x=5280_y=5280.tif', '/home/jonathan/UrbanizedAreasSegmentation/data/processed/S2-16D_V2_032027/6x6_subtiles/S2-16D_V2_032027_x=5280_y=1760.tif', '/home/jonathan/UrbanizedAreasSegmentation/data/processed/S2-16D_V2_032027/6x6_subtiles/S2-16D_V2_032027_x=7040_y=8800.tif', '/home/jonathan/UrbanizedAreasSegmentation/data/processed/S2-16D_V2_032027/6x6_subtiles/S2-16D_V2_032027_x=3520_y=5280.tif', '/home/jonathan/UrbanizedAreasSegmentation/data/processed/S2-16D_V2_032027/6x6_subtiles/S2-16D_V2_032027_x=1760_y=8800.tif', '/home/jonathan/UrbanizedAreasSegmentation/data/processed/S2-16D_V2_032027/6x6_subtiles/S2-16D_V2_032027_x=8800_y=1760.tif', '/home/jonathan/UrbanizedAreasSegmentation/data/processed/S2-16D_V2_032027/6x6_subtiles/S2-16D_V2_032027_x=1760_y=3520.tif', '/home/jonathan/UrbanizedAreasSegmentation/data/processed/S2-16D_V2_032027/6x6_subtiles/S2-16D_V2_032027_x=7040_y=7040.tif', '/home/jonathan/UrbanizedAreasSegmentation/data/processed/S2-16D_V2_032027/6x6_subtiles/S2-16D_V2_032027_x=1760_y=5280.tif', '/home/jonathan/UrbanizedAreasSegmentation/data/processed/S2-16D_V2_032027/6x6_subtiles/S2-16D_V2_032027_x=0_y=5280.tif'], 'val_files': ['/home/jonathan/UrbanizedAreasSegmentation/data/processed/S2-16D_V2_032027/6x6_subtiles/S2-16D_V2_032027_x=3520_y=3520.tif', '/home/jonathan/UrbanizedAreasSegmentation/data/processed/S2-16D_V2_032027/6x6_subtiles/S2-16D_V2_032027_x=0_y=0.tif', '/home/jonathan/UrbanizedAreasSegmentation/data/processed/S2-16D_V2_032027/6x6_subtiles/S2-16D_V2_032027_x=5280_y=7040.tif', '/home/jonathan/UrbanizedAreasSegmentation/data/processed/S2-16D_V2_032027/6x6_subtiles/S2-16D_V2_032027_x=5280_y=8800.tif', '/home/jonathan/UrbanizedAreasSegmentation/data/processed/S2-16D_V2_032027/6x6_subtiles/S2-16D_V2_032027_x=0_y=7040.tif', '/home/jonathan/UrbanizedAreasSegmentation/data/processed/S2-16D_V2_032027/6x6_subtiles/S2-16D_V2_032027_x=7040_y=3520.tif', '/home/jonathan/UrbanizedAreasSegmentation/data/processed/S2-16D_V2_032027/6x6_subtiles/S2-16D_V2_032027_x=3520_y=7040.tif']}\n",
      "/home/jonathan/UrbanizedAreasSegmentation/config/dataset_6-subtiles_mode-type_patchsize-256_stride-256_dynamicsampling-True_dataaugmentation-False_set-train_filestrain_val_test_split-6_subtiles-032027-stratified_by_type.pkl\n",
      "Loading instance from /home/jonathan/UrbanizedAreasSegmentation/config/dataset_6-subtiles_mode-type_patchsize-256_stride-256_dynamicsampling-True_dataaugmentation-False_set-train_filestrain_val_test_split-6_subtiles-032027-stratified_by_type.pkl\n",
      "Instance saved to /home/jonathan/UrbanizedAreasSegmentation/config/dataset_6-subtiles_mode-type_patchsize-256_stride-256_dynamicsampling-True_dataaugmentation-False_set-train_filestrain_val_test_split-6_subtiles-032027-stratified_by_type.pkl\n",
      "Loading:  <function yaml_filename at 0x717e64ff3400>\n",
      "{'num_subtiles': 6, 'test_files': ['/home/jonathan/UrbanizedAreasSegmentation/data/processed/S2-16D_V2_032027/6x6_subtiles/S2-16D_V2_032027_x=8800_y=8800.tif', '/home/jonathan/UrbanizedAreasSegmentation/data/processed/S2-16D_V2_032027/6x6_subtiles/S2-16D_V2_032027_x=0_y=1760.tif', '/home/jonathan/UrbanizedAreasSegmentation/data/processed/S2-16D_V2_032027/6x6_subtiles/S2-16D_V2_032027_x=1760_y=0.tif', '/home/jonathan/UrbanizedAreasSegmentation/data/processed/S2-16D_V2_032027/6x6_subtiles/S2-16D_V2_032027_x=5280_y=0.tif', '/home/jonathan/UrbanizedAreasSegmentation/data/processed/S2-16D_V2_032027/6x6_subtiles/S2-16D_V2_032027_x=1760_y=7040.tif', '/home/jonathan/UrbanizedAreasSegmentation/data/processed/S2-16D_V2_032027/6x6_subtiles/S2-16D_V2_032027_x=8800_y=7040.tif', '/home/jonathan/UrbanizedAreasSegmentation/data/processed/S2-16D_V2_032027/6x6_subtiles/S2-16D_V2_032027_x=8800_y=5280.tif'], 'tiles': ['032027'], 'train_files': ['/home/jonathan/UrbanizedAreasSegmentation/data/processed/S2-16D_V2_032027/6x6_subtiles/S2-16D_V2_032027_x=1760_y=1760.tif', '/home/jonathan/UrbanizedAreasSegmentation/data/processed/S2-16D_V2_032027/6x6_subtiles/S2-16D_V2_032027_x=5280_y=3520.tif', '/home/jonathan/UrbanizedAreasSegmentation/data/processed/S2-16D_V2_032027/6x6_subtiles/S2-16D_V2_032027_x=3520_y=0.tif', '/home/jonathan/UrbanizedAreasSegmentation/data/processed/S2-16D_V2_032027/6x6_subtiles/S2-16D_V2_032027_x=3520_y=1760.tif', '/home/jonathan/UrbanizedAreasSegmentation/data/processed/S2-16D_V2_032027/6x6_subtiles/S2-16D_V2_032027_x=7040_y=1760.tif', '/home/jonathan/UrbanizedAreasSegmentation/data/processed/S2-16D_V2_032027/6x6_subtiles/S2-16D_V2_032027_x=0_y=8800.tif', '/home/jonathan/UrbanizedAreasSegmentation/data/processed/S2-16D_V2_032027/6x6_subtiles/S2-16D_V2_032027_x=7040_y=5280.tif', '/home/jonathan/UrbanizedAreasSegmentation/data/processed/S2-16D_V2_032027/6x6_subtiles/S2-16D_V2_032027_x=8800_y=0.tif', '/home/jonathan/UrbanizedAreasSegmentation/data/processed/S2-16D_V2_032027/6x6_subtiles/S2-16D_V2_032027_x=7040_y=0.tif', '/home/jonathan/UrbanizedAreasSegmentation/data/processed/S2-16D_V2_032027/6x6_subtiles/S2-16D_V2_032027_x=3520_y=8800.tif', '/home/jonathan/UrbanizedAreasSegmentation/data/processed/S2-16D_V2_032027/6x6_subtiles/S2-16D_V2_032027_x=8800_y=3520.tif', '/home/jonathan/UrbanizedAreasSegmentation/data/processed/S2-16D_V2_032027/6x6_subtiles/S2-16D_V2_032027_x=0_y=3520.tif', '/home/jonathan/UrbanizedAreasSegmentation/data/processed/S2-16D_V2_032027/6x6_subtiles/S2-16D_V2_032027_x=5280_y=5280.tif', '/home/jonathan/UrbanizedAreasSegmentation/data/processed/S2-16D_V2_032027/6x6_subtiles/S2-16D_V2_032027_x=5280_y=1760.tif', '/home/jonathan/UrbanizedAreasSegmentation/data/processed/S2-16D_V2_032027/6x6_subtiles/S2-16D_V2_032027_x=7040_y=8800.tif', '/home/jonathan/UrbanizedAreasSegmentation/data/processed/S2-16D_V2_032027/6x6_subtiles/S2-16D_V2_032027_x=3520_y=5280.tif', '/home/jonathan/UrbanizedAreasSegmentation/data/processed/S2-16D_V2_032027/6x6_subtiles/S2-16D_V2_032027_x=1760_y=8800.tif', '/home/jonathan/UrbanizedAreasSegmentation/data/processed/S2-16D_V2_032027/6x6_subtiles/S2-16D_V2_032027_x=8800_y=1760.tif', '/home/jonathan/UrbanizedAreasSegmentation/data/processed/S2-16D_V2_032027/6x6_subtiles/S2-16D_V2_032027_x=1760_y=3520.tif', '/home/jonathan/UrbanizedAreasSegmentation/data/processed/S2-16D_V2_032027/6x6_subtiles/S2-16D_V2_032027_x=7040_y=7040.tif', '/home/jonathan/UrbanizedAreasSegmentation/data/processed/S2-16D_V2_032027/6x6_subtiles/S2-16D_V2_032027_x=1760_y=5280.tif', '/home/jonathan/UrbanizedAreasSegmentation/data/processed/S2-16D_V2_032027/6x6_subtiles/S2-16D_V2_032027_x=0_y=5280.tif'], 'val_files': ['/home/jonathan/UrbanizedAreasSegmentation/data/processed/S2-16D_V2_032027/6x6_subtiles/S2-16D_V2_032027_x=3520_y=3520.tif', '/home/jonathan/UrbanizedAreasSegmentation/data/processed/S2-16D_V2_032027/6x6_subtiles/S2-16D_V2_032027_x=0_y=0.tif', '/home/jonathan/UrbanizedAreasSegmentation/data/processed/S2-16D_V2_032027/6x6_subtiles/S2-16D_V2_032027_x=5280_y=7040.tif', '/home/jonathan/UrbanizedAreasSegmentation/data/processed/S2-16D_V2_032027/6x6_subtiles/S2-16D_V2_032027_x=5280_y=8800.tif', '/home/jonathan/UrbanizedAreasSegmentation/data/processed/S2-16D_V2_032027/6x6_subtiles/S2-16D_V2_032027_x=0_y=7040.tif', '/home/jonathan/UrbanizedAreasSegmentation/data/processed/S2-16D_V2_032027/6x6_subtiles/S2-16D_V2_032027_x=7040_y=3520.tif', '/home/jonathan/UrbanizedAreasSegmentation/data/processed/S2-16D_V2_032027/6x6_subtiles/S2-16D_V2_032027_x=3520_y=7040.tif']}\n",
      "/home/jonathan/UrbanizedAreasSegmentation/config/dataset_6-subtiles_mode-type_patchsize-256_stride-256_dynamicsampling-False_dataaugmentation-False_set-val_filestrain_val_test_split-6_subtiles-032027-stratified_by_type.pkl\n",
      "Loading instance from /home/jonathan/UrbanizedAreasSegmentation/config/dataset_6-subtiles_mode-type_patchsize-256_stride-256_dynamicsampling-False_dataaugmentation-False_set-val_filestrain_val_test_split-6_subtiles-032027-stratified_by_type.pkl\n",
      "Instance saved to /home/jonathan/UrbanizedAreasSegmentation/config/dataset_6-subtiles_mode-type_patchsize-256_stride-256_dynamicsampling-False_dataaugmentation-False_set-val_filestrain_val_test_split-6_subtiles-032027-stratified_by_type.pkl\n",
      "Dataset info:\n",
      "256 True 2685 167.8125\n",
      "256 True 343 21.4375\n",
      "Loading:  <function yaml_filename at 0x717e64ff3400>\n",
      "{'num_subtiles': 6, 'test_files': ['/home/jonathan/UrbanizedAreasSegmentation/data/processed/S2-16D_V2_032027/6x6_subtiles/S2-16D_V2_032027_x=8800_y=8800.tif', '/home/jonathan/UrbanizedAreasSegmentation/data/processed/S2-16D_V2_032027/6x6_subtiles/S2-16D_V2_032027_x=0_y=1760.tif', '/home/jonathan/UrbanizedAreasSegmentation/data/processed/S2-16D_V2_032027/6x6_subtiles/S2-16D_V2_032027_x=1760_y=0.tif', '/home/jonathan/UrbanizedAreasSegmentation/data/processed/S2-16D_V2_032027/6x6_subtiles/S2-16D_V2_032027_x=5280_y=0.tif', '/home/jonathan/UrbanizedAreasSegmentation/data/processed/S2-16D_V2_032027/6x6_subtiles/S2-16D_V2_032027_x=1760_y=7040.tif', '/home/jonathan/UrbanizedAreasSegmentation/data/processed/S2-16D_V2_032027/6x6_subtiles/S2-16D_V2_032027_x=8800_y=7040.tif', '/home/jonathan/UrbanizedAreasSegmentation/data/processed/S2-16D_V2_032027/6x6_subtiles/S2-16D_V2_032027_x=8800_y=5280.tif'], 'tiles': ['032027'], 'train_files': ['/home/jonathan/UrbanizedAreasSegmentation/data/processed/S2-16D_V2_032027/6x6_subtiles/S2-16D_V2_032027_x=1760_y=1760.tif', '/home/jonathan/UrbanizedAreasSegmentation/data/processed/S2-16D_V2_032027/6x6_subtiles/S2-16D_V2_032027_x=5280_y=3520.tif', '/home/jonathan/UrbanizedAreasSegmentation/data/processed/S2-16D_V2_032027/6x6_subtiles/S2-16D_V2_032027_x=3520_y=0.tif', '/home/jonathan/UrbanizedAreasSegmentation/data/processed/S2-16D_V2_032027/6x6_subtiles/S2-16D_V2_032027_x=3520_y=1760.tif', '/home/jonathan/UrbanizedAreasSegmentation/data/processed/S2-16D_V2_032027/6x6_subtiles/S2-16D_V2_032027_x=7040_y=1760.tif', '/home/jonathan/UrbanizedAreasSegmentation/data/processed/S2-16D_V2_032027/6x6_subtiles/S2-16D_V2_032027_x=0_y=8800.tif', '/home/jonathan/UrbanizedAreasSegmentation/data/processed/S2-16D_V2_032027/6x6_subtiles/S2-16D_V2_032027_x=7040_y=5280.tif', '/home/jonathan/UrbanizedAreasSegmentation/data/processed/S2-16D_V2_032027/6x6_subtiles/S2-16D_V2_032027_x=8800_y=0.tif', '/home/jonathan/UrbanizedAreasSegmentation/data/processed/S2-16D_V2_032027/6x6_subtiles/S2-16D_V2_032027_x=7040_y=0.tif', '/home/jonathan/UrbanizedAreasSegmentation/data/processed/S2-16D_V2_032027/6x6_subtiles/S2-16D_V2_032027_x=3520_y=8800.tif', '/home/jonathan/UrbanizedAreasSegmentation/data/processed/S2-16D_V2_032027/6x6_subtiles/S2-16D_V2_032027_x=8800_y=3520.tif', '/home/jonathan/UrbanizedAreasSegmentation/data/processed/S2-16D_V2_032027/6x6_subtiles/S2-16D_V2_032027_x=0_y=3520.tif', '/home/jonathan/UrbanizedAreasSegmentation/data/processed/S2-16D_V2_032027/6x6_subtiles/S2-16D_V2_032027_x=5280_y=5280.tif', '/home/jonathan/UrbanizedAreasSegmentation/data/processed/S2-16D_V2_032027/6x6_subtiles/S2-16D_V2_032027_x=5280_y=1760.tif', '/home/jonathan/UrbanizedAreasSegmentation/data/processed/S2-16D_V2_032027/6x6_subtiles/S2-16D_V2_032027_x=7040_y=8800.tif', '/home/jonathan/UrbanizedAreasSegmentation/data/processed/S2-16D_V2_032027/6x6_subtiles/S2-16D_V2_032027_x=3520_y=5280.tif', '/home/jonathan/UrbanizedAreasSegmentation/data/processed/S2-16D_V2_032027/6x6_subtiles/S2-16D_V2_032027_x=1760_y=8800.tif', '/home/jonathan/UrbanizedAreasSegmentation/data/processed/S2-16D_V2_032027/6x6_subtiles/S2-16D_V2_032027_x=8800_y=1760.tif', '/home/jonathan/UrbanizedAreasSegmentation/data/processed/S2-16D_V2_032027/6x6_subtiles/S2-16D_V2_032027_x=1760_y=3520.tif', '/home/jonathan/UrbanizedAreasSegmentation/data/processed/S2-16D_V2_032027/6x6_subtiles/S2-16D_V2_032027_x=7040_y=7040.tif', '/home/jonathan/UrbanizedAreasSegmentation/data/processed/S2-16D_V2_032027/6x6_subtiles/S2-16D_V2_032027_x=1760_y=5280.tif', '/home/jonathan/UrbanizedAreasSegmentation/data/processed/S2-16D_V2_032027/6x6_subtiles/S2-16D_V2_032027_x=0_y=5280.tif'], 'val_files': ['/home/jonathan/UrbanizedAreasSegmentation/data/processed/S2-16D_V2_032027/6x6_subtiles/S2-16D_V2_032027_x=3520_y=3520.tif', '/home/jonathan/UrbanizedAreasSegmentation/data/processed/S2-16D_V2_032027/6x6_subtiles/S2-16D_V2_032027_x=0_y=0.tif', '/home/jonathan/UrbanizedAreasSegmentation/data/processed/S2-16D_V2_032027/6x6_subtiles/S2-16D_V2_032027_x=5280_y=7040.tif', '/home/jonathan/UrbanizedAreasSegmentation/data/processed/S2-16D_V2_032027/6x6_subtiles/S2-16D_V2_032027_x=5280_y=8800.tif', '/home/jonathan/UrbanizedAreasSegmentation/data/processed/S2-16D_V2_032027/6x6_subtiles/S2-16D_V2_032027_x=0_y=7040.tif', '/home/jonathan/UrbanizedAreasSegmentation/data/processed/S2-16D_V2_032027/6x6_subtiles/S2-16D_V2_032027_x=7040_y=3520.tif', '/home/jonathan/UrbanizedAreasSegmentation/data/processed/S2-16D_V2_032027/6x6_subtiles/S2-16D_V2_032027_x=3520_y=7040.tif']}\n",
      "/home/jonathan/UrbanizedAreasSegmentation/config/dataset_6-subtiles_mode-type_patchsize-512_stride-512_dynamicsampling-True_dataaugmentation-False_set-train_filestrain_val_test_split-6_subtiles-032027-stratified_by_type.pkl\n",
      "Loading instance from /home/jonathan/UrbanizedAreasSegmentation/config/dataset_6-subtiles_mode-type_patchsize-512_stride-512_dynamicsampling-True_dataaugmentation-False_set-train_filestrain_val_test_split-6_subtiles-032027-stratified_by_type.pkl\n",
      "Instance saved to /home/jonathan/UrbanizedAreasSegmentation/config/dataset_6-subtiles_mode-type_patchsize-512_stride-512_dynamicsampling-True_dataaugmentation-False_set-train_filestrain_val_test_split-6_subtiles-032027-stratified_by_type.pkl\n",
      "Loading:  <function yaml_filename at 0x717e64ff3400>\n",
      "{'num_subtiles': 6, 'test_files': ['/home/jonathan/UrbanizedAreasSegmentation/data/processed/S2-16D_V2_032027/6x6_subtiles/S2-16D_V2_032027_x=8800_y=8800.tif', '/home/jonathan/UrbanizedAreasSegmentation/data/processed/S2-16D_V2_032027/6x6_subtiles/S2-16D_V2_032027_x=0_y=1760.tif', '/home/jonathan/UrbanizedAreasSegmentation/data/processed/S2-16D_V2_032027/6x6_subtiles/S2-16D_V2_032027_x=1760_y=0.tif', '/home/jonathan/UrbanizedAreasSegmentation/data/processed/S2-16D_V2_032027/6x6_subtiles/S2-16D_V2_032027_x=5280_y=0.tif', '/home/jonathan/UrbanizedAreasSegmentation/data/processed/S2-16D_V2_032027/6x6_subtiles/S2-16D_V2_032027_x=1760_y=7040.tif', '/home/jonathan/UrbanizedAreasSegmentation/data/processed/S2-16D_V2_032027/6x6_subtiles/S2-16D_V2_032027_x=8800_y=7040.tif', '/home/jonathan/UrbanizedAreasSegmentation/data/processed/S2-16D_V2_032027/6x6_subtiles/S2-16D_V2_032027_x=8800_y=5280.tif'], 'tiles': ['032027'], 'train_files': ['/home/jonathan/UrbanizedAreasSegmentation/data/processed/S2-16D_V2_032027/6x6_subtiles/S2-16D_V2_032027_x=1760_y=1760.tif', '/home/jonathan/UrbanizedAreasSegmentation/data/processed/S2-16D_V2_032027/6x6_subtiles/S2-16D_V2_032027_x=5280_y=3520.tif', '/home/jonathan/UrbanizedAreasSegmentation/data/processed/S2-16D_V2_032027/6x6_subtiles/S2-16D_V2_032027_x=3520_y=0.tif', '/home/jonathan/UrbanizedAreasSegmentation/data/processed/S2-16D_V2_032027/6x6_subtiles/S2-16D_V2_032027_x=3520_y=1760.tif', '/home/jonathan/UrbanizedAreasSegmentation/data/processed/S2-16D_V2_032027/6x6_subtiles/S2-16D_V2_032027_x=7040_y=1760.tif', '/home/jonathan/UrbanizedAreasSegmentation/data/processed/S2-16D_V2_032027/6x6_subtiles/S2-16D_V2_032027_x=0_y=8800.tif', '/home/jonathan/UrbanizedAreasSegmentation/data/processed/S2-16D_V2_032027/6x6_subtiles/S2-16D_V2_032027_x=7040_y=5280.tif', '/home/jonathan/UrbanizedAreasSegmentation/data/processed/S2-16D_V2_032027/6x6_subtiles/S2-16D_V2_032027_x=8800_y=0.tif', '/home/jonathan/UrbanizedAreasSegmentation/data/processed/S2-16D_V2_032027/6x6_subtiles/S2-16D_V2_032027_x=7040_y=0.tif', '/home/jonathan/UrbanizedAreasSegmentation/data/processed/S2-16D_V2_032027/6x6_subtiles/S2-16D_V2_032027_x=3520_y=8800.tif', '/home/jonathan/UrbanizedAreasSegmentation/data/processed/S2-16D_V2_032027/6x6_subtiles/S2-16D_V2_032027_x=8800_y=3520.tif', '/home/jonathan/UrbanizedAreasSegmentation/data/processed/S2-16D_V2_032027/6x6_subtiles/S2-16D_V2_032027_x=0_y=3520.tif', '/home/jonathan/UrbanizedAreasSegmentation/data/processed/S2-16D_V2_032027/6x6_subtiles/S2-16D_V2_032027_x=5280_y=5280.tif', '/home/jonathan/UrbanizedAreasSegmentation/data/processed/S2-16D_V2_032027/6x6_subtiles/S2-16D_V2_032027_x=5280_y=1760.tif', '/home/jonathan/UrbanizedAreasSegmentation/data/processed/S2-16D_V2_032027/6x6_subtiles/S2-16D_V2_032027_x=7040_y=8800.tif', '/home/jonathan/UrbanizedAreasSegmentation/data/processed/S2-16D_V2_032027/6x6_subtiles/S2-16D_V2_032027_x=3520_y=5280.tif', '/home/jonathan/UrbanizedAreasSegmentation/data/processed/S2-16D_V2_032027/6x6_subtiles/S2-16D_V2_032027_x=1760_y=8800.tif', '/home/jonathan/UrbanizedAreasSegmentation/data/processed/S2-16D_V2_032027/6x6_subtiles/S2-16D_V2_032027_x=8800_y=1760.tif', '/home/jonathan/UrbanizedAreasSegmentation/data/processed/S2-16D_V2_032027/6x6_subtiles/S2-16D_V2_032027_x=1760_y=3520.tif', '/home/jonathan/UrbanizedAreasSegmentation/data/processed/S2-16D_V2_032027/6x6_subtiles/S2-16D_V2_032027_x=7040_y=7040.tif', '/home/jonathan/UrbanizedAreasSegmentation/data/processed/S2-16D_V2_032027/6x6_subtiles/S2-16D_V2_032027_x=1760_y=5280.tif', '/home/jonathan/UrbanizedAreasSegmentation/data/processed/S2-16D_V2_032027/6x6_subtiles/S2-16D_V2_032027_x=0_y=5280.tif'], 'val_files': ['/home/jonathan/UrbanizedAreasSegmentation/data/processed/S2-16D_V2_032027/6x6_subtiles/S2-16D_V2_032027_x=3520_y=3520.tif', '/home/jonathan/UrbanizedAreasSegmentation/data/processed/S2-16D_V2_032027/6x6_subtiles/S2-16D_V2_032027_x=0_y=0.tif', '/home/jonathan/UrbanizedAreasSegmentation/data/processed/S2-16D_V2_032027/6x6_subtiles/S2-16D_V2_032027_x=5280_y=7040.tif', '/home/jonathan/UrbanizedAreasSegmentation/data/processed/S2-16D_V2_032027/6x6_subtiles/S2-16D_V2_032027_x=5280_y=8800.tif', '/home/jonathan/UrbanizedAreasSegmentation/data/processed/S2-16D_V2_032027/6x6_subtiles/S2-16D_V2_032027_x=0_y=7040.tif', '/home/jonathan/UrbanizedAreasSegmentation/data/processed/S2-16D_V2_032027/6x6_subtiles/S2-16D_V2_032027_x=7040_y=3520.tif', '/home/jonathan/UrbanizedAreasSegmentation/data/processed/S2-16D_V2_032027/6x6_subtiles/S2-16D_V2_032027_x=3520_y=7040.tif']}\n",
      "/home/jonathan/UrbanizedAreasSegmentation/config/dataset_6-subtiles_mode-type_patchsize-512_stride-512_dynamicsampling-False_dataaugmentation-False_set-val_filestrain_val_test_split-6_subtiles-032027-stratified_by_type.pkl\n",
      "Loading instance from /home/jonathan/UrbanizedAreasSegmentation/config/dataset_6-subtiles_mode-type_patchsize-512_stride-512_dynamicsampling-False_dataaugmentation-False_set-val_filestrain_val_test_split-6_subtiles-032027-stratified_by_type.pkl\n",
      "Instance saved to /home/jonathan/UrbanizedAreasSegmentation/config/dataset_6-subtiles_mode-type_patchsize-512_stride-512_dynamicsampling-False_dataaugmentation-False_set-val_filestrain_val_test_split-6_subtiles-032027-stratified_by_type.pkl\n",
      "Dataset info:\n",
      "512 True 461 115.25\n",
      "512 True 112 28.0\n"
     ]
    }
   ],
   "source": [
    "num_subtiles = 6\n",
    "tiles = ['032027']\n",
    "classes_mode = '4types'\n",
    "\n",
    "\n",
    "yaml_filename = data.yaml_filename(num_subtiles, tiles, classes_mode)\n",
    "\n",
    "for patch_size, ds, bs in zip([64, 224, 256, 512, 64, 224, 256, 512], [False, False, False, False, True, True, True, True], [16, 16, 16, 4, 16, 16, 16, 4]):\n",
    "    train_dataset = data.SubtileDataset(yaml_filename, \n",
    "                                    set = 'train_files',\n",
    "                                    patch_size=patch_size, \n",
    "                                    stride=patch_size, \n",
    "                                    dynamic_sampling =  ds,\n",
    "                                    data_augmentation = False, # testando \n",
    "                                    )\n",
    "    \n",
    "    val_dataset = data.SubtileDataset(yaml_filename, \n",
    "                                    set = 'val_files',\n",
    "                                    patch_size=patch_size, \n",
    "                                    stride=patch_size, \n",
    "                                    dynamic_sampling = False,\n",
    "                                    data_augmentation = False, # testando \n",
    "                                    )\n",
    "    print('Dataset info:')\n",
    "    print(patch_size, ds, len(train_dataset), len(train_dataset)/bs)\n",
    "    print(patch_size, ds, len(val_dataset),len(val_dataset)/bs)\n"
   ]
  },
  {
   "cell_type": "code",
   "execution_count": null,
   "metadata": {},
   "outputs": [],
   "source": []
  }
 ],
 "metadata": {
  "kernelspec": {
   "display_name": ".venv",
   "language": "python",
   "name": "python3"
  },
  "language_info": {
   "codemirror_mode": {
    "name": "ipython",
    "version": 3
   },
   "file_extension": ".py",
   "mimetype": "text/x-python",
   "name": "python",
   "nbconvert_exporter": "python",
   "pygments_lexer": "ipython3",
   "version": "3.10.12"
  }
 },
 "nbformat": 4,
 "nbformat_minor": 2
}
