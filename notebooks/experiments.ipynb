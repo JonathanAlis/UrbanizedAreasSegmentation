{
 "cells": [
  {
   "cell_type": "markdown",
   "metadata": {},
   "source": [
    "# Experimentos"
   ]
  },
  {
   "cell_type": "code",
   "execution_count": 1,
   "metadata": {},
   "outputs": [],
   "source": [
    "import torch\n"
   ]
  },
  {
   "cell_type": "code",
   "execution_count": 2,
   "metadata": {},
   "outputs": [
    {
     "name": "stdout",
     "output_type": "stream",
     "text": [
      " Memory Allocated: 0.00 MB\n",
      " Memory Reserved: 0.00 MB\n"
     ]
    }
   ],
   "source": [
    "def print_gpu_memory(prefix=\"\"):\n",
    "    if torch.cuda.is_available():\n",
    "        allocated = torch.cuda.memory_allocated() / (1024 ** 2)\n",
    "        reserved = torch.cuda.memory_reserved() / (1024 ** 2)\n",
    "        print(f\"{prefix} Memory Allocated: {allocated:.2f} MB\")\n",
    "        print(f\"{prefix} Memory Reserved: {reserved:.2f} MB\")\n",
    "    else:\n",
    "        print(\"CUDA is not available.\")\n",
    "\n",
    "\n",
    "device = torch.device(\"cuda\" if torch.cuda.is_available() else \"cpu\")\n",
    "torch.cuda.empty_cache() \n",
    "\n",
    "print_gpu_memory()"
   ]
  },
  {
   "cell_type": "code",
   "execution_count": 3,
   "metadata": {},
   "outputs": [],
   "source": [
    "# imports\n",
    "\n",
    "import os\n",
    "import sys\n",
    "sys.path.append(os.path.abspath('..'))\n",
    "\n",
    "import src.models.unets as unets\n",
    "import src.data.preprocess_data as data\n",
    "import src.training.train_model as train\n",
    "\n",
    "from torch.utils.data import DataLoader\n",
    "import torch.optim as optim\n",
    "\n"
   ]
  },
  {
   "cell_type": "code",
   "execution_count": 4,
   "metadata": {},
   "outputs": [],
   "source": [
    "\n",
    "tiles = ['032027', '032026'] \n",
    "num_subtiles = 6\n",
    "classes_mode = 'type'\n",
    "\n",
    "if classes_mode == 'type':\n",
    "    num_classes = 5\n",
    "elif classes_mode == 'density':\n",
    "    num_classes = 4\n",
    "elif classes_mode == 'binary':\n",
    "    num_classes = 2\n",
    "else:\n",
    "    num_classes = 9\n",
    "\n",
    "\n"
   ]
  },
  {
   "cell_type": "code",
   "execution_count": 5,
   "metadata": {},
   "outputs": [],
   "source": [
    "model_param_grid = {\n",
    "    #model params:\n",
    "    'model' : [f'UNet-256-{classes_mode}', #ok\n",
    "               f'UNet-64-{classes_mode}', #ok\n",
    "               f'UNetResNet34-224-{classes_mode}', #ok\n",
    "               f'UNetEfficientNetB0-224-{classes_mode}', \n",
    "               f'UNetConvNext-224-{classes_mode}',\n",
    "               ],\n",
    "        \n",
    "    #training params\n",
    "        # loss\n",
    "    'loss': ['BCE-dice'],#'BCE', 'dice', 'BCE-dice'],\n",
    "    'weighted_loss': [False, True],\n",
    "    'learning_rate': [0.0001],    \n",
    "    'epochs' : [10],\n",
    "    'patience' : [3],\n",
    "    'batch_size' : [16]\n",
    "       \n",
    "}\n"
   ]
  },
  {
   "cell_type": "code",
   "execution_count": 6,
   "metadata": {},
   "outputs": [
    {
     "name": "stdout",
     "output_type": "stream",
     "text": [
      "Loading:  <function yaml_filename at 0x70e079be2680>\n",
      "File already saved, loading it.\n"
     ]
    }
   ],
   "source": [
    "\n",
    "train_files, val_files, test_files = data.train_val_test_stratify(tiles, \n",
    "                                                                  num_subtiles,\n",
    "                                                                    train_size = 0.7, \n",
    "                                                                    val_size = 0.15, \n",
    "                                                                    stratify_by = classes_mode)\n",
    "\n"
   ]
  },
  {
   "cell_type": "code",
   "execution_count": null,
   "metadata": {},
   "outputs": [
    {
     "name": "stdout",
     "output_type": "stream",
     "text": [
      "{'model': 'UNet-256-type', 'loss': 'BCE-dice', 'weighted_loss': False, 'learning_rate': 0.0001, 'epochs': 10, 'patience': 3, 'batch_size': 16}\n",
      "Doing data augmentation...\n",
      "Augmented 453 images, of 1960\n",
      "Model is already saved\n",
      "Loading it e continue training...\n",
      "LOSS mode: BCE-dice\n",
      "Training for epoch 2 until epoch 10\n",
      "Training Epoch 2/10\n",
      "Running an epoch on the train mode.\n"
     ]
    },
    {
     "name": "stderr",
     "output_type": "stream",
     "text": [
      " 49%|████▉     | 157/321 [02:13<02:18,  1.18it/s]"
     ]
    }
   ],
   "source": [
    "for model_params in train.iterate_parameter_grid(model_param_grid):\n",
    "\n",
    "    #definitions\n",
    "    model_name = model_params['model'] \n",
    "    patch_size = int(model_name.split('-')[1])\n",
    "    print(model_params)\n",
    "    model_class = model_name.split('-')[0]\n",
    "\n",
    "    batch_size = model_params['batch_size'] \n",
    "\n",
    "\n",
    "    #load data\n",
    "    train_dataset = data.SubtileDataset(train_files[:10], \n",
    "                    num_subtiles = num_subtiles, \n",
    "                    classes_mode = classes_mode, \n",
    "                    patch_size=(patch_size, patch_size), \n",
    "                    stride=patch_size//2, \n",
    "                    data_augmentation = True, \n",
    "                    return_imgidx = False,\n",
    "                    return_nans=False,\n",
    "                    debug=False)\n",
    "\n",
    "    val_dataset = data.SubtileDataset(val_files[:10], \n",
    "                        num_subtiles = num_subtiles, \n",
    "                        classes_mode = classes_mode, \n",
    "                        patch_size=(patch_size, patch_size), \n",
    "                        stride=patch_size//2,\n",
    "                        data_augmentation = False, \n",
    "                        return_imgidx = False,\n",
    "                        return_nans=False,\n",
    "                        debug=False)\n",
    "    \n",
    "    train_loader = DataLoader(train_dataset, batch_size=batch_size, shuffle=True)\n",
    "    val_loader = DataLoader(val_dataset, batch_size=batch_size, shuffle=True)\n",
    "\n",
    "    if model_name.startswith('UNet-'):\n",
    "        model = unets.UNet(in_channels=12, out_channels=num_classes).to(device) \n",
    "    elif model_name.startswith('UNetResNet34-'):\n",
    "        model = unets.UNetResNet34(in_channels=12, out_channels=num_classes).to(device) \n",
    "    elif model_name.startswith('UNetEfficientNetB0-'):\n",
    "        model = unets.UNetEfficientNetB0(in_channels=12, out_channels=num_classes).to(device) \n",
    "    elif model_name.startswith('UNetConvNext-'):\n",
    "        model = unets.UNetConvNext (in_channels=12, out_channels=num_classes).to(device) \n",
    "        \n",
    "    optimizer = optim.Adam(model.parameters(), lr=model_params['learning_rate'], weight_decay=1e-5)\n",
    "    train.train_model(model, \n",
    "                        train_loader, \n",
    "                        val_loader, \n",
    "                        epochs=model_params['epochs'], \n",
    "                        loss_mode = model_params['loss'],\n",
    "                        optimizer = optimizer, \n",
    "                        device = device,\n",
    "                        num_classes = num_classes, \n",
    "                        patience = model_params['patience'],\n",
    "                        label_counts = None,\n",
    "                        show_batches = 1, \n",
    "                        save_to = model_name+'.pth')\n",
    "\n",
    "    break\n",
    "1/0\n",
    "\n",
    "    \n"
   ]
  },
  {
   "cell_type": "code",
   "execution_count": null,
   "metadata": {},
   "outputs": [],
   "source": [
    "\n"
   ]
  },
  {
   "cell_type": "code",
   "execution_count": null,
   "metadata": {},
   "outputs": [],
   "source": [
    "\n"
   ]
  },
  {
   "cell_type": "code",
   "execution_count": null,
   "metadata": {},
   "outputs": [],
   "source": []
  },
  {
   "cell_type": "code",
   "execution_count": null,
   "metadata": {},
   "outputs": [],
   "source": [
    "\n",
    "model = unets.UNet(12, out_channels=5).to(device)  # 12 channels, 5 classes\n"
   ]
  },
  {
   "cell_type": "code",
   "execution_count": null,
   "metadata": {},
   "outputs": [],
   "source": [
    "for model_params in train.iterate_parameter_grid(model_param_grid):        \n",
    "    print(model_params)\n",
    "    #skip if model do not match the data\n",
    "    model_name = model_params['model']     \n",
    "    if f\"-{patch_size}-\" not in model_name:\n",
    "        continue\n",
    "    if f\"{num_classes}classes\" not in model_name:\n",
    "        continue\n",
    "            \n",
    "    \n",
    "    #label_count = None\n",
    "    #if model_params['weighted_loss']:\n",
    "    #    print('CLASSES COUNT')\n",
    "    #   label_count = train_dataset.count_classes()\n",
    "    \n",
    "    # Training the model\n",
    "    savename = f\"models/{model_name}_{model_params['loss']}{'-w' if model_params['weighted_loss'] else ''}{'_normalized' if normalization=='normalized' else ''}_{'aug' if data_aug else 'noaug'}.pth\"\n",
    "    print(savename)\n",
    "    if 1: #not os.path.exists(savename):\n",
    "        if 0:\n",
    "            for im, mask in train_loader:\n",
    "                print(im.shape, type(im))\n",
    "                print(mask.shape, type(mask))\n",
    "                break\n",
    "        \n",
    "        if model_name.startswith('UNet-'):\n",
    "            model = models.UNet(in_channels=12, out_channels=num_classes, dropout=0.2).to(device)  # Assuming single channel output for mask\n",
    "        elif model_name.startswith('UNetResNet34-'):\n",
    "            model = models.UNetResNet34(in_channels=12, out_channels=num_classes).to(device)  # Assuming single channel output for mask\n",
    "        elif model_name.startswith('UNetEfficientNetB0-'):\n",
    "            model = models.UNetEfficientNetB0(in_channels=12, out_channels=num_classes).to(device)  # Assuming single channel output for mask\n",
    "        elif model_name.startswith('UNetConvNext-'):\n",
    "            model = models.UNetConvNext (in_channels=12, out_channels=num_classes).to(device)  # Assuming single channel output for mask\n",
    "        elif model_name.startswith('HRNetW18-'):\n",
    "            model = models.HRNetSegmentation(in_channels=12, out_channels=num_classes).to(device)  # Assuming single channel output for mask\n",
    "        else:\n",
    "            print('Not recognized model. Skipping')\n",
    "            continue\n",
    "\n",
    "        optimizer = optim.Adam(model.parameters(), lr=model_params['learning_rate'], weight_decay=1e-5)\n",
    "        train.train_model(model, \n",
    "                            train_loader, \n",
    "                            val_loader, \n",
    "                            epochs=model_params['epochs'], \n",
    "                            loss_mode = model_params['loss'],\n",
    "                            optimizer = optimizer, \n",
    "                            device = device,\n",
    "                            num_classes = num_classes, \n",
    "                            patience = model_params['patience'],\n",
    "                            label_counts = train_stats,\n",
    "                            show_batches = 1, \n",
    "                            save_to = savename)\n"
   ]
  },
  {
   "cell_type": "code",
   "execution_count": null,
   "metadata": {},
   "outputs": [],
   "source": []
  },
  {
   "cell_type": "code",
   "execution_count": null,
   "metadata": {},
   "outputs": [],
   "source": []
  },
  {
   "cell_type": "code",
   "execution_count": null,
   "metadata": {},
   "outputs": [],
   "source": []
  },
  {
   "cell_type": "code",
   "execution_count": null,
   "metadata": {},
   "outputs": [],
   "source": []
  },
  {
   "cell_type": "code",
   "execution_count": null,
   "metadata": {},
   "outputs": [],
   "source": []
  },
  {
   "cell_type": "code",
   "execution_count": null,
   "metadata": {},
   "outputs": [],
   "source": [
    "\n",
    "\n"
   ]
  },
  {
   "cell_type": "code",
   "execution_count": null,
   "metadata": {},
   "outputs": [
    {
     "name": "stdout",
     "output_type": "stream",
     "text": [
      "[(np.float64(0.0), np.float64(0.5), np.uint64(2)), (np.float64(0.5), np.float64(3.0), np.uint64(2)), (np.float64(2.5), np.float64(0.0), np.uint64(2)), (np.float64(2.5), np.float64(2.5), np.uint64(4))]\n",
      "[(np.float64(0.0), np.float64(0.5), np.uint64(2)), (np.float64(0.5), np.float64(3.0), np.uint64(2)), (np.float64(2.5), np.float64(0.0), np.uint64(2)), (np.float64(2.5), np.float64(2.5), np.uint64(4))]\n"
     ]
    },
    {
     "data": {
      "text/plain": [
       "device(type='cuda')"
      ]
     },
     "execution_count": 2,
     "metadata": {},
     "output_type": "execute_result"
    }
   ],
   "source": [
    "import src.view as view\n",
    "import src.training_utils as train\n",
    "import src.models as models\n",
    "import src.process_data as data\n",
    "\n",
    "\n",
    "from torch.utils.data import Dataset, DataLoader\n",
    "import torch\n",
    "import os\n",
    "import random\n",
    "import rasterio\n",
    "import numpy as np\n",
    "import torch.optim as optim\n",
    "import json\n",
    "\n",
    "batch_size = 16                                                                                                                                                                                                                                                                                                                                                                                                                                                                                                                                                                                                                                                                                                                                                                                                                                                                                                                                                                                                                                                                                                                                                                                                                                                                                                                                                                                                                                                                                                                                                                                                                                                                                                                                                                                                                                                                                                                                                                                                                                                                                                                                                                                                                                                                                                                                                                                                                                                                                                                                                                                                                                                                                                                        \n",
    "device = torch.device('cuda' if torch.cuda.is_available() else 'cpu')\n",
    "torch.cuda.empty_cache()\n",
    "\n",
    "device\n"
   ]
  },
  {
   "cell_type": "code",
   "execution_count": null,
   "metadata": {},
   "outputs": [
    {
     "name": "stdout",
     "output_type": "stream",
     "text": [
      "['data/processed/36_subtile_divisions/S2-16D_V2_032027_x=7040_y=1760.tif', 'data/processed/36_subtile_divisions/S2-16D_V2_032027_x=5280_y=7040.tif', 'data/processed/36_subtile_divisions/S2-16D_V2_032027_x=5280_y=3520.tif', 'data/processed/36_subtile_divisions/S2-16D_V2_032027_x=8800_y=5280.tif', 'data/processed/36_subtile_divisions/S2-16D_V2_032027_x=1760_y=3520.tif', 'data/processed/36_subtile_divisions/S2-16D_V2_032027_x=7040_y=8800.tif', 'data/processed/36_subtile_divisions/S2-16D_V2_032027_x=3520_y=0.tif', 'data/processed/36_subtile_divisions/S2-16D_V2_032027_x=8800_y=0.tif', 'data/processed/36_subtile_divisions/S2-16D_V2_032027_x=1760_y=0.tif']\n",
      "['data/processed/36_subtile_divisions/S2-16D_V2_032027_x=0_y=1760.tif', 'data/processed/36_subtile_divisions/S2-16D_V2_032027_x=5280_y=8800.tif']\n",
      "['data/processed/36_subtile_divisions/S2-16D_V2_032027_x=5280_y=5280.tif', 'data/processed/36_subtile_divisions/S2-16D_V2_032027_x=0_y=0.tif']\n",
      "Loaded data from JSON file.\n",
      "train set ([label][number of pixels])\n",
      "{0: 6960367, 2: 34, 4: 9199} data/processed/36_subtile_divisions/S2-16D_V2_032027_x=7040_y=1760.tif\n",
      "{0: 6457168, 1: 27344, 2: 91562, 3: 5644, 4: 387882} data/processed/36_subtile_divisions/S2-16D_V2_032027_x=5280_y=7040.tif\n",
      "{0: 6684634, 1: 42075, 2: 7519, 4: 235372} data/processed/36_subtile_divisions/S2-16D_V2_032027_x=5280_y=3520.tif\n",
      "{0: 4523599, 1: 7234, 2: 1631, 4: 113936} data/processed/36_subtile_divisions/S2-16D_V2_032027_x=8800_y=5280.tif\n",
      "{0: 6748684, 1: 9818, 2: 1485, 3: 2870, 4: 206743} data/processed/36_subtile_divisions/S2-16D_V2_032027_x=1760_y=3520.tif\n",
      "{0: 4625686, 1: 489, 4: 20225} data/processed/36_subtile_divisions/S2-16D_V2_032027_x=7040_y=8800.tif\n",
      "{0: 4425397, 1: 14447, 2: 21862, 3: 45971, 4: 2461923} data/processed/36_subtile_divisions/S2-16D_V2_032027_x=3520_y=0.tif\n",
      "{0: 4462436, 1: 10124, 2: 6615, 3: 7319, 4: 159906} data/processed/36_subtile_divisions/S2-16D_V2_032027_x=8800_y=0.tif\n",
      "{0: 3485886, 1: 31158, 2: 191693, 3: 67245, 4: 3193618} data/processed/36_subtile_divisions/S2-16D_V2_032027_x=1760_y=0.tif\n",
      "{0: 6929568, 1: 4350, 2: 27, 4: 35655} data/processed/36_subtile_divisions/S2-16D_V2_032027_x=0_y=5280.tif\n",
      "{0: 6645757, 1: 6048, 2: 3661, 4: 314134} data/processed/36_subtile_divisions/S2-16D_V2_032027_x=5280_y=0.tif\n",
      "{0: 6771889, 1: 877, 2: 6615, 3: 3823, 4: 186396} data/processed/36_subtile_divisions/S2-16D_V2_032027_x=7040_y=0.tif\n",
      "{0: 4601264, 1: 5128, 2: 321, 4: 39687} data/processed/36_subtile_divisions/S2-16D_V2_032027_x=1760_y=8800.tif\n",
      "{0: 4636753, 2: 90, 4: 9557} data/processed/36_subtile_divisions/S2-16D_V2_032027_x=0_y=8800.tif\n",
      "{0: 6847473, 1: 15432, 2: 4239, 4: 102456} data/processed/36_subtile_divisions/S2-16D_V2_032027_x=5280_y=1760.tif\n",
      "{0: 4640040, 4: 6360} data/processed/36_subtile_divisions/S2-16D_V2_032027_x=8800_y=7040.tif\n",
      "{0: 6862028, 1: 10944, 2: 34533, 4: 62095} data/processed/36_subtile_divisions/S2-16D_V2_032027_x=1760_y=7040.tif\n",
      "{0: 6907758, 1: 3430, 2: 7079, 4: 51333} data/processed/36_subtile_divisions/S2-16D_V2_032027_x=1760_y=5280.tif\n",
      "{0: 6290435, 1: 26987, 2: 13274, 3: 2870, 4: 636034} data/processed/36_subtile_divisions/S2-16D_V2_032027_x=1760_y=1760.tif\n",
      "{0: 6720180, 1: 8827, 2: 87568, 4: 153025} data/processed/36_subtile_divisions/S2-16D_V2_032027_x=3520_y=5280.tif\n",
      "{0: 6403425, 1: 30226, 2: 121283, 3: 5644, 4: 409022} data/processed/36_subtile_divisions/S2-16D_V2_032027_x=3520_y=7040.tif\n",
      "{0: 6844832, 1: 9301, 4: 115467} data/processed/36_subtile_divisions/S2-16D_V2_032027_x=0_y=3520.tif\n",
      "{0: 6916560, 1: 489, 4: 52551} data/processed/36_subtile_divisions/S2-16D_V2_032027_x=7040_y=7040.tif\n",
      "{0: 6748888, 1: 14459, 2: 12347, 4: 193906} data/processed/36_subtile_divisions/S2-16D_V2_032027_x=7040_y=5280.tif\n",
      "val set ([label][number of pixels])\n",
      "{0: 6269659, 1: 37572, 2: 18382, 4: 643987} data/processed/36_subtile_divisions/S2-16D_V2_032027_x=0_y=1760.tif\n",
      "{0: 4350718, 1: 16688, 2: 7161, 3: 5644, 4: 266189} data/processed/36_subtile_divisions/S2-16D_V2_032027_x=5280_y=8800.tif\n",
      "{0: 3092272, 4: 5328} data/processed/36_subtile_divisions/S2-16D_V2_032027_x=8800_y=8800.tif\n",
      "{0: 6521227, 1: 19185, 2: 11412, 3: 2870, 4: 414906} data/processed/36_subtile_divisions/S2-16D_V2_032027_x=3520_y=1760.tif\n",
      "{0: 6957141, 2: 117, 4: 12342} data/processed/36_subtile_divisions/S2-16D_V2_032027_x=0_y=7040.tif\n",
      "{0: 4610081, 1: 3556, 2: 34, 4: 32729} data/processed/36_subtile_divisions/S2-16D_V2_032027_x=8800_y=1760.tif\n",
      "test set ([label][number of pixels])\n",
      "{0: 6690045, 1: 25828, 2: 83800, 4: 169927} data/processed/36_subtile_divisions/S2-16D_V2_032027_x=5280_y=5280.tif\n",
      "{0: 5367133, 1: 68314, 2: 91453, 3: 23082, 4: 1419618} data/processed/36_subtile_divisions/S2-16D_V2_032027_x=0_y=0.tif\n",
      "{0: 6634494, 1: 27009, 2: 8473, 3: 2870, 4: 296754} data/processed/36_subtile_divisions/S2-16D_V2_032027_x=3520_y=3520.tif\n",
      "{0: 6851815, 1: 13969, 2: 1041, 4: 102775} data/processed/36_subtile_divisions/S2-16D_V2_032027_x=7040_y=3520.tif\n",
      "{0: 4355303, 1: 17454, 2: 7133, 3: 5644, 4: 260866} data/processed/36_subtile_divisions/S2-16D_V2_032027_x=3520_y=8800.tif\n",
      "{0: 4569920, 1: 5085, 4: 71395} data/processed/36_subtile_divisions/S2-16D_V2_032027_x=8800_y=3520.tif\n"
     ]
    }
   ],
   "source": [
    "train_files, val_files, test_files = data.train_val_test_stratify(images_folder='data/processed/36_subtile_divisions', \n",
    "                            train_size = 24, \n",
    "                            val_size = 6, \n",
    "                            test_size = 6,\n",
    "                            labels_file=\"masks/raster_aurb_032027.tif\",\n",
    "                            save_json = 'subtiles_filenames.json',\n",
    "                            subtile_size = 10560/6,\n",
    "                            check_stratification = True)\n"
   ]
  },
  {
   "cell_type": "code",
   "execution_count": null,
   "metadata": {},
   "outputs": [
    {
     "name": "stdout",
     "output_type": "stream",
     "text": [
      "{'patch_size': 256, 'num_classes': 2, 'normalization': 'unnormalized', 'data_aug': False}\n",
      "256\n",
      "{'model': 'UNet-256-2classes', 'loss': 'BCE-dice', 'weighted_loss': False, 'learning_rate': 0.0001, 'epochs': 10, 'patience': 3}\n",
      "models/UNet-256-2classes_BCE-dice_noaug.pth\n",
      "Model is already saved\n",
      "{'model': 'UNet-256-2classes', 'loss': 'BCE-dice', 'weighted_loss': True, 'learning_rate': 0.0001, 'epochs': 10, 'patience': 3}\n",
      "models/UNet-256-2classes_BCE-dice-w_noaug.pth\n",
      "Model is already saved\n",
      "{'model': 'UNet-64-2classes', 'loss': 'BCE-dice', 'weighted_loss': False, 'learning_rate': 0.0001, 'epochs': 10, 'patience': 3}\n",
      "{'model': 'UNet-64-2classes', 'loss': 'BCE-dice', 'weighted_loss': True, 'learning_rate': 0.0001, 'epochs': 10, 'patience': 3}\n",
      "{'model': 'UNetResNet34-224-2classes', 'loss': 'BCE-dice', 'weighted_loss': False, 'learning_rate': 0.0001, 'epochs': 10, 'patience': 3}\n",
      "{'model': 'UNetResNet34-224-2classes', 'loss': 'BCE-dice', 'weighted_loss': True, 'learning_rate': 0.0001, 'epochs': 10, 'patience': 3}\n",
      "{'model': 'UNetEfficientNetB0-224-2classes', 'loss': 'BCE-dice', 'weighted_loss': False, 'learning_rate': 0.0001, 'epochs': 10, 'patience': 3}\n",
      "{'model': 'UNetEfficientNetB0-224-2classes', 'loss': 'BCE-dice', 'weighted_loss': True, 'learning_rate': 0.0001, 'epochs': 10, 'patience': 3}\n",
      "{'model': 'UNetConvNext-224-2classes', 'loss': 'BCE-dice', 'weighted_loss': False, 'learning_rate': 0.0001, 'epochs': 10, 'patience': 3}\n",
      "{'model': 'UNetConvNext-224-2classes', 'loss': 'BCE-dice', 'weighted_loss': True, 'learning_rate': 0.0001, 'epochs': 10, 'patience': 3}\n",
      "{'model': 'UNet-256-5classes', 'loss': 'BCE-dice', 'weighted_loss': False, 'learning_rate': 0.0001, 'epochs': 10, 'patience': 3}\n",
      "{'model': 'UNet-256-5classes', 'loss': 'BCE-dice', 'weighted_loss': True, 'learning_rate': 0.0001, 'epochs': 10, 'patience': 3}\n",
      "{'model': 'UNet-64-5classes', 'loss': 'BCE-dice', 'weighted_loss': False, 'learning_rate': 0.0001, 'epochs': 10, 'patience': 3}\n",
      "{'model': 'UNet-64-5classes', 'loss': 'BCE-dice', 'weighted_loss': True, 'learning_rate': 0.0001, 'epochs': 10, 'patience': 3}\n",
      "{'model': 'UNetResNet34-224-5classes', 'loss': 'BCE-dice', 'weighted_loss': False, 'learning_rate': 0.0001, 'epochs': 10, 'patience': 3}\n",
      "{'model': 'UNetResNet34-224-5classes', 'loss': 'BCE-dice', 'weighted_loss': True, 'learning_rate': 0.0001, 'epochs': 10, 'patience': 3}\n",
      "{'model': 'UNetEfficientNetB0-224-5classes', 'loss': 'BCE-dice', 'weighted_loss': False, 'learning_rate': 0.0001, 'epochs': 10, 'patience': 3}\n",
      "{'model': 'UNetEfficientNetB0-224-5classes', 'loss': 'BCE-dice', 'weighted_loss': True, 'learning_rate': 0.0001, 'epochs': 10, 'patience': 3}\n",
      "{'model': 'UNetConvNext-224-5classes', 'loss': 'BCE-dice', 'weighted_loss': False, 'learning_rate': 0.0001, 'epochs': 10, 'patience': 3}\n",
      "{'model': 'UNetConvNext-224-5classes', 'loss': 'BCE-dice', 'weighted_loss': True, 'learning_rate': 0.0001, 'epochs': 10, 'patience': 3}\n",
      "{'patch_size': 256, 'num_classes': 2, 'normalization': 'normalized', 'data_aug': False}\n"
     ]
    },
    {
     "name": "stderr",
     "output_type": "stream",
     "text": [
      "1it [00:00,  1.79it/s]"
     ]
    },
    {
     "name": "stdout",
     "output_type": "stream",
     "text": [
      "(12, 1760, 1760) 0.1464993 0.1036741 37151964 37171200 (12, 1760, 1760)\n"
     ]
    },
    {
     "name": "stderr",
     "output_type": "stream",
     "text": [
      "2it [00:01,  1.16it/s]"
     ]
    },
    {
     "name": "stdout",
     "output_type": "stream",
     "text": [
      "(12, 1760, 1760) 0.15382166 0.100056104 37049244 37171200 (12, 1760, 1760)\n"
     ]
    },
    {
     "name": "stderr",
     "output_type": "stream",
     "text": [
      "3it [00:02,  1.03s/it]"
     ]
    },
    {
     "name": "stdout",
     "output_type": "stream",
     "text": [
      "(12, 1760, 1760) 0.15337734 0.10233981 37168464 37171200 (12, 1760, 1760)\n"
     ]
    },
    {
     "name": "stderr",
     "output_type": "stream",
     "text": [
      "4it [00:04,  1.13s/it]"
     ]
    },
    {
     "name": "stdout",
     "output_type": "stream",
     "text": [
      "(12, 1760, 1760) 0.15523647 0.104508504 37166280 37171200 (12, 1760, 1760)\n"
     ]
    },
    {
     "name": "stderr",
     "output_type": "stream",
     "text": [
      "5it [00:05,  1.06s/it]"
     ]
    },
    {
     "name": "stdout",
     "output_type": "stream",
     "text": [
      "(12, 1760, 1760) 0.15980513 0.10502401 37122504 37171200 (12, 1760, 1760)\n"
     ]
    },
    {
     "name": "stderr",
     "output_type": "stream",
     "text": [
      "6it [00:05,  1.02it/s]"
     ]
    },
    {
     "name": "stdout",
     "output_type": "stream",
     "text": [
      "(12, 1760, 1760) 0.17472944 0.115456775 37169148 37171200 (12, 1760, 1760)\n"
     ]
    },
    {
     "name": "stderr",
     "output_type": "stream",
     "text": [
      "7it [00:06,  1.05it/s]"
     ]
    },
    {
     "name": "stdout",
     "output_type": "stream",
     "text": [
      "(12, 1760, 1760) 0.16961475 0.08417609 36943128 37171200 (12, 1760, 1760)\n"
     ]
    },
    {
     "name": "stderr",
     "output_type": "stream",
     "text": [
      "8it [00:07,  1.08it/s]"
     ]
    },
    {
     "name": "stdout",
     "output_type": "stream",
     "text": [
      "(12, 1760, 1760) 0.16184907 0.10867045 37122240 37171200 (12, 1760, 1760)\n"
     ]
    },
    {
     "name": "stderr",
     "output_type": "stream",
     "text": [
      "9it [00:08,  1.11it/s]"
     ]
    },
    {
     "name": "stdout",
     "output_type": "stream",
     "text": [
      "(12, 1760, 1760) 0.16775194 0.08914498 36992052 37171200 (12, 1760, 1760)\n"
     ]
    },
    {
     "name": "stderr",
     "output_type": "stream",
     "text": [
      "10it [00:09,  1.10it/s]"
     ]
    },
    {
     "name": "stdout",
     "output_type": "stream",
     "text": [
      "(12, 1760, 1760) 0.17667852 0.10794595 37169856 37171200 (12, 1760, 1760)\n"
     ]
    },
    {
     "name": "stderr",
     "output_type": "stream",
     "text": [
      "11it [00:10,  1.06it/s]"
     ]
    },
    {
     "name": "stdout",
     "output_type": "stream",
     "text": [
      "(12, 1760, 1760) 0.1473128 0.09609526 37165452 37171200 (12, 1760, 1760)\n"
     ]
    },
    {
     "name": "stderr",
     "output_type": "stream",
     "text": [
      "12it [00:11,  1.04it/s]"
     ]
    },
    {
     "name": "stdout",
     "output_type": "stream",
     "text": [
      "(12, 1760, 1760) 0.16057967 0.11220201 37168788 37171200 (12, 1760, 1760)\n"
     ]
    },
    {
     "name": "stderr",
     "output_type": "stream",
     "text": [
      "13it [00:12,  1.04it/s]"
     ]
    },
    {
     "name": "stdout",
     "output_type": "stream",
     "text": [
      "(12, 1760, 1760) 0.17382897 0.108215794 37170432 37171200 (12, 1760, 1760)\n"
     ]
    },
    {
     "name": "stderr",
     "output_type": "stream",
     "text": [
      "14it [00:13,  1.03it/s]"
     ]
    },
    {
     "name": "stdout",
     "output_type": "stream",
     "text": [
      "(12, 1760, 1760) 0.1660019 0.10331295 37169868 37171200 (12, 1760, 1760)\n"
     ]
    },
    {
     "name": "stderr",
     "output_type": "stream",
     "text": [
      "15it [00:14,  1.02it/s]"
     ]
    },
    {
     "name": "stdout",
     "output_type": "stream",
     "text": [
      "(12, 1760, 1760) 0.14081055 0.0921364 37170120 37171200 (12, 1760, 1760)\n"
     ]
    },
    {
     "name": "stderr",
     "output_type": "stream",
     "text": [
      "16it [00:15,  1.05it/s]"
     ]
    },
    {
     "name": "stdout",
     "output_type": "stream",
     "text": [
      "(12, 1760, 1760) 0.16521332 0.11598557 37170240 37171200 (12, 1760, 1760)\n"
     ]
    },
    {
     "name": "stderr",
     "output_type": "stream",
     "text": [
      "17it [00:16,  1.03it/s]"
     ]
    },
    {
     "name": "stdout",
     "output_type": "stream",
     "text": [
      "(12, 1760, 1760) 0.17268077 0.1097607 37170672 37171200 (12, 1760, 1760)\n"
     ]
    },
    {
     "name": "stderr",
     "output_type": "stream",
     "text": [
      "18it [00:17,  1.00it/s]"
     ]
    },
    {
     "name": "stdout",
     "output_type": "stream",
     "text": [
      "(12, 1760, 1760) 0.16981871 0.1085163 37157340 37171200 (12, 1760, 1760)\n"
     ]
    },
    {
     "name": "stderr",
     "output_type": "stream",
     "text": [
      "19it [00:18,  1.00s/it]"
     ]
    },
    {
     "name": "stdout",
     "output_type": "stream",
     "text": [
      "(12, 1760, 1760) 0.1433078 0.092321664 37146576 37171200 (12, 1760, 1760)\n"
     ]
    },
    {
     "name": "stderr",
     "output_type": "stream",
     "text": [
      "20it [00:19,  1.01s/it]"
     ]
    },
    {
     "name": "stdout",
     "output_type": "stream",
     "text": [
      "(12, 1760, 1760) 0.14462931 0.09223833 37166904 37171200 (12, 1760, 1760)\n"
     ]
    },
    {
     "name": "stderr",
     "output_type": "stream",
     "text": [
      "21it [00:20,  1.01s/it]"
     ]
    },
    {
     "name": "stdout",
     "output_type": "stream",
     "text": [
      "(12, 1760, 1760) 0.15976056 0.10168667 37162320 37171200 (12, 1760, 1760)\n"
     ]
    },
    {
     "name": "stderr",
     "output_type": "stream",
     "text": [
      "22it [00:21,  1.01it/s]"
     ]
    },
    {
     "name": "stdout",
     "output_type": "stream",
     "text": [
      "(12, 1760, 1760) 0.16497119 0.108591564 37167348 37171200 (12, 1760, 1760)\n"
     ]
    },
    {
     "name": "stderr",
     "output_type": "stream",
     "text": [
      "23it [00:22,  1.02it/s]"
     ]
    },
    {
     "name": "stdout",
     "output_type": "stream",
     "text": [
      "(12, 1760, 1760) 0.16207728 0.11367969 37170108 37171200 (12, 1760, 1760)\n"
     ]
    },
    {
     "name": "stderr",
     "output_type": "stream",
     "text": [
      "24it [00:23,  1.03it/s]"
     ]
    },
    {
     "name": "stdout",
     "output_type": "stream",
     "text": [
      "(12, 1760, 1760) 0.15193169 0.101455934 37154676 37171200 (12, 1760, 1760)\n",
      "0.1600930142712587 0.10408098505604475\n",
      "256\n"
     ]
    },
    {
     "name": "stderr",
     "output_type": "stream",
     "text": [
      "\n"
     ]
    },
    {
     "name": "stdout",
     "output_type": "stream",
     "text": [
      "{'model': 'UNet-256-2classes', 'loss': 'BCE-dice', 'weighted_loss': False, 'learning_rate': 0.0001, 'epochs': 10, 'patience': 3}\n",
      "models/UNet-256-2classes_BCE-dice_normalized_noaug.pth\n",
      "Model is already saved\n",
      "{'model': 'UNet-256-2classes', 'loss': 'BCE-dice', 'weighted_loss': True, 'learning_rate': 0.0001, 'epochs': 10, 'patience': 3}\n",
      "models/UNet-256-2classes_BCE-dice-w_normalized_noaug.pth\n",
      "Model is already saved\n",
      "Loading it e continue training...\n",
      "LOSS mode: BCE-dice\n",
      "Training for epoch 9 until epoch 10\n",
      "Training Epoch 9/10\n",
      "Running an epoch on the train mode.\n"
     ]
    },
    {
     "name": "stderr",
     "output_type": "stream",
     "text": [
      "100%|██████████| 182/182 [03:06<00:00,  1.02s/it]\n"
     ]
    },
    {
     "name": "stdout",
     "output_type": "stream",
     "text": [
      "Train Loss: 0.8797456270735454\n",
      "Train Accuracy: 0.9812507033348083\n",
      "              precision    recall  f1-score    support\n",
      "Class 0        0.987398  0.992369  0.989877  175678400\n",
      "Class 1        0.901508  0.846506  0.873142   14495804\n",
      "weighted avg   0.980851  0.981251  0.980979  190174208\n",
      "macro avg      0.944453  0.919438  0.931510  190174208\n",
      "micro avg      0.981251  0.981251  0.981251  190174208\n",
      "Running an epoch on the validation mode.\n"
     ]
    },
    {
     "name": "stderr",
     "output_type": "stream",
     "text": [
      "100%|██████████| 46/46 [00:21<00:00,  2.11it/s]\n"
     ]
    },
    {
     "name": "stdout",
     "output_type": "stream",
     "text": [
      "Train Loss: 0.7658988106841883\n",
      "Train Accuracy: 0.9820340871810913\n",
      "              precision    recall  f1-score   support\n",
      "Class 0        0.986764  0.994403  0.990569  45113680\n",
      "Class 1        0.878960  0.752918  0.811071   2435430\n",
      "weighted avg   0.981242  0.982034  0.981375  47549112\n",
      "macro avg      0.932862  0.873660  0.900820  47549112\n",
      "micro avg      0.982034  0.982034  0.982034  47549112\n",
      "Training Epoch 10/10\n",
      "Running an epoch on the train mode.\n"
     ]
    },
    {
     "name": "stderr",
     "output_type": "stream",
     "text": [
      "100%|██████████| 182/182 [02:49<00:00,  1.07it/s]\n"
     ]
    },
    {
     "name": "stdout",
     "output_type": "stream",
     "text": [
      "Train Loss: 0.8561003068590296\n",
      "Train Accuracy: 0.980958104133606\n",
      "              precision    recall  f1-score    support\n",
      "Class 0        0.986919  0.992543  0.989723  175678208\n",
      "Class 1        0.902917  0.840563  0.870625   14495804\n",
      "weighted avg   0.980516  0.980958  0.980645  190174016\n",
      "macro avg      0.944918  0.916553  0.930174  190174016\n",
      "micro avg      0.980958  0.980958  0.980958  190174016\n",
      "Running an epoch on the validation mode.\n"
     ]
    },
    {
     "name": "stderr",
     "output_type": "stream",
     "text": [
      "100%|██████████| 46/46 [00:21<00:00,  2.17it/s]\n"
     ]
    },
    {
     "name": "stdout",
     "output_type": "stream",
     "text": [
      "Train Loss: 0.7933978061127597\n",
      "Train Accuracy: 0.981903076171875\n",
      "              precision    recall  f1-score   support\n",
      "Class 0        0.988222  0.992758  0.990485  45113680\n",
      "Class 1        0.853387  0.780825  0.815495   2435430\n",
      "weighted avg   0.981316  0.981903  0.981522  47549112\n",
      "macro avg      0.920804  0.886791  0.902990  47549112\n",
      "micro avg      0.981903  0.981903  0.981903  47549112\n",
      "{'model': 'UNet-64-2classes', 'loss': 'BCE-dice', 'weighted_loss': False, 'learning_rate': 0.0001, 'epochs': 10, 'patience': 3}\n",
      "{'model': 'UNet-64-2classes', 'loss': 'BCE-dice', 'weighted_loss': True, 'learning_rate': 0.0001, 'epochs': 10, 'patience': 3}\n",
      "{'model': 'UNetResNet34-224-2classes', 'loss': 'BCE-dice', 'weighted_loss': False, 'learning_rate': 0.0001, 'epochs': 10, 'patience': 3}\n",
      "{'model': 'UNetResNet34-224-2classes', 'loss': 'BCE-dice', 'weighted_loss': True, 'learning_rate': 0.0001, 'epochs': 10, 'patience': 3}\n",
      "{'model': 'UNetEfficientNetB0-224-2classes', 'loss': 'BCE-dice', 'weighted_loss': False, 'learning_rate': 0.0001, 'epochs': 10, 'patience': 3}\n",
      "{'model': 'UNetEfficientNetB0-224-2classes', 'loss': 'BCE-dice', 'weighted_loss': True, 'learning_rate': 0.0001, 'epochs': 10, 'patience': 3}\n",
      "{'model': 'UNetConvNext-224-2classes', 'loss': 'BCE-dice', 'weighted_loss': False, 'learning_rate': 0.0001, 'epochs': 10, 'patience': 3}\n",
      "{'model': 'UNetConvNext-224-2classes', 'loss': 'BCE-dice', 'weighted_loss': True, 'learning_rate': 0.0001, 'epochs': 10, 'patience': 3}\n",
      "{'model': 'UNet-256-5classes', 'loss': 'BCE-dice', 'weighted_loss': False, 'learning_rate': 0.0001, 'epochs': 10, 'patience': 3}\n",
      "{'model': 'UNet-256-5classes', 'loss': 'BCE-dice', 'weighted_loss': True, 'learning_rate': 0.0001, 'epochs': 10, 'patience': 3}\n",
      "{'model': 'UNet-64-5classes', 'loss': 'BCE-dice', 'weighted_loss': False, 'learning_rate': 0.0001, 'epochs': 10, 'patience': 3}\n",
      "{'model': 'UNet-64-5classes', 'loss': 'BCE-dice', 'weighted_loss': True, 'learning_rate': 0.0001, 'epochs': 10, 'patience': 3}\n",
      "{'model': 'UNetResNet34-224-5classes', 'loss': 'BCE-dice', 'weighted_loss': False, 'learning_rate': 0.0001, 'epochs': 10, 'patience': 3}\n",
      "{'model': 'UNetResNet34-224-5classes', 'loss': 'BCE-dice', 'weighted_loss': True, 'learning_rate': 0.0001, 'epochs': 10, 'patience': 3}\n",
      "{'model': 'UNetEfficientNetB0-224-5classes', 'loss': 'BCE-dice', 'weighted_loss': False, 'learning_rate': 0.0001, 'epochs': 10, 'patience': 3}\n",
      "{'model': 'UNetEfficientNetB0-224-5classes', 'loss': 'BCE-dice', 'weighted_loss': True, 'learning_rate': 0.0001, 'epochs': 10, 'patience': 3}\n",
      "{'model': 'UNetConvNext-224-5classes', 'loss': 'BCE-dice', 'weighted_loss': False, 'learning_rate': 0.0001, 'epochs': 10, 'patience': 3}\n",
      "{'model': 'UNetConvNext-224-5classes', 'loss': 'BCE-dice', 'weighted_loss': True, 'learning_rate': 0.0001, 'epochs': 10, 'patience': 3}\n",
      "{'patch_size': 256, 'num_classes': 5, 'normalization': 'unnormalized', 'data_aug': False}\n",
      "256\n",
      "{'model': 'UNet-256-2classes', 'loss': 'BCE-dice', 'weighted_loss': False, 'learning_rate': 0.0001, 'epochs': 10, 'patience': 3}\n",
      "{'model': 'UNet-256-2classes', 'loss': 'BCE-dice', 'weighted_loss': True, 'learning_rate': 0.0001, 'epochs': 10, 'patience': 3}\n",
      "{'model': 'UNet-64-2classes', 'loss': 'BCE-dice', 'weighted_loss': False, 'learning_rate': 0.0001, 'epochs': 10, 'patience': 3}\n",
      "{'model': 'UNet-64-2classes', 'loss': 'BCE-dice', 'weighted_loss': True, 'learning_rate': 0.0001, 'epochs': 10, 'patience': 3}\n",
      "{'model': 'UNetResNet34-224-2classes', 'loss': 'BCE-dice', 'weighted_loss': False, 'learning_rate': 0.0001, 'epochs': 10, 'patience': 3}\n",
      "{'model': 'UNetResNet34-224-2classes', 'loss': 'BCE-dice', 'weighted_loss': True, 'learning_rate': 0.0001, 'epochs': 10, 'patience': 3}\n",
      "{'model': 'UNetEfficientNetB0-224-2classes', 'loss': 'BCE-dice', 'weighted_loss': False, 'learning_rate': 0.0001, 'epochs': 10, 'patience': 3}\n",
      "{'model': 'UNetEfficientNetB0-224-2classes', 'loss': 'BCE-dice', 'weighted_loss': True, 'learning_rate': 0.0001, 'epochs': 10, 'patience': 3}\n",
      "{'model': 'UNetConvNext-224-2classes', 'loss': 'BCE-dice', 'weighted_loss': False, 'learning_rate': 0.0001, 'epochs': 10, 'patience': 3}\n",
      "{'model': 'UNetConvNext-224-2classes', 'loss': 'BCE-dice', 'weighted_loss': True, 'learning_rate': 0.0001, 'epochs': 10, 'patience': 3}\n",
      "{'model': 'UNet-256-5classes', 'loss': 'BCE-dice', 'weighted_loss': False, 'learning_rate': 0.0001, 'epochs': 10, 'patience': 3}\n",
      "models/UNet-256-5classes_BCE-dice_noaug.pth\n",
      "Model is already saved\n",
      "Loading it e continue training...\n",
      "LOSS mode: BCE-dice\n",
      "Training for epoch 9 until epoch 10\n",
      "Training Epoch 9/10\n",
      "Running an epoch on the train mode.\n"
     ]
    },
    {
     "name": "stderr",
     "output_type": "stream",
     "text": [
      "100%|██████████| 182/182 [02:31<00:00,  1.20it/s]\n"
     ]
    },
    {
     "name": "stdout",
     "output_type": "stream",
     "text": [
      "Train Loss: 5.076176744518858\n",
      "Train Accuracy: 0.9840028285980225\n",
      "              precision    recall  f1-score    support\n",
      "Class 0        0.980464  0.980537  0.980500  175678128\n",
      "Class 1        0.013167  0.024838  0.017210     362395\n",
      "Class 2        0.185750  0.093619  0.124493     814015\n",
      "Class 3        0.036006  0.107919  0.053997     185389\n",
      "Class 4        0.795147  0.776931  0.785933   13134005\n",
      "weighted avg   0.961499  0.960007  0.960660  190173936\n",
      "macro avg      0.402107  0.396769  0.392427  190173936\n",
      "micro avg      0.960007  0.960007  0.960007  190173936\n",
      "Running an epoch on the validation mode.\n"
     ]
    },
    {
     "name": "stderr",
     "output_type": "stream",
     "text": [
      "100%|██████████| 46/46 [00:15<00:00,  2.98it/s]\n"
     ]
    },
    {
     "name": "stdout",
     "output_type": "stream",
     "text": [
      "Train Loss: 3.1278367308545705\n",
      "Train Accuracy: 0.9873926639556885\n",
      "              precision    recall  f1-score   support\n",
      "Class 0        0.969874  0.998021  0.983746  45113664\n",
      "Class 1        0.000000  0.000000  0.000000    134266\n",
      "Class 2        0.000000  0.000000  0.000000     42154\n",
      "Class 3        0.000000  0.000000  0.000000     21458\n",
      "Class 4        0.911092  0.458559  0.610067   2237552\n",
      "weighted avg   0.963072  0.968482  0.962068  47549088\n",
      "macro avg      0.376193  0.291316  0.318763  47549088\n",
      "micro avg      0.968482  0.968482  0.968482  47549088\n",
      "Training Epoch 10/10\n",
      "Running an epoch on the train mode.\n"
     ]
    },
    {
     "name": "stderr",
     "output_type": "stream",
     "text": [
      "100%|██████████| 182/182 [02:33<00:00,  1.19it/s]\n"
     ]
    },
    {
     "name": "stdout",
     "output_type": "stream",
     "text": [
      "Train Loss: 2.864722595398748\n",
      "Train Accuracy: 0.9891360402107239\n",
      "              precision    recall  f1-score    support\n",
      "Class 0        0.982339  0.991761  0.987028  175678304\n",
      "Class 1        0.000000  0.000000  0.000000     362395\n",
      "Class 2        0.063567  0.001203  0.002361     814015\n",
      "Class 3        0.000000  0.000000  0.000000     185389\n",
      "Class 4        0.842616  0.820546  0.831434   13134005\n",
      "weighted avg   0.965927  0.972840  0.969224  190174112\n",
      "macro avg      0.377704  0.362702  0.364165  190174112\n",
      "micro avg      0.972840  0.972840  0.972840  190174112\n",
      "Running an epoch on the validation mode.\n"
     ]
    },
    {
     "name": "stderr",
     "output_type": "stream",
     "text": [
      "100%|██████████| 46/46 [00:14<00:00,  3.07it/s]\n"
     ]
    },
    {
     "name": "stdout",
     "output_type": "stream",
     "text": [
      "Train Loss: 2.199096594631836\n",
      "Train Accuracy: 0.9893273711204529\n",
      "              precision    recall  f1-score   support\n",
      "Class 0        0.975432  0.997370  0.986279  45113648\n",
      "Class 1        0.000000  0.000000  0.000000    134266\n",
      "Class 2        0.000000  0.000000  0.000000     42154\n",
      "Class 3        0.000000  0.000000  0.000000     21458\n",
      "Class 4        0.904700  0.574455  0.702711   2237552\n",
      "weighted avg   0.968044  0.973319  0.968831  47549072\n",
      "macro avg      0.376026  0.314365  0.337798  47549072\n",
      "micro avg      0.973318  0.973318  0.973318  47549072\n",
      "{'model': 'UNet-256-5classes', 'loss': 'BCE-dice', 'weighted_loss': True, 'learning_rate': 0.0001, 'epochs': 10, 'patience': 3}\n",
      "models/UNet-256-5classes_BCE-dice-w_noaug.pth\n",
      "Model is already saved\n",
      "Loading it e continue training...\n",
      "LOSS mode: BCE-dice\n",
      "Training for epoch 8 until epoch 10\n",
      "Training Epoch 8/10\n",
      "Running an epoch on the train mode.\n"
     ]
    },
    {
     "name": "stderr",
     "output_type": "stream",
     "text": [
      "100%|██████████| 182/182 [02:30<00:00,  1.21it/s]\n"
     ]
    },
    {
     "name": "stdout",
     "output_type": "stream",
     "text": [
      "Train Loss: 6.114811088099624\n",
      "Train Accuracy: 0.9838616251945496\n",
      "              precision    recall  f1-score    support\n",
      "Class 0        0.980495  0.980147  0.980321  175678320\n",
      "Class 1        0.026479  0.053505  0.035426     362395\n",
      "Class 2        0.087555  0.026619  0.040825     814015\n",
      "Class 3        0.006235  0.020670  0.009581     185389\n",
      "Class 4        0.791889  0.781623  0.786723   13134005\n",
      "weighted avg   0.960879  0.959654  0.960182  190174128\n",
      "macro avg      0.378531  0.372513  0.370575  190174128\n",
      "micro avg      0.959654  0.959654  0.959654  190174128\n",
      "Running an epoch on the validation mode.\n"
     ]
    },
    {
     "name": "stderr",
     "output_type": "stream",
     "text": [
      "100%|██████████| 46/46 [00:14<00:00,  3.08it/s]\n"
     ]
    },
    {
     "name": "stdout",
     "output_type": "stream",
     "text": [
      "Train Loss: 3.7431718757986694\n",
      "Train Accuracy: 0.9881737232208252\n",
      "              precision    recall  f1-score   support\n",
      "Class 0        0.972488  0.997366  0.984770  45113696\n",
      "Class 1        0.000000  0.000000  0.000000    134266\n",
      "Class 2        0.000000  0.000000  0.000000     42154\n",
      "Class 3        0.000000  0.000000  0.000000     21458\n",
      "Class 4        0.896295  0.513249  0.652726   2237552\n",
      "weighted avg   0.964855  0.970435  0.965047  47549120\n",
      "macro avg      0.373757  0.302123  0.327499  47549120\n",
      "micro avg      0.970434  0.970434  0.970434  47549120\n",
      "Training Epoch 9/10\n",
      "Running an epoch on the train mode.\n"
     ]
    },
    {
     "name": "stderr",
     "output_type": "stream",
     "text": [
      "100%|██████████| 182/182 [02:33<00:00,  1.19it/s]\n"
     ]
    },
    {
     "name": "stdout",
     "output_type": "stream",
     "text": [
      "Train Loss: 3.395457710444763\n",
      "Train Accuracy: 0.9889823198318481\n",
      "              precision    recall  f1-score    support\n",
      "Class 0        0.983476  0.990116  0.986785  175678320\n",
      "Class 1        0.000000  0.000000  0.000000     362395\n",
      "Class 2        0.215312  0.002982  0.005882     814015\n",
      "Class 3        0.000000  0.000000  0.000000     185389\n",
      "Class 4        0.826839  0.836874  0.831827   13134005\n",
      "weighted avg   0.966538  0.972456  0.969042  190174128\n",
      "macro avg      0.405126  0.365994  0.364899  190174128\n",
      "micro avg      0.972456  0.972456  0.972456  190174128\n",
      "Running an epoch on the validation mode.\n"
     ]
    },
    {
     "name": "stderr",
     "output_type": "stream",
     "text": [
      "100%|██████████| 46/46 [00:15<00:00,  3.05it/s]\n"
     ]
    },
    {
     "name": "stdout",
     "output_type": "stream",
     "text": [
      "Train Loss: 2.481843875787803\n",
      "Train Accuracy: 0.9900522828102112\n",
      "              precision    recall  f1-score   support\n",
      "Class 0        0.981274  0.993672  0.987434  45113676\n",
      "Class 1        0.000000  0.000000  0.000000    134266\n",
      "Class 2        0.000000  0.000000  0.000000     42154\n",
      "Class 3        0.000000  0.000000  0.000000     21458\n",
      "Class 4        0.824697  0.687546  0.749902   2237552\n",
      "weighted avg   0.969822  0.975131  0.972147  47549104\n",
      "macro avg      0.361194  0.336244  0.347467  47549104\n",
      "micro avg      0.975131  0.975131  0.975131  47549104\n",
      "Training Epoch 10/10\n",
      "Running an epoch on the train mode.\n"
     ]
    },
    {
     "name": "stderr",
     "output_type": "stream",
     "text": [
      "100%|██████████| 182/182 [02:32<00:00,  1.19it/s]\n"
     ]
    },
    {
     "name": "stdout",
     "output_type": "stream",
     "text": [
      "Train Loss: 2.4627466559738496\n",
      "Train Accuracy: 0.9897050261497498\n",
      "              precision    recall  f1-score    support\n",
      "Class 0        0.984601  0.991309  0.987944  175678224\n",
      "Class 1        0.000000  0.000000  0.000000     362395\n",
      "Class 2        0.128688  0.002310  0.004538     814015\n",
      "Class 3        0.000000  0.000000  0.000000     185389\n",
      "Class 4        0.838186  0.847123  0.842631   13134005\n",
      "weighted avg   0.967990  0.974262  0.970853  190174032\n",
      "macro avg      0.390295  0.368148  0.367022  190174032\n",
      "micro avg      0.974262  0.974262  0.974262  190174032\n",
      "Running an epoch on the validation mode.\n"
     ]
    },
    {
     "name": "stderr",
     "output_type": "stream",
     "text": [
      "100%|██████████| 46/46 [00:14<00:00,  3.07it/s]\n"
     ]
    },
    {
     "name": "stdout",
     "output_type": "stream",
     "text": [
      "Train Loss: 1.8962947496369522\n",
      "Train Accuracy: 0.9909169673919678\n",
      "              precision    recall  f1-score   support\n",
      "Class 0        0.986626  0.990727  0.988673  45113648\n",
      "Class 1        0.000000  0.000000  0.000000    134266\n",
      "Class 2        0.000000  0.000000  0.000000     42154\n",
      "Class 3        0.000000  0.000000  0.000000     21458\n",
      "Class 4        0.789186  0.792837  0.791007   2237552\n",
      "weighted avg   0.973230  0.977292  0.975257  47549072\n",
      "macro avg      0.355162  0.356713  0.355936  47549072\n",
      "micro avg      0.977292  0.977292  0.977292  47549072\n",
      "{'model': 'UNet-64-5classes', 'loss': 'BCE-dice', 'weighted_loss': False, 'learning_rate': 0.0001, 'epochs': 10, 'patience': 3}\n",
      "{'model': 'UNet-64-5classes', 'loss': 'BCE-dice', 'weighted_loss': True, 'learning_rate': 0.0001, 'epochs': 10, 'patience': 3}\n",
      "{'model': 'UNetResNet34-224-5classes', 'loss': 'BCE-dice', 'weighted_loss': False, 'learning_rate': 0.0001, 'epochs': 10, 'patience': 3}\n",
      "{'model': 'UNetResNet34-224-5classes', 'loss': 'BCE-dice', 'weighted_loss': True, 'learning_rate': 0.0001, 'epochs': 10, 'patience': 3}\n",
      "{'model': 'UNetEfficientNetB0-224-5classes', 'loss': 'BCE-dice', 'weighted_loss': False, 'learning_rate': 0.0001, 'epochs': 10, 'patience': 3}\n",
      "{'model': 'UNetEfficientNetB0-224-5classes', 'loss': 'BCE-dice', 'weighted_loss': True, 'learning_rate': 0.0001, 'epochs': 10, 'patience': 3}\n",
      "{'model': 'UNetConvNext-224-5classes', 'loss': 'BCE-dice', 'weighted_loss': False, 'learning_rate': 0.0001, 'epochs': 10, 'patience': 3}\n",
      "{'model': 'UNetConvNext-224-5classes', 'loss': 'BCE-dice', 'weighted_loss': True, 'learning_rate': 0.0001, 'epochs': 10, 'patience': 3}\n",
      "{'patch_size': 256, 'num_classes': 5, 'normalization': 'normalized', 'data_aug': False}\n"
     ]
    },
    {
     "name": "stderr",
     "output_type": "stream",
     "text": [
      "1it [00:01,  1.91s/it]"
     ]
    },
    {
     "name": "stdout",
     "output_type": "stream",
     "text": [
      "(12, 1760, 1760) 0.1464993 0.1036741 37151964 37171200 (12, 1760, 1760)\n"
     ]
    },
    {
     "name": "stderr",
     "output_type": "stream",
     "text": [
      "2it [00:03,  1.65s/it]"
     ]
    },
    {
     "name": "stdout",
     "output_type": "stream",
     "text": [
      "(12, 1760, 1760) 0.15382166 0.100056104 37049244 37171200 (12, 1760, 1760)\n"
     ]
    },
    {
     "name": "stderr",
     "output_type": "stream",
     "text": [
      "3it [00:03,  1.17s/it]"
     ]
    },
    {
     "name": "stdout",
     "output_type": "stream",
     "text": [
      "(12, 1760, 1760) 0.15337734 0.10233981 37168464 37171200 (12, 1760, 1760)\n"
     ]
    },
    {
     "name": "stderr",
     "output_type": "stream",
     "text": [
      "4it [00:04,  1.10it/s]"
     ]
    },
    {
     "name": "stdout",
     "output_type": "stream",
     "text": [
      "(12, 1760, 1760) 0.15523647 0.104508504 37166280 37171200 (12, 1760, 1760)\n"
     ]
    },
    {
     "name": "stderr",
     "output_type": "stream",
     "text": [
      "5it [00:04,  1.33it/s]"
     ]
    },
    {
     "name": "stdout",
     "output_type": "stream",
     "text": [
      "(12, 1760, 1760) 0.15980513 0.10502401 37122504 37171200 (12, 1760, 1760)\n"
     ]
    },
    {
     "name": "stderr",
     "output_type": "stream",
     "text": [
      "6it [00:05,  1.54it/s]"
     ]
    },
    {
     "name": "stdout",
     "output_type": "stream",
     "text": [
      "(12, 1760, 1760) 0.17472944 0.115456775 37169148 37171200 (12, 1760, 1760)\n"
     ]
    },
    {
     "name": "stderr",
     "output_type": "stream",
     "text": [
      "7it [00:05,  1.62it/s]"
     ]
    },
    {
     "name": "stdout",
     "output_type": "stream",
     "text": [
      "(12, 1760, 1760) 0.16961475 0.08417609 36943128 37171200 (12, 1760, 1760)\n"
     ]
    },
    {
     "name": "stderr",
     "output_type": "stream",
     "text": [
      "8it [00:06,  1.77it/s]"
     ]
    },
    {
     "name": "stdout",
     "output_type": "stream",
     "text": [
      "(12, 1760, 1760) 0.16184907 0.10867045 37122240 37171200 (12, 1760, 1760)\n"
     ]
    },
    {
     "name": "stderr",
     "output_type": "stream",
     "text": [
      "9it [00:06,  1.88it/s]"
     ]
    },
    {
     "name": "stdout",
     "output_type": "stream",
     "text": [
      "(12, 1760, 1760) 0.16775194 0.08914498 36992052 37171200 (12, 1760, 1760)\n"
     ]
    },
    {
     "name": "stderr",
     "output_type": "stream",
     "text": [
      "10it [00:07,  1.98it/s]"
     ]
    },
    {
     "name": "stdout",
     "output_type": "stream",
     "text": [
      "(12, 1760, 1760) 0.17667852 0.10794595 37169856 37171200 (12, 1760, 1760)\n"
     ]
    },
    {
     "name": "stderr",
     "output_type": "stream",
     "text": [
      "11it [00:07,  2.04it/s]"
     ]
    },
    {
     "name": "stdout",
     "output_type": "stream",
     "text": [
      "(12, 1760, 1760) 0.1473128 0.09609526 37165452 37171200 (12, 1760, 1760)\n"
     ]
    },
    {
     "name": "stderr",
     "output_type": "stream",
     "text": [
      "12it [00:08,  2.12it/s]"
     ]
    },
    {
     "name": "stdout",
     "output_type": "stream",
     "text": [
      "(12, 1760, 1760) 0.16057967 0.11220201 37168788 37171200 (12, 1760, 1760)\n"
     ]
    },
    {
     "name": "stderr",
     "output_type": "stream",
     "text": [
      "13it [00:08,  2.15it/s]"
     ]
    },
    {
     "name": "stdout",
     "output_type": "stream",
     "text": [
      "(12, 1760, 1760) 0.17382897 0.108215794 37170432 37171200 (12, 1760, 1760)\n"
     ]
    },
    {
     "name": "stderr",
     "output_type": "stream",
     "text": [
      "14it [00:09,  2.18it/s]"
     ]
    },
    {
     "name": "stdout",
     "output_type": "stream",
     "text": [
      "(12, 1760, 1760) 0.1660019 0.10331295 37169868 37171200 (12, 1760, 1760)\n"
     ]
    },
    {
     "name": "stderr",
     "output_type": "stream",
     "text": [
      "15it [00:09,  2.21it/s]"
     ]
    },
    {
     "name": "stdout",
     "output_type": "stream",
     "text": [
      "(12, 1760, 1760) 0.14081055 0.0921364 37170120 37171200 (12, 1760, 1760)\n"
     ]
    },
    {
     "name": "stderr",
     "output_type": "stream",
     "text": [
      "16it [00:09,  2.20it/s]"
     ]
    },
    {
     "name": "stdout",
     "output_type": "stream",
     "text": [
      "(12, 1760, 1760) 0.16521332 0.11598557 37170240 37171200 (12, 1760, 1760)\n"
     ]
    },
    {
     "name": "stderr",
     "output_type": "stream",
     "text": [
      "17it [00:10,  2.18it/s]"
     ]
    },
    {
     "name": "stdout",
     "output_type": "stream",
     "text": [
      "(12, 1760, 1760) 0.17268077 0.1097607 37170672 37171200 (12, 1760, 1760)\n"
     ]
    },
    {
     "name": "stderr",
     "output_type": "stream",
     "text": [
      "18it [00:10,  2.20it/s]"
     ]
    },
    {
     "name": "stdout",
     "output_type": "stream",
     "text": [
      "(12, 1760, 1760) 0.16981871 0.1085163 37157340 37171200 (12, 1760, 1760)\n"
     ]
    },
    {
     "name": "stderr",
     "output_type": "stream",
     "text": [
      "19it [00:11,  2.21it/s]"
     ]
    },
    {
     "name": "stdout",
     "output_type": "stream",
     "text": [
      "(12, 1760, 1760) 0.1433078 0.092321664 37146576 37171200 (12, 1760, 1760)\n"
     ]
    },
    {
     "name": "stderr",
     "output_type": "stream",
     "text": [
      "20it [00:11,  2.14it/s]"
     ]
    },
    {
     "name": "stdout",
     "output_type": "stream",
     "text": [
      "(12, 1760, 1760) 0.14462931 0.09223833 37166904 37171200 (12, 1760, 1760)\n"
     ]
    },
    {
     "name": "stderr",
     "output_type": "stream",
     "text": [
      "21it [00:12,  2.14it/s]"
     ]
    },
    {
     "name": "stdout",
     "output_type": "stream",
     "text": [
      "(12, 1760, 1760) 0.15976056 0.10168667 37162320 37171200 (12, 1760, 1760)\n"
     ]
    },
    {
     "name": "stderr",
     "output_type": "stream",
     "text": [
      "22it [00:12,  2.16it/s]"
     ]
    },
    {
     "name": "stdout",
     "output_type": "stream",
     "text": [
      "(12, 1760, 1760) 0.16497119 0.108591564 37167348 37171200 (12, 1760, 1760)\n"
     ]
    },
    {
     "name": "stderr",
     "output_type": "stream",
     "text": [
      "23it [00:13,  2.15it/s]"
     ]
    },
    {
     "name": "stdout",
     "output_type": "stream",
     "text": [
      "(12, 1760, 1760) 0.16207728 0.11367969 37170108 37171200 (12, 1760, 1760)\n"
     ]
    },
    {
     "name": "stderr",
     "output_type": "stream",
     "text": [
      "24it [00:13,  1.75it/s]"
     ]
    },
    {
     "name": "stdout",
     "output_type": "stream",
     "text": [
      "(12, 1760, 1760) 0.15193169 0.101455934 37154676 37171200 (12, 1760, 1760)\n",
      "0.1600930142712587 0.10408098505604475\n",
      "256\n"
     ]
    },
    {
     "name": "stderr",
     "output_type": "stream",
     "text": [
      "\n"
     ]
    },
    {
     "name": "stdout",
     "output_type": "stream",
     "text": [
      "{'model': 'UNet-256-2classes', 'loss': 'BCE-dice', 'weighted_loss': False, 'learning_rate': 0.0001, 'epochs': 10, 'patience': 3}\n",
      "{'model': 'UNet-256-2classes', 'loss': 'BCE-dice', 'weighted_loss': True, 'learning_rate': 0.0001, 'epochs': 10, 'patience': 3}\n",
      "{'model': 'UNet-64-2classes', 'loss': 'BCE-dice', 'weighted_loss': False, 'learning_rate': 0.0001, 'epochs': 10, 'patience': 3}\n",
      "{'model': 'UNet-64-2classes', 'loss': 'BCE-dice', 'weighted_loss': True, 'learning_rate': 0.0001, 'epochs': 10, 'patience': 3}\n",
      "{'model': 'UNetResNet34-224-2classes', 'loss': 'BCE-dice', 'weighted_loss': False, 'learning_rate': 0.0001, 'epochs': 10, 'patience': 3}\n",
      "{'model': 'UNetResNet34-224-2classes', 'loss': 'BCE-dice', 'weighted_loss': True, 'learning_rate': 0.0001, 'epochs': 10, 'patience': 3}\n",
      "{'model': 'UNetEfficientNetB0-224-2classes', 'loss': 'BCE-dice', 'weighted_loss': False, 'learning_rate': 0.0001, 'epochs': 10, 'patience': 3}\n",
      "{'model': 'UNetEfficientNetB0-224-2classes', 'loss': 'BCE-dice', 'weighted_loss': True, 'learning_rate': 0.0001, 'epochs': 10, 'patience': 3}\n",
      "{'model': 'UNetConvNext-224-2classes', 'loss': 'BCE-dice', 'weighted_loss': False, 'learning_rate': 0.0001, 'epochs': 10, 'patience': 3}\n",
      "{'model': 'UNetConvNext-224-2classes', 'loss': 'BCE-dice', 'weighted_loss': True, 'learning_rate': 0.0001, 'epochs': 10, 'patience': 3}\n",
      "{'model': 'UNet-256-5classes', 'loss': 'BCE-dice', 'weighted_loss': False, 'learning_rate': 0.0001, 'epochs': 10, 'patience': 3}\n",
      "models/UNet-256-5classes_BCE-dice_normalized_noaug.pth\n",
      "Model is already saved\n",
      "Loading it e continue training...\n",
      "LOSS mode: BCE-dice\n",
      "Training for epoch 9 until epoch 10\n",
      "Training Epoch 9/10\n",
      "Running an epoch on the train mode.\n"
     ]
    },
    {
     "name": "stderr",
     "output_type": "stream",
     "text": [
      "100%|██████████| 182/182 [02:46<00:00,  1.09it/s]\n"
     ]
    },
    {
     "name": "stdout",
     "output_type": "stream",
     "text": [
      "Train Loss: 5.243203255099042\n",
      "Train Accuracy: 0.9846248626708984\n",
      "              precision    recall  f1-score    support\n",
      "Class 0        0.981297  0.981541  0.981419  175678432\n",
      "Class 1        0.019084  0.032936  0.024166     362395\n",
      "Class 2        0.120426  0.034556  0.053702     814015\n",
      "Class 3        0.009436  0.031852  0.014559     185389\n",
      "Class 4        0.800692  0.790526  0.795577   13134005\n",
      "weighted avg   0.962358  0.961562  0.961846  190174240\n",
      "macro avg      0.386187  0.374282  0.373885  190174240\n",
      "micro avg      0.961562  0.961562  0.961562  190174240\n",
      "Running an epoch on the validation mode.\n"
     ]
    },
    {
     "name": "stderr",
     "output_type": "stream",
     "text": [
      "100%|██████████| 46/46 [00:19<00:00,  2.40it/s]\n"
     ]
    },
    {
     "name": "stdout",
     "output_type": "stream",
     "text": [
      "Train Loss: 3.2230248193438715\n",
      "Train Accuracy: 0.9899024963378906\n",
      "              precision    recall  f1-score   support\n",
      "Class 0        0.982048  0.992410  0.987202  45113680\n",
      "Class 1        0.000000  0.000000  0.000000    134266\n",
      "Class 2        0.237900  0.012359  0.023498     42154\n",
      "Class 3        0.000000  0.000000  0.000000     21458\n",
      "Class 4        0.805736  0.704792  0.751891   2237552\n",
      "weighted avg   0.969875  0.974756  0.972041  47549104\n",
      "macro avg      0.405137  0.341912  0.352518  47549104\n",
      "micro avg      0.974756  0.974756  0.974756  47549104\n",
      "Training Epoch 10/10\n",
      "Running an epoch on the train mode.\n"
     ]
    },
    {
     "name": "stderr",
     "output_type": "stream",
     "text": [
      "100%|██████████| 182/182 [02:46<00:00,  1.09it/s]\n"
     ]
    },
    {
     "name": "stdout",
     "output_type": "stream",
     "text": [
      "Train Loss: 2.9219584386210795\n",
      "Train Accuracy: 0.9895631670951843\n",
      "              precision    recall  f1-score    support\n",
      "Class 0        0.982821  0.992261  0.987518  175678288\n",
      "Class 1        0.000000  0.000000  0.000000     362395\n",
      "Class 2        0.287312  0.010635  0.020511     814015\n",
      "Class 3        0.000000  0.000000  0.000000     185389\n",
      "Class 4        0.851812  0.828745  0.840120   13134005\n",
      "weighted avg   0.967965  0.973908  0.970355  190174096\n",
      "macro avg      0.424389  0.366328  0.369630  190174096\n",
      "micro avg      0.973908  0.973908  0.973908  190174096\n",
      "Running an epoch on the validation mode.\n"
     ]
    },
    {
     "name": "stderr",
     "output_type": "stream",
     "text": [
      "100%|██████████| 46/46 [00:20<00:00,  2.29it/s]\n"
     ]
    },
    {
     "name": "stdout",
     "output_type": "stream",
     "text": [
      "Train Loss: 2.165639144001585\n",
      "Train Accuracy: 0.9907061457633972\n",
      "              precision    recall  f1-score   support\n",
      "Class 0        0.987222  0.989805  0.988512  45113688\n",
      "Class 1        0.000000  0.000000  0.000000    134266\n",
      "Class 2        0.615385  0.000190  0.000379     42154\n",
      "Class 3        0.000000  0.000000  0.000000     21458\n",
      "Class 4        0.772674  0.800230  0.786210   2237552\n",
      "weighted avg   0.973563  0.976765  0.974879  47549112\n",
      "macro avg      0.475056  0.358045  0.355020  47549112\n",
      "micro avg      0.976765  0.976765  0.976765  47549112\n",
      "{'model': 'UNet-256-5classes', 'loss': 'BCE-dice', 'weighted_loss': True, 'learning_rate': 0.0001, 'epochs': 10, 'patience': 3}\n",
      "models/UNet-256-5classes_BCE-dice-w_normalized_noaug.pth\n",
      "Model is already saved\n",
      "{'model': 'UNet-64-5classes', 'loss': 'BCE-dice', 'weighted_loss': False, 'learning_rate': 0.0001, 'epochs': 10, 'patience': 3}\n",
      "{'model': 'UNet-64-5classes', 'loss': 'BCE-dice', 'weighted_loss': True, 'learning_rate': 0.0001, 'epochs': 10, 'patience': 3}\n",
      "{'model': 'UNetResNet34-224-5classes', 'loss': 'BCE-dice', 'weighted_loss': False, 'learning_rate': 0.0001, 'epochs': 10, 'patience': 3}\n",
      "{'model': 'UNetResNet34-224-5classes', 'loss': 'BCE-dice', 'weighted_loss': True, 'learning_rate': 0.0001, 'epochs': 10, 'patience': 3}\n",
      "{'model': 'UNetEfficientNetB0-224-5classes', 'loss': 'BCE-dice', 'weighted_loss': False, 'learning_rate': 0.0001, 'epochs': 10, 'patience': 3}\n",
      "{'model': 'UNetEfficientNetB0-224-5classes', 'loss': 'BCE-dice', 'weighted_loss': True, 'learning_rate': 0.0001, 'epochs': 10, 'patience': 3}\n",
      "{'model': 'UNetConvNext-224-5classes', 'loss': 'BCE-dice', 'weighted_loss': False, 'learning_rate': 0.0001, 'epochs': 10, 'patience': 3}\n",
      "{'model': 'UNetConvNext-224-5classes', 'loss': 'BCE-dice', 'weighted_loss': True, 'learning_rate': 0.0001, 'epochs': 10, 'patience': 3}\n",
      "{'patch_size': 64, 'num_classes': 2, 'normalization': 'unnormalized', 'data_aug': False}\n",
      "64\n",
      "{'model': 'UNet-256-2classes', 'loss': 'BCE-dice', 'weighted_loss': False, 'learning_rate': 0.0001, 'epochs': 10, 'patience': 3}\n",
      "{'model': 'UNet-256-2classes', 'loss': 'BCE-dice', 'weighted_loss': True, 'learning_rate': 0.0001, 'epochs': 10, 'patience': 3}\n",
      "{'model': 'UNet-64-2classes', 'loss': 'BCE-dice', 'weighted_loss': False, 'learning_rate': 0.0001, 'epochs': 10, 'patience': 3}\n",
      "models/UNet-64-2classes_BCE-dice_noaug.pth\n",
      "Model is already saved\n",
      "Loading it e continue training...\n",
      "LOSS mode: BCE-dice\n",
      "Training for epoch 4 until epoch 10\n",
      "Training Epoch 4/10\n",
      "Running an epoch on the train mode.\n"
     ]
    },
    {
     "name": "stderr",
     "output_type": "stream",
     "text": [
      "100%|██████████| 2646/2646 [04:20<00:00, 10.15it/s]\n"
     ]
    },
    {
     "name": "stdout",
     "output_type": "stream",
     "text": [
      "Train Loss: 0.7856624850718894\n",
      "Train Accuracy: 0.981661856174469\n",
      "              precision    recall  f1-score    support\n",
      "Class 0        0.987541  0.992626  0.990077  159680560\n",
      "Class 1        0.907701  0.852747  0.879366   13580156\n",
      "weighted avg   0.981283  0.981662  0.981399  173260720\n",
      "macro avg      0.947621  0.922686  0.934722  173260720\n",
      "micro avg      0.981662  0.981662  0.981662  173260720\n",
      "Running an epoch on the validation mode.\n"
     ]
    },
    {
     "name": "stderr",
     "output_type": "stream",
     "text": [
      "100%|██████████| 662/662 [00:27<00:00, 23.69it/s]\n"
     ]
    },
    {
     "name": "stdout",
     "output_type": "stream",
     "text": [
      "Train Loss: 0.8449029334520222\n",
      "Train Accuracy: 0.9799503087997437\n",
      "              precision    recall  f1-score   support\n",
      "Class 0        0.982679  0.996374  0.989479  40997000\n",
      "Class 1        0.915405  0.690786  0.787390   2328535\n",
      "weighted avg   0.979063  0.979950  0.978618  43325536\n",
      "macro avg      0.949042  0.843580  0.888434  43325536\n",
      "micro avg      0.979950  0.979950  0.979950  43325536\n",
      "Training Epoch 5/10\n",
      "Running an epoch on the train mode.\n"
     ]
    },
    {
     "name": "stderr",
     "output_type": "stream",
     "text": [
      "100%|██████████| 2646/2646 [04:20<00:00, 10.16it/s]\n"
     ]
    },
    {
     "name": "stdout",
     "output_type": "stream",
     "text": [
      "Train Loss: 0.7569640941332916\n",
      "Train Accuracy: 0.9823121428489685\n",
      "              precision    recall  f1-score    support\n",
      "Class 0        0.987795  0.993078  0.990429  159680496\n",
      "Class 1        0.913150  0.855719  0.883502   13580156\n",
      "weighted avg   0.981944  0.982312  0.982049  173260656\n",
      "macro avg      0.950473  0.924399  0.936966  173260656\n",
      "micro avg      0.982312  0.982312  0.982312  173260656\n",
      "Running an epoch on the validation mode.\n"
     ]
    },
    {
     "name": "stderr",
     "output_type": "stream",
     "text": [
      "100%|██████████| 662/662 [00:27<00:00, 23.85it/s]\n"
     ]
    },
    {
     "name": "stdout",
     "output_type": "stream",
     "text": [
      "Train Loss: 0.7594331017162479\n",
      "Train Accuracy: 0.9815676212310791\n",
      "              precision    recall  f1-score   support\n",
      "Class 0        0.986657  0.993963  0.990296  40997000\n",
      "Class 1        0.877770  0.763338  0.816564   2328535\n",
      "weighted avg   0.980805  0.981568  0.980959  43325536\n",
      "macro avg      0.932214  0.878650  0.903430  43325536\n",
      "micro avg      0.981568  0.981568  0.981568  43325536\n",
      "Training Epoch 6/10\n",
      "Running an epoch on the train mode.\n"
     ]
    },
    {
     "name": "stderr",
     "output_type": "stream",
     "text": [
      "100%|██████████| 2646/2646 [04:18<00:00, 10.22it/s]\n"
     ]
    },
    {
     "name": "stdout",
     "output_type": "stream",
     "text": [
      "Train Loss: 0.7355680921067816\n",
      "Train Accuracy: 0.9825615286827087\n",
      "              precision    recall  f1-score    support\n",
      "Class 0        0.988258  0.992876  0.990561  159680160\n",
      "Class 1        0.911359  0.861284  0.885614   13580156\n",
      "weighted avg   0.982230  0.982561  0.982336  173260320\n",
      "macro avg      0.949808  0.927080  0.938088  173260320\n",
      "micro avg      0.982562  0.982562  0.982562  173260320\n",
      "Running an epoch on the validation mode.\n"
     ]
    },
    {
     "name": "stderr",
     "output_type": "stream",
     "text": [
      "100%|██████████| 662/662 [00:27<00:00, 23.92it/s]\n"
     ]
    },
    {
     "name": "stdout",
     "output_type": "stream",
     "text": [
      "Train Loss: 0.8111806411987054\n",
      "Train Accuracy: 0.9813480973243713\n",
      "              precision    recall  f1-score   support\n",
      "Class 0        0.987602  0.992752  0.990170  40997044\n",
      "Class 1        0.859484  0.780571  0.818129   2328535\n",
      "weighted avg   0.980716  0.981348  0.980924  43325580\n",
      "macro avg      0.923543  0.886661  0.904150  43325580\n",
      "micro avg      0.981348  0.981348  0.981348  43325580\n",
      "Training Epoch 7/10\n",
      "Running an epoch on the train mode.\n"
     ]
    },
    {
     "name": "stderr",
     "output_type": "stream",
     "text": [
      "100%|██████████| 2646/2646 [04:18<00:00, 10.24it/s]\n"
     ]
    },
    {
     "name": "stdout",
     "output_type": "stream",
     "text": [
      "Train Loss: 0.7187289292554534\n",
      "Train Accuracy: 0.9829174280166626\n",
      "              precision    recall  f1-score    support\n",
      "Class 0        0.988382  0.993139  0.990755  159680800\n",
      "Class 1        0.914482  0.862733  0.887854   13580156\n",
      "weighted avg   0.982590  0.982917  0.982689  173260960\n",
      "macro avg      0.951432  0.927936  0.939304  173260960\n",
      "micro avg      0.982917  0.982917  0.982917  173260960\n",
      "Running an epoch on the validation mode.\n"
     ]
    },
    {
     "name": "stderr",
     "output_type": "stream",
     "text": [
      "100%|██████████| 662/662 [00:27<00:00, 23.86it/s]\n"
     ]
    },
    {
     "name": "stdout",
     "output_type": "stream",
     "text": [
      "Train Loss: 0.952122794966849\n",
      "Train Accuracy: 0.9773968458175659\n",
      "              precision    recall  f1-score   support\n",
      "Class 0        0.992823  0.983221  0.987998  40997016\n",
      "Class 1        0.747565  0.874853  0.806216   2328535\n",
      "weighted avg   0.979641  0.977397  0.978229  43325552\n",
      "macro avg      0.870194  0.929037  0.897107  43325552\n",
      "micro avg      0.977397  0.977397  0.977397  43325552\n",
      "Training Epoch 8/10\n",
      "Running an epoch on the train mode.\n"
     ]
    },
    {
     "name": "stderr",
     "output_type": "stream",
     "text": [
      "100%|██████████| 2646/2646 [04:17<00:00, 10.28it/s]\n"
     ]
    },
    {
     "name": "stdout",
     "output_type": "stream",
     "text": [
      "Train Loss: 0.7068000402025603\n",
      "Train Accuracy: 0.9831035733222961\n",
      "              precision    recall  f1-score    support\n",
      "Class 0        0.988451  0.993272  0.990856  159680448\n",
      "Class 1        0.916079  0.863536  0.889032   13580156\n",
      "weighted avg   0.982778  0.983103  0.982875  173260608\n",
      "macro avg      0.952265  0.928404  0.939944  173260608\n",
      "micro avg      0.983104  0.983104  0.983104  173260608\n",
      "Running an epoch on the validation mode.\n"
     ]
    },
    {
     "name": "stderr",
     "output_type": "stream",
     "text": [
      "100%|██████████| 662/662 [00:27<00:00, 24.16it/s]\n"
     ]
    },
    {
     "name": "stdout",
     "output_type": "stream",
     "text": [
      "Train Loss: 0.9972941077413574\n",
      "Train Accuracy: 0.9745275974273682\n",
      "              precision    recall  f1-score   support\n",
      "Class 0        0.993657  0.979332  0.986443  40997032\n",
      "Class 1        0.709777  0.889941  0.789714   2328535\n",
      "weighted avg   0.978400  0.974528  0.975869  43325568\n",
      "macro avg      0.851717  0.934636  0.888078  43325568\n",
      "micro avg      0.974528  0.974528  0.974528  43325568\n",
      "{'model': 'UNet-64-2classes', 'loss': 'BCE-dice', 'weighted_loss': True, 'learning_rate': 0.0001, 'epochs': 10, 'patience': 3}\n",
      "models/UNet-64-2classes_BCE-dice-w_noaug.pth\n",
      "Model is already saved\n",
      "Loading it e continue training...\n",
      "LOSS mode: BCE-dice\n",
      "Training for epoch 3 until epoch 10\n",
      "Training Epoch 3/10\n",
      "Running an epoch on the train mode.\n"
     ]
    },
    {
     "name": "stderr",
     "output_type": "stream",
     "text": [
      "100%|██████████| 2646/2646 [04:17<00:00, 10.28it/s]\n"
     ]
    },
    {
     "name": "stdout",
     "output_type": "stream",
     "text": [
      "Train Loss: 0.7894330503023423\n",
      "Train Accuracy: 0.9817060232162476\n",
      "              precision    recall  f1-score    support\n",
      "Class 0        0.987403  0.992817  0.990102  159680704\n",
      "Class 1        0.909713  0.851063  0.879412   13580156\n",
      "weighted avg   0.981313  0.981706  0.981426  173260864\n",
      "macro avg      0.948558  0.921940  0.934757  173260864\n",
      "micro avg      0.981706  0.981706  0.981706  173260864\n",
      "Running an epoch on the validation mode.\n"
     ]
    },
    {
     "name": "stderr",
     "output_type": "stream",
     "text": [
      "100%|██████████| 662/662 [00:27<00:00, 24.07it/s]\n"
     ]
    },
    {
     "name": "stdout",
     "output_type": "stream",
     "text": [
      "Train Loss: 1.6088806787000312\n",
      "Train Accuracy: 0.9603114724159241\n",
      "              precision    recall  f1-score   support\n",
      "Class 0        0.994582  0.963305  0.978694  40997024\n",
      "Class 1        0.584169  0.907600  0.710823   2328535\n",
      "weighted avg   0.972524  0.960311  0.964297  43325560\n",
      "macro avg      0.789375  0.935453  0.844758  43325560\n",
      "micro avg      0.960311  0.960311  0.960311  43325560\n",
      "Training Epoch 4/10\n",
      "Running an epoch on the train mode.\n"
     ]
    },
    {
     "name": "stderr",
     "output_type": "stream",
     "text": [
      "100%|██████████| 2646/2646 [04:17<00:00, 10.27it/s]\n"
     ]
    },
    {
     "name": "stdout",
     "output_type": "stream",
     "text": [
      "Train Loss: 0.7522097207642444\n",
      "Train Accuracy: 0.982321560382843\n",
      "              precision    recall  f1-score    support\n",
      "Class 0        0.987825  0.993058  0.990434  159680608\n",
      "Class 1        0.912951  0.856079  0.883601   13580156\n",
      "weighted avg   0.981956  0.982322  0.982061  173260768\n",
      "macro avg      0.950388  0.924568  0.937018  173260768\n",
      "micro avg      0.982322  0.982322  0.982322  173260768\n",
      "Running an epoch on the validation mode.\n"
     ]
    },
    {
     "name": "stderr",
     "output_type": "stream",
     "text": [
      "100%|██████████| 662/662 [00:27<00:00, 23.92it/s]\n"
     ]
    },
    {
     "name": "stdout",
     "output_type": "stream",
     "text": [
      "Train Loss: 0.971207347533786\n",
      "Train Accuracy: 0.9779171347618103\n",
      "              precision    recall  f1-score   support\n",
      "Class 0        0.980030  0.996978  0.988431  40996976\n",
      "Class 1        0.923510  0.642319  0.757666   2328535\n",
      "weighted avg   0.976992  0.977917  0.976029  43325512\n",
      "macro avg      0.951770  0.819649  0.873049  43325512\n",
      "micro avg      0.977917  0.977917  0.977917  43325512\n",
      "Training Epoch 5/10\n",
      "Running an epoch on the train mode.\n"
     ]
    },
    {
     "name": "stderr",
     "output_type": "stream",
     "text": [
      "100%|██████████| 2646/2646 [04:17<00:00, 10.27it/s]\n"
     ]
    },
    {
     "name": "stdout",
     "output_type": "stream",
     "text": [
      "Train Loss: 0.724502054367634\n",
      "Train Accuracy: 0.9827426671981812\n",
      "              precision    recall  f1-score    support\n",
      "Class 0        0.988194  0.993140  0.990661  159680352\n",
      "Class 1        0.914294  0.860486  0.886574   13580156\n",
      "weighted avg   0.982402  0.982743  0.982503  173260512\n",
      "macro avg      0.951244  0.926813  0.938618  173260512\n",
      "micro avg      0.982743  0.982743  0.982743  173260512\n",
      "Running an epoch on the validation mode.\n"
     ]
    },
    {
     "name": "stderr",
     "output_type": "stream",
     "text": [
      "100%|██████████| 662/662 [00:27<00:00, 23.99it/s]\n"
     ]
    },
    {
     "name": "stdout",
     "output_type": "stream",
     "text": [
      "Train Loss: 1.1158204845176378\n",
      "Train Accuracy: 0.9736089110374451\n",
      "              precision    recall  f1-score   support\n",
      "Class 0        0.974142  0.998617  0.986228  40997032\n",
      "Class 1        0.956344  0.533304  0.684755   2328535\n",
      "weighted avg   0.973186  0.973609  0.970025  43325568\n",
      "macro avg      0.965243  0.765960  0.835491  43325568\n",
      "micro avg      0.973609  0.973609  0.973609  43325568\n",
      "{'model': 'UNetResNet34-224-2classes', 'loss': 'BCE-dice', 'weighted_loss': False, 'learning_rate': 0.0001, 'epochs': 10, 'patience': 3}\n",
      "{'model': 'UNetResNet34-224-2classes', 'loss': 'BCE-dice', 'weighted_loss': True, 'learning_rate': 0.0001, 'epochs': 10, 'patience': 3}\n",
      "{'model': 'UNetEfficientNetB0-224-2classes', 'loss': 'BCE-dice', 'weighted_loss': False, 'learning_rate': 0.0001, 'epochs': 10, 'patience': 3}\n",
      "{'model': 'UNetEfficientNetB0-224-2classes', 'loss': 'BCE-dice', 'weighted_loss': True, 'learning_rate': 0.0001, 'epochs': 10, 'patience': 3}\n",
      "{'model': 'UNetConvNext-224-2classes', 'loss': 'BCE-dice', 'weighted_loss': False, 'learning_rate': 0.0001, 'epochs': 10, 'patience': 3}\n",
      "{'model': 'UNetConvNext-224-2classes', 'loss': 'BCE-dice', 'weighted_loss': True, 'learning_rate': 0.0001, 'epochs': 10, 'patience': 3}\n",
      "{'model': 'UNet-256-5classes', 'loss': 'BCE-dice', 'weighted_loss': False, 'learning_rate': 0.0001, 'epochs': 10, 'patience': 3}\n",
      "{'model': 'UNet-256-5classes', 'loss': 'BCE-dice', 'weighted_loss': True, 'learning_rate': 0.0001, 'epochs': 10, 'patience': 3}\n",
      "{'model': 'UNet-64-5classes', 'loss': 'BCE-dice', 'weighted_loss': False, 'learning_rate': 0.0001, 'epochs': 10, 'patience': 3}\n",
      "{'model': 'UNet-64-5classes', 'loss': 'BCE-dice', 'weighted_loss': True, 'learning_rate': 0.0001, 'epochs': 10, 'patience': 3}\n",
      "{'model': 'UNetResNet34-224-5classes', 'loss': 'BCE-dice', 'weighted_loss': False, 'learning_rate': 0.0001, 'epochs': 10, 'patience': 3}\n",
      "{'model': 'UNetResNet34-224-5classes', 'loss': 'BCE-dice', 'weighted_loss': True, 'learning_rate': 0.0001, 'epochs': 10, 'patience': 3}\n",
      "{'model': 'UNetEfficientNetB0-224-5classes', 'loss': 'BCE-dice', 'weighted_loss': False, 'learning_rate': 0.0001, 'epochs': 10, 'patience': 3}\n",
      "{'model': 'UNetEfficientNetB0-224-5classes', 'loss': 'BCE-dice', 'weighted_loss': True, 'learning_rate': 0.0001, 'epochs': 10, 'patience': 3}\n",
      "{'model': 'UNetConvNext-224-5classes', 'loss': 'BCE-dice', 'weighted_loss': False, 'learning_rate': 0.0001, 'epochs': 10, 'patience': 3}\n",
      "{'model': 'UNetConvNext-224-5classes', 'loss': 'BCE-dice', 'weighted_loss': True, 'learning_rate': 0.0001, 'epochs': 10, 'patience': 3}\n",
      "{'patch_size': 64, 'num_classes': 2, 'normalization': 'normalized', 'data_aug': False}\n"
     ]
    },
    {
     "name": "stderr",
     "output_type": "stream",
     "text": [
      "1it [00:00,  1.18it/s]"
     ]
    },
    {
     "name": "stdout",
     "output_type": "stream",
     "text": [
      "(12, 1760, 1760) 0.1464993 0.1036741 37151964 37171200 (12, 1760, 1760)\n"
     ]
    },
    {
     "name": "stderr",
     "output_type": "stream",
     "text": [
      "2it [00:01,  1.22it/s]"
     ]
    },
    {
     "name": "stdout",
     "output_type": "stream",
     "text": [
      "(12, 1760, 1760) 0.15382166 0.100056104 37049244 37171200 (12, 1760, 1760)\n"
     ]
    },
    {
     "name": "stderr",
     "output_type": "stream",
     "text": [
      "3it [00:02,  1.36it/s]"
     ]
    },
    {
     "name": "stdout",
     "output_type": "stream",
     "text": [
      "(12, 1760, 1760) 0.15337734 0.10233981 37168464 37171200 (12, 1760, 1760)\n"
     ]
    },
    {
     "name": "stderr",
     "output_type": "stream",
     "text": [
      "4it [00:02,  1.49it/s]"
     ]
    },
    {
     "name": "stdout",
     "output_type": "stream",
     "text": [
      "(12, 1760, 1760) 0.15523647 0.104508504 37166280 37171200 (12, 1760, 1760)\n"
     ]
    },
    {
     "name": "stderr",
     "output_type": "stream",
     "text": [
      "5it [00:03,  1.71it/s]"
     ]
    },
    {
     "name": "stdout",
     "output_type": "stream",
     "text": [
      "(12, 1760, 1760) 0.15980513 0.10502401 37122504 37171200 (12, 1760, 1760)\n"
     ]
    },
    {
     "name": "stderr",
     "output_type": "stream",
     "text": [
      "6it [00:03,  1.89it/s]"
     ]
    },
    {
     "name": "stdout",
     "output_type": "stream",
     "text": [
      "(12, 1760, 1760) 0.17472944 0.115456775 37169148 37171200 (12, 1760, 1760)\n"
     ]
    },
    {
     "name": "stderr",
     "output_type": "stream",
     "text": [
      "7it [00:04,  2.00it/s]"
     ]
    },
    {
     "name": "stdout",
     "output_type": "stream",
     "text": [
      "(12, 1760, 1760) 0.16961475 0.08417609 36943128 37171200 (12, 1760, 1760)\n"
     ]
    },
    {
     "name": "stderr",
     "output_type": "stream",
     "text": [
      "8it [00:04,  2.07it/s]"
     ]
    },
    {
     "name": "stdout",
     "output_type": "stream",
     "text": [
      "(12, 1760, 1760) 0.16184907 0.10867045 37122240 37171200 (12, 1760, 1760)\n"
     ]
    },
    {
     "name": "stderr",
     "output_type": "stream",
     "text": [
      "9it [00:05,  2.14it/s]"
     ]
    },
    {
     "name": "stdout",
     "output_type": "stream",
     "text": [
      "(12, 1760, 1760) 0.16775194 0.08914498 36992052 37171200 (12, 1760, 1760)\n"
     ]
    },
    {
     "name": "stderr",
     "output_type": "stream",
     "text": [
      "10it [00:05,  2.20it/s]"
     ]
    },
    {
     "name": "stdout",
     "output_type": "stream",
     "text": [
      "(12, 1760, 1760) 0.17667852 0.10794595 37169856 37171200 (12, 1760, 1760)\n"
     ]
    },
    {
     "name": "stderr",
     "output_type": "stream",
     "text": [
      "11it [00:05,  2.20it/s]"
     ]
    },
    {
     "name": "stdout",
     "output_type": "stream",
     "text": [
      "(12, 1760, 1760) 0.1473128 0.09609526 37165452 37171200 (12, 1760, 1760)\n"
     ]
    },
    {
     "name": "stderr",
     "output_type": "stream",
     "text": [
      "12it [00:06,  2.25it/s]"
     ]
    },
    {
     "name": "stdout",
     "output_type": "stream",
     "text": [
      "(12, 1760, 1760) 0.16057967 0.11220201 37168788 37171200 (12, 1760, 1760)\n"
     ]
    },
    {
     "name": "stderr",
     "output_type": "stream",
     "text": [
      "13it [00:06,  2.29it/s]"
     ]
    },
    {
     "name": "stdout",
     "output_type": "stream",
     "text": [
      "(12, 1760, 1760) 0.17382897 0.108215794 37170432 37171200 (12, 1760, 1760)\n"
     ]
    },
    {
     "name": "stderr",
     "output_type": "stream",
     "text": [
      "14it [00:07,  2.32it/s]"
     ]
    },
    {
     "name": "stdout",
     "output_type": "stream",
     "text": [
      "(12, 1760, 1760) 0.1660019 0.10331295 37169868 37171200 (12, 1760, 1760)\n"
     ]
    },
    {
     "name": "stderr",
     "output_type": "stream",
     "text": [
      "15it [00:07,  2.35it/s]"
     ]
    },
    {
     "name": "stdout",
     "output_type": "stream",
     "text": [
      "(12, 1760, 1760) 0.14081055 0.0921364 37170120 37171200 (12, 1760, 1760)\n"
     ]
    },
    {
     "name": "stderr",
     "output_type": "stream",
     "text": [
      "16it [00:07,  2.36it/s]"
     ]
    },
    {
     "name": "stdout",
     "output_type": "stream",
     "text": [
      "(12, 1760, 1760) 0.16521332 0.11598557 37170240 37171200 (12, 1760, 1760)\n"
     ]
    },
    {
     "name": "stderr",
     "output_type": "stream",
     "text": [
      "17it [00:08,  2.34it/s]"
     ]
    },
    {
     "name": "stdout",
     "output_type": "stream",
     "text": [
      "(12, 1760, 1760) 0.17268077 0.1097607 37170672 37171200 (12, 1760, 1760)\n"
     ]
    },
    {
     "name": "stderr",
     "output_type": "stream",
     "text": [
      "18it [00:08,  2.35it/s]"
     ]
    },
    {
     "name": "stdout",
     "output_type": "stream",
     "text": [
      "(12, 1760, 1760) 0.16981871 0.1085163 37157340 37171200 (12, 1760, 1760)\n"
     ]
    },
    {
     "name": "stderr",
     "output_type": "stream",
     "text": [
      "19it [00:09,  2.37it/s]"
     ]
    },
    {
     "name": "stdout",
     "output_type": "stream",
     "text": [
      "(12, 1760, 1760) 0.1433078 0.092321664 37146576 37171200 (12, 1760, 1760)\n"
     ]
    },
    {
     "name": "stderr",
     "output_type": "stream",
     "text": [
      "20it [00:09,  2.37it/s]"
     ]
    },
    {
     "name": "stdout",
     "output_type": "stream",
     "text": [
      "(12, 1760, 1760) 0.14462931 0.09223833 37166904 37171200 (12, 1760, 1760)\n"
     ]
    },
    {
     "name": "stderr",
     "output_type": "stream",
     "text": [
      "21it [00:10,  2.37it/s]"
     ]
    },
    {
     "name": "stdout",
     "output_type": "stream",
     "text": [
      "(12, 1760, 1760) 0.15976056 0.10168667 37162320 37171200 (12, 1760, 1760)\n"
     ]
    },
    {
     "name": "stderr",
     "output_type": "stream",
     "text": [
      "22it [00:10,  2.38it/s]"
     ]
    },
    {
     "name": "stdout",
     "output_type": "stream",
     "text": [
      "(12, 1760, 1760) 0.16497119 0.108591564 37167348 37171200 (12, 1760, 1760)\n"
     ]
    },
    {
     "name": "stderr",
     "output_type": "stream",
     "text": [
      "23it [00:10,  2.39it/s]"
     ]
    },
    {
     "name": "stdout",
     "output_type": "stream",
     "text": [
      "(12, 1760, 1760) 0.16207728 0.11367969 37170108 37171200 (12, 1760, 1760)\n"
     ]
    },
    {
     "name": "stderr",
     "output_type": "stream",
     "text": [
      "24it [00:11,  2.11it/s]"
     ]
    },
    {
     "name": "stdout",
     "output_type": "stream",
     "text": [
      "(12, 1760, 1760) 0.15193169 0.101455934 37154676 37171200 (12, 1760, 1760)\n",
      "0.1600930142712587 0.10408098505604475\n",
      "64\n"
     ]
    },
    {
     "name": "stderr",
     "output_type": "stream",
     "text": [
      "\n"
     ]
    },
    {
     "name": "stdout",
     "output_type": "stream",
     "text": [
      "{'model': 'UNet-256-2classes', 'loss': 'BCE-dice', 'weighted_loss': False, 'learning_rate': 0.0001, 'epochs': 10, 'patience': 3}\n",
      "{'model': 'UNet-256-2classes', 'loss': 'BCE-dice', 'weighted_loss': True, 'learning_rate': 0.0001, 'epochs': 10, 'patience': 3}\n",
      "{'model': 'UNet-64-2classes', 'loss': 'BCE-dice', 'weighted_loss': False, 'learning_rate': 0.0001, 'epochs': 10, 'patience': 3}\n",
      "models/UNet-64-2classes_BCE-dice_normalized_noaug.pth\n",
      "Model is already saved\n",
      "Loading it e continue training...\n",
      "LOSS mode: BCE-dice\n",
      "Training for epoch 5 until epoch 10\n",
      "Training Epoch 5/10\n",
      "Running an epoch on the train mode.\n"
     ]
    },
    {
     "name": "stderr",
     "output_type": "stream",
     "text": [
      "100%|██████████| 2646/2646 [04:25<00:00,  9.95it/s]\n"
     ]
    },
    {
     "name": "stdout",
     "output_type": "stream",
     "text": [
      "Train Loss: 0.7593602384430042\n",
      "Train Accuracy: 0.9821808338165283\n",
      "              precision    recall  f1-score    support\n",
      "Class 0        0.987833  0.992895  0.990357  159680752\n",
      "Class 1        0.911098  0.856201  0.882797   13580156\n",
      "weighted avg   0.981818  0.982181  0.981927  173260912\n",
      "macro avg      0.949466  0.924548  0.936577  173260912\n",
      "micro avg      0.982181  0.982181  0.982181  173260912\n",
      "Running an epoch on the validation mode.\n"
     ]
    },
    {
     "name": "stderr",
     "output_type": "stream",
     "text": [
      "100%|██████████| 662/662 [00:29<00:00, 22.45it/s]\n"
     ]
    },
    {
     "name": "stdout",
     "output_type": "stream",
     "text": [
      "Train Loss: 0.8439599670151576\n",
      "Train Accuracy: 0.9803929328918457\n",
      "              precision    recall  f1-score   support\n",
      "Class 0        0.987204  0.992139  0.989665  40997040\n",
      "Class 1        0.848242  0.773583  0.809194   2328535\n",
      "weighted avg   0.979735  0.980393  0.979966  43325576\n",
      "macro avg      0.917723  0.882861  0.899430  43325576\n",
      "micro avg      0.980393  0.980393  0.980393  43325576\n",
      "Training Epoch 6/10\n",
      "Running an epoch on the train mode.\n"
     ]
    },
    {
     "name": "stderr",
     "output_type": "stream",
     "text": [
      "100%|██████████| 2646/2646 [04:27<00:00,  9.91it/s]\n"
     ]
    },
    {
     "name": "stdout",
     "output_type": "stream",
     "text": [
      "Train Loss: 0.7289328047420016\n",
      "Train Accuracy: 0.9825339913368225\n",
      "              precision    recall  f1-score    support\n",
      "Class 0        0.988118  0.992989  0.990548  159680864\n",
      "Class 1        0.912488  0.859602  0.885256   13580156\n",
      "weighted avg   0.982190  0.982534  0.982295  173261024\n",
      "macro avg      0.950303  0.926295  0.937902  173261024\n",
      "micro avg      0.982534  0.982534  0.982534  173261024\n",
      "Running an epoch on the validation mode.\n"
     ]
    },
    {
     "name": "stderr",
     "output_type": "stream",
     "text": [
      "100%|██████████| 662/662 [00:29<00:00, 22.41it/s]\n"
     ]
    },
    {
     "name": "stdout",
     "output_type": "stream",
     "text": [
      "Train Loss: 0.78498992522811\n",
      "Train Accuracy: 0.9816226363182068\n",
      "              precision    recall  f1-score   support\n",
      "Class 0        0.988830  0.991782  0.990304  40997044\n",
      "Class 1        0.847291  0.802744  0.824416   2328535\n",
      "weighted avg   0.981223  0.981623  0.981388  43325580\n",
      "macro avg      0.918061  0.897263  0.907360  43325580\n",
      "micro avg      0.981623  0.981623  0.981623  43325580\n",
      "Training Epoch 7/10\n",
      "Running an epoch on the train mode.\n"
     ]
    },
    {
     "name": "stderr",
     "output_type": "stream",
     "text": [
      "100%|██████████| 2646/2646 [04:26<00:00,  9.93it/s]\n"
     ]
    },
    {
     "name": "stdout",
     "output_type": "stream",
     "text": [
      "Train Loss: 0.7149782809935713\n",
      "Train Accuracy: 0.9829232692718506\n",
      "              precision    recall  f1-score    support\n",
      "Class 0        0.988367  0.993161  0.990758  159680336\n",
      "Class 1        0.914717  0.862549  0.887867   13580156\n",
      "weighted avg   0.982594  0.982923  0.982693  173260496\n",
      "macro avg      0.951542  0.927855  0.939313  173260496\n",
      "micro avg      0.982923  0.982923  0.982923  173260496\n",
      "Running an epoch on the validation mode.\n"
     ]
    },
    {
     "name": "stderr",
     "output_type": "stream",
     "text": [
      "100%|██████████| 662/662 [00:29<00:00, 22.50it/s]\n"
     ]
    },
    {
     "name": "stdout",
     "output_type": "stream",
     "text": [
      "Train Loss: 0.7624812798295804\n",
      "Train Accuracy: 0.9821326732635498\n",
      "              precision    recall  f1-score   support\n",
      "Class 0        0.987366  0.993834  0.990590  40997024\n",
      "Class 1        0.877290  0.776111  0.823605   2328535\n",
      "weighted avg   0.981450  0.982133  0.981615  43325560\n",
      "macro avg      0.932328  0.884973  0.907097  43325560\n",
      "micro avg      0.982133  0.982133  0.982133  43325560\n",
      "Training Epoch 8/10\n",
      "Running an epoch on the train mode.\n"
     ]
    },
    {
     "name": "stderr",
     "output_type": "stream",
     "text": [
      "100%|██████████| 2646/2646 [04:26<00:00,  9.94it/s]\n"
     ]
    },
    {
     "name": "stdout",
     "output_type": "stream",
     "text": [
      "Train Loss: 0.6980718888352235\n",
      "Train Accuracy: 0.983187198638916\n",
      "              precision    recall  f1-score    support\n",
      "Class 0        0.988642  0.993167  0.990900  159681056\n",
      "Class 1        0.915087  0.865839  0.889782   13580156\n",
      "weighted avg   0.982877  0.983187  0.982974  173261216\n",
      "macro avg      0.951865  0.929503  0.940341  173261216\n",
      "micro avg      0.983187  0.983187  0.983187  173261216\n",
      "Running an epoch on the validation mode.\n"
     ]
    },
    {
     "name": "stderr",
     "output_type": "stream",
     "text": [
      "100%|██████████| 662/662 [00:29<00:00, 22.37it/s]\n"
     ]
    },
    {
     "name": "stdout",
     "output_type": "stream",
     "text": [
      "Train Loss: 0.7615511895795173\n",
      "Train Accuracy: 0.9820841550827026\n",
      "              precision    recall  f1-score   support\n",
      "Class 0        0.986181  0.995009  0.990575  40997028\n",
      "Class 1        0.895683  0.754526  0.819067   2328535\n",
      "weighted avg   0.981318  0.982084  0.981358  43325564\n",
      "macro avg      0.940932  0.874768  0.904821  43325564\n",
      "micro avg      0.982084  0.982084  0.982084  43325564\n",
      "Training Epoch 9/10\n",
      "Running an epoch on the train mode.\n"
     ]
    },
    {
     "name": "stderr",
     "output_type": "stream",
     "text": [
      "100%|██████████| 2646/2646 [04:25<00:00,  9.95it/s]\n"
     ]
    },
    {
     "name": "stdout",
     "output_type": "stream",
     "text": [
      "Train Loss: 0.6921903934500103\n",
      "Train Accuracy: 0.9832597970962524\n",
      "              precision    recall  f1-score    support\n",
      "Class 0        0.988661  0.993228  0.990939  159680400\n",
      "Class 1        0.915797  0.866050  0.890229   13580156\n",
      "weighted avg   0.982949  0.983260  0.983045  173260560\n",
      "macro avg      0.952229  0.929639  0.940584  173260560\n",
      "micro avg      0.983260  0.983260  0.983260  173260560\n",
      "Running an epoch on the validation mode.\n"
     ]
    },
    {
     "name": "stderr",
     "output_type": "stream",
     "text": [
      "100%|██████████| 662/662 [00:29<00:00, 22.56it/s]\n"
     ]
    },
    {
     "name": "stdout",
     "output_type": "stream",
     "text": [
      "Train Loss: 0.7624202328294133\n",
      "Train Accuracy: 0.9818385243415833\n",
      "              precision    recall  f1-score   support\n",
      "Class 0        0.988932  0.991908  0.990418  40997008\n",
      "Class 1        0.849565  0.804545  0.826442   2328535\n",
      "weighted avg   0.981442  0.981838  0.981605  43325544\n",
      "macro avg      0.919248  0.898226  0.908430  43325544\n",
      "micro avg      0.981839  0.981839  0.981839  43325544\n",
      "Training Epoch 10/10\n",
      "Running an epoch on the train mode.\n"
     ]
    },
    {
     "name": "stderr",
     "output_type": "stream",
     "text": [
      "100%|██████████| 2646/2646 [04:25<00:00,  9.95it/s]\n"
     ]
    },
    {
     "name": "stdout",
     "output_type": "stream",
     "text": [
      "Train Loss: 0.6830697214116151\n",
      "Train Accuracy: 0.983500063419342\n",
      "              precision    recall  f1-score    support\n",
      "Class 0        0.988931  0.993213  0.991068  159680464\n",
      "Class 1        0.915918  0.869290  0.891995   13580156\n",
      "weighted avg   0.983209  0.983500  0.983302  173260624\n",
      "macro avg      0.952425  0.931252  0.941531  173260624\n",
      "micro avg      0.983500  0.983500  0.983500  173260624\n",
      "Running an epoch on the validation mode.\n"
     ]
    },
    {
     "name": "stderr",
     "output_type": "stream",
     "text": [
      "100%|██████████| 662/662 [00:29<00:00, 22.54it/s]\n"
     ]
    },
    {
     "name": "stdout",
     "output_type": "stream",
     "text": [
      "Train Loss: 0.7611737166996342\n",
      "Train Accuracy: 0.9820931553840637\n",
      "              precision    recall  f1-score   support\n",
      "Class 0        0.987267  0.993895  0.990570  40997000\n",
      "Class 1        0.878101  0.774310  0.822946   2328535\n",
      "weighted avg   0.981400  0.982093  0.981561  43325536\n",
      "macro avg      0.932684  0.884103  0.906758  43325536\n",
      "micro avg      0.982093  0.982093  0.982093  43325536\n",
      "{'model': 'UNet-64-2classes', 'loss': 'BCE-dice', 'weighted_loss': True, 'learning_rate': 0.0001, 'epochs': 10, 'patience': 3}\n",
      "models/UNet-64-2classes_BCE-dice-w_normalized_noaug.pth\n",
      "Model is already saved\n",
      "Loading it e continue training...\n",
      "LOSS mode: BCE-dice\n",
      "Training for epoch 7 until epoch 10\n",
      "Training Epoch 7/10\n",
      "Running an epoch on the train mode.\n"
     ]
    },
    {
     "name": "stderr",
     "output_type": "stream",
     "text": [
      "100%|██████████| 2646/2646 [04:26<00:00,  9.93it/s]\n"
     ]
    },
    {
     "name": "stdout",
     "output_type": "stream",
     "text": [
      "Train Loss: 0.7269617056323445\n",
      "Train Accuracy: 0.9826845526695251\n",
      "              precision    recall  f1-score    support\n",
      "Class 0        0.988249  0.993020  0.990629  159680256\n",
      "Class 1        0.912982  0.861162  0.886315   13580156\n",
      "weighted avg   0.982350  0.982684  0.982452  173260416\n",
      "macro avg      0.950616  0.927091  0.938472  173260416\n",
      "micro avg      0.982685  0.982685  0.982685  173260416\n",
      "Running an epoch on the validation mode.\n"
     ]
    },
    {
     "name": "stderr",
     "output_type": "stream",
     "text": [
      "100%|██████████| 662/662 [00:29<00:00, 22.48it/s]\n"
     ]
    },
    {
     "name": "stdout",
     "output_type": "stream",
     "text": [
      "Train Loss: 0.782591096837938\n",
      "Train Accuracy: 0.9819596409797668\n",
      "              precision    recall  f1-score   support\n",
      "Class 0        0.989444  0.991513  0.990477  40996956\n",
      "Class 1        0.844860  0.813764  0.829020   2328535\n",
      "weighted avg   0.981674  0.981960  0.981800  43325492\n",
      "macro avg      0.917152  0.902638  0.909749  43325492\n",
      "micro avg      0.981960  0.981960  0.981960  43325492\n",
      "Training Epoch 8/10\n",
      "Running an epoch on the train mode.\n"
     ]
    },
    {
     "name": "stderr",
     "output_type": "stream",
     "text": [
      "100%|██████████| 2646/2646 [04:26<00:00,  9.94it/s]\n"
     ]
    },
    {
     "name": "stdout",
     "output_type": "stream",
     "text": [
      "Train Loss: 0.7112031586585075\n",
      "Train Accuracy: 0.982978343963623\n",
      "              precision    recall  f1-score    support\n",
      "Class 0        0.988431  0.993155  0.990787  159680704\n",
      "Class 1        0.914720  0.863318  0.888276   13580156\n",
      "weighted avg   0.982654  0.982978  0.982753  173260864\n",
      "macro avg      0.951576  0.928237  0.939532  173260864\n",
      "micro avg      0.982978  0.982978  0.982978  173260864\n",
      "Running an epoch on the validation mode.\n"
     ]
    },
    {
     "name": "stderr",
     "output_type": "stream",
     "text": [
      "100%|██████████| 662/662 [00:29<00:00, 22.52it/s]\n"
     ]
    },
    {
     "name": "stdout",
     "output_type": "stream",
     "text": [
      "Train Loss: 0.8168339178431427\n",
      "Train Accuracy: 0.9804570078849792\n",
      "              precision    recall  f1-score   support\n",
      "Class 0        0.983052  0.996528  0.989744  40997012\n",
      "Class 1        0.919416  0.697512  0.793237   2328535\n",
      "weighted avg   0.979632  0.980457  0.979183  43325548\n",
      "macro avg      0.951234  0.847020  0.891490  43325548\n",
      "micro avg      0.980457  0.980457  0.980457  43325548\n",
      "Training Epoch 9/10\n",
      "Running an epoch on the train mode.\n"
     ]
    },
    {
     "name": "stderr",
     "output_type": "stream",
     "text": [
      "100%|██████████| 2646/2646 [04:25<00:00,  9.96it/s]\n"
     ]
    },
    {
     "name": "stdout",
     "output_type": "stream",
     "text": [
      "Train Loss: 0.6953468545975666\n",
      "Train Accuracy: 0.983230471611023\n",
      "              precision    recall  f1-score    support\n",
      "Class 0        0.988587  0.993271  0.990924  159680304\n",
      "Class 1        0.916210  0.865169  0.889958   13580156\n",
      "weighted avg   0.982914  0.983230  0.983010  173260464\n",
      "macro avg      0.952399  0.929220  0.940441  173260464\n",
      "micro avg      0.983230  0.983230  0.983230  173260464\n",
      "Running an epoch on the validation mode.\n"
     ]
    },
    {
     "name": "stderr",
     "output_type": "stream",
     "text": [
      "100%|██████████| 662/662 [00:29<00:00, 22.59it/s]\n"
     ]
    },
    {
     "name": "stdout",
     "output_type": "stream",
     "text": [
      "Train Loss: 0.8044655666956206\n",
      "Train Accuracy: 0.9810554385185242\n",
      "              precision    recall  f1-score   support\n",
      "Class 0        0.989205  0.990792  0.989998  40996992\n",
      "Class 1        0.833167  0.809633  0.821231   2328535\n",
      "weighted avg   0.980819  0.981055  0.980927  43325528\n",
      "macro avg      0.911186  0.900212  0.905614  43325528\n",
      "micro avg      0.981055  0.981055  0.981055  43325528\n",
      "Training Epoch 10/10\n",
      "Running an epoch on the train mode.\n"
     ]
    },
    {
     "name": "stderr",
     "output_type": "stream",
     "text": [
      "100%|██████████| 2646/2646 [04:25<00:00,  9.95it/s]\n"
     ]
    },
    {
     "name": "stdout",
     "output_type": "stream",
     "text": [
      "Train Loss: 0.680634676198632\n",
      "Train Accuracy: 0.9834710955619812\n",
      "              precision    recall  f1-score    support\n",
      "Class 0        0.988939  0.993174  0.991052  159680656\n",
      "Class 1        0.915480  0.869382  0.891836   13580156\n",
      "weighted avg   0.983181  0.983471  0.983275  173260816\n",
      "macro avg      0.952210  0.931278  0.941444  173260816\n",
      "micro avg      0.983471  0.983471  0.983471  173260816\n",
      "Running an epoch on the validation mode.\n"
     ]
    },
    {
     "name": "stderr",
     "output_type": "stream",
     "text": [
      "100%|██████████| 662/662 [00:29<00:00, 22.41it/s]\n"
     ]
    },
    {
     "name": "stdout",
     "output_type": "stream",
     "text": [
      "Train Loss: 0.769583013299564\n",
      "Train Accuracy: 0.9817201495170593\n",
      "              precision    recall  f1-score   support\n",
      "Class 0        0.986171  0.994630  0.990382  40996968\n",
      "Class 1        0.888632  0.754426  0.816048   2328535\n",
      "weighted avg   0.980928  0.981720  0.981013  43325504\n",
      "macro avg      0.937401  0.874528  0.903215  43325504\n",
      "micro avg      0.981720  0.981720  0.981720  43325504\n",
      "{'model': 'UNetResNet34-224-2classes', 'loss': 'BCE-dice', 'weighted_loss': False, 'learning_rate': 0.0001, 'epochs': 10, 'patience': 3}\n",
      "{'model': 'UNetResNet34-224-2classes', 'loss': 'BCE-dice', 'weighted_loss': True, 'learning_rate': 0.0001, 'epochs': 10, 'patience': 3}\n",
      "{'model': 'UNetEfficientNetB0-224-2classes', 'loss': 'BCE-dice', 'weighted_loss': False, 'learning_rate': 0.0001, 'epochs': 10, 'patience': 3}\n",
      "{'model': 'UNetEfficientNetB0-224-2classes', 'loss': 'BCE-dice', 'weighted_loss': True, 'learning_rate': 0.0001, 'epochs': 10, 'patience': 3}\n",
      "{'model': 'UNetConvNext-224-2classes', 'loss': 'BCE-dice', 'weighted_loss': False, 'learning_rate': 0.0001, 'epochs': 10, 'patience': 3}\n",
      "{'model': 'UNetConvNext-224-2classes', 'loss': 'BCE-dice', 'weighted_loss': True, 'learning_rate': 0.0001, 'epochs': 10, 'patience': 3}\n",
      "{'model': 'UNet-256-5classes', 'loss': 'BCE-dice', 'weighted_loss': False, 'learning_rate': 0.0001, 'epochs': 10, 'patience': 3}\n",
      "{'model': 'UNet-256-5classes', 'loss': 'BCE-dice', 'weighted_loss': True, 'learning_rate': 0.0001, 'epochs': 10, 'patience': 3}\n",
      "{'model': 'UNet-64-5classes', 'loss': 'BCE-dice', 'weighted_loss': False, 'learning_rate': 0.0001, 'epochs': 10, 'patience': 3}\n",
      "{'model': 'UNet-64-5classes', 'loss': 'BCE-dice', 'weighted_loss': True, 'learning_rate': 0.0001, 'epochs': 10, 'patience': 3}\n",
      "{'model': 'UNetResNet34-224-5classes', 'loss': 'BCE-dice', 'weighted_loss': False, 'learning_rate': 0.0001, 'epochs': 10, 'patience': 3}\n",
      "{'model': 'UNetResNet34-224-5classes', 'loss': 'BCE-dice', 'weighted_loss': True, 'learning_rate': 0.0001, 'epochs': 10, 'patience': 3}\n",
      "{'model': 'UNetEfficientNetB0-224-5classes', 'loss': 'BCE-dice', 'weighted_loss': False, 'learning_rate': 0.0001, 'epochs': 10, 'patience': 3}\n",
      "{'model': 'UNetEfficientNetB0-224-5classes', 'loss': 'BCE-dice', 'weighted_loss': True, 'learning_rate': 0.0001, 'epochs': 10, 'patience': 3}\n",
      "{'model': 'UNetConvNext-224-5classes', 'loss': 'BCE-dice', 'weighted_loss': False, 'learning_rate': 0.0001, 'epochs': 10, 'patience': 3}\n",
      "{'model': 'UNetConvNext-224-5classes', 'loss': 'BCE-dice', 'weighted_loss': True, 'learning_rate': 0.0001, 'epochs': 10, 'patience': 3}\n",
      "{'patch_size': 64, 'num_classes': 5, 'normalization': 'unnormalized', 'data_aug': False}\n",
      "64\n",
      "{'model': 'UNet-256-2classes', 'loss': 'BCE-dice', 'weighted_loss': False, 'learning_rate': 0.0001, 'epochs': 10, 'patience': 3}\n",
      "{'model': 'UNet-256-2classes', 'loss': 'BCE-dice', 'weighted_loss': True, 'learning_rate': 0.0001, 'epochs': 10, 'patience': 3}\n",
      "{'model': 'UNet-64-2classes', 'loss': 'BCE-dice', 'weighted_loss': False, 'learning_rate': 0.0001, 'epochs': 10, 'patience': 3}\n",
      "{'model': 'UNet-64-2classes', 'loss': 'BCE-dice', 'weighted_loss': True, 'learning_rate': 0.0001, 'epochs': 10, 'patience': 3}\n",
      "{'model': 'UNetResNet34-224-2classes', 'loss': 'BCE-dice', 'weighted_loss': False, 'learning_rate': 0.0001, 'epochs': 10, 'patience': 3}\n",
      "{'model': 'UNetResNet34-224-2classes', 'loss': 'BCE-dice', 'weighted_loss': True, 'learning_rate': 0.0001, 'epochs': 10, 'patience': 3}\n",
      "{'model': 'UNetEfficientNetB0-224-2classes', 'loss': 'BCE-dice', 'weighted_loss': False, 'learning_rate': 0.0001, 'epochs': 10, 'patience': 3}\n",
      "{'model': 'UNetEfficientNetB0-224-2classes', 'loss': 'BCE-dice', 'weighted_loss': True, 'learning_rate': 0.0001, 'epochs': 10, 'patience': 3}\n",
      "{'model': 'UNetConvNext-224-2classes', 'loss': 'BCE-dice', 'weighted_loss': False, 'learning_rate': 0.0001, 'epochs': 10, 'patience': 3}\n",
      "{'model': 'UNetConvNext-224-2classes', 'loss': 'BCE-dice', 'weighted_loss': True, 'learning_rate': 0.0001, 'epochs': 10, 'patience': 3}\n",
      "{'model': 'UNet-256-5classes', 'loss': 'BCE-dice', 'weighted_loss': False, 'learning_rate': 0.0001, 'epochs': 10, 'patience': 3}\n",
      "{'model': 'UNet-256-5classes', 'loss': 'BCE-dice', 'weighted_loss': True, 'learning_rate': 0.0001, 'epochs': 10, 'patience': 3}\n",
      "{'model': 'UNet-64-5classes', 'loss': 'BCE-dice', 'weighted_loss': False, 'learning_rate': 0.0001, 'epochs': 10, 'patience': 3}\n",
      "models/UNet-64-5classes_BCE-dice_noaug.pth\n",
      "Model is already saved\n",
      "Loading it e continue training...\n",
      "LOSS mode: BCE-dice\n",
      "Training for epoch 1 until epoch 10\n",
      "Training Epoch 1/10\n",
      "Running an epoch on the train mode.\n"
     ]
    },
    {
     "name": "stderr",
     "output_type": "stream",
     "text": [
      "100%|██████████| 2646/2646 [05:20<00:00,  8.25it/s]\n"
     ]
    },
    {
     "name": "stdout",
     "output_type": "stream",
     "text": [
      "Train Loss: 2.6129479289494135\n",
      "Train Accuracy: 0.9879924654960632\n",
      "              precision    recall  f1-score    support\n",
      "Class 0        0.982042  0.989172  0.985594  159680368\n",
      "Class 1        0.008733  0.003393  0.004887     326870\n",
      "Class 2        0.113792  0.014372  0.025521     791874\n",
      "Class 3        0.000019  0.000016  0.000018     182110\n",
      "Class 4        0.838635  0.822165  0.830318   12279302\n",
      "weighted avg   0.965041  0.969981  0.967315  173260512\n",
      "macro avg      0.388644  0.365824  0.369268  173260512\n",
      "micro avg      0.969981  0.969981  0.969981  173260512\n",
      "Running an epoch on the validation mode.\n"
     ]
    },
    {
     "name": "stderr",
     "output_type": "stream",
     "text": [
      "100%|██████████| 662/662 [00:42<00:00, 15.63it/s]\n"
     ]
    },
    {
     "name": "stdout",
     "output_type": "stream",
     "text": [
      "Train Loss: 1.2586284165276962\n",
      "Train Accuracy: 0.9908473491668701\n",
      "              precision    recall  f1-score   support\n",
      "Class 0        0.985782  0.991137  0.988452  40996992\n",
      "Class 1        0.000000  0.000000  0.000000    124023\n",
      "Class 2        0.197120  0.009184  0.017549     47694\n",
      "Class 3        0.000000  0.000000  0.000000     13553\n",
      "Class 4        0.808180  0.793222  0.800631   2143265\n",
      "weighted avg   0.972998  0.977118  0.974953  43325528\n",
      "macro avg      0.398216  0.358709  0.361327  43325528\n",
      "micro avg      0.977118  0.977118  0.977118  43325528\n",
      "Training Epoch 2/10\n",
      "Running an epoch on the train mode.\n"
     ]
    },
    {
     "name": "stderr",
     "output_type": "stream",
     "text": [
      "100%|██████████| 2646/2646 [05:20<00:00,  8.25it/s]\n"
     ]
    },
    {
     "name": "stdout",
     "output_type": "stream",
     "text": [
      "Train Loss: 1.3394677844672878\n",
      "Train Accuracy: 0.9905579090118408\n",
      "              precision    recall  f1-score    support\n",
      "Class 0        0.984594  0.993491  0.989022  159680256\n",
      "Class 1        0.000000  0.000000  0.000000     326870\n",
      "Class 2        0.356834  0.030564  0.056306     791874\n",
      "Class 3        0.000000  0.000000  0.000000     182110\n",
      "Class 4        0.870424  0.855545  0.862920   12279302\n",
      "weighted avg   0.970741  0.976395  0.972917  173260400\n",
      "macro avg      0.442370  0.375920  0.381650  173260400\n",
      "micro avg      0.976395  0.976395  0.976395  173260400\n",
      "Running an epoch on the validation mode.\n"
     ]
    },
    {
     "name": "stderr",
     "output_type": "stream",
     "text": [
      "100%|██████████| 662/662 [00:42<00:00, 15.62it/s]\n"
     ]
    },
    {
     "name": "stdout",
     "output_type": "stream",
     "text": [
      "Train Loss: 1.1696665692266333\n",
      "Train Accuracy: 0.9911441206932068\n",
      "              precision    recall  f1-score   support\n",
      "Class 0        0.982630  0.994897  0.988726  40997040\n",
      "Class 1        0.000000  0.000000  0.000000    124023\n",
      "Class 2        0.232679  0.017885  0.033217     47694\n",
      "Class 3        0.000000  0.000000  0.000000     13553\n",
      "Class 4        0.870161  0.736106  0.797540   2143265\n",
      "weighted avg   0.973121  0.977860  0.975077  43325576\n",
      "macro avg      0.417094  0.349778  0.363896  43325576\n",
      "micro avg      0.977860  0.977860  0.977860  43325576\n",
      "Training Epoch 3/10\n",
      "Running an epoch on the train mode.\n"
     ]
    },
    {
     "name": "stderr",
     "output_type": "stream",
     "text": [
      "100%|██████████| 2646/2646 [05:21<00:00,  8.24it/s]\n"
     ]
    },
    {
     "name": "stdout",
     "output_type": "stream",
     "text": [
      "Train Loss: 1.232419854122934\n",
      "Train Accuracy: 0.9908621311187744\n",
      "              precision    recall  f1-score    support\n",
      "Class 0        0.985247  0.993660  0.989436  159680448\n",
      "Class 1        0.000000  0.000000  0.000000     326870\n",
      "Class 2        0.435613  0.051758  0.092523     791874\n",
      "Class 3        0.000000  0.000000  0.000000     182110\n",
      "Class 4        0.873860  0.862704  0.868246   12279302\n",
      "weighted avg   0.971947  0.977155  0.973841  173260592\n",
      "macro avg      0.458944  0.381624  0.390041  173260592\n",
      "micro avg      0.977155  0.977155  0.977155  173260592\n",
      "Running an epoch on the validation mode.\n"
     ]
    },
    {
     "name": "stderr",
     "output_type": "stream",
     "text": [
      "100%|██████████| 662/662 [00:42<00:00, 15.58it/s]\n"
     ]
    },
    {
     "name": "stdout",
     "output_type": "stream",
     "text": [
      "Train Loss: 1.18752802011697\n",
      "Train Accuracy: 0.9910980463027954\n",
      "              precision    recall  f1-score   support\n",
      "Class 0        0.980546  0.996843  0.988627  40997000\n",
      "Class 1        0.000000  0.000000  0.000000    124023\n",
      "Class 2        0.242978  0.061853  0.098605     47694\n",
      "Class 3        0.000000  0.000000  0.000000     13553\n",
      "Class 4        0.911793  0.695583  0.789146   2143265\n",
      "weighted avg   0.973220  0.977745  0.974640  43325536\n",
      "macro avg      0.427064  0.350856  0.375276  43325536\n",
      "micro avg      0.977745  0.977745  0.977745  43325536\n",
      "Training Epoch 4/10\n",
      "Running an epoch on the train mode.\n"
     ]
    },
    {
     "name": "stderr",
     "output_type": "stream",
     "text": [
      "100%|██████████| 2646/2646 [05:20<00:00,  8.25it/s]\n"
     ]
    },
    {
     "name": "stdout",
     "output_type": "stream",
     "text": [
      "Train Loss: 1.1638741088539746\n",
      "Train Accuracy: 0.9911742210388184\n",
      "              precision    recall  f1-score    support\n",
      "Class 0        0.985816  0.993674  0.989729  159680192\n",
      "Class 1        0.000000  0.000000  0.000000     326870\n",
      "Class 2        0.495941  0.104542  0.172683     791874\n",
      "Class 3        0.000000  0.000000  0.000000     182110\n",
      "Class 4        0.880085  0.870138  0.875083   12279302\n",
      "weighted avg   0.973188  0.977936  0.974962  173260336\n",
      "macro avg      0.472368  0.393671  0.407499  173260336\n",
      "micro avg      0.977936  0.977936  0.977936  173260336\n",
      "Running an epoch on the validation mode.\n"
     ]
    },
    {
     "name": "stderr",
     "output_type": "stream",
     "text": [
      "100%|██████████| 662/662 [00:42<00:00, 15.64it/s]\n"
     ]
    },
    {
     "name": "stdout",
     "output_type": "stream",
     "text": [
      "Train Loss: 1.3260601790912607\n",
      "Train Accuracy: 0.9901435971260071\n",
      "              precision    recall  f1-score   support\n",
      "Class 0        0.977007  0.997967  0.987376  40997024\n",
      "Class 1        0.000000  0.000000  0.000000    124023\n",
      "Class 2        0.236372  0.042186  0.071594     47694\n",
      "Class 3        0.000000  0.000000  0.000000     13553\n",
      "Class 4        0.931821  0.626275  0.749089   2143265\n",
      "weighted avg   0.970854  0.975359  0.971445  43325560\n",
      "macro avg      0.429040  0.333286  0.361612  43325560\n",
      "micro avg      0.975359  0.975359  0.975359  43325560\n",
      "Training Epoch 5/10\n",
      "Running an epoch on the train mode.\n"
     ]
    },
    {
     "name": "stderr",
     "output_type": "stream",
     "text": [
      "100%|██████████| 2646/2646 [05:20<00:00,  8.24it/s]\n"
     ]
    },
    {
     "name": "stdout",
     "output_type": "stream",
     "text": [
      "Train Loss: 1.124704230220556\n",
      "Train Accuracy: 0.9912896156311035\n",
      "              precision    recall  f1-score    support\n",
      "Class 0        0.986005  0.993900  0.989937  159680416\n",
      "Class 1        0.000000  0.000000  0.000000     326870\n",
      "Class 2        0.501540  0.133491  0.210859     791874\n",
      "Class 3        0.000000  0.000000  0.000000     182110\n",
      "Class 4        0.882949  0.869402  0.876123   12279302\n",
      "weighted avg   0.973590  0.978224  0.975402  173260560\n",
      "macro avg      0.474099  0.399359  0.415384  173260560\n",
      "micro avg      0.978224  0.978224  0.978224  173260560\n",
      "Running an epoch on the validation mode.\n"
     ]
    },
    {
     "name": "stderr",
     "output_type": "stream",
     "text": [
      "100%|██████████| 662/662 [00:42<00:00, 15.59it/s]\n"
     ]
    },
    {
     "name": "stdout",
     "output_type": "stream",
     "text": [
      "Train Loss: 1.1498198258357568\n",
      "Train Accuracy: 0.9913361668586731\n",
      "              precision    recall  f1-score   support\n",
      "Class 0        0.982337  0.995856  0.989050  40997008\n",
      "Class 1        0.000000  0.000000  0.000000    124023\n",
      "Class 2        0.257155  0.197258  0.223258     47694\n",
      "Class 3        0.000000  0.000000  0.000000     13553\n",
      "Class 4        0.897469  0.723485  0.801140   2143265\n",
      "weighted avg   0.974221  0.978340  0.975771  43325544\n",
      "macro avg      0.427392  0.383320  0.402690  43325544\n",
      "micro avg      0.978340  0.978340  0.978340  43325544\n",
      "Training Epoch 6/10\n",
      "Running an epoch on the train mode.\n"
     ]
    },
    {
     "name": "stderr",
     "output_type": "stream",
     "text": [
      "100%|██████████| 2646/2646 [05:20<00:00,  8.24it/s]\n"
     ]
    },
    {
     "name": "stdout",
     "output_type": "stream",
     "text": [
      "Train Loss: 1.0828272595541244\n",
      "Train Accuracy: 0.9915109276771545\n",
      "              precision    recall  f1-score    support\n",
      "Class 0        0.986496  0.993902  0.990185  159680128\n",
      "Class 1        0.000000  0.000000  0.000000     326870\n",
      "Class 2        0.517713  0.151000  0.233806     791874\n",
      "Class 3        0.000000  0.000000  0.000000     182110\n",
      "Class 4        0.885335  0.876046  0.880666   12279302\n",
      "weighted avg   0.974286  0.978777  0.976058  173260272\n",
      "macro avg      0.477909  0.404190  0.420932  173260272\n",
      "micro avg      0.978777  0.978777  0.978777  173260272\n",
      "Running an epoch on the validation mode.\n"
     ]
    },
    {
     "name": "stderr",
     "output_type": "stream",
     "text": [
      "100%|██████████| 662/662 [00:42<00:00, 15.61it/s]\n"
     ]
    },
    {
     "name": "stdout",
     "output_type": "stream",
     "text": [
      "Train Loss: 1.3687754364061935\n",
      "Train Accuracy: 0.9891345500946045\n",
      "              precision    recall  f1-score   support\n",
      "Class 0        0.973367  0.998976  0.986005  40996984\n",
      "Class 1        0.000000  0.000000  0.000000    124023\n",
      "Class 2        0.237459  0.066298  0.103655     47694\n",
      "Class 3        0.000000  0.000000  0.000000     13553\n",
      "Class 4        0.962705  0.555445  0.704449   2143265\n",
      "weighted avg   0.968939  0.972836  0.967975  43325520\n",
      "macro avg      0.434706  0.324144  0.358822  43325520\n",
      "micro avg      0.972837  0.972837  0.972837  43325520\n",
      "Training Epoch 7/10\n",
      "Running an epoch on the train mode.\n"
     ]
    },
    {
     "name": "stderr",
     "output_type": "stream",
     "text": [
      "100%|██████████| 2646/2646 [05:20<00:00,  8.25it/s]\n"
     ]
    },
    {
     "name": "stdout",
     "output_type": "stream",
     "text": [
      "Train Loss: 1.0539268537221065\n",
      "Train Accuracy: 0.9916665554046631\n",
      "              precision    recall  f1-score    support\n",
      "Class 0        0.986699  0.994066  0.990369  159680704\n",
      "Class 1        0.000000  0.000000  0.000000     326870\n",
      "Class 2        0.539056  0.171554  0.260275     791874\n",
      "Class 3        1.000000  0.000071  0.000143     182110\n",
      "Class 4        0.888449  0.878069  0.883229   12279302\n",
      "weighted avg   0.975843  0.979166  0.976530  173260848\n",
      "macro avg      0.682841  0.408752  0.426803  173260848\n",
      "micro avg      0.979166  0.979166  0.979166  173260848\n",
      "Running an epoch on the validation mode.\n"
     ]
    },
    {
     "name": "stderr",
     "output_type": "stream",
     "text": [
      "100%|██████████| 662/662 [00:42<00:00, 15.61it/s]\n"
     ]
    },
    {
     "name": "stdout",
     "output_type": "stream",
     "text": [
      "Train Loss: 1.0917119774643615\n",
      "Train Accuracy: 0.9915661215782166\n",
      "              precision    recall  f1-score   support\n",
      "Class 0        0.983251  0.995563  0.989368  40997008\n",
      "Class 1        0.000000  0.000000  0.000000    124023\n",
      "Class 2        0.334415  0.205183  0.254324     47694\n",
      "Class 3        0.000000  0.000000  0.000000     13553\n",
      "Class 4        0.888707  0.740528  0.807879   2143265\n",
      "weighted avg   0.974737  0.978915  0.976440  43325544\n",
      "macro avg      0.441275  0.388255  0.410314  43325544\n",
      "micro avg      0.978915  0.978915  0.978915  43325544\n",
      "Training Epoch 8/10\n",
      "Running an epoch on the train mode.\n"
     ]
    },
    {
     "name": "stderr",
     "output_type": "stream",
     "text": [
      "100%|██████████| 2646/2646 [05:21<00:00,  8.24it/s]\n"
     ]
    },
    {
     "name": "stdout",
     "output_type": "stream",
     "text": [
      "Train Loss: 1.0486539334800722\n",
      "Train Accuracy: 0.9916154146194458\n",
      "              precision    recall  f1-score    support\n",
      "Class 0        0.986595  0.994010  0.990288  159680048\n",
      "Class 1        0.000000  0.000000  0.000000     326870\n",
      "Class 2        0.509001  0.172094  0.257222     791874\n",
      "Class 3        0.206693  0.000577  0.001150     182110\n",
      "Class 4        0.889088  0.876958  0.882981   12279302\n",
      "weighted avg   0.974821  0.979038  0.976425  173260192\n",
      "macro avg      0.518275  0.408728  0.426328  173260192\n",
      "micro avg      0.979038  0.979038  0.979038  173260192\n",
      "Running an epoch on the validation mode.\n"
     ]
    },
    {
     "name": "stderr",
     "output_type": "stream",
     "text": [
      "100%|██████████| 662/662 [00:42<00:00, 15.60it/s]\n"
     ]
    },
    {
     "name": "stdout",
     "output_type": "stream",
     "text": [
      "Train Loss: 1.001235576314135\n",
      "Train Accuracy: 0.9920058846473694\n",
      "              precision    recall  f1-score   support\n",
      "Class 0        0.985881  0.994199  0.990022  40997072\n",
      "Class 1        0.000000  0.000000  0.000000    124023\n",
      "Class 2        0.268445  0.213528  0.237858     47694\n",
      "Class 3        0.000000  0.000000  0.000000     13553\n",
      "Class 4        0.869187  0.788661  0.826969   2143265\n",
      "weighted avg   0.976188  0.980015  0.977985  43325608\n",
      "macro avg      0.424703  0.399278  0.410970  43325608\n",
      "micro avg      0.980015  0.980015  0.980015  43325608\n",
      "Training Epoch 9/10\n",
      "Running an epoch on the train mode.\n"
     ]
    },
    {
     "name": "stderr",
     "output_type": "stream",
     "text": [
      "100%|██████████| 2646/2646 [05:23<00:00,  8.18it/s]\n"
     ]
    },
    {
     "name": "stdout",
     "output_type": "stream",
     "text": [
      "Train Loss: 1.0147190671970256\n",
      "Train Accuracy: 0.9918307065963745\n",
      "              precision    recall  f1-score    support\n",
      "Class 0        0.987017  0.994166  0.990579  159680848\n",
      "Class 1        0.000000  0.000000  0.000000     326870\n",
      "Class 2        0.547732  0.195637  0.288300     791874\n",
      "Class 3        0.642857  0.000445  0.000889     182110\n",
      "Class 4        0.891066  0.881003  0.886006   12279302\n",
      "weighted avg   0.975986  0.979577  0.977049  173260992\n",
      "macro avg      0.613734  0.414250  0.433155  173260992\n",
      "micro avg      0.979577  0.979577  0.979577  173260992\n",
      "Running an epoch on the validation mode.\n"
     ]
    },
    {
     "name": "stderr",
     "output_type": "stream",
     "text": [
      "100%|██████████| 662/662 [00:42<00:00, 15.67it/s]\n"
     ]
    },
    {
     "name": "stdout",
     "output_type": "stream",
     "text": [
      "Train Loss: 1.111751383418275\n",
      "Train Accuracy: 0.9902873039245605\n",
      "              precision    recall  f1-score   support\n",
      "Class 0        0.991424  0.984597  0.987998  40996976\n",
      "Class 1        0.000000  0.000000  0.000000    124023\n",
      "Class 2        0.254244  0.178366  0.209651     47694\n",
      "Class 3        0.000000  0.000000  0.000000     13553\n",
      "Class 4        0.736988  0.886265  0.804762   2143265\n",
      "weighted avg   0.974877  0.975718  0.974940  43325512\n",
      "macro avg      0.396531  0.409846  0.400482  43325512\n",
      "micro avg      0.975718  0.975718  0.975718  43325512\n",
      "Training Epoch 10/10\n",
      "Running an epoch on the train mode.\n"
     ]
    },
    {
     "name": "stderr",
     "output_type": "stream",
     "text": [
      "100%|██████████| 2646/2646 [05:19<00:00,  8.29it/s]\n"
     ]
    },
    {
     "name": "stdout",
     "output_type": "stream",
     "text": [
      "Train Loss: 1.0065471532459647\n",
      "Train Accuracy: 0.9917746782302856\n",
      "              precision    recall  f1-score    support\n",
      "Class 0        0.986964  0.994065  0.990502  159680336\n",
      "Class 1        0.000000  0.000000  0.000000     326870\n",
      "Class 2        0.511623  0.208197  0.295959     791874\n",
      "Class 3        0.779688  0.008220  0.016269     182110\n",
      "Class 4        0.891926  0.879414  0.885626   12279302\n",
      "weighted avg   0.975976  0.979437  0.977002  173260480\n",
      "macro avg      0.634040  0.417979  0.437671  173260480\n",
      "micro avg      0.979437  0.979437  0.979437  173260480\n",
      "Running an epoch on the validation mode.\n"
     ]
    },
    {
     "name": "stderr",
     "output_type": "stream",
     "text": [
      "100%|██████████| 662/662 [00:42<00:00, 15.68it/s]\n"
     ]
    },
    {
     "name": "stdout",
     "output_type": "stream",
     "text": [
      "Train Loss: 1.1013609829843776\n",
      "Train Accuracy: 0.9917702674865723\n",
      "              precision    recall  f1-score   support\n",
      "Class 0        0.985935  0.993815  0.989859  40997028\n",
      "Class 1        0.000000  0.000000  0.000000    124023\n",
      "Class 2        0.141549  0.150019  0.145661     47694\n",
      "Class 3        0.000000  0.000000  0.000000     13553\n",
      "Class 4        0.863221  0.785510  0.822534   2143265\n",
      "weighted avg   0.975804  0.979426  0.977509  43325560\n",
      "macro avg      0.398141  0.385869  0.391611  43325560\n",
      "micro avg      0.979426  0.979426  0.979426  43325560\n",
      "{'model': 'UNet-64-5classes', 'loss': 'BCE-dice', 'weighted_loss': True, 'learning_rate': 0.0001, 'epochs': 10, 'patience': 3}\n",
      "models/UNet-64-5classes_BCE-dice-w_noaug.pth\n",
      "Model is already saved\n",
      "Loading it e continue training...\n",
      "LOSS mode: BCE-dice\n",
      "Training for epoch 2 until epoch 10\n",
      "Training Epoch 2/10\n",
      "Running an epoch on the train mode.\n"
     ]
    },
    {
     "name": "stderr",
     "output_type": "stream",
     "text": [
      "100%|██████████| 2646/2646 [05:19<00:00,  8.28it/s]\n"
     ]
    },
    {
     "name": "stdout",
     "output_type": "stream",
     "text": [
      "Train Loss: 2.3934098670170423\n",
      "Train Accuracy: 0.9881626963615417\n",
      "              precision    recall  f1-score    support\n",
      "Class 0        0.983115  0.988736  0.985918  159680320\n",
      "Class 1        0.037912  0.010013  0.015842     326870\n",
      "Class 2        0.188429  0.021613  0.038779     791874\n",
      "Class 3        0.001563  0.002943  0.002042     182110\n",
      "Class 4        0.842213  0.833153  0.837659   12279302\n",
      "weighted avg   0.966682  0.970407  0.968217  173260464\n",
      "macro avg      0.410646  0.371292  0.376048  173260464\n",
      "micro avg      0.970407  0.970407  0.970407  173260464\n",
      "Running an epoch on the validation mode.\n"
     ]
    },
    {
     "name": "stderr",
     "output_type": "stream",
     "text": [
      "100%|██████████| 662/662 [00:42<00:00, 15.72it/s]\n"
     ]
    },
    {
     "name": "stdout",
     "output_type": "stream",
     "text": [
      "Train Loss: 1.3150468796761938\n",
      "Train Accuracy: 0.9906114339828491\n",
      "              precision    recall  f1-score   support\n",
      "Class 0        0.980295  0.995703  0.987939  40997036\n",
      "Class 1        0.000000  0.000000  0.000000    124023\n",
      "Class 2        0.094538  0.000944  0.001868     47694\n",
      "Class 3        0.000000  0.000000  0.000000     13553\n",
      "Class 4        0.883618  0.694142  0.777503   2143265\n",
      "weighted avg   0.971425  0.976529  0.973307  43325568\n",
      "macro avg      0.391690  0.338158  0.353462  43325568\n",
      "micro avg      0.976528  0.976528  0.976528  43325568\n",
      "Training Epoch 3/10\n",
      "Running an epoch on the train mode.\n"
     ]
    },
    {
     "name": "stderr",
     "output_type": "stream",
     "text": [
      "100%|██████████| 2646/2646 [05:19<00:00,  8.27it/s]\n"
     ]
    },
    {
     "name": "stdout",
     "output_type": "stream",
     "text": [
      "Train Loss: 1.3024543815926675\n",
      "Train Accuracy: 0.9906052350997925\n",
      "              precision    recall  f1-score    support\n",
      "Class 0        0.984649  0.993467  0.989038  159680416\n",
      "Class 1        0.000000  0.000000  0.000000     326870\n",
      "Class 2        0.471628  0.063114  0.111329     791874\n",
      "Class 3        0.016360  0.000044  0.000088     182110\n",
      "Class 4        0.872154  0.855421  0.863707   12279302\n",
      "weighted avg   0.971456  0.976513  0.973239  173260560\n",
      "macro avg      0.468958  0.382409  0.392832  173260560\n",
      "micro avg      0.976513  0.976513  0.976513  173260560\n",
      "Running an epoch on the validation mode.\n"
     ]
    },
    {
     "name": "stderr",
     "output_type": "stream",
     "text": [
      "100%|██████████| 662/662 [00:42<00:00, 15.55it/s]\n"
     ]
    },
    {
     "name": "stdout",
     "output_type": "stream",
     "text": [
      "Train Loss: 1.2029310959649644\n",
      "Train Accuracy: 0.9906651377677917\n",
      "              precision    recall  f1-score   support\n",
      "Class 0        0.983350  0.993033  0.988168  40996992\n",
      "Class 1        0.000000  0.000000  0.000000    124023\n",
      "Class 2        0.619523  0.016899  0.032901     47694\n",
      "Class 3        0.000000  0.000000  0.000000     13553\n",
      "Class 4        0.832969  0.747586  0.787971   2143265\n",
      "weighted avg   0.972388  0.976663  0.974075  43325528\n",
      "macro avg      0.487168  0.351504  0.361808  43325528\n",
      "micro avg      0.976663  0.976663  0.976663  43325528\n",
      "Training Epoch 4/10\n",
      "Running an epoch on the train mode.\n"
     ]
    },
    {
     "name": "stderr",
     "output_type": "stream",
     "text": [
      "100%|██████████| 2646/2646 [05:13<00:00,  8.45it/s]\n"
     ]
    },
    {
     "name": "stdout",
     "output_type": "stream",
     "text": [
      "Train Loss: 1.1978647979166435\n",
      "Train Accuracy: 0.9910013675689697\n",
      "              precision    recall  f1-score    support\n",
      "Class 0        0.985298  0.993751  0.989506  159680496\n",
      "Class 1        0.000000  0.000000  0.000000     326870\n",
      "Class 2        0.468409  0.081563  0.138934     791874\n",
      "Class 3        0.020867  0.000071  0.000142     182110\n",
      "Class 4        0.879381  0.864516  0.871885   12279302\n",
      "weighted avg   0.972556  0.977503  0.974376  173260640\n",
      "macro avg      0.470791  0.387980  0.400093  173260640\n",
      "micro avg      0.977503  0.977503  0.977503  173260640\n",
      "Running an epoch on the validation mode.\n"
     ]
    },
    {
     "name": "stderr",
     "output_type": "stream",
     "text": [
      "100%|██████████| 662/662 [00:43<00:00, 15.35it/s]\n"
     ]
    },
    {
     "name": "stdout",
     "output_type": "stream",
     "text": [
      "Train Loss: 1.1614232133477025\n",
      "Train Accuracy: 0.9912900328636169\n",
      "              precision    recall  f1-score   support\n",
      "Class 0        0.987214  0.991295  0.989250  40997016\n",
      "Class 1        0.000000  0.000000  0.000000    124023\n",
      "Class 2        0.199519  0.071267  0.105021     47694\n",
      "Class 3        0.000000  0.000000  0.000000     13553\n",
      "Class 4        0.811663  0.811206  0.811435   2143265\n",
      "weighted avg   0.974528  0.978225  0.976339  43325552\n",
      "macro avg      0.399679  0.374754  0.381141  43325552\n",
      "micro avg      0.978225  0.978225  0.978225  43325552\n",
      "Training Epoch 5/10\n",
      "Running an epoch on the train mode.\n"
     ]
    },
    {
     "name": "stderr",
     "output_type": "stream",
     "text": [
      "100%|██████████| 2646/2646 [05:23<00:00,  8.19it/s]\n"
     ]
    },
    {
     "name": "stdout",
     "output_type": "stream",
     "text": [
      "Train Loss: 1.1362586010540312\n",
      "Train Accuracy: 0.9912747144699097\n",
      "              precision    recall  f1-score    support\n",
      "Class 0        0.985560  0.994120  0.989821  159680880\n",
      "Class 1        0.000000  0.000000  0.000000     326870\n",
      "Class 2        0.490040  0.115752  0.187269     791874\n",
      "Class 3        0.338877  0.001790  0.003561     182110\n",
      "Class 4        0.886924  0.867124  0.876912   12279302\n",
      "weighted avg   0.973765  0.978187  0.975247  173261024\n",
      "macro avg      0.540280  0.395757  0.411513  173261024\n",
      "micro avg      0.978187  0.978187  0.978187  173261024\n",
      "Running an epoch on the validation mode.\n"
     ]
    },
    {
     "name": "stderr",
     "output_type": "stream",
     "text": [
      "100%|██████████| 662/662 [00:42<00:00, 15.67it/s]\n"
     ]
    },
    {
     "name": "stdout",
     "output_type": "stream",
     "text": [
      "Train Loss: 4.170574829061195\n",
      "Train Accuracy: 0.960872232913971\n",
      "              precision    recall  f1-score   support\n",
      "Class 0        0.993972  0.905027  0.947417  40997024\n",
      "Class 1        0.000000  0.000000  0.000000    124023\n",
      "Class 2        0.212153  0.144798  0.172121     47694\n",
      "Class 3        0.000000  0.000000  0.000000     13553\n",
      "Class 4        0.331483  0.922496  0.487714   2143265\n",
      "weighted avg   0.957182  0.902181  0.920814  43325560\n",
      "macro avg      0.307522  0.394464  0.321450  43325560\n",
      "micro avg      0.902181  0.902181  0.902181  43325560\n",
      "Training Epoch 6/10\n",
      "Running an epoch on the train mode.\n"
     ]
    },
    {
     "name": "stderr",
     "output_type": "stream",
     "text": [
      "100%|██████████| 2646/2646 [05:26<00:00,  8.10it/s]\n"
     ]
    },
    {
     "name": "stdout",
     "output_type": "stream",
     "text": [
      "Train Loss: 1.0970777136971295\n",
      "Train Accuracy: 0.9914203882217407\n",
      "              precision    recall  f1-score    support\n",
      "Class 0        0.985953  0.994206  0.990062  159680800\n",
      "Class 1        0.000000  0.000000  0.000000     326870\n",
      "Class 2        0.487371  0.120495  0.193220     791874\n",
      "Class 3        0.684728  0.014920  0.029203     182110\n",
      "Class 4        0.887676  0.870651  0.879081   12279302\n",
      "weighted avg   0.974532  0.978551  0.975677  173260944\n",
      "macro avg      0.609146  0.400054  0.418313  173260944\n",
      "micro avg      0.978551  0.978551  0.978551  173260944\n",
      "Running an epoch on the validation mode.\n"
     ]
    },
    {
     "name": "stderr",
     "output_type": "stream",
     "text": [
      "100%|██████████| 662/662 [00:44<00:00, 15.04it/s]\n"
     ]
    },
    {
     "name": "stdout",
     "output_type": "stream",
     "text": [
      "Train Loss: 6.73344033159096\n",
      "Train Accuracy: 0.9275546073913574\n",
      "              precision    recall  f1-score   support\n",
      "Class 0        0.996697  0.814835  0.896637  40996980\n",
      "Class 1        0.000000  0.000000  0.000000    124023\n",
      "Class 2        0.077515  0.149641  0.102128     47694\n",
      "Class 3        0.000000  0.000000  0.000000     13553\n",
      "Class 4        0.212595  0.963845  0.348353   2143265\n",
      "weighted avg   0.953732  0.818886  0.865792  43325512\n",
      "macro avg      0.257361  0.385664  0.269424  43325512\n",
      "micro avg      0.818886  0.818886  0.818886  43325512\n",
      "Training Epoch 7/10\n",
      "Running an epoch on the train mode.\n"
     ]
    },
    {
     "name": "stderr",
     "output_type": "stream",
     "text": [
      "100%|██████████| 2646/2646 [05:29<00:00,  8.03it/s]\n"
     ]
    },
    {
     "name": "stdout",
     "output_type": "stream",
     "text": [
      "Train Loss: 1.075550780480957\n",
      "Train Accuracy: 0.9915122985839844\n",
      "              precision    recall  f1-score    support\n",
      "Class 0        0.986043  0.994269  0.990139  159680464\n",
      "Class 1        0.000000  0.000000  0.000000     326870\n",
      "Class 2        0.558202  0.160162  0.248906     791874\n",
      "Class 3        0.582039  0.014200  0.027724     182110\n",
      "Class 4        0.889568  0.870518  0.879940   12279302\n",
      "weighted avg   0.974965  0.978781  0.976062  173260608\n",
      "macro avg      0.603170  0.407830  0.429342  173260608\n",
      "micro avg      0.978781  0.978781  0.978781  173260608\n",
      "Running an epoch on the validation mode.\n"
     ]
    },
    {
     "name": "stderr",
     "output_type": "stream",
     "text": [
      "100%|██████████| 662/662 [00:45<00:00, 14.59it/s]\n"
     ]
    },
    {
     "name": "stdout",
     "output_type": "stream",
     "text": [
      "Train Loss: 1.0832136553752314\n",
      "Train Accuracy: 0.9914578795433044\n",
      "              precision    recall  f1-score   support\n",
      "Class 0        0.983150  0.995541  0.989307  40997052\n",
      "Class 1        0.000000  0.000000  0.000000    124023\n",
      "Class 2        0.207398  0.173271  0.188805     47694\n",
      "Class 3        0.000000  0.000000  0.000000     13553\n",
      "Class 4        0.890453  0.736186  0.806004   2143265\n",
      "weighted avg   0.974588  0.978645  0.976216  43325584\n",
      "macro avg      0.416200  0.381000  0.396823  43325584\n",
      "micro avg      0.978645  0.978645  0.978645  43325584\n",
      "Training Epoch 8/10\n",
      "Running an epoch on the train mode.\n"
     ]
    },
    {
     "name": "stderr",
     "output_type": "stream",
     "text": [
      "100%|██████████| 2646/2646 [05:21<00:00,  8.23it/s]\n"
     ]
    },
    {
     "name": "stdout",
     "output_type": "stream",
     "text": [
      "Train Loss: 1.032412575047466\n",
      "Train Accuracy: 0.9916965365409851\n",
      "              precision    recall  f1-score    support\n",
      "Class 0        0.986620  0.994129  0.990360  159681120\n",
      "Class 1        0.000000  0.000000  0.000000     326870\n",
      "Class 2        0.531949  0.192937  0.283169     791874\n",
      "Class 3        0.801171  0.033057  0.063494     182110\n",
      "Class 4        0.891630  0.876450  0.883975   12279302\n",
      "weighted avg   0.975754  0.979241  0.976746  173261264\n",
      "macro avg      0.642274  0.419315  0.444200  173261264\n",
      "micro avg      0.979241  0.979241  0.979241  173261264\n",
      "Running an epoch on the validation mode.\n"
     ]
    },
    {
     "name": "stderr",
     "output_type": "stream",
     "text": [
      "100%|██████████| 662/662 [00:42<00:00, 15.46it/s]\n"
     ]
    },
    {
     "name": "stdout",
     "output_type": "stream",
     "text": [
      "Train Loss: 1.255309051590129\n",
      "Train Accuracy: 0.9903477430343628\n",
      "              precision    recall  f1-score   support\n",
      "Class 0        0.977154  0.998272  0.987600  40997008\n",
      "Class 1        0.000000  0.000000  0.000000    124023\n",
      "Class 2        0.340488  0.108756  0.164855     47694\n",
      "Class 3        0.000000  0.000000  0.000000     13553\n",
      "Class 4        0.944951  0.629275  0.755462   2143265\n",
      "weighted avg   0.971757  0.975870  0.972075  43325544\n",
      "macro avg      0.452519  0.347261  0.381584  43325544\n",
      "micro avg      0.975869  0.975869  0.975869  43325544\n",
      "Training Epoch 9/10\n",
      "Running an epoch on the train mode.\n"
     ]
    },
    {
     "name": "stderr",
     "output_type": "stream",
     "text": [
      "100%|██████████| 2646/2646 [05:17<00:00,  8.33it/s]\n"
     ]
    },
    {
     "name": "stdout",
     "output_type": "stream",
     "text": [
      "Train Loss: 1.0230672637230167\n",
      "Train Accuracy: 0.9917694926261902\n",
      "              precision    recall  f1-score    support\n",
      "Class 0        0.986691  0.994289  0.990476  159680384\n",
      "Class 1        0.000000  0.000000  0.000000     326870\n",
      "Class 2        0.530839  0.180037  0.268882     791874\n",
      "Class 3        0.634796  0.058003  0.106294     182110\n",
      "Class 4        0.892962  0.877402  0.885114   12279302\n",
      "weighted avg   0.975734  0.979424  0.976913  173260528\n",
      "macro avg      0.609058  0.421947  0.450153  173260528\n",
      "micro avg      0.979424  0.979424  0.979424  173260528\n",
      "Running an epoch on the validation mode.\n"
     ]
    },
    {
     "name": "stderr",
     "output_type": "stream",
     "text": [
      "100%|██████████| 662/662 [00:41<00:00, 16.14it/s]\n"
     ]
    },
    {
     "name": "stdout",
     "output_type": "stream",
     "text": [
      "Train Loss: 1.085931002429545\n",
      "Train Accuracy: 0.9916221499443054\n",
      "              precision    recall  f1-score   support\n",
      "Class 0        0.982295  0.996582  0.989387  40997052\n",
      "Class 1        0.000000  0.000000  0.000000    124023\n",
      "Class 2        0.252610  0.106533  0.149864     47694\n",
      "Class 3        0.000000  0.000000  0.000000     13553\n",
      "Class 4        0.908888  0.726067  0.807256   2143265\n",
      "weighted avg   0.974741  0.979055  0.976311  43325584\n",
      "macro avg      0.428759  0.365836  0.389301  43325584\n",
      "micro avg      0.979055  0.979055  0.979055  43325584\n",
      "Training Epoch 10/10\n",
      "Running an epoch on the train mode.\n"
     ]
    },
    {
     "name": "stderr",
     "output_type": "stream",
     "text": [
      "100%|██████████| 2646/2646 [05:10<00:00,  8.53it/s]\n"
     ]
    },
    {
     "name": "stdout",
     "output_type": "stream",
     "text": [
      "Train Loss: 1.0139438825936105\n",
      "Train Accuracy: 0.9918176531791687\n",
      "              precision    recall  f1-score    support\n",
      "Class 0        0.986816  0.994248  0.990518  159680320\n",
      "Class 1        0.000000  0.000000  0.000000     326870\n",
      "Class 2        0.540164  0.196868  0.288566     791874\n",
      "Class 3        0.365596  0.010433  0.020288     182110\n",
      "Class 4        0.893485  0.879262  0.886317   12279302\n",
      "weighted avg   0.975646  0.979544  0.977036  173260464\n",
      "macro avg      0.557212  0.416162  0.437138  173260464\n",
      "micro avg      0.979544  0.979544  0.979544  173260464\n",
      "Running an epoch on the validation mode.\n"
     ]
    },
    {
     "name": "stderr",
     "output_type": "stream",
     "text": [
      "100%|██████████| 662/662 [00:40<00:00, 16.22it/s]\n"
     ]
    },
    {
     "name": "stdout",
     "output_type": "stream",
     "text": [
      "Train Loss: 1.1406383255550474\n",
      "Train Accuracy: 0.9904929399490356\n",
      "              precision    recall  f1-score   support\n",
      "Class 0        0.978144  0.997786  0.987867  40996980\n",
      "Class 1        0.000000  0.000000  0.000000    124023\n",
      "Class 2        0.261933  0.209754  0.232957     47694\n",
      "Class 3        0.000000  0.000000  0.000000     13553\n",
      "Class 4        0.940338  0.643667  0.764220   2143265\n",
      "weighted avg   0.972379  0.976232  0.972836  43325512\n",
      "macro avg      0.436083  0.370241  0.397009  43325512\n",
      "micro avg      0.976232  0.976232  0.976232  43325512\n",
      "{'model': 'UNetResNet34-224-5classes', 'loss': 'BCE-dice', 'weighted_loss': False, 'learning_rate': 0.0001, 'epochs': 10, 'patience': 3}\n",
      "{'model': 'UNetResNet34-224-5classes', 'loss': 'BCE-dice', 'weighted_loss': True, 'learning_rate': 0.0001, 'epochs': 10, 'patience': 3}\n",
      "{'model': 'UNetEfficientNetB0-224-5classes', 'loss': 'BCE-dice', 'weighted_loss': False, 'learning_rate': 0.0001, 'epochs': 10, 'patience': 3}\n",
      "{'model': 'UNetEfficientNetB0-224-5classes', 'loss': 'BCE-dice', 'weighted_loss': True, 'learning_rate': 0.0001, 'epochs': 10, 'patience': 3}\n",
      "{'model': 'UNetConvNext-224-5classes', 'loss': 'BCE-dice', 'weighted_loss': False, 'learning_rate': 0.0001, 'epochs': 10, 'patience': 3}\n",
      "{'model': 'UNetConvNext-224-5classes', 'loss': 'BCE-dice', 'weighted_loss': True, 'learning_rate': 0.0001, 'epochs': 10, 'patience': 3}\n",
      "{'patch_size': 64, 'num_classes': 5, 'normalization': 'normalized', 'data_aug': False}\n"
     ]
    },
    {
     "name": "stderr",
     "output_type": "stream",
     "text": [
      "1it [00:01,  1.84s/it]"
     ]
    },
    {
     "name": "stdout",
     "output_type": "stream",
     "text": [
      "(12, 1760, 1760) 0.1464993 0.1036741 37151964 37171200 (12, 1760, 1760)\n"
     ]
    },
    {
     "name": "stderr",
     "output_type": "stream",
     "text": [
      "2it [00:02,  1.12s/it]"
     ]
    },
    {
     "name": "stdout",
     "output_type": "stream",
     "text": [
      "(12, 1760, 1760) 0.15382166 0.100056104 37049244 37171200 (12, 1760, 1760)\n"
     ]
    },
    {
     "name": "stderr",
     "output_type": "stream",
     "text": [
      "3it [00:02,  1.24it/s]"
     ]
    },
    {
     "name": "stdout",
     "output_type": "stream",
     "text": [
      "(12, 1760, 1760) 0.15337734 0.10233981 37168464 37171200 (12, 1760, 1760)\n"
     ]
    },
    {
     "name": "stderr",
     "output_type": "stream",
     "text": [
      "4it [00:03,  1.53it/s]"
     ]
    },
    {
     "name": "stdout",
     "output_type": "stream",
     "text": [
      "(12, 1760, 1760) 0.15523647 0.104508504 37166280 37171200 (12, 1760, 1760)\n"
     ]
    },
    {
     "name": "stderr",
     "output_type": "stream",
     "text": [
      "5it [00:03,  1.74it/s]"
     ]
    },
    {
     "name": "stdout",
     "output_type": "stream",
     "text": [
      "(12, 1760, 1760) 0.15980513 0.10502401 37122504 37171200 (12, 1760, 1760)\n"
     ]
    },
    {
     "name": "stderr",
     "output_type": "stream",
     "text": [
      "6it [00:04,  1.91it/s]"
     ]
    },
    {
     "name": "stdout",
     "output_type": "stream",
     "text": [
      "(12, 1760, 1760) 0.17472944 0.115456775 37169148 37171200 (12, 1760, 1760)\n"
     ]
    },
    {
     "name": "stderr",
     "output_type": "stream",
     "text": [
      "7it [00:04,  2.02it/s]"
     ]
    },
    {
     "name": "stdout",
     "output_type": "stream",
     "text": [
      "(12, 1760, 1760) 0.16961475 0.08417609 36943128 37171200 (12, 1760, 1760)\n"
     ]
    },
    {
     "name": "stderr",
     "output_type": "stream",
     "text": [
      "8it [00:05,  2.12it/s]"
     ]
    },
    {
     "name": "stdout",
     "output_type": "stream",
     "text": [
      "(12, 1760, 1760) 0.16184907 0.10867045 37122240 37171200 (12, 1760, 1760)\n"
     ]
    },
    {
     "name": "stderr",
     "output_type": "stream",
     "text": [
      "9it [00:05,  2.17it/s]"
     ]
    },
    {
     "name": "stdout",
     "output_type": "stream",
     "text": [
      "(12, 1760, 1760) 0.16775194 0.08914498 36992052 37171200 (12, 1760, 1760)\n"
     ]
    },
    {
     "name": "stderr",
     "output_type": "stream",
     "text": [
      "10it [00:05,  2.22it/s]"
     ]
    },
    {
     "name": "stdout",
     "output_type": "stream",
     "text": [
      "(12, 1760, 1760) 0.17667852 0.10794595 37169856 37171200 (12, 1760, 1760)\n"
     ]
    },
    {
     "name": "stderr",
     "output_type": "stream",
     "text": [
      "11it [00:06,  2.26it/s]"
     ]
    },
    {
     "name": "stdout",
     "output_type": "stream",
     "text": [
      "(12, 1760, 1760) 0.1473128 0.09609526 37165452 37171200 (12, 1760, 1760)\n"
     ]
    },
    {
     "name": "stderr",
     "output_type": "stream",
     "text": [
      "12it [00:06,  2.28it/s]"
     ]
    },
    {
     "name": "stdout",
     "output_type": "stream",
     "text": [
      "(12, 1760, 1760) 0.16057967 0.11220201 37168788 37171200 (12, 1760, 1760)\n"
     ]
    },
    {
     "name": "stderr",
     "output_type": "stream",
     "text": [
      "13it [00:07,  2.30it/s]"
     ]
    },
    {
     "name": "stdout",
     "output_type": "stream",
     "text": [
      "(12, 1760, 1760) 0.17382897 0.108215794 37170432 37171200 (12, 1760, 1760)\n"
     ]
    },
    {
     "name": "stderr",
     "output_type": "stream",
     "text": [
      "14it [00:07,  2.29it/s]"
     ]
    },
    {
     "name": "stdout",
     "output_type": "stream",
     "text": [
      "(12, 1760, 1760) 0.1660019 0.10331295 37169868 37171200 (12, 1760, 1760)\n"
     ]
    },
    {
     "name": "stderr",
     "output_type": "stream",
     "text": [
      "15it [00:08,  2.30it/s]"
     ]
    },
    {
     "name": "stdout",
     "output_type": "stream",
     "text": [
      "(12, 1760, 1760) 0.14081055 0.0921364 37170120 37171200 (12, 1760, 1760)\n"
     ]
    },
    {
     "name": "stderr",
     "output_type": "stream",
     "text": [
      "16it [00:08,  2.31it/s]"
     ]
    },
    {
     "name": "stdout",
     "output_type": "stream",
     "text": [
      "(12, 1760, 1760) 0.16521332 0.11598557 37170240 37171200 (12, 1760, 1760)\n"
     ]
    },
    {
     "name": "stderr",
     "output_type": "stream",
     "text": [
      "17it [00:08,  2.31it/s]"
     ]
    },
    {
     "name": "stdout",
     "output_type": "stream",
     "text": [
      "(12, 1760, 1760) 0.17268077 0.1097607 37170672 37171200 (12, 1760, 1760)\n"
     ]
    },
    {
     "name": "stderr",
     "output_type": "stream",
     "text": [
      "18it [00:09,  2.33it/s]"
     ]
    },
    {
     "name": "stdout",
     "output_type": "stream",
     "text": [
      "(12, 1760, 1760) 0.16981871 0.1085163 37157340 37171200 (12, 1760, 1760)\n"
     ]
    },
    {
     "name": "stderr",
     "output_type": "stream",
     "text": [
      "19it [00:09,  2.33it/s]"
     ]
    },
    {
     "name": "stdout",
     "output_type": "stream",
     "text": [
      "(12, 1760, 1760) 0.1433078 0.092321664 37146576 37171200 (12, 1760, 1760)\n"
     ]
    },
    {
     "name": "stderr",
     "output_type": "stream",
     "text": [
      "20it [00:10,  2.34it/s]"
     ]
    },
    {
     "name": "stdout",
     "output_type": "stream",
     "text": [
      "(12, 1760, 1760) 0.14462931 0.09223833 37166904 37171200 (12, 1760, 1760)\n"
     ]
    },
    {
     "name": "stderr",
     "output_type": "stream",
     "text": [
      "21it [00:10,  2.33it/s]"
     ]
    },
    {
     "name": "stdout",
     "output_type": "stream",
     "text": [
      "(12, 1760, 1760) 0.15976056 0.10168667 37162320 37171200 (12, 1760, 1760)\n"
     ]
    },
    {
     "name": "stderr",
     "output_type": "stream",
     "text": [
      "22it [00:11,  2.33it/s]"
     ]
    },
    {
     "name": "stdout",
     "output_type": "stream",
     "text": [
      "(12, 1760, 1760) 0.16497119 0.108591564 37167348 37171200 (12, 1760, 1760)\n"
     ]
    },
    {
     "name": "stderr",
     "output_type": "stream",
     "text": [
      "23it [00:11,  2.33it/s]"
     ]
    },
    {
     "name": "stdout",
     "output_type": "stream",
     "text": [
      "(12, 1760, 1760) 0.16207728 0.11367969 37170108 37171200 (12, 1760, 1760)\n"
     ]
    },
    {
     "name": "stderr",
     "output_type": "stream",
     "text": [
      "24it [00:11,  2.02it/s]"
     ]
    },
    {
     "name": "stdout",
     "output_type": "stream",
     "text": [
      "(12, 1760, 1760) 0.15193169 0.101455934 37154676 37171200 (12, 1760, 1760)\n",
      "0.1600930142712587 0.10408098505604475\n",
      "64\n"
     ]
    },
    {
     "name": "stderr",
     "output_type": "stream",
     "text": [
      "\n"
     ]
    },
    {
     "name": "stdout",
     "output_type": "stream",
     "text": [
      "{'model': 'UNet-256-2classes', 'loss': 'BCE-dice', 'weighted_loss': False, 'learning_rate': 0.0001, 'epochs': 10, 'patience': 3}\n",
      "{'model': 'UNet-256-2classes', 'loss': 'BCE-dice', 'weighted_loss': True, 'learning_rate': 0.0001, 'epochs': 10, 'patience': 3}\n",
      "{'model': 'UNet-64-2classes', 'loss': 'BCE-dice', 'weighted_loss': False, 'learning_rate': 0.0001, 'epochs': 10, 'patience': 3}\n",
      "{'model': 'UNet-64-2classes', 'loss': 'BCE-dice', 'weighted_loss': True, 'learning_rate': 0.0001, 'epochs': 10, 'patience': 3}\n",
      "{'model': 'UNetResNet34-224-2classes', 'loss': 'BCE-dice', 'weighted_loss': False, 'learning_rate': 0.0001, 'epochs': 10, 'patience': 3}\n",
      "{'model': 'UNetResNet34-224-2classes', 'loss': 'BCE-dice', 'weighted_loss': True, 'learning_rate': 0.0001, 'epochs': 10, 'patience': 3}\n",
      "{'model': 'UNetEfficientNetB0-224-2classes', 'loss': 'BCE-dice', 'weighted_loss': False, 'learning_rate': 0.0001, 'epochs': 10, 'patience': 3}\n",
      "{'model': 'UNetEfficientNetB0-224-2classes', 'loss': 'BCE-dice', 'weighted_loss': True, 'learning_rate': 0.0001, 'epochs': 10, 'patience': 3}\n",
      "{'model': 'UNetConvNext-224-2classes', 'loss': 'BCE-dice', 'weighted_loss': False, 'learning_rate': 0.0001, 'epochs': 10, 'patience': 3}\n",
      "{'model': 'UNetConvNext-224-2classes', 'loss': 'BCE-dice', 'weighted_loss': True, 'learning_rate': 0.0001, 'epochs': 10, 'patience': 3}\n",
      "{'model': 'UNet-256-5classes', 'loss': 'BCE-dice', 'weighted_loss': False, 'learning_rate': 0.0001, 'epochs': 10, 'patience': 3}\n",
      "{'model': 'UNet-256-5classes', 'loss': 'BCE-dice', 'weighted_loss': True, 'learning_rate': 0.0001, 'epochs': 10, 'patience': 3}\n",
      "{'model': 'UNet-64-5classes', 'loss': 'BCE-dice', 'weighted_loss': False, 'learning_rate': 0.0001, 'epochs': 10, 'patience': 3}\n",
      "models/UNet-64-5classes_BCE-dice_normalized_noaug.pth\n",
      "Model is already saved\n",
      "{'model': 'UNet-64-5classes', 'loss': 'BCE-dice', 'weighted_loss': True, 'learning_rate': 0.0001, 'epochs': 10, 'patience': 3}\n",
      "models/UNet-64-5classes_BCE-dice-w_normalized_noaug.pth\n",
      "Model is already saved\n",
      "Loading it e continue training...\n",
      "LOSS mode: BCE-dice\n",
      "Training for epoch 7 until epoch 10\n",
      "Training Epoch 7/10\n",
      "Running an epoch on the train mode.\n"
     ]
    },
    {
     "name": "stderr",
     "output_type": "stream",
     "text": [
      "100%|██████████| 2646/2646 [05:18<00:00,  8.31it/s]\n"
     ]
    },
    {
     "name": "stdout",
     "output_type": "stream",
     "text": [
      "Train Loss: 1.7969439361844204\n",
      "Train Accuracy: 0.9892151355743408\n",
      "              precision    recall  f1-score    support\n",
      "Class 0        0.984001  0.990364  0.987172  159680640\n",
      "Class 1        0.019117  0.009514  0.012706     326870\n",
      "Class 2        0.399157  0.106378  0.167986     791874\n",
      "Class 3        0.010512  0.007792  0.008950     182110\n",
      "Class 4        0.860425  0.843578  0.851918   12279302\n",
      "weighted avg   0.969727  0.973038  0.970976  173260784\n",
      "macro avg      0.454643  0.391525  0.405747  173260784\n",
      "micro avg      0.973038  0.973038  0.973038  173260784\n",
      "Running an epoch on the validation mode.\n"
     ]
    },
    {
     "name": "stderr",
     "output_type": "stream",
     "text": [
      "100%|██████████| 662/662 [00:43<00:00, 15.26it/s]\n"
     ]
    },
    {
     "name": "stdout",
     "output_type": "stream",
     "text": [
      "Train Loss: 1.1993546440228764\n",
      "Train Accuracy: 0.9909594655036926\n",
      "              precision    recall  f1-score   support\n",
      "Class 0        0.983148  0.994032  0.988560  40997032\n",
      "Class 1        0.000000  0.000000  0.000000    124023\n",
      "Class 2        0.391699  0.064306  0.110475     47694\n",
      "Class 3        0.000000  0.000000  0.000000     13553\n",
      "Class 4        0.852200  0.742292  0.793458   2143265\n",
      "weighted avg   0.972897  0.977399  0.974803  43325568\n",
      "macro avg      0.445409  0.360126  0.378498  43325568\n",
      "micro avg      0.977399  0.977399  0.977399  43325568\n",
      "Training Epoch 8/10\n",
      "Running an epoch on the train mode.\n"
     ]
    },
    {
     "name": "stderr",
     "output_type": "stream",
     "text": [
      "100%|██████████| 2646/2646 [05:18<00:00,  8.31it/s]\n"
     ]
    },
    {
     "name": "stdout",
     "output_type": "stream",
     "text": [
      "Train Loss: 1.2287908188199015\n",
      "Train Accuracy: 0.9907786846160889\n",
      "              precision    recall  f1-score    support\n",
      "Class 0        0.984817  0.993481  0.989130  159680672\n",
      "Class 1        0.000000  0.000000  0.000000     326870\n",
      "Class 2        0.498695  0.109040  0.178952     791874\n",
      "Class 3        1.000000  0.000132  0.000264     182110\n",
      "Class 4        0.878216  0.858392  0.868191   12279302\n",
      "weighted avg   0.973198  0.976947  0.973951  173260816\n",
      "macro avg      0.672345  0.392209  0.407307  173260816\n",
      "micro avg      0.976946  0.976946  0.976946  173260816\n",
      "Running an epoch on the validation mode.\n"
     ]
    },
    {
     "name": "stderr",
     "output_type": "stream",
     "text": [
      "100%|██████████| 662/662 [00:43<00:00, 15.35it/s]\n"
     ]
    },
    {
     "name": "stdout",
     "output_type": "stream",
     "text": [
      "Train Loss: 1.1515957639522383\n",
      "Train Accuracy: 0.9910872578620911\n",
      "              precision    recall  f1-score   support\n",
      "Class 0        0.983967  0.993401  0.988662  40996984\n",
      "Class 1        0.000000  0.000000  0.000000    124023\n",
      "Class 2        0.358580  0.050824  0.089029     47694\n",
      "Class 3        0.000000  0.000000  0.000000     13553\n",
      "Class 4        0.845778  0.761109  0.801213   2143265\n",
      "weighted avg   0.973318  0.977718  0.975259  43325520\n",
      "macro avg      0.437665  0.361067  0.375781  43325520\n",
      "micro avg      0.977718  0.977718  0.977718  43325520\n",
      "Training Epoch 9/10\n",
      "Running an epoch on the train mode.\n"
     ]
    },
    {
     "name": "stderr",
     "output_type": "stream",
     "text": [
      "100%|██████████| 2646/2646 [05:17<00:00,  8.32it/s]\n"
     ]
    },
    {
     "name": "stdout",
     "output_type": "stream",
     "text": [
      "Train Loss: 1.1585051830201913\n",
      "Train Accuracy: 0.9911125898361206\n",
      "              precision    recall  f1-score    support\n",
      "Class 0        0.985300  0.993748  0.989506  159680384\n",
      "Class 1        0.000000  0.000000  0.000000     326870\n",
      "Class 2        0.536959  0.146199  0.229823     791874\n",
      "Class 3        0.205128  0.000044  0.000088     182110\n",
      "Class 4        0.884760  0.864303  0.874412   12279302\n",
      "weighted avg   0.973447  0.977782  0.974971  173260528\n",
      "macro avg      0.522429  0.400859  0.418766  173260528\n",
      "micro avg      0.977782  0.977782  0.977782  173260528\n",
      "Running an epoch on the validation mode.\n"
     ]
    },
    {
     "name": "stderr",
     "output_type": "stream",
     "text": [
      "100%|██████████| 662/662 [00:43<00:00, 15.34it/s]\n"
     ]
    },
    {
     "name": "stdout",
     "output_type": "stream",
     "text": [
      "Train Loss: 1.113624260154745\n",
      "Train Accuracy: 0.9913069009780884\n",
      "              precision    recall  f1-score   support\n",
      "Class 0        0.984972  0.992955  0.988947  40997012\n",
      "Class 1        0.000000  0.000000  0.000000    124023\n",
      "Class 2        0.393699  0.095903  0.154235     47694\n",
      "Class 3        0.000000  0.000000  0.000000     13553\n",
      "Class 4        0.842061  0.779751  0.809709   2143265\n",
      "weighted avg   0.974124  0.978267  0.976021  43325544\n",
      "macro avg      0.444147  0.373722  0.390578  43325544\n",
      "micro avg      0.978267  0.978267  0.978267  43325544\n",
      "Training Epoch 10/10\n",
      "Running an epoch on the train mode.\n"
     ]
    },
    {
     "name": "stderr",
     "output_type": "stream",
     "text": [
      "100%|██████████| 2646/2646 [05:18<00:00,  8.32it/s]\n"
     ]
    },
    {
     "name": "stdout",
     "output_type": "stream",
     "text": [
      "Train Loss: 1.1242365939099164\n",
      "Train Accuracy: 0.9912482500076294\n",
      "              precision    recall  f1-score    support\n",
      "Class 0        0.985668  0.993830  0.989732  159680416\n",
      "Class 1        0.000000  0.000000  0.000000     326870\n",
      "Class 2        0.567272  0.161740  0.251713     791874\n",
      "Class 3        0.117207  0.000258  0.000515     182110\n",
      "Class 4        0.884861  0.867024  0.875852   12279302\n",
      "weighted avg   0.973839  0.978121  0.975381  173260560\n",
      "macro avg      0.511002  0.404570  0.423562  173260560\n",
      "micro avg      0.978120  0.978120  0.978120  173260560\n",
      "Running an epoch on the validation mode.\n"
     ]
    },
    {
     "name": "stderr",
     "output_type": "stream",
     "text": [
      "100%|██████████| 662/662 [00:44<00:00, 14.72it/s]\n"
     ]
    },
    {
     "name": "stdout",
     "output_type": "stream",
     "text": [
      "Train Loss: 1.1119976902503073\n",
      "Train Accuracy: 0.9912235736846924\n",
      "              precision    recall  f1-score   support\n",
      "Class 0        0.981455  0.996277  0.988811  40996996\n",
      "Class 1        0.000000  0.000000  0.000000    124023\n",
      "Class 2        0.392395  0.184572  0.251055     47694\n",
      "Class 3        0.000000  0.000000  0.000000     13553\n",
      "Class 4        0.902059  0.710007  0.794593   2143265\n",
      "weighted avg   0.973763  0.978059  0.975251  43325528\n",
      "macro avg      0.455182  0.378171  0.406892  43325528\n",
      "micro avg      0.978059  0.978059  0.978059  43325528\n",
      "{'model': 'UNetResNet34-224-5classes', 'loss': 'BCE-dice', 'weighted_loss': False, 'learning_rate': 0.0001, 'epochs': 10, 'patience': 3}\n",
      "{'model': 'UNetResNet34-224-5classes', 'loss': 'BCE-dice', 'weighted_loss': True, 'learning_rate': 0.0001, 'epochs': 10, 'patience': 3}\n",
      "{'model': 'UNetEfficientNetB0-224-5classes', 'loss': 'BCE-dice', 'weighted_loss': False, 'learning_rate': 0.0001, 'epochs': 10, 'patience': 3}\n",
      "{'model': 'UNetEfficientNetB0-224-5classes', 'loss': 'BCE-dice', 'weighted_loss': True, 'learning_rate': 0.0001, 'epochs': 10, 'patience': 3}\n",
      "{'model': 'UNetConvNext-224-5classes', 'loss': 'BCE-dice', 'weighted_loss': False, 'learning_rate': 0.0001, 'epochs': 10, 'patience': 3}\n",
      "{'model': 'UNetConvNext-224-5classes', 'loss': 'BCE-dice', 'weighted_loss': True, 'learning_rate': 0.0001, 'epochs': 10, 'patience': 3}\n",
      "{'patch_size': 224, 'num_classes': 2, 'normalization': 'unnormalized', 'data_aug': False}\n",
      "224\n",
      "{'model': 'UNet-256-2classes', 'loss': 'BCE-dice', 'weighted_loss': False, 'learning_rate': 0.0001, 'epochs': 10, 'patience': 3}\n",
      "{'model': 'UNet-256-2classes', 'loss': 'BCE-dice', 'weighted_loss': True, 'learning_rate': 0.0001, 'epochs': 10, 'patience': 3}\n",
      "{'model': 'UNet-64-2classes', 'loss': 'BCE-dice', 'weighted_loss': False, 'learning_rate': 0.0001, 'epochs': 10, 'patience': 3}\n",
      "{'model': 'UNet-64-2classes', 'loss': 'BCE-dice', 'weighted_loss': True, 'learning_rate': 0.0001, 'epochs': 10, 'patience': 3}\n",
      "{'model': 'UNetResNet34-224-2classes', 'loss': 'BCE-dice', 'weighted_loss': False, 'learning_rate': 0.0001, 'epochs': 10, 'patience': 3}\n",
      "models/UNetResNet34-224-2classes_BCE-dice_noaug.pth\n",
      "Model is already saved\n",
      "Loading it e continue training...\n",
      "LOSS mode: BCE-dice\n",
      "Training for epoch 9 until epoch 10\n",
      "Training Epoch 9/10\n",
      "Running an epoch on the train mode.\n"
     ]
    },
    {
     "name": "stderr",
     "output_type": "stream",
     "text": [
      "100%|██████████| 216/216 [00:54<00:00,  3.96it/s]\n"
     ]
    },
    {
     "name": "stdout",
     "output_type": "stream",
     "text": [
      "Train Loss: 0.6836640066984627\n",
      "Train Accuracy: 0.9847137928009033\n",
      "              precision    recall  f1-score    support\n",
      "Class 0        0.990101  0.993358  0.991727  159818176\n",
      "Class 1        0.917897  0.882029  0.899606   13454138\n",
      "weighted avg   0.984495  0.984714  0.984574  173272320\n",
      "macro avg      0.953999  0.937694  0.945666  173272320\n",
      "micro avg      0.984714  0.984714  0.984714  173272320\n",
      "Running an epoch on the validation mode.\n"
     ]
    },
    {
     "name": "stderr",
     "output_type": "stream",
     "text": [
      "100%|██████████| 54/54 [00:07<00:00,  6.85it/s]\n"
     ]
    },
    {
     "name": "stdout",
     "output_type": "stream",
     "text": [
      "Train Loss: 1.4379310068432931\n",
      "Train Accuracy: 0.9680287837982178\n",
      "              precision    recall  f1-score   support\n",
      "Class 0        0.967566  0.999756  0.983398  41034236\n",
      "Class 1        0.989205  0.400066  0.569719   2292241\n",
      "weighted avg   0.968711  0.968029  0.961511  43326476\n",
      "macro avg      0.978385  0.699911  0.776558  43326476\n",
      "micro avg      0.968029  0.968029  0.968029  43326476\n",
      "Training Epoch 10/10\n",
      "Running an epoch on the train mode.\n"
     ]
    },
    {
     "name": "stderr",
     "output_type": "stream",
     "text": [
      "100%|██████████| 216/216 [00:47<00:00,  4.52it/s]\n"
     ]
    },
    {
     "name": "stdout",
     "output_type": "stream",
     "text": [
      "Train Loss: 0.603825501597452\n",
      "Train Accuracy: 0.9861785173416138\n",
      "              precision    recall  f1-score    support\n",
      "Class 0        0.991167  0.993873  0.992518  159818080\n",
      "Class 1        0.924774  0.894783  0.909531   13454138\n",
      "weighted avg   0.986011  0.986178  0.986074  173272224\n",
      "macro avg      0.957970  0.944328  0.951025  173272224\n",
      "micro avg      0.986179  0.986179  0.986179  173272224\n",
      "Running an epoch on the validation mode.\n"
     ]
    },
    {
     "name": "stderr",
     "output_type": "stream",
     "text": [
      "100%|██████████| 54/54 [00:06<00:00,  8.66it/s]\n"
     ]
    },
    {
     "name": "stdout",
     "output_type": "stream",
     "text": [
      "Train Loss: 0.8201308297338309\n",
      "Train Accuracy: 0.9796345233917236\n",
      "              precision    recall  f1-score   support\n",
      "Class 0        0.995837  0.982605  0.989177  41034240\n",
      "Class 1        0.748440  0.926461  0.827989   2292241\n",
      "weighted avg   0.982748  0.979634  0.980649  43326480\n",
      "macro avg      0.872138  0.954533  0.908583  43326480\n",
      "micro avg      0.979635  0.979635  0.979635  43326480\n",
      "{'model': 'UNetResNet34-224-2classes', 'loss': 'BCE-dice', 'weighted_loss': True, 'learning_rate': 0.0001, 'epochs': 10, 'patience': 3}\n",
      "models/UNetResNet34-224-2classes_BCE-dice-w_noaug.pth\n",
      "Model is already saved\n",
      "Loading it e continue training...\n",
      "LOSS mode: BCE-dice\n",
      "Training for epoch 7 until epoch 10\n",
      "Training Epoch 7/10\n",
      "Running an epoch on the train mode.\n"
     ]
    },
    {
     "name": "stderr",
     "output_type": "stream",
     "text": [
      "100%|██████████| 216/216 [00:46<00:00,  4.60it/s]\n"
     ]
    },
    {
     "name": "stdout",
     "output_type": "stream",
     "text": [
      "Train Loss: 0.7156404538287057\n",
      "Train Accuracy: 0.9842439889907837\n",
      "              precision    recall  f1-score    support\n",
      "Class 0        0.990078  0.992868  0.991471  159818240\n",
      "Class 1        0.912347  0.881802  0.896815   13454138\n",
      "weighted avg   0.984042  0.984244  0.984121  173272384\n",
      "macro avg      0.951212  0.937335  0.944143  173272384\n",
      "micro avg      0.984244  0.984244  0.984244  173272384\n",
      "Running an epoch on the validation mode.\n"
     ]
    },
    {
     "name": "stderr",
     "output_type": "stream",
     "text": [
      "100%|██████████| 54/54 [00:05<00:00,  9.31it/s]\n"
     ]
    },
    {
     "name": "stdout",
     "output_type": "stream",
     "text": [
      "Train Loss: 0.7836657723894825\n",
      "Train Accuracy: 0.9824567437171936\n",
      "              precision    recall  f1-score   support\n",
      "Class 0        0.989727  0.991771  0.990748  41034248\n",
      "Class 1        0.847039  0.815712  0.831080   2292241\n",
      "weighted avg   0.982178  0.982457  0.982300  43326488\n",
      "macro avg      0.918383  0.903742  0.910914  43326488\n",
      "micro avg      0.982457  0.982457  0.982457  43326488\n",
      "Training Epoch 8/10\n",
      "Running an epoch on the train mode.\n"
     ]
    },
    {
     "name": "stderr",
     "output_type": "stream",
     "text": [
      "100%|██████████| 216/216 [00:46<00:00,  4.60it/s]\n"
     ]
    },
    {
     "name": "stdout",
     "output_type": "stream",
     "text": [
      "Train Loss: 0.593321137578675\n",
      "Train Accuracy: 0.9862671494483948\n",
      "              precision    recall  f1-score    support\n",
      "Class 0        0.991700  0.993425  0.992562  159818320\n",
      "Class 1        0.920253  0.901238  0.910646   13454138\n",
      "weighted avg   0.986152  0.986267  0.986201  173272464\n",
      "macro avg      0.955976  0.947331  0.951604  173272464\n",
      "micro avg      0.986267  0.986267  0.986267  173272464\n",
      "Running an epoch on the validation mode.\n"
     ]
    },
    {
     "name": "stderr",
     "output_type": "stream",
     "text": [
      "100%|██████████| 54/54 [00:05<00:00,  9.47it/s]\n"
     ]
    },
    {
     "name": "stdout",
     "output_type": "stream",
     "text": [
      "Train Loss: 0.6621961897170102\n",
      "Train Accuracy: 0.9832590222358704\n",
      "              precision    recall  f1-score   support\n",
      "Class 0        0.994127  0.988162  0.991135  41034228\n",
      "Class 1        0.808632  0.895497  0.849851   2292241\n",
      "weighted avg   0.984313  0.983259  0.983660  43326468\n",
      "macro avg      0.901380  0.941829  0.920493  43326468\n",
      "micro avg      0.983259  0.983259  0.983259  43326468\n",
      "Training Epoch 9/10\n",
      "Running an epoch on the train mode.\n"
     ]
    },
    {
     "name": "stderr",
     "output_type": "stream",
     "text": [
      "100%|██████████| 216/216 [00:46<00:00,  4.64it/s]\n"
     ]
    },
    {
     "name": "stdout",
     "output_type": "stream",
     "text": [
      "Train Loss: 0.5079828862583747\n",
      "Train Accuracy: 0.9880465865135193\n",
      "              precision    recall  f1-score    support\n",
      "Class 0        0.992781  0.994270  0.993525  159818368\n",
      "Class 1        0.930700  0.914122  0.922336   13454138\n",
      "weighted avg   0.987961  0.988047  0.987997  173272512\n",
      "macro avg      0.961740  0.954196  0.957931  173272512\n",
      "micro avg      0.988047  0.988047  0.988047  173272512\n",
      "Running an epoch on the validation mode.\n"
     ]
    },
    {
     "name": "stderr",
     "output_type": "stream",
     "text": [
      "100%|██████████| 54/54 [00:05<00:00,  9.14it/s]\n"
     ]
    },
    {
     "name": "stdout",
     "output_type": "stream",
     "text": [
      "Train Loss: 0.7237024637008155\n",
      "Train Accuracy: 0.9825505614280701\n",
      "              precision    recall  f1-score   support\n",
      "Class 0        0.993156  0.988387  0.990766  41034232\n",
      "Class 1        0.808570  0.878063  0.841885   2292241\n",
      "weighted avg   0.983390  0.982551  0.982889  43326472\n",
      "macro avg      0.900863  0.933225  0.916325  43326472\n",
      "micro avg      0.982551  0.982551  0.982551  43326472\n",
      "Training Epoch 10/10\n",
      "Running an epoch on the train mode.\n"
     ]
    },
    {
     "name": "stderr",
     "output_type": "stream",
     "text": [
      "100%|██████████| 216/216 [00:46<00:00,  4.61it/s]\n"
     ]
    },
    {
     "name": "stdout",
     "output_type": "stream",
     "text": [
      "Train Loss: 0.43897231564753586\n",
      "Train Accuracy: 0.9893947243690491\n",
      "              precision    recall  f1-score    support\n",
      "Class 0        0.993867  0.994640  0.994253  159818304\n",
      "Class 1        0.935737  0.927087  0.931392   13454138\n",
      "weighted avg   0.989353  0.989395  0.989372  173272448\n",
      "macro avg      0.964802  0.960863  0.962823  173272448\n",
      "micro avg      0.989395  0.989395  0.989395  173272448\n",
      "Running an epoch on the validation mode.\n"
     ]
    },
    {
     "name": "stderr",
     "output_type": "stream",
     "text": [
      "100%|██████████| 54/54 [00:05<00:00,  9.61it/s]\n"
     ]
    },
    {
     "name": "stdout",
     "output_type": "stream",
     "text": [
      "Train Loss: 0.6928055449906323\n",
      "Train Accuracy: 0.9841693043708801\n",
      "              precision    recall  f1-score   support\n",
      "Class 0        0.988932  0.994414  0.991666  41034248\n",
      "Class 1        0.888984  0.800779  0.842579   2292241\n",
      "weighted avg   0.983645  0.984169  0.983778  43326488\n",
      "macro avg      0.938958  0.897596  0.917122  43326488\n",
      "micro avg      0.984169  0.984169  0.984169  43326488\n",
      "{'model': 'UNetEfficientNetB0-224-2classes', 'loss': 'BCE-dice', 'weighted_loss': False, 'learning_rate': 0.0001, 'epochs': 10, 'patience': 3}\n",
      "models/UNetEfficientNetB0-224-2classes_BCE-dice_noaug.pth\n",
      "Model is already saved\n",
      "{'model': 'UNetEfficientNetB0-224-2classes', 'loss': 'BCE-dice', 'weighted_loss': True, 'learning_rate': 0.0001, 'epochs': 10, 'patience': 3}\n",
      "models/UNetEfficientNetB0-224-2classes_BCE-dice-w_noaug.pth\n",
      "Model is already saved\n",
      "{'model': 'UNetConvNext-224-2classes', 'loss': 'BCE-dice', 'weighted_loss': False, 'learning_rate': 0.0001, 'epochs': 10, 'patience': 3}\n",
      "models/UNetConvNext-224-2classes_BCE-dice_noaug.pth\n",
      "Model is already saved\n",
      "{'model': 'UNetConvNext-224-2classes', 'loss': 'BCE-dice', 'weighted_loss': True, 'learning_rate': 0.0001, 'epochs': 10, 'patience': 3}\n",
      "models/UNetConvNext-224-2classes_BCE-dice-w_noaug.pth\n",
      "Model is already saved\n",
      "Loading it e continue training...\n",
      "LOSS mode: BCE-dice\n",
      "Training for epoch 6 until epoch 10\n",
      "Training Epoch 6/10\n",
      "Running an epoch on the train mode.\n"
     ]
    },
    {
     "name": "stderr",
     "output_type": "stream",
     "text": [
      "100%|██████████| 216/216 [01:16<00:00,  2.81it/s]\n"
     ]
    },
    {
     "name": "stdout",
     "output_type": "stream",
     "text": [
      "Train Loss: 0.6947416587284317\n",
      "Train Accuracy: 0.9840022325515747\n",
      "              precision    recall  f1-score    support\n",
      "Class 0        0.988940  0.993770  0.991349  159818016\n",
      "Class 1        0.921437  0.867975  0.893907   13454138\n",
      "weighted avg   0.983698  0.984002  0.983783  173272160\n",
      "macro avg      0.955188  0.930872  0.942628  173272160\n",
      "micro avg      0.984002  0.984002  0.984002  173272160\n",
      "Running an epoch on the validation mode.\n"
     ]
    },
    {
     "name": "stderr",
     "output_type": "stream",
     "text": [
      "100%|██████████| 54/54 [00:07<00:00,  7.28it/s]\n"
     ]
    },
    {
     "name": "stdout",
     "output_type": "stream",
     "text": [
      "Train Loss: 0.693275879378672\n",
      "Train Accuracy: 0.9840132594108582\n",
      "              precision    recall  f1-score   support\n",
      "Class 0        0.989979  0.993174  0.991574  41034236\n",
      "Class 1        0.870312  0.820024  0.844420   2292241\n",
      "weighted avg   0.983647  0.984013  0.983788  43326476\n",
      "macro avg      0.930145  0.906599  0.917997  43326476\n",
      "micro avg      0.984013  0.984013  0.984013  43326476\n",
      "Training Epoch 7/10\n",
      "Running an epoch on the train mode.\n"
     ]
    },
    {
     "name": "stderr",
     "output_type": "stream",
     "text": [
      "100%|██████████| 216/216 [01:17<00:00,  2.80it/s]\n"
     ]
    },
    {
     "name": "stdout",
     "output_type": "stream",
     "text": [
      "Train Loss: 0.6299261889178995\n",
      "Train Accuracy: 0.9847643971443176\n",
      "              precision    recall  f1-score    support\n",
      "Class 0        0.989691  0.993834  0.991758  159818160\n",
      "Class 1        0.922928  0.877024  0.899390   13454138\n",
      "weighted avg   0.984507  0.984764  0.984586  173272304\n",
      "macro avg      0.956309  0.935429  0.945574  173272304\n",
      "micro avg      0.984764  0.984764  0.984764  173272304\n",
      "Running an epoch on the validation mode.\n"
     ]
    },
    {
     "name": "stderr",
     "output_type": "stream",
     "text": [
      "100%|██████████| 54/54 [00:07<00:00,  7.11it/s]\n"
     ]
    },
    {
     "name": "stdout",
     "output_type": "stream",
     "text": [
      "Train Loss: 0.6962074183479503\n",
      "Train Accuracy: 0.9839538335800171\n",
      "              precision    recall  f1-score   support\n",
      "Class 0        0.989873  0.993219  0.991543  41034236\n",
      "Class 1        0.870794  0.818093  0.843621   2292241\n",
      "weighted avg   0.983573  0.983954  0.983717  43326476\n",
      "macro avg      0.930333  0.905656  0.917582  43326476\n",
      "micro avg      0.983954  0.983954  0.983954  43326476\n",
      "Training Epoch 8/10\n",
      "Running an epoch on the train mode.\n"
     ]
    },
    {
     "name": "stderr",
     "output_type": "stream",
     "text": [
      "100%|██████████| 216/216 [01:17<00:00,  2.79it/s]\n"
     ]
    },
    {
     "name": "stdout",
     "output_type": "stream",
     "text": [
      "Train Loss: 0.5614748262903757\n",
      "Train Accuracy: 0.9860560894012451\n",
      "              precision    recall  f1-score    support\n",
      "Class 0        0.990939  0.993971  0.992453  159818336\n",
      "Class 1        0.925677  0.892042  0.908548   13454138\n",
      "weighted avg   0.985872  0.986056  0.985938  173272480\n",
      "macro avg      0.958308  0.943006  0.950500  173272480\n",
      "micro avg      0.986056  0.986056  0.986056  173272480\n",
      "Running an epoch on the validation mode.\n"
     ]
    },
    {
     "name": "stderr",
     "output_type": "stream",
     "text": [
      "100%|██████████| 54/54 [00:07<00:00,  7.31it/s]\n"
     ]
    },
    {
     "name": "stdout",
     "output_type": "stream",
     "text": [
      "Train Loss: 0.7926287794554675\n",
      "Train Accuracy: 0.9802234768867493\n",
      "              precision    recall  f1-score   support\n",
      "Class 0        0.994424  0.984640  0.989508  41034240\n",
      "Class 1        0.766213  0.901161  0.828226   2292241\n",
      "weighted avg   0.982350  0.980224  0.980975  43326480\n",
      "macro avg      0.880318  0.942901  0.908867  43326480\n",
      "micro avg      0.980224  0.980224  0.980224  43326480\n",
      "Training Epoch 9/10\n",
      "Running an epoch on the train mode.\n"
     ]
    },
    {
     "name": "stderr",
     "output_type": "stream",
     "text": [
      "100%|██████████| 216/216 [01:16<00:00,  2.82it/s]\n"
     ]
    },
    {
     "name": "stdout",
     "output_type": "stream",
     "text": [
      "Train Loss: 0.545870426731805\n",
      "Train Accuracy: 0.9864357709884644\n",
      "              precision    recall  f1-score    support\n",
      "Class 0        0.991259  0.994060  0.992657  159818400\n",
      "Class 1        0.926987  0.895872  0.911164   13454138\n",
      "weighted avg   0.986268  0.986436  0.986330  173272544\n",
      "macro avg      0.959123  0.944966  0.951911  173272544\n",
      "micro avg      0.986436  0.986436  0.986436  173272544\n",
      "Running an epoch on the validation mode.\n"
     ]
    },
    {
     "name": "stderr",
     "output_type": "stream",
     "text": [
      "100%|██████████| 54/54 [00:07<00:00,  7.33it/s]\n"
     ]
    },
    {
     "name": "stdout",
     "output_type": "stream",
     "text": [
      "Train Loss: 0.7137030917737219\n",
      "Train Accuracy: 0.9835445880889893\n",
      "              precision    recall  f1-score   support\n",
      "Class 0        0.990434  0.992208  0.991320  41034248\n",
      "Class 1        0.855900  0.828448  0.841950   2292241\n",
      "weighted avg   0.983316  0.983545  0.983418  43326488\n",
      "macro avg      0.923167  0.910328  0.916635  43326488\n",
      "micro avg      0.983545  0.983545  0.983545  43326488\n",
      "{'model': 'UNet-256-5classes', 'loss': 'BCE-dice', 'weighted_loss': False, 'learning_rate': 0.0001, 'epochs': 10, 'patience': 3}\n",
      "{'model': 'UNet-256-5classes', 'loss': 'BCE-dice', 'weighted_loss': True, 'learning_rate': 0.0001, 'epochs': 10, 'patience': 3}\n",
      "{'model': 'UNet-64-5classes', 'loss': 'BCE-dice', 'weighted_loss': False, 'learning_rate': 0.0001, 'epochs': 10, 'patience': 3}\n",
      "{'model': 'UNet-64-5classes', 'loss': 'BCE-dice', 'weighted_loss': True, 'learning_rate': 0.0001, 'epochs': 10, 'patience': 3}\n",
      "{'model': 'UNetResNet34-224-5classes', 'loss': 'BCE-dice', 'weighted_loss': False, 'learning_rate': 0.0001, 'epochs': 10, 'patience': 3}\n",
      "{'model': 'UNetResNet34-224-5classes', 'loss': 'BCE-dice', 'weighted_loss': True, 'learning_rate': 0.0001, 'epochs': 10, 'patience': 3}\n",
      "{'model': 'UNetEfficientNetB0-224-5classes', 'loss': 'BCE-dice', 'weighted_loss': False, 'learning_rate': 0.0001, 'epochs': 10, 'patience': 3}\n",
      "{'model': 'UNetEfficientNetB0-224-5classes', 'loss': 'BCE-dice', 'weighted_loss': True, 'learning_rate': 0.0001, 'epochs': 10, 'patience': 3}\n",
      "{'model': 'UNetConvNext-224-5classes', 'loss': 'BCE-dice', 'weighted_loss': False, 'learning_rate': 0.0001, 'epochs': 10, 'patience': 3}\n",
      "{'model': 'UNetConvNext-224-5classes', 'loss': 'BCE-dice', 'weighted_loss': True, 'learning_rate': 0.0001, 'epochs': 10, 'patience': 3}\n",
      "{'patch_size': 224, 'num_classes': 2, 'normalization': 'normalized', 'data_aug': False}\n"
     ]
    },
    {
     "name": "stderr",
     "output_type": "stream",
     "text": [
      "1it [00:01,  1.21s/it]"
     ]
    },
    {
     "name": "stdout",
     "output_type": "stream",
     "text": [
      "(12, 1760, 1760) 0.1464993 0.1036741 37151964 37171200 (12, 1760, 1760)\n"
     ]
    },
    {
     "name": "stderr",
     "output_type": "stream",
     "text": [
      "2it [00:02,  1.01s/it]"
     ]
    },
    {
     "name": "stdout",
     "output_type": "stream",
     "text": [
      "(12, 1760, 1760) 0.15382166 0.100056104 37049244 37171200 (12, 1760, 1760)\n"
     ]
    },
    {
     "name": "stderr",
     "output_type": "stream",
     "text": [
      "3it [00:02,  1.29it/s]"
     ]
    },
    {
     "name": "stdout",
     "output_type": "stream",
     "text": [
      "(12, 1760, 1760) 0.15337734 0.10233981 37168464 37171200 (12, 1760, 1760)\n"
     ]
    },
    {
     "name": "stderr",
     "output_type": "stream",
     "text": [
      "4it [00:03,  1.57it/s]"
     ]
    },
    {
     "name": "stdout",
     "output_type": "stream",
     "text": [
      "(12, 1760, 1760) 0.15523647 0.104508504 37166280 37171200 (12, 1760, 1760)\n"
     ]
    },
    {
     "name": "stderr",
     "output_type": "stream",
     "text": [
      "5it [00:03,  1.78it/s]"
     ]
    },
    {
     "name": "stdout",
     "output_type": "stream",
     "text": [
      "(12, 1760, 1760) 0.15980513 0.10502401 37122504 37171200 (12, 1760, 1760)\n"
     ]
    },
    {
     "name": "stderr",
     "output_type": "stream",
     "text": [
      "6it [00:03,  1.95it/s]"
     ]
    },
    {
     "name": "stdout",
     "output_type": "stream",
     "text": [
      "(12, 1760, 1760) 0.17472944 0.115456775 37169148 37171200 (12, 1760, 1760)\n"
     ]
    },
    {
     "name": "stderr",
     "output_type": "stream",
     "text": [
      "7it [00:04,  2.06it/s]"
     ]
    },
    {
     "name": "stdout",
     "output_type": "stream",
     "text": [
      "(12, 1760, 1760) 0.16961475 0.08417609 36943128 37171200 (12, 1760, 1760)\n"
     ]
    },
    {
     "name": "stderr",
     "output_type": "stream",
     "text": [
      "8it [00:04,  2.17it/s]"
     ]
    },
    {
     "name": "stdout",
     "output_type": "stream",
     "text": [
      "(12, 1760, 1760) 0.16184907 0.10867045 37122240 37171200 (12, 1760, 1760)\n"
     ]
    },
    {
     "name": "stderr",
     "output_type": "stream",
     "text": [
      "9it [00:05,  2.21it/s]"
     ]
    },
    {
     "name": "stdout",
     "output_type": "stream",
     "text": [
      "(12, 1760, 1760) 0.16775194 0.08914498 36992052 37171200 (12, 1760, 1760)\n"
     ]
    },
    {
     "name": "stderr",
     "output_type": "stream",
     "text": [
      "10it [00:05,  2.26it/s]"
     ]
    },
    {
     "name": "stdout",
     "output_type": "stream",
     "text": [
      "(12, 1760, 1760) 0.17667852 0.10794595 37169856 37171200 (12, 1760, 1760)\n"
     ]
    },
    {
     "name": "stderr",
     "output_type": "stream",
     "text": [
      "11it [00:05,  2.30it/s]"
     ]
    },
    {
     "name": "stdout",
     "output_type": "stream",
     "text": [
      "(12, 1760, 1760) 0.1473128 0.09609526 37165452 37171200 (12, 1760, 1760)\n"
     ]
    },
    {
     "name": "stderr",
     "output_type": "stream",
     "text": [
      "12it [00:06,  2.35it/s]"
     ]
    },
    {
     "name": "stdout",
     "output_type": "stream",
     "text": [
      "(12, 1760, 1760) 0.16057967 0.11220201 37168788 37171200 (12, 1760, 1760)\n"
     ]
    },
    {
     "name": "stderr",
     "output_type": "stream",
     "text": [
      "13it [00:06,  2.38it/s]"
     ]
    },
    {
     "name": "stdout",
     "output_type": "stream",
     "text": [
      "(12, 1760, 1760) 0.17382897 0.108215794 37170432 37171200 (12, 1760, 1760)\n"
     ]
    },
    {
     "name": "stderr",
     "output_type": "stream",
     "text": [
      "14it [00:07,  2.41it/s]"
     ]
    },
    {
     "name": "stdout",
     "output_type": "stream",
     "text": [
      "(12, 1760, 1760) 0.1660019 0.10331295 37169868 37171200 (12, 1760, 1760)\n"
     ]
    },
    {
     "name": "stderr",
     "output_type": "stream",
     "text": [
      "15it [00:07,  2.43it/s]"
     ]
    },
    {
     "name": "stdout",
     "output_type": "stream",
     "text": [
      "(12, 1760, 1760) 0.14081055 0.0921364 37170120 37171200 (12, 1760, 1760)\n"
     ]
    },
    {
     "name": "stderr",
     "output_type": "stream",
     "text": [
      "16it [00:07,  2.43it/s]"
     ]
    },
    {
     "name": "stdout",
     "output_type": "stream",
     "text": [
      "(12, 1760, 1760) 0.16521332 0.11598557 37170240 37171200 (12, 1760, 1760)\n"
     ]
    },
    {
     "name": "stderr",
     "output_type": "stream",
     "text": [
      "17it [00:08,  2.43it/s]"
     ]
    },
    {
     "name": "stdout",
     "output_type": "stream",
     "text": [
      "(12, 1760, 1760) 0.17268077 0.1097607 37170672 37171200 (12, 1760, 1760)\n"
     ]
    },
    {
     "name": "stderr",
     "output_type": "stream",
     "text": [
      "18it [00:08,  2.42it/s]"
     ]
    },
    {
     "name": "stdout",
     "output_type": "stream",
     "text": [
      "(12, 1760, 1760) 0.16981871 0.1085163 37157340 37171200 (12, 1760, 1760)\n"
     ]
    },
    {
     "name": "stderr",
     "output_type": "stream",
     "text": [
      "19it [00:09,  2.43it/s]"
     ]
    },
    {
     "name": "stdout",
     "output_type": "stream",
     "text": [
      "(12, 1760, 1760) 0.1433078 0.092321664 37146576 37171200 (12, 1760, 1760)\n"
     ]
    },
    {
     "name": "stderr",
     "output_type": "stream",
     "text": [
      "20it [00:09,  2.44it/s]"
     ]
    },
    {
     "name": "stdout",
     "output_type": "stream",
     "text": [
      "(12, 1760, 1760) 0.14462931 0.09223833 37166904 37171200 (12, 1760, 1760)\n"
     ]
    },
    {
     "name": "stderr",
     "output_type": "stream",
     "text": [
      "21it [00:10,  2.45it/s]"
     ]
    },
    {
     "name": "stdout",
     "output_type": "stream",
     "text": [
      "(12, 1760, 1760) 0.15976056 0.10168667 37162320 37171200 (12, 1760, 1760)\n"
     ]
    },
    {
     "name": "stderr",
     "output_type": "stream",
     "text": [
      "22it [00:10,  2.45it/s]"
     ]
    },
    {
     "name": "stdout",
     "output_type": "stream",
     "text": [
      "(12, 1760, 1760) 0.16497119 0.108591564 37167348 37171200 (12, 1760, 1760)\n"
     ]
    },
    {
     "name": "stderr",
     "output_type": "stream",
     "text": [
      "23it [00:10,  2.45it/s]"
     ]
    },
    {
     "name": "stdout",
     "output_type": "stream",
     "text": [
      "(12, 1760, 1760) 0.16207728 0.11367969 37170108 37171200 (12, 1760, 1760)\n"
     ]
    },
    {
     "name": "stderr",
     "output_type": "stream",
     "text": [
      "24it [00:11,  2.13it/s]"
     ]
    },
    {
     "name": "stdout",
     "output_type": "stream",
     "text": [
      "(12, 1760, 1760) 0.15193169 0.101455934 37154676 37171200 (12, 1760, 1760)\n",
      "0.1600930142712587 0.10408098505604475\n",
      "224\n"
     ]
    },
    {
     "name": "stderr",
     "output_type": "stream",
     "text": [
      "\n"
     ]
    },
    {
     "name": "stdout",
     "output_type": "stream",
     "text": [
      "{'model': 'UNet-256-2classes', 'loss': 'BCE-dice', 'weighted_loss': False, 'learning_rate': 0.0001, 'epochs': 10, 'patience': 3}\n",
      "{'model': 'UNet-256-2classes', 'loss': 'BCE-dice', 'weighted_loss': True, 'learning_rate': 0.0001, 'epochs': 10, 'patience': 3}\n",
      "{'model': 'UNet-64-2classes', 'loss': 'BCE-dice', 'weighted_loss': False, 'learning_rate': 0.0001, 'epochs': 10, 'patience': 3}\n",
      "{'model': 'UNet-64-2classes', 'loss': 'BCE-dice', 'weighted_loss': True, 'learning_rate': 0.0001, 'epochs': 10, 'patience': 3}\n",
      "{'model': 'UNetResNet34-224-2classes', 'loss': 'BCE-dice', 'weighted_loss': False, 'learning_rate': 0.0001, 'epochs': 10, 'patience': 3}\n",
      "models/UNetResNet34-224-2classes_BCE-dice_normalized_noaug.pth\n",
      "Model is already saved\n",
      "Loading it e continue training...\n",
      "LOSS mode: BCE-dice\n",
      "Training for epoch 8 until epoch 10\n",
      "Training Epoch 8/10\n",
      "Running an epoch on the train mode.\n"
     ]
    },
    {
     "name": "stderr",
     "output_type": "stream",
     "text": [
      "100%|██████████| 216/216 [01:01<00:00,  3.53it/s]\n"
     ]
    },
    {
     "name": "stdout",
     "output_type": "stream",
     "text": [
      "Train Loss: 0.6442705867467103\n",
      "Train Accuracy: 0.985663115978241\n",
      "              precision    recall  f1-score    support\n",
      "Class 0        0.990669  0.993816  0.992240  159818352\n",
      "Class 1        0.923667  0.888811  0.905904   13454138\n",
      "weighted avg   0.985467  0.985663  0.985537  173272496\n",
      "macro avg      0.957168  0.941314  0.949072  173272496\n",
      "micro avg      0.985663  0.985663  0.985663  173272496\n",
      "Running an epoch on the validation mode.\n"
     ]
    },
    {
     "name": "stderr",
     "output_type": "stream",
     "text": [
      "100%|██████████| 54/54 [00:09<00:00,  5.58it/s]\n"
     ]
    },
    {
     "name": "stdout",
     "output_type": "stream",
     "text": [
      "Train Loss: 0.5670360981452244\n",
      "Train Accuracy: 0.9868510961532593\n",
      "              precision    recall  f1-score   support\n",
      "Class 0        0.993841  0.992266  0.993053  41034216\n",
      "Class 1        0.865364  0.889923  0.877472   2292241\n",
      "weighted avg   0.987044  0.986851  0.986938  43326456\n",
      "macro avg      0.929603  0.941094  0.935262  43326456\n",
      "micro avg      0.986851  0.986851  0.986851  43326456\n",
      "Training Epoch 9/10\n",
      "Running an epoch on the train mode.\n"
     ]
    },
    {
     "name": "stderr",
     "output_type": "stream",
     "text": [
      "100%|██████████| 216/216 [01:00<00:00,  3.58it/s]\n"
     ]
    },
    {
     "name": "stdout",
     "output_type": "stream",
     "text": [
      "Train Loss: 0.5060110402603945\n",
      "Train Accuracy: 0.9882755875587463\n",
      "              precision    recall  f1-score    support\n",
      "Class 0        0.992727  0.994575  0.993650  159818288\n",
      "Class 1        0.934102  0.913444  0.923658   13454138\n",
      "weighted avg   0.988175  0.988276  0.988216  173272432\n",
      "macro avg      0.963415  0.954010  0.958654  173272432\n",
      "micro avg      0.988276  0.988276  0.988276  173272432\n",
      "Running an epoch on the validation mode.\n"
     ]
    },
    {
     "name": "stderr",
     "output_type": "stream",
     "text": [
      "100%|██████████| 54/54 [00:09<00:00,  5.86it/s]\n"
     ]
    },
    {
     "name": "stdout",
     "output_type": "stream",
     "text": [
      "Train Loss: 0.5495792105793953\n",
      "Train Accuracy: 0.9866188168525696\n",
      "              precision    recall  f1-score   support\n",
      "Class 0        0.991170  0.994733  0.992948  41034236\n",
      "Class 1        0.899232  0.841361  0.869334   2292241\n",
      "weighted avg   0.986306  0.986619  0.986408  43326476\n",
      "macro avg      0.945201  0.918047  0.931141  43326476\n",
      "micro avg      0.986619  0.986619  0.986619  43326476\n",
      "Training Epoch 10/10\n",
      "Running an epoch on the train mode.\n"
     ]
    },
    {
     "name": "stderr",
     "output_type": "stream",
     "text": [
      "100%|██████████| 216/216 [01:00<00:00,  3.57it/s]\n"
     ]
    },
    {
     "name": "stdout",
     "output_type": "stream",
     "text": [
      "Train Loss: 0.4358254761814519\n",
      "Train Accuracy: 0.9897057414054871\n",
      "              precision    recall  f1-score    support\n",
      "Class 0        0.993840  0.995007  0.994423  159818288\n",
      "Class 1        0.939847  0.926736  0.933245   13454138\n",
      "weighted avg   0.989647  0.989706  0.989672  173272432\n",
      "macro avg      0.966843  0.960871  0.963834  173272432\n",
      "micro avg      0.989706  0.989706  0.989706  173272432\n",
      "Running an epoch on the validation mode.\n"
     ]
    },
    {
     "name": "stderr",
     "output_type": "stream",
     "text": [
      "100%|██████████| 54/54 [00:09<00:00,  5.92it/s]\n"
     ]
    },
    {
     "name": "stdout",
     "output_type": "stream",
     "text": [
      "Train Loss: 0.628563473208083\n",
      "Train Accuracy: 0.9852645993232727\n",
      "              precision    recall  f1-score   support\n",
      "Class 0        0.987498  0.997064  0.992258  41034232\n",
      "Class 1        0.936421  0.774036  0.847521   2292241\n",
      "weighted avg   0.984796  0.985265  0.984601  43326472\n",
      "macro avg      0.961960  0.885550  0.919889  43326472\n",
      "micro avg      0.985265  0.985265  0.985265  43326472\n",
      "{'model': 'UNetResNet34-224-2classes', 'loss': 'BCE-dice', 'weighted_loss': True, 'learning_rate': 0.0001, 'epochs': 10, 'patience': 3}\n",
      "models/UNetResNet34-224-2classes_BCE-dice-w_normalized_noaug.pth\n",
      "Model is already saved\n",
      "{'model': 'UNetEfficientNetB0-224-2classes', 'loss': 'BCE-dice', 'weighted_loss': False, 'learning_rate': 0.0001, 'epochs': 10, 'patience': 3}\n",
      "models/UNetEfficientNetB0-224-2classes_BCE-dice_normalized_noaug.pth\n",
      "Model is already saved\n",
      "{'model': 'UNetEfficientNetB0-224-2classes', 'loss': 'BCE-dice', 'weighted_loss': True, 'learning_rate': 0.0001, 'epochs': 10, 'patience': 3}\n",
      "models/UNetEfficientNetB0-224-2classes_BCE-dice-w_normalized_noaug.pth\n",
      "Model is already saved\n",
      "{'model': 'UNetConvNext-224-2classes', 'loss': 'BCE-dice', 'weighted_loss': False, 'learning_rate': 0.0001, 'epochs': 10, 'patience': 3}\n",
      "models/UNetConvNext-224-2classes_BCE-dice_normalized_noaug.pth\n",
      "Model is already saved\n",
      "Loading it e continue training...\n",
      "LOSS mode: BCE-dice\n",
      "Training for epoch 6 until epoch 10\n",
      "Training Epoch 6/10\n",
      "Running an epoch on the train mode.\n"
     ]
    },
    {
     "name": "stderr",
     "output_type": "stream",
     "text": [
      "100%|██████████| 216/216 [01:29<00:00,  2.40it/s]\n"
     ]
    },
    {
     "name": "stdout",
     "output_type": "stream",
     "text": [
      "Train Loss: 0.6944936050998943\n",
      "Train Accuracy: 0.9848650693893433\n",
      "              precision    recall  f1-score    support\n",
      "Class 0        0.990586  0.993028  0.991806  159818288\n",
      "Class 1        0.914681  0.887904  0.901093   13454138\n",
      "weighted avg   0.984693  0.984865  0.984762  173272432\n",
      "macro avg      0.952634  0.940466  0.946450  173272432\n",
      "micro avg      0.984865  0.984865  0.984865  173272432\n",
      "Running an epoch on the validation mode.\n"
     ]
    },
    {
     "name": "stderr",
     "output_type": "stream",
     "text": [
      "100%|██████████| 54/54 [00:10<00:00,  4.95it/s]\n"
     ]
    },
    {
     "name": "stdout",
     "output_type": "stream",
     "text": [
      "Train Loss: 0.6268314113495527\n",
      "Train Accuracy: 0.986163854598999\n",
      "              precision    recall  f1-score   support\n",
      "Class 0        0.990505  0.994928  0.992712  41034228\n",
      "Class 1        0.901318  0.829270  0.863794   2292241\n",
      "weighted avg   0.985787  0.986164  0.985891  43326468\n",
      "macro avg      0.945911  0.912099  0.928253  43326468\n",
      "micro avg      0.986164  0.986164  0.986164  43326468\n",
      "Training Epoch 7/10\n",
      "Running an epoch on the train mode.\n"
     ]
    },
    {
     "name": "stderr",
     "output_type": "stream",
     "text": [
      "100%|██████████| 216/216 [01:30<00:00,  2.40it/s]\n"
     ]
    },
    {
     "name": "stdout",
     "output_type": "stream",
     "text": [
      "Train Loss: 0.5647848523394378\n",
      "Train Accuracy: 0.9867796897888184\n",
      "              precision    recall  f1-score    support\n",
      "Class 0        0.992012  0.993668  0.992839  159818336\n",
      "Class 1        0.923264  0.904952  0.914017   13454138\n",
      "weighted avg   0.986674  0.986780  0.986719  173272480\n",
      "macro avg      0.957638  0.949310  0.953428  173272480\n",
      "micro avg      0.986780  0.986780  0.986780  173272480\n",
      "Running an epoch on the validation mode.\n"
     ]
    },
    {
     "name": "stderr",
     "output_type": "stream",
     "text": [
      "100%|██████████| 54/54 [00:10<00:00,  4.92it/s]\n"
     ]
    },
    {
     "name": "stdout",
     "output_type": "stream",
     "text": [
      "Train Loss: 0.6229908318707237\n",
      "Train Accuracy: 0.9858629703521729\n",
      "              precision    recall  f1-score   support\n",
      "Class 0        0.989279  0.995866  0.992561  41034244\n",
      "Class 1        0.915980  0.806795  0.857928   2292241\n",
      "weighted avg   0.985401  0.985863  0.985439  43326484\n",
      "macro avg      0.952630  0.901331  0.925245  43326484\n",
      "micro avg      0.985863  0.985863  0.985863  43326484\n",
      "Training Epoch 8/10\n",
      "Running an epoch on the train mode.\n"
     ]
    },
    {
     "name": "stderr",
     "output_type": "stream",
     "text": [
      "100%|██████████| 216/216 [01:31<00:00,  2.36it/s]\n"
     ]
    },
    {
     "name": "stdout",
     "output_type": "stream",
     "text": [
      "Train Loss: 0.4811847705256056\n",
      "Train Accuracy: 0.988642692565918\n",
      "              precision    recall  f1-score    support\n",
      "Class 0        0.992988  0.994711  0.993849  159818128\n",
      "Class 1        0.935846  0.916566  0.926106   13454138\n",
      "weighted avg   0.988551  0.988643  0.988589  173272272\n",
      "macro avg      0.964417  0.955638  0.959977  173272272\n",
      "micro avg      0.988643  0.988643  0.988643  173272272\n",
      "Running an epoch on the validation mode.\n"
     ]
    },
    {
     "name": "stderr",
     "output_type": "stream",
     "text": [
      "100%|██████████| 54/54 [00:11<00:00,  4.74it/s]\n"
     ]
    },
    {
     "name": "stdout",
     "output_type": "stream",
     "text": [
      "Train Loss: 0.8563365934899559\n",
      "Train Accuracy: 0.9790927171707153\n",
      "              precision    recall  f1-score   support\n",
      "Class 0        0.995125  0.982739  0.988893  41034248\n",
      "Class 1        0.747305  0.913826  0.822219   2292241\n",
      "weighted avg   0.982014  0.979093  0.980075  43326488\n",
      "macro avg      0.871215  0.948282  0.905556  43326488\n",
      "micro avg      0.979093  0.979093  0.979093  43326488\n",
      "Training Epoch 9/10\n",
      "Running an epoch on the train mode.\n"
     ]
    },
    {
     "name": "stderr",
     "output_type": "stream",
     "text": [
      "100%|██████████| 216/216 [01:31<00:00,  2.35it/s]\n"
     ]
    },
    {
     "name": "stdout",
     "output_type": "stream",
     "text": [
      "Train Loss: 0.4399264168546156\n",
      "Train Accuracy: 0.9895236492156982\n",
      "              precision    recall  f1-score    support\n",
      "Class 0        0.993715  0.994935  0.994324  159818144\n",
      "Class 1        0.938942  0.925246  0.932043   13454138\n",
      "weighted avg   0.989462  0.989524  0.989488  173272288\n",
      "macro avg      0.966328  0.960091  0.963184  173272288\n",
      "micro avg      0.989524  0.989524  0.989524  173272288\n",
      "Running an epoch on the validation mode.\n"
     ]
    },
    {
     "name": "stderr",
     "output_type": "stream",
     "text": [
      "100%|██████████| 54/54 [00:12<00:00,  4.37it/s]\n"
     ]
    },
    {
     "name": "stdout",
     "output_type": "stream",
     "text": [
      "Train Loss: 0.6213880460019465\n",
      "Train Accuracy: 0.98481684923172\n",
      "              precision    recall  f1-score   support\n",
      "Class 0        0.993234  0.990717  0.991974  41034252\n",
      "Class 1        0.841040  0.879187  0.859690   2292241\n",
      "weighted avg   0.985182  0.984817  0.984976  43326492\n",
      "macro avg      0.917137  0.934952  0.925832  43326492\n",
      "micro avg      0.984817  0.984817  0.984817  43326492\n",
      "Training Epoch 10/10\n",
      "Running an epoch on the train mode.\n"
     ]
    },
    {
     "name": "stderr",
     "output_type": "stream",
     "text": [
      "100%|██████████| 216/216 [01:32<00:00,  2.33it/s]\n"
     ]
    },
    {
     "name": "stdout",
     "output_type": "stream",
     "text": [
      "Train Loss: 0.38541571074165404\n",
      "Train Accuracy: 0.9906793832778931\n",
      "              precision    recall  f1-score    support\n",
      "Class 0        0.994381  0.995521  0.994950  159818272\n",
      "Class 1        0.946057  0.933171  0.939570   13454138\n",
      "weighted avg   0.990628  0.990679  0.990650  173272416\n",
      "macro avg      0.970219  0.964346  0.967260  173272416\n",
      "micro avg      0.990679  0.990679  0.990679  173272416\n",
      "Running an epoch on the validation mode.\n"
     ]
    },
    {
     "name": "stderr",
     "output_type": "stream",
     "text": [
      "100%|██████████| 54/54 [00:11<00:00,  4.76it/s]\n"
     ]
    },
    {
     "name": "stdout",
     "output_type": "stream",
     "text": [
      "Train Loss: 0.5933424395129636\n",
      "Train Accuracy: 0.9859815835952759\n",
      "              precision    recall  f1-score   support\n",
      "Class 0        0.992284  0.992919  0.992602  41034248\n",
      "Class 1        0.871777  0.861787  0.866753   2292241\n",
      "weighted avg   0.985909  0.985982  0.985944  43326488\n",
      "macro avg      0.932031  0.927353  0.929678  43326488\n",
      "micro avg      0.985982  0.985982  0.985982  43326488\n",
      "{'model': 'UNetConvNext-224-2classes', 'loss': 'BCE-dice', 'weighted_loss': True, 'learning_rate': 0.0001, 'epochs': 10, 'patience': 3}\n",
      "models/UNetConvNext-224-2classes_BCE-dice-w_normalized_noaug.pth\n",
      "Model is already saved\n",
      "Loading it e continue training...\n",
      "LOSS mode: BCE-dice\n",
      "Training for epoch 6 until epoch 10\n",
      "Training Epoch 6/10\n",
      "Running an epoch on the train mode.\n"
     ]
    },
    {
     "name": "stderr",
     "output_type": "stream",
     "text": [
      "100%|██████████| 216/216 [01:34<00:00,  2.30it/s]\n"
     ]
    },
    {
     "name": "stdout",
     "output_type": "stream",
     "text": [
      "Train Loss: 0.7172577341121656\n",
      "Train Accuracy: 0.9839858412742615\n",
      "              precision    recall  f1-score    support\n",
      "Class 0        0.990005  0.992660  0.991331  159818144\n",
      "Class 1        0.909936  0.880954  0.895210   13454138\n",
      "weighted avg   0.983788  0.983986  0.983867  173272288\n",
      "macro avg      0.949971  0.936807  0.943270  173272288\n",
      "micro avg      0.983986  0.983986  0.983986  173272288\n",
      "Running an epoch on the validation mode.\n"
     ]
    },
    {
     "name": "stderr",
     "output_type": "stream",
     "text": [
      "100%|██████████| 54/54 [00:11<00:00,  4.74it/s]\n"
     ]
    },
    {
     "name": "stdout",
     "output_type": "stream",
     "text": [
      "Train Loss: 0.6471712241570154\n",
      "Train Accuracy: 0.9852097630500793\n",
      "              precision    recall  f1-score   support\n",
      "Class 0        0.991085  0.993319  0.992200  41034244\n",
      "Class 1        0.875368  0.840047  0.857344   2292241\n",
      "weighted avg   0.984963  0.985210  0.985066  43326484\n",
      "macro avg      0.933227  0.916683  0.924772  43326484\n",
      "micro avg      0.985210  0.985210  0.985210  43326484\n",
      "Training Epoch 7/10\n",
      "Running an epoch on the train mode.\n"
     ]
    },
    {
     "name": "stderr",
     "output_type": "stream",
     "text": [
      "100%|██████████| 216/216 [01:32<00:00,  2.33it/s]\n"
     ]
    },
    {
     "name": "stdout",
     "output_type": "stream",
     "text": [
      "Train Loss: 0.5750356658051411\n",
      "Train Accuracy: 0.98634934425354\n",
      "              precision    recall  f1-score    support\n",
      "Class 0        0.991510  0.993709  0.992608  159818336\n",
      "Class 1        0.923247  0.898928  0.910925   13454138\n",
      "weighted avg   0.986210  0.986349  0.986266  173272480\n",
      "macro avg      0.957379  0.946318  0.951767  173272480\n",
      "micro avg      0.986349  0.986349  0.986349  173272480\n",
      "Running an epoch on the validation mode.\n"
     ]
    },
    {
     "name": "stderr",
     "output_type": "stream",
     "text": [
      "100%|██████████| 54/54 [00:11<00:00,  4.74it/s]\n"
     ]
    },
    {
     "name": "stdout",
     "output_type": "stream",
     "text": [
      "Train Loss: 0.7269130120122874\n",
      "Train Accuracy: 0.9842947125434875\n",
      "              precision    recall  f1-score   support\n",
      "Class 0        0.987005  0.996538  0.991749  41034256\n",
      "Class 1        0.925076  0.765118  0.837528   2292241\n",
      "weighted avg   0.983728  0.984295  0.983589  43326496\n",
      "macro avg      0.956040  0.880828  0.914638  43326496\n",
      "micro avg      0.984295  0.984295  0.984295  43326496\n",
      "Training Epoch 8/10\n",
      "Running an epoch on the train mode.\n"
     ]
    },
    {
     "name": "stderr",
     "output_type": "stream",
     "text": [
      "100%|██████████| 216/216 [01:33<00:00,  2.31it/s]\n"
     ]
    },
    {
     "name": "stdout",
     "output_type": "stream",
     "text": [
      "Train Loss: 0.5445068886296617\n",
      "Train Accuracy: 0.9868621826171875\n",
      "              precision    recall  f1-score    support\n",
      "Class 0        0.991919  0.993853  0.992885  159818224\n",
      "Class 1        0.925246  0.903824  0.914410   13454138\n",
      "weighted avg   0.986742  0.986862  0.986791  173272368\n",
      "macro avg      0.958583  0.948838  0.953647  173272368\n",
      "micro avg      0.986862  0.986862  0.986862  173272368\n",
      "Running an epoch on the validation mode.\n"
     ]
    },
    {
     "name": "stderr",
     "output_type": "stream",
     "text": [
      "100%|██████████| 54/54 [00:11<00:00,  4.71it/s]\n"
     ]
    },
    {
     "name": "stdout",
     "output_type": "stream",
     "text": [
      "Train Loss: 0.6362233266786292\n",
      "Train Accuracy: 0.9851106405258179\n",
      "              precision    recall  f1-score   support\n",
      "Class 0        0.990625  0.993683  0.992152  41034240\n",
      "Class 1        0.880300  0.831658  0.855288   2292241\n",
      "weighted avg   0.984788  0.985111  0.984911  43326480\n",
      "macro avg      0.935463  0.912670  0.923720  43326480\n",
      "micro avg      0.985111  0.985111  0.985111  43326480\n",
      "Training Epoch 9/10\n",
      "Running an epoch on the train mode.\n"
     ]
    },
    {
     "name": "stderr",
     "output_type": "stream",
     "text": [
      "100%|██████████| 216/216 [01:32<00:00,  2.33it/s]\n"
     ]
    },
    {
     "name": "stdout",
     "output_type": "stream",
     "text": [
      "Train Loss: 0.46730382340373816\n",
      "Train Accuracy: 0.9886922240257263\n",
      "              precision    recall  f1-score    support\n",
      "Class 0        0.993262  0.994487  0.993874  159818224\n",
      "Class 1        0.933535  0.919863  0.926648   13454138\n",
      "weighted avg   0.988624  0.988692  0.988654  173272368\n",
      "macro avg      0.963398  0.957175  0.960261  173272368\n",
      "micro avg      0.988692  0.988692  0.988692  173272368\n",
      "Running an epoch on the validation mode.\n"
     ]
    },
    {
     "name": "stderr",
     "output_type": "stream",
     "text": [
      "100%|██████████| 54/54 [00:11<00:00,  4.69it/s]\n"
     ]
    },
    {
     "name": "stdout",
     "output_type": "stream",
     "text": [
      "Train Loss: 0.6778892898173244\n",
      "Train Accuracy: 0.9846011996269226\n",
      "              precision    recall  f1-score   support\n",
      "Class 0        0.992210  0.991526  0.991868  41034224\n",
      "Class 1        0.850150  0.860641  0.855364   2292241\n",
      "weighted avg   0.984694  0.984601  0.984646  43326464\n",
      "macro avg      0.921180  0.926084  0.923616  43326464\n",
      "micro avg      0.984601  0.984601  0.984601  43326464\n",
      "Training Epoch 10/10\n",
      "Running an epoch on the train mode.\n"
     ]
    },
    {
     "name": "stderr",
     "output_type": "stream",
     "text": [
      "100%|██████████| 216/216 [01:34<00:00,  2.29it/s]\n"
     ]
    },
    {
     "name": "stdout",
     "output_type": "stream",
     "text": [
      "Train Loss: 0.4232741152798688\n",
      "Train Accuracy: 0.989617109298706\n",
      "              precision    recall  f1-score    support\n",
      "Class 0        0.993726  0.995025  0.994375  159818128\n",
      "Class 1        0.939970  0.925378  0.932617   13454138\n",
      "weighted avg   0.989552  0.989617  0.989580  173272272\n",
      "macro avg      0.966848  0.960201  0.963496  173272272\n",
      "micro avg      0.989617  0.989617  0.989617  173272272\n",
      "Running an epoch on the validation mode.\n"
     ]
    },
    {
     "name": "stderr",
     "output_type": "stream",
     "text": [
      "100%|██████████| 54/54 [00:11<00:00,  4.59it/s]\n"
     ]
    },
    {
     "name": "stdout",
     "output_type": "stream",
     "text": [
      "Train Loss: 0.6255403327997084\n",
      "Train Accuracy: 0.9853901863098145\n",
      "              precision    recall  f1-score   support\n",
      "Class 0        0.989434  0.995202  0.992310  41034232\n",
      "Class 1        0.904100  0.809748  0.854327   2292241\n",
      "weighted avg   0.984919  0.985390  0.985009  43326472\n",
      "macro avg      0.946767  0.902475  0.923318  43326472\n",
      "micro avg      0.985390  0.985390  0.985390  43326472\n",
      "{'model': 'UNet-256-5classes', 'loss': 'BCE-dice', 'weighted_loss': False, 'learning_rate': 0.0001, 'epochs': 10, 'patience': 3}\n",
      "{'model': 'UNet-256-5classes', 'loss': 'BCE-dice', 'weighted_loss': True, 'learning_rate': 0.0001, 'epochs': 10, 'patience': 3}\n",
      "{'model': 'UNet-64-5classes', 'loss': 'BCE-dice', 'weighted_loss': False, 'learning_rate': 0.0001, 'epochs': 10, 'patience': 3}\n",
      "{'model': 'UNet-64-5classes', 'loss': 'BCE-dice', 'weighted_loss': True, 'learning_rate': 0.0001, 'epochs': 10, 'patience': 3}\n",
      "{'model': 'UNetResNet34-224-5classes', 'loss': 'BCE-dice', 'weighted_loss': False, 'learning_rate': 0.0001, 'epochs': 10, 'patience': 3}\n",
      "{'model': 'UNetResNet34-224-5classes', 'loss': 'BCE-dice', 'weighted_loss': True, 'learning_rate': 0.0001, 'epochs': 10, 'patience': 3}\n",
      "{'model': 'UNetEfficientNetB0-224-5classes', 'loss': 'BCE-dice', 'weighted_loss': False, 'learning_rate': 0.0001, 'epochs': 10, 'patience': 3}\n",
      "{'model': 'UNetEfficientNetB0-224-5classes', 'loss': 'BCE-dice', 'weighted_loss': True, 'learning_rate': 0.0001, 'epochs': 10, 'patience': 3}\n",
      "{'model': 'UNetConvNext-224-5classes', 'loss': 'BCE-dice', 'weighted_loss': False, 'learning_rate': 0.0001, 'epochs': 10, 'patience': 3}\n",
      "{'model': 'UNetConvNext-224-5classes', 'loss': 'BCE-dice', 'weighted_loss': True, 'learning_rate': 0.0001, 'epochs': 10, 'patience': 3}\n",
      "{'patch_size': 224, 'num_classes': 5, 'normalization': 'unnormalized', 'data_aug': False}\n",
      "224\n",
      "{'model': 'UNet-256-2classes', 'loss': 'BCE-dice', 'weighted_loss': False, 'learning_rate': 0.0001, 'epochs': 10, 'patience': 3}\n",
      "{'model': 'UNet-256-2classes', 'loss': 'BCE-dice', 'weighted_loss': True, 'learning_rate': 0.0001, 'epochs': 10, 'patience': 3}\n",
      "{'model': 'UNet-64-2classes', 'loss': 'BCE-dice', 'weighted_loss': False, 'learning_rate': 0.0001, 'epochs': 10, 'patience': 3}\n",
      "{'model': 'UNet-64-2classes', 'loss': 'BCE-dice', 'weighted_loss': True, 'learning_rate': 0.0001, 'epochs': 10, 'patience': 3}\n",
      "{'model': 'UNetResNet34-224-2classes', 'loss': 'BCE-dice', 'weighted_loss': False, 'learning_rate': 0.0001, 'epochs': 10, 'patience': 3}\n",
      "{'model': 'UNetResNet34-224-2classes', 'loss': 'BCE-dice', 'weighted_loss': True, 'learning_rate': 0.0001, 'epochs': 10, 'patience': 3}\n",
      "{'model': 'UNetEfficientNetB0-224-2classes', 'loss': 'BCE-dice', 'weighted_loss': False, 'learning_rate': 0.0001, 'epochs': 10, 'patience': 3}\n",
      "{'model': 'UNetEfficientNetB0-224-2classes', 'loss': 'BCE-dice', 'weighted_loss': True, 'learning_rate': 0.0001, 'epochs': 10, 'patience': 3}\n",
      "{'model': 'UNetConvNext-224-2classes', 'loss': 'BCE-dice', 'weighted_loss': False, 'learning_rate': 0.0001, 'epochs': 10, 'patience': 3}\n",
      "{'model': 'UNetConvNext-224-2classes', 'loss': 'BCE-dice', 'weighted_loss': True, 'learning_rate': 0.0001, 'epochs': 10, 'patience': 3}\n",
      "{'model': 'UNet-256-5classes', 'loss': 'BCE-dice', 'weighted_loss': False, 'learning_rate': 0.0001, 'epochs': 10, 'patience': 3}\n",
      "{'model': 'UNet-256-5classes', 'loss': 'BCE-dice', 'weighted_loss': True, 'learning_rate': 0.0001, 'epochs': 10, 'patience': 3}\n",
      "{'model': 'UNet-64-5classes', 'loss': 'BCE-dice', 'weighted_loss': False, 'learning_rate': 0.0001, 'epochs': 10, 'patience': 3}\n",
      "{'model': 'UNet-64-5classes', 'loss': 'BCE-dice', 'weighted_loss': True, 'learning_rate': 0.0001, 'epochs': 10, 'patience': 3}\n",
      "{'model': 'UNetResNet34-224-5classes', 'loss': 'BCE-dice', 'weighted_loss': False, 'learning_rate': 0.0001, 'epochs': 10, 'patience': 3}\n",
      "models/UNetResNet34-224-5classes_BCE-dice_noaug.pth\n",
      "Model is already saved\n",
      "Loading it e continue training...\n"
     ]
    },
    {
     "ename": "RuntimeError",
     "evalue": "Error(s) in loading state_dict for UNetResNet34:\n\tsize mismatch for upconv1.weight: copying a param with shape torch.Size([64, 64, 2, 2]) from checkpoint, the shape in current model is torch.Size([64, 64, 1, 1]).",
     "output_type": "error",
     "traceback": [
      "\u001b[0;31m---------------------------------------------------------------------------\u001b[0m",
      "\u001b[0;31mRuntimeError\u001b[0m                              Traceback (most recent call last)",
      "Cell \u001b[0;32mIn[4], line 142\u001b[0m\n\u001b[1;32m    139\u001b[0m     \u001b[38;5;28;01mcontinue\u001b[39;00m\n\u001b[1;32m    141\u001b[0m optimizer \u001b[38;5;241m=\u001b[39m optim\u001b[38;5;241m.\u001b[39mAdam(model\u001b[38;5;241m.\u001b[39mparameters(), lr\u001b[38;5;241m=\u001b[39mmodel_params[\u001b[38;5;124m'\u001b[39m\u001b[38;5;124mlearning_rate\u001b[39m\u001b[38;5;124m'\u001b[39m], weight_decay\u001b[38;5;241m=\u001b[39m\u001b[38;5;241m1e-5\u001b[39m)\n\u001b[0;32m--> 142\u001b[0m \u001b[43mtrain\u001b[49m\u001b[38;5;241;43m.\u001b[39;49m\u001b[43mtrain_model\u001b[49m\u001b[43m(\u001b[49m\u001b[43mmodel\u001b[49m\u001b[43m,\u001b[49m\u001b[43m \u001b[49m\n\u001b[1;32m    143\u001b[0m \u001b[43m                    \u001b[49m\u001b[43mtrain_loader\u001b[49m\u001b[43m,\u001b[49m\u001b[43m \u001b[49m\n\u001b[1;32m    144\u001b[0m \u001b[43m                    \u001b[49m\u001b[43mval_loader\u001b[49m\u001b[43m,\u001b[49m\u001b[43m \u001b[49m\n\u001b[1;32m    145\u001b[0m \u001b[43m                    \u001b[49m\u001b[43mepochs\u001b[49m\u001b[38;5;241;43m=\u001b[39;49m\u001b[43mmodel_params\u001b[49m\u001b[43m[\u001b[49m\u001b[38;5;124;43m'\u001b[39;49m\u001b[38;5;124;43mepochs\u001b[39;49m\u001b[38;5;124;43m'\u001b[39;49m\u001b[43m]\u001b[49m\u001b[43m,\u001b[49m\u001b[43m \u001b[49m\n\u001b[1;32m    146\u001b[0m \u001b[43m                    \u001b[49m\u001b[43mloss_mode\u001b[49m\u001b[43m \u001b[49m\u001b[38;5;241;43m=\u001b[39;49m\u001b[43m \u001b[49m\u001b[43mmodel_params\u001b[49m\u001b[43m[\u001b[49m\u001b[38;5;124;43m'\u001b[39;49m\u001b[38;5;124;43mloss\u001b[39;49m\u001b[38;5;124;43m'\u001b[39;49m\u001b[43m]\u001b[49m\u001b[43m,\u001b[49m\n\u001b[1;32m    147\u001b[0m \u001b[43m                    \u001b[49m\u001b[43moptimizer\u001b[49m\u001b[43m \u001b[49m\u001b[38;5;241;43m=\u001b[39;49m\u001b[43m \u001b[49m\u001b[43moptimizer\u001b[49m\u001b[43m,\u001b[49m\u001b[43m \u001b[49m\n\u001b[1;32m    148\u001b[0m \u001b[43m                    \u001b[49m\u001b[43mdevice\u001b[49m\u001b[43m \u001b[49m\u001b[38;5;241;43m=\u001b[39;49m\u001b[43m \u001b[49m\u001b[43mdevice\u001b[49m\u001b[43m,\u001b[49m\n\u001b[1;32m    149\u001b[0m \u001b[43m                    \u001b[49m\u001b[43mnum_classes\u001b[49m\u001b[43m \u001b[49m\u001b[38;5;241;43m=\u001b[39;49m\u001b[43m \u001b[49m\u001b[43mnum_classes\u001b[49m\u001b[43m,\u001b[49m\u001b[43m \u001b[49m\n\u001b[1;32m    150\u001b[0m \u001b[43m                    \u001b[49m\u001b[43mpatience\u001b[49m\u001b[43m \u001b[49m\u001b[38;5;241;43m=\u001b[39;49m\u001b[43m \u001b[49m\u001b[43mmodel_params\u001b[49m\u001b[43m[\u001b[49m\u001b[38;5;124;43m'\u001b[39;49m\u001b[38;5;124;43mpatience\u001b[39;49m\u001b[38;5;124;43m'\u001b[39;49m\u001b[43m]\u001b[49m\u001b[43m,\u001b[49m\n\u001b[1;32m    151\u001b[0m \u001b[43m                    \u001b[49m\u001b[43mlabel_counts\u001b[49m\u001b[43m \u001b[49m\u001b[38;5;241;43m=\u001b[39;49m\u001b[43m \u001b[49m\u001b[43mtrain_stats\u001b[49m\u001b[43m,\u001b[49m\n\u001b[1;32m    152\u001b[0m \u001b[43m                    \u001b[49m\u001b[43mshow_batches\u001b[49m\u001b[43m \u001b[49m\u001b[38;5;241;43m=\u001b[39;49m\u001b[43m \u001b[49m\u001b[38;5;241;43m1\u001b[39;49m\u001b[43m,\u001b[49m\u001b[43m \u001b[49m\n\u001b[1;32m    153\u001b[0m \u001b[43m                    \u001b[49m\u001b[43msave_to\u001b[49m\u001b[43m \u001b[49m\u001b[38;5;241;43m=\u001b[39;49m\u001b[43m \u001b[49m\u001b[43msavename\u001b[49m\u001b[43m)\u001b[49m\n",
      "File \u001b[0;32m~/AU/AreasUrbanizadas/src/training_utils.py:196\u001b[0m, in \u001b[0;36mtrain_model\u001b[0;34m(model, train_loader, val_loader, epochs, loss_mode, optimizer, device, num_classes, patience, label_counts, save_to, show_batches)\u001b[0m\n\u001b[1;32m    194\u001b[0m     \u001b[38;5;28mprint\u001b[39m(\u001b[38;5;124m'\u001b[39m\u001b[38;5;124mLoading it e continue training...\u001b[39m\u001b[38;5;124m'\u001b[39m)\n\u001b[1;32m    195\u001b[0m     patience_count \u001b[38;5;241m=\u001b[39m \u001b[38;5;241m0\u001b[39m\n\u001b[0;32m--> 196\u001b[0m     \u001b[43mmodel\u001b[49m\u001b[38;5;241;43m.\u001b[39;49m\u001b[43mload_state_dict\u001b[49m\u001b[43m(\u001b[49m\u001b[43mcheckpoint\u001b[49m\u001b[43m[\u001b[49m\u001b[38;5;124;43m'\u001b[39;49m\u001b[38;5;124;43mmodel_state_dict\u001b[39;49m\u001b[38;5;124;43m'\u001b[39;49m\u001b[43m]\u001b[49m\u001b[43m)\u001b[49m\n\u001b[1;32m    197\u001b[0m \u001b[38;5;28;01melse\u001b[39;00m:    \n\u001b[1;32m    198\u001b[0m     best_val_loss \u001b[38;5;241m=\u001b[39m \u001b[38;5;28mfloat\u001b[39m(\u001b[38;5;124m'\u001b[39m\u001b[38;5;124minf\u001b[39m\u001b[38;5;124m'\u001b[39m)    \n",
      "File \u001b[0;32m~/AU/AreasUrbanizadas/.venv/lib/python3.12/site-packages/torch/nn/modules/module.py:2584\u001b[0m, in \u001b[0;36mModule.load_state_dict\u001b[0;34m(self, state_dict, strict, assign)\u001b[0m\n\u001b[1;32m   2576\u001b[0m         error_msgs\u001b[38;5;241m.\u001b[39minsert(\n\u001b[1;32m   2577\u001b[0m             \u001b[38;5;241m0\u001b[39m,\n\u001b[1;32m   2578\u001b[0m             \u001b[38;5;124m\"\u001b[39m\u001b[38;5;124mMissing key(s) in state_dict: \u001b[39m\u001b[38;5;132;01m{}\u001b[39;00m\u001b[38;5;124m. \u001b[39m\u001b[38;5;124m\"\u001b[39m\u001b[38;5;241m.\u001b[39mformat(\n\u001b[1;32m   2579\u001b[0m                 \u001b[38;5;124m\"\u001b[39m\u001b[38;5;124m, \u001b[39m\u001b[38;5;124m\"\u001b[39m\u001b[38;5;241m.\u001b[39mjoin(\u001b[38;5;124mf\u001b[39m\u001b[38;5;124m'\u001b[39m\u001b[38;5;124m\"\u001b[39m\u001b[38;5;132;01m{\u001b[39;00mk\u001b[38;5;132;01m}\u001b[39;00m\u001b[38;5;124m\"\u001b[39m\u001b[38;5;124m'\u001b[39m \u001b[38;5;28;01mfor\u001b[39;00m k \u001b[38;5;129;01min\u001b[39;00m missing_keys)\n\u001b[1;32m   2580\u001b[0m             ),\n\u001b[1;32m   2581\u001b[0m         )\n\u001b[1;32m   2583\u001b[0m \u001b[38;5;28;01mif\u001b[39;00m \u001b[38;5;28mlen\u001b[39m(error_msgs) \u001b[38;5;241m>\u001b[39m \u001b[38;5;241m0\u001b[39m:\n\u001b[0;32m-> 2584\u001b[0m     \u001b[38;5;28;01mraise\u001b[39;00m \u001b[38;5;167;01mRuntimeError\u001b[39;00m(\n\u001b[1;32m   2585\u001b[0m         \u001b[38;5;124m\"\u001b[39m\u001b[38;5;124mError(s) in loading state_dict for \u001b[39m\u001b[38;5;132;01m{}\u001b[39;00m\u001b[38;5;124m:\u001b[39m\u001b[38;5;130;01m\\n\u001b[39;00m\u001b[38;5;130;01m\\t\u001b[39;00m\u001b[38;5;132;01m{}\u001b[39;00m\u001b[38;5;124m\"\u001b[39m\u001b[38;5;241m.\u001b[39mformat(\n\u001b[1;32m   2586\u001b[0m             \u001b[38;5;28mself\u001b[39m\u001b[38;5;241m.\u001b[39m\u001b[38;5;18m__class__\u001b[39m\u001b[38;5;241m.\u001b[39m\u001b[38;5;18m__name__\u001b[39m, \u001b[38;5;124m\"\u001b[39m\u001b[38;5;130;01m\\n\u001b[39;00m\u001b[38;5;130;01m\\t\u001b[39;00m\u001b[38;5;124m\"\u001b[39m\u001b[38;5;241m.\u001b[39mjoin(error_msgs)\n\u001b[1;32m   2587\u001b[0m         )\n\u001b[1;32m   2588\u001b[0m     )\n\u001b[1;32m   2589\u001b[0m \u001b[38;5;28;01mreturn\u001b[39;00m _IncompatibleKeys(missing_keys, unexpected_keys)\n",
      "\u001b[0;31mRuntimeError\u001b[0m: Error(s) in loading state_dict for UNetResNet34:\n\tsize mismatch for upconv1.weight: copying a param with shape torch.Size([64, 64, 2, 2]) from checkpoint, the shape in current model is torch.Size([64, 64, 1, 1])."
     ]
    }
   ],
   "source": [
    "\n",
    "data_param_grid = {\n",
    "    'patch_size' : [256, 64, 224, 512],\n",
    "    #'patch_size' : [224, 512],\n",
    "    'num_classes' : [2,5],\n",
    "    'normalization' : ['unnormalized', 'normalized'],\n",
    "    'data_aug' : [False],#True\n",
    "}\n",
    "\n",
    "model_param_grid = {\n",
    "    #model params:\n",
    "    'model' : ['UNet-256-2classes', #ok\n",
    "               'UNet-64-2classes', #ok\n",
    "               'UNetResNet34-224-2classes', #ok\n",
    "               'UNetEfficientNetB0-224-2classes', \n",
    "               'UNetConvNext-224-2classes',\n",
    "               #'HRNetW18-512-2classes',\n",
    "               'UNet-256-5classes', #ok\n",
    "               'UNet-64-5classes', #ok\n",
    "               'UNetResNet34-224-5classes', #ok\n",
    "               'UNetEfficientNetB0-224-5classes', \n",
    "               'UNetConvNext-224-5classes',\n",
    "               #'HRNetW18-512-5classes'\n",
    "               ],\n",
    "        \n",
    "    #training params\n",
    "        # loss\n",
    "    'loss': ['BCE-dice'],#'BCE', 'dice', 'BCE-dice'],\n",
    "    'weighted_loss': [False, True],\n",
    "    'learning_rate': [0.0001],    \n",
    "    'epochs' : [10],\n",
    "    'patience' : [3],\n",
    "       \n",
    "}\n",
    "\n",
    "#1/0\n",
    "# Grid parameter loop for training\n",
    "# Data loop\n",
    "for data_params in train.iterate_parameter_grid(data_param_grid):\n",
    "    print(data_params)\n",
    "\n",
    "    normalization = data_params['normalization']\n",
    "\n",
    "    if normalization == 'normalized': \n",
    "        mean, std = data.calculate_mean_std(train_files)\n",
    "    else:\n",
    "        mean, std = None, None\n",
    "    \n",
    "    data_aug = False\n",
    "    if data_params['num_classes']>2:\n",
    "        data_aug = data_params['data_aug']\n",
    "\n",
    "    patch_size = data_params['patch_size']\n",
    "    stride = int(patch_size*(2/3))\n",
    "    num_classes = data_params['num_classes']\n",
    "\n",
    "    print(patch_size)\n",
    "    train_dataset = data.ImageDataset(files = train_files, \n",
    "                            mask_filename = \"masks/raster_aurb_032027.tif\", \n",
    "                            num_classes = num_classes,\n",
    "                            subtile_size = 10560/6,\n",
    "                            mean = mean, \n",
    "                            std = std,\n",
    "                            patch_size = (patch_size, patch_size),\n",
    "                            stride = stride,\n",
    "                            augment = data_aug)\n",
    "    if data_aug:\n",
    "        train_dataset.check_augmentation()\n",
    "\n",
    "    val_dataset = data.ImageDataset(files = val_files, \n",
    "                        mask_filename = \"masks/raster_aurb_032027.tif\", \n",
    "                        num_classes = num_classes,\n",
    "                        mean = mean, \n",
    "                        std = std,\n",
    "                        patch_size = (patch_size, patch_size),\n",
    "                        stride = stride,\n",
    "                        augment = False)\n",
    "\n",
    "\n",
    "    train_loader = DataLoader(train_dataset, \n",
    "                            batch_size=batch_size, \n",
    "                            shuffle=True)\n",
    "    val_loader = DataLoader(val_dataset, \n",
    "                            batch_size=batch_size, \n",
    "                            shuffle=True)\n",
    "    train_stats = None\n",
    "    val_stats = None\n",
    "    if data_aug:\n",
    "        train_stats = data.count_labels(train_loader)\n",
    "        print('TRAIN STATS:',train_stats)\n",
    "        val_stats = data.count_labels(val_loader)\n",
    "        print('VAL STATS:',val_stats)\n",
    "    \n",
    "    if 0:\n",
    "        for im_batch,label_batch in train_loader:\n",
    "            if all(label_batch.sum()>0 for i in range(label_batch.shape[0])):\n",
    "                for i in range(label_batch.shape[0]): \n",
    "                    if label_batch[i].sum()>0:\n",
    "                        view.plot_batch(im_batch, label_batch)\n",
    "                        break\n",
    "\n",
    "    # Models loop\n",
    "    for model_params in train.iterate_parameter_grid(model_param_grid):        \n",
    "        print(model_params)\n",
    "        #skip if model do not match the data\n",
    "        model_name = model_params['model']     \n",
    "        if f\"-{patch_size}-\" not in model_name:\n",
    "            continue\n",
    "        if f\"{num_classes}classes\" not in model_name:\n",
    "            continue\n",
    "                \n",
    "        \n",
    "        #label_count = None\n",
    "        #if model_params['weighted_loss']:\n",
    "        #    print('CLASSES COUNT')\n",
    "        #   label_count = train_dataset.count_classes()\n",
    "        \n",
    "        # Training the model\n",
    "        savename = f\"models/{model_name}_{model_params['loss']}{'-w' if model_params['weighted_loss'] else ''}{'_normalized' if normalization=='normalized' else ''}_{'aug' if data_aug else 'noaug'}.pth\"\n",
    "        print(savename)\n",
    "        if 1: #not os.path.exists(savename):\n",
    "            if 0:\n",
    "                for im, mask in train_loader:\n",
    "                    print(im.shape, type(im))\n",
    "                    print(mask.shape, type(mask))\n",
    "                    break\n",
    "            \n",
    "            if model_name.startswith('UNet-'):\n",
    "                model = models.UNet(in_channels=12, out_channels=num_classes, dropout=0.2).to(device)  # Assuming single channel output for mask\n",
    "            elif model_name.startswith('UNetResNet34-'):\n",
    "                model = models.UNetResNet34(in_channels=12, out_channels=num_classes).to(device)  # Assuming single channel output for mask\n",
    "            elif model_name.startswith('UNetEfficientNetB0-'):\n",
    "                model = models.UNetEfficientNetB0(in_channels=12, out_channels=num_classes).to(device)  # Assuming single channel output for mask\n",
    "            elif model_name.startswith('UNetConvNext-'):\n",
    "                model = models.UNetConvNext (in_channels=12, out_channels=num_classes).to(device)  # Assuming single channel output for mask\n",
    "            elif model_name.startswith('HRNetW18-'):\n",
    "                model = models.HRNetSegmentation(in_channels=12, out_channels=num_classes).to(device)  # Assuming single channel output for mask\n",
    "            else:\n",
    "                print('Not recognized model. Skipping')\n",
    "                continue\n",
    "\n",
    "            optimizer = optim.Adam(model.parameters(), lr=model_params['learning_rate'], weight_decay=1e-5)\n",
    "            train.train_model(model, \n",
    "                                train_loader, \n",
    "                                val_loader, \n",
    "                                epochs=model_params['epochs'], \n",
    "                                loss_mode = model_params['loss'],\n",
    "                                optimizer = optimizer, \n",
    "                                device = device,\n",
    "                                num_classes = num_classes, \n",
    "                                patience = model_params['patience'],\n",
    "                                label_counts = train_stats,\n",
    "                                show_batches = 1, \n",
    "                                save_to = savename)\n"
   ]
  },
  {
   "cell_type": "code",
   "execution_count": null,
   "metadata": {},
   "outputs": [],
   "source": [
    "# Grid parameter loop for training\n",
    "# Data loop\n",
    "for data_params in train.iterate_parameter_grid(data_param_grid):\n",
    "    print(data_params)\n",
    "\n",
    "    normalization = data_params['normalization']\n",
    "\n",
    "    if normalization == 'normalized': \n",
    "        mean, std = data.calculate_mean_std(train_files)\n",
    "    else:\n",
    "        mean, std = None, None\n",
    "    \n",
    "    data_aug = False\n",
    "    if data_params['num_classes']>2:\n",
    "        data_aug = data_params['data_aug']\n",
    "\n",
    "    patch_size = data_params['patch_size']\n",
    "    num_classes = data_params['num_classes']\n",
    "    test_dataset = data.ImageDataset(files = test_files[:1], \n",
    "                mask_filename = \"masks/raster_aurb_032027.tif\", \n",
    "                num_classes = num_classes,\n",
    "                mean = mean, \n",
    "                std = std,\n",
    "                patch_size = (patch_size, patch_size),\n",
    "                stride = patch_size//2,\n",
    "                augment = False,\n",
    "                return_imgidx = True)\n",
    "\n",
    "    test_loader = DataLoader(test_dataset, \n",
    "                                batch_size=batch_size, \n",
    "                                shuffle=True)\n",
    "\n",
    "        #test_stats = data.count_labels(test_loader)\n",
    "        #print(test_stats)\n",
    "    for model_params in train.iterate_parameter_grid(model_param_grid):        \n",
    "        \n",
    "        #skip if model do not match the data\n",
    "        model_name = model_params['model']     \n",
    "        if f\"-{patch_size}-\" not in model_name:\n",
    "            continue\n",
    "        if f\"{num_classes}classes\" not in model_name:\n",
    "            continue\n",
    "                \n",
    "        savename = f\"models/{model_name}_{model_params['loss']}{'-w' if model_params['weighted_loss'] else ''}{'_normalized' if normalization=='normalized' else ''}_{'aug' if data_aug else 'noaug'}.pth\"\n",
    "        print(savename)\n",
    "    \n",
    "        \n",
    "        if model_name.startswith('UNet-'):\n",
    "            model = models.UNet(in_channels=12, out_channels=num_classes, dropout=0.2).to(device)  # Assuming single channel output for mask\n",
    "        elif model_name.startswith('UNetResNet34-'):\n",
    "            model = models.UNetResNet34(in_channels=12, out_channels=num_classes).to(device)  # Assuming single channel output for mask\n",
    "        elif model_name.startswith('UNetEfficientNetB0-'):\n",
    "            model = models.UNetEfficientNetB0(in_channels=12, out_channels=num_classes).to(device)  # Assuming single channel output for mask\n",
    "        elif model_name.startswith('UNetConvNext-'):\n",
    "            model = models.UNetConvNext (in_channels=12, out_channels=num_classes).to(device)  # Assuming single channel output for mask\n",
    "        elif model_name.startswith('HRNetW18-'):\n",
    "            model = models.HRNetSegmentation(in_channels=12, out_channels=num_classes).to(device)  # Assuming single channel output for mask\n",
    "        else:\n",
    "            print('Not recognized model. Skipping')\n",
    "            continue\n",
    "\n",
    "        results, gt, originals = train.test_model(model, savename, test_loader, device, num_classes, subtile_size = int(10560/6))\n",
    "        \n",
    "        break\n",
    "    break\n",
    "    #plot_multiple_satellite_images\n"
   ]
  },
  {
   "cell_type": "code",
   "execution_count": null,
   "metadata": {},
   "outputs": [],
   "source": [
    "ims = []\n",
    "for f in originals:\n",
    "    with rasterio.open(f) as im:        \n",
    "        #window = rasterio.windows.Window(x+subtile_x ,y+subtile_y , patch_size, patch_size) #TODO mudar esse hardcoded\n",
    "        im = im.read()#window = window)\n",
    "        im = im[1:4,:,:]\n",
    "        im = im.transpose((1, 2, 0))\n",
    "        im = np.clip(im, 0, 10000)\n",
    "        im = im-np.min(im)\n",
    "        im = im/np.max(im)\n",
    "        ims.append(im)\n",
    "\n",
    "import numpy as np\n",
    "import matplotlib.pyplot as plt\n",
    "from matplotlib.colors import LinearSegmentedColormap\n",
    "\n",
    "limx = (1000,1700)\n",
    "limy = (1000,1700)\n",
    "for im, mask in zip(ims, results):\n",
    "    plt.figure(figsize=(10,10))\n",
    "    plt.imshow(im[limx[0]:limx[1],limy[0]:limy[1],:])\n",
    "    for c in range(5):\n",
    "        plt.figure(figsize=(10,10))\n",
    "        plt.imshow(mask[c,limx[0]:limx[1],limy[0]:limy[1]], cmap='gray')\n",
    "    print(np.min(mask), np.max(mask), mask.shape)\n",
    "    #plt.figure(figsize=(10,10))\n",
    "    #plt.imshow(mask>0.5)\n",
    "\n",
    "\n"
   ]
  },
  {
   "cell_type": "code",
   "execution_count": null,
   "metadata": {},
   "outputs": [],
   "source": [
    "\n",
    "\n",
    "\n",
    "import numpy as np\n",
    "import matplotlib.pyplot as plt\n",
    "from matplotlib.colors import LinearSegmentedColormap\n",
    "\n",
    "def plot_satellite_with_mask(ax, satellite_image, mask, title=\"Satellite Image with Mask Overlay\",\n",
    "                             mask_color=(1, 0, 0), mask_alpha=0.5, border_color='red',\n",
    "                             border_width=2):\n",
    "\n",
    "    if satellite_image.shape[-1]!=3:\n",
    "        satellite_image = satellite_image[1:4,:,:]\n",
    "        satellite_image = satellite_image.transpose((1, 2, 0))\n",
    "    # Ensure mask is binary\n",
    "    mask = (mask > 0).astype(int)\n",
    "\n",
    "    # Create a custom colormap for the mask\n",
    "    colors = [(0, 0, 0, 0), mask_color + (mask_alpha,)]\n",
    "    cmap = LinearSegmentedColormap.from_list(\"custom\", colors, N=2)\n",
    "\n",
    "    # Plot the satellite image\n",
    "    ax.imshow(satellite_image)\n",
    "    print(np.min(satellite_image))\n",
    "    print(np.max(satellite_image))\n",
    "    # Plot the mask overlay\n",
    "    #mask_plot = ax.imshow(mask, cmap=cmap)\n",
    "\n",
    "    # Plot the mask border\n",
    "    #ax.contour(mask, colors=border_color, linewidths=border_width, levels=[0.5])\n",
    "\n",
    "    # Set title and remove axis ticks\n",
    "    ax.set_title(title)\n",
    "    ax.set_xticks([])\n",
    "    ax.set_yticks([])\n",
    "\n",
    "    return ax\n",
    "    return mask_plot\n",
    "\n",
    "def plot_multiple_satellite_images(satellite_images, masks, titles=None, figsize=(20, 20),\n",
    "                                   mask_color=(1, 0, 0), mask_alpha=0.5, border_color='red',\n",
    "                                   border_width=2):\n",
    "    \"\"\"\n",
    "    Plot multiple satellite images with their corresponding masks in subplots.\n",
    "\n",
    "    Parameters:\n",
    "    satellite_images (list): List of satellite images (each a 3D numpy array)\n",
    "    masks (list): List of corresponding masks (each a 2D numpy array)\n",
    "    titles (list): List of titles for each subplot (optional)\n",
    "    figsize (tuple): Figure size in inches (width, height)\n",
    "    mask_color (tuple): RGB color for the mask (values between 0 and 1)\n",
    "    mask_alpha (float): Alpha value for mask transparency (between 0 and 1)\n",
    "    border_color (str or tuple): Color of the mask border\n",
    "    border_width (float): Width of the mask border\n",
    "\n",
    "    Returns:\n",
    "    matplotlib.figure.Figure: The created figure\n",
    "    \"\"\"\n",
    "    n = len(satellite_images)\n",
    "    rows = int(np.ceil(np.sqrt(n)))\n",
    "    cols = int(np.ceil(n / rows))\n",
    "\n",
    "    fig, axes = plt.subplots(rows, cols, figsize=figsize)\n",
    "    if n == 1:\n",
    "        axes = np.array([axes])\n",
    "    axes = axes.flatten()\n",
    "\n",
    "    for i, (image, mask) in enumerate(zip(satellite_images, masks)):\n",
    "        if i < n:\n",
    "            title = titles[i] if titles and i < len(titles) else f\"Image {i+1}\"\n",
    "            mask_plot = plot_satellite_with_mask(axes[i], image, mask, title, \n",
    "                                                 mask_color, mask_alpha, \n",
    "                                                 border_color, border_width)\n",
    "        else:\n",
    "            axes[i].axis('off')\n",
    "\n",
    "    # Add a colorbar to the last subplot\n",
    "    cbar = fig.colorbar(mask_plot, ax=axes[-1], ticks=[0, 1])\n",
    "    cbar.set_label('Mask Value')\n",
    "\n",
    "    plt.tight_layout()\n",
    "    return fig\n",
    "\n",
    "\n"
   ]
  },
  {
   "cell_type": "code",
   "execution_count": null,
   "metadata": {},
   "outputs": [],
   "source": [
    "fig = view.plot_multiple_satellite_images(ims, results)\n",
    "\n",
    "plt.show()"
   ]
  },
  {
   "cell_type": "code",
   "execution_count": null,
   "metadata": {},
   "outputs": [],
   "source": [
    "import numpy as np\n",
    "from scipy.interpolate import griddata\n",
    "import matplotlib.pyplot as plt\n",
    "\n",
    "# Define the size of the grid\n",
    "grid_size = (10, 10)\n",
    "grid = np.full(grid_size, np.nan)  # Initialize a grid with NaN values (for missing points)\n",
    "\n",
    "# Populate the grid with some known values\n",
    "known_points = [\n",
    "    (0, 0, 1),\n",
    "    (0, 9, 1),\n",
    "    (9, 0, 0),\n",
    "    (9, 9, 0)\n",
    "]\n",
    "\n",
    "for x, y, value in known_points:\n",
    "    grid[y, x] = value\n",
    "\n",
    "# Extract the coordinates and values of known points\n",
    "y_coords, x_coords = np.where(~np.isnan(grid))  # Only coordinates with values\n",
    "values = grid[y_coords, x_coords]\n",
    "\n",
    "# Create a full grid for interpolation\n",
    "x_grid, y_grid = np.meshgrid(np.arange(grid_size[1]), np.arange(grid_size[0]))\n",
    "\n",
    "# Perform interpolation to fill in missing values\n",
    "filled_grid = griddata(\n",
    "    points=(x_coords, y_coords), values=values, \n",
    "    xi=(x_grid, y_grid), method='linear'\n",
    ")\n",
    "\n",
    "# Plot original grid with NaNs and the filled grid\n",
    "plt.subplot(1, 2, 1)\n",
    "plt.title(\"Original Grid (with NaNs)\")\n",
    "plt.imshow(grid, cmap='viridis', origin='lower')\n",
    "plt.colorbar()\n",
    "\n",
    "plt.subplot(1, 2, 2)\n",
    "plt.title(\"Filled Grid (Interpolated)\")\n",
    "plt.imshow(filled_grid, cmap='viridis', origin='lower')\n",
    "plt.colorbar()\n",
    "\n",
    "plt.show()\n"
   ]
  },
  {
   "cell_type": "code",
   "execution_count": null,
   "metadata": {},
   "outputs": [],
   "source": [
    "import os\n",
    "import sys\n",
    "sys.path.insert(0, 'src')\n",
    "\n",
    "import test_utils as test\n",
    "\n",
    "patches = []\n",
    "counter = 0\n",
    "for i in range(0, 256, 128):\n",
    "    for j in range(0, 256, 128):\n",
    "        patch = {'patch_idx' : counter,\n",
    "                     'x':x,\n",
    "                     'y':y,\n",
    "                     'w':356,\n",
    "                     'h':256}\n",
    "        patches.append(patch)\n",
    "        counter +=1\n",
    "\n",
    "regions = test.get_regions(patches)\n",
    "\n",
    "#grid = test.make_grid(regions, (256,256))"
   ]
  },
  {
   "cell_type": "code",
   "execution_count": null,
   "metadata": {},
   "outputs": [],
   "source": [
    "\n",
    "import numpy as np\n",
    "import matplotlib.pyplot as plt\n",
    "from matplotlib.colors import LinearSegmentedColormap\n",
    "\n",
    "# Load the satellite image and mask\n",
    "# Replace these with your actual image loading code\n",
    "satellite_image = np.random.rand(100, 100, 3)  # Placeholder for satellite image\n",
    "mask = np.random.randint(0, 2, (100, 100))  # Placeholder for mask\n",
    "\n",
    "# Create a custom colormap for the mask\n",
    "colors = [(0, 0, 0, 0), (1, 0, 0, 0.5)]  # Black (transparent) for 0, semi-transparent red for 1\n",
    "cmap = LinearSegmentedColormap.from_list(\"custom\", colors, N=2)\n",
    "\n",
    "# Create the plot\n",
    "fig, ax = plt.subplots(figsize=(10, 10))\n",
    "\n",
    "# Plot the satellite image\n",
    "ax.imshow(satellite_image)\n",
    "\n",
    "# Plot the mask overlay\n",
    "mask_plot = ax.imshow(mask, cmap=cmap)\n",
    "\n",
    "# Add a colorbar for the mask\n",
    "cbar = plt.colorbar(mask_plot, ax=ax, ticks=[0, 1])\n",
    "cbar.set_label('Mask Value')\n",
    "\n",
    "# Plot the mask border\n",
    "ax.contour(mask, colors='red', linewidths=2, levels=[0.5])\n",
    "\n",
    "# Set title and remove axis ticks\n",
    "ax.set_title('Satellite Image with Mask Overlay')\n",
    "ax.set_xticks([])\n",
    "ax.set_yticks([])\n",
    "\n",
    "plt.tight_layout()\n",
    "plt.show()"
   ]
  },
  {
   "cell_type": "code",
   "execution_count": null,
   "metadata": {},
   "outputs": [],
   "source": [
    "y_true, y_pred = [1,0,0],[1,1,0]\n",
    "acc_class_report(y_true, y_pred)"
   ]
  },
  {
   "cell_type": "code",
   "execution_count": null,
   "metadata": {},
   "outputs": [],
   "source": [
    "report_df"
   ]
  },
  {
   "cell_type": "code",
   "execution_count": null,
   "metadata": {},
   "outputs": [],
   "source": []
  },
  {
   "cell_type": "code",
   "execution_count": null,
   "metadata": {},
   "outputs": [],
   "source": [
    "patches com 10% dos dados?\n",
    "data aug so nas minoritarias\n",
    "mostrar os erros\n",
    "olhar o recall\n",
    "salvar as mascaras para abrir no qgis.\n",
    "aplicar só no setor censitario?\n",
    "\n",
    "\n",
    "\n",
    "qual a saida do modelo? probabilidade de cada classes?\n",
    "qual data augmentation vc fez?\n",
    "qual as imagens vc ta usando? sentinel? resolucao?\n",
    "como é a balanced accuracy?\n",
    "\n",
    "0\n",
    "loteamento vazio\n",
    "outros equipamentos\n",
    "vazio interubano\n",
    "area urbanizada\n"
   ]
  }
 ],
 "metadata": {
  "kernelspec": {
   "display_name": ".venv",
   "language": "python",
   "name": "python3"
  },
  "language_info": {
   "codemirror_mode": {
    "name": "ipython",
    "version": 3
   },
   "file_extension": ".py",
   "mimetype": "text/x-python",
   "name": "python",
   "nbconvert_exporter": "python",
   "pygments_lexer": "ipython3",
   "version": "3.10.12"
  }
 },
 "nbformat": 4,
 "nbformat_minor": 2
}
