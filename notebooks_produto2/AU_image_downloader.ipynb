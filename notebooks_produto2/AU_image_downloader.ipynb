{
 "cells": [
  {
   "cell_type": "markdown",
   "metadata": {},
   "source": [
    "## Download das imagens do BDC\n",
    "\n",
    "Utiliza os scripts em scr/data/BDC_downloader.py\n"
   ]
  },
  {
   "cell_type": "code",
   "execution_count": null,
   "metadata": {},
   "outputs": [],
   "source": [
    "# imports\n",
    "\n",
    "import os\n",
    "import sys\n",
    "sys.path.append(os.path.abspath('..'))\n",
    "from rasterio.coords import BoundingBox\n",
    "\n",
    "import src.data.BDC_downloader as BDC_downloader\n"
   ]
  },
  {
   "cell_type": "markdown",
   "metadata": {},
   "source": [
    "### Define a região do tile para o download\n",
    "\n",
    "\n",
    "- É necessário definir qual tile será baixado.\n",
    "- É feita a busca no BDC explorer \n",
    "- Deve-se adicionar a latitude e longitude aproximada para diminuir o tempo de busca\n",
    "\n",
    "\n"
   ]
  },
  {
   "cell_type": "code",
   "execution_count": null,
   "metadata": {},
   "outputs": [],
   "source": [
    "\n",
    "tile = '032027'\n",
    "\n",
    "bounds = { }\n",
    "bounds['032027'] = (-44.32729056461349, -20.80707257210646, -43.34879738591701, -19.823979268627337)\n",
    "#bounds['032026'] = (-44.0909,-19.5714, -43.6528,-19.1439)\n",
    "#bounds['031027'] = (-45.1099,-20.5094, -44.6375,-20.1539)\n",
    "#bounds['031026'] = (-45.2390,-19.7202, -44.5551,-19.1400)\n",
    "#bounds['025037'] = (-51.1331,-30.3610, -50.5151,-29.8811)\n"
   ]
  },
  {
   "cell_type": "code",
   "execution_count": null,
   "metadata": {},
   "outputs": [],
   "source": [
    "\n",
    "left, bottom, right, top = bounds[tile]\n",
    "print(\"Bounding Box in Lat/Lon:\")\n",
    "print(f\"Left-Bottom: ({left}, {bottom})\")\n",
    "print(f\"Right-Top: ({right}, {top})\")\n",
    "bounding_box = BoundingBox(left=left, bottom=bottom, right=right, top=top)\n",
    "\n"
   ]
  },
  {
   "cell_type": "markdown",
   "metadata": {},
   "source": [
    "Obtém a URI dos items do tile.\n",
    "\n",
    "Não esqueça de colocar a bounding_box"
   ]
  },
  {
   "cell_type": "code",
   "execution_count": null,
   "metadata": {},
   "outputs": [],
   "source": [
    "items = BDC_downloader.get_items_by_tile(tile = tile,\n",
    "                      collections=['S2-16D-2'], \n",
    "                      datetime='2019-01-01/2019-12-31',\n",
    "                      bounding_box_filter = bounding_box\n",
    "                      )\n",
    "\n"
   ]
  },
  {
   "cell_type": "code",
   "execution_count": null,
   "metadata": {},
   "outputs": [],
   "source": []
  },
  {
   "cell_type": "code",
   "execution_count": null,
   "metadata": {},
   "outputs": [],
   "source": [
    "# Metadados de um item\n",
    "items[0].to_dict()"
   ]
  },
  {
   "cell_type": "markdown",
   "metadata": {},
   "source": [
    "### Download\n",
    "\n",
    "- Faz o download e salva imagens tif no disco.\n",
    "- Será salvo em data/raw/S2-16D_V2_{tile}\n",
    "- Geralmente demora muito, e ocupa mais de 80Gb por cada tile."
   ]
  },
  {
   "cell_type": "code",
   "execution_count": null,
   "metadata": {},
   "outputs": [],
   "source": [
    "working_dir = os.path.abspath('..')\n",
    "save_dir = os.path.join(working_dir,'data/raw')\n",
    "\n",
    "for item in items:\n",
    "    BDC_downloader.download_and_save_item(item, save_dir = save_dir)"
   ]
  },
  {
   "cell_type": "code",
   "execution_count": null,
   "metadata": {},
   "outputs": [],
   "source": []
  },
  {
   "cell_type": "code",
   "execution_count": null,
   "metadata": {},
   "outputs": [],
   "source": []
  },
  {
   "cell_type": "code",
   "execution_count": null,
   "metadata": {},
   "outputs": [],
   "source": []
  },
  {
   "cell_type": "code",
   "execution_count": null,
   "metadata": {},
   "outputs": [],
   "source": []
  },
  {
   "cell_type": "code",
   "execution_count": null,
   "metadata": {},
   "outputs": [],
   "source": []
  },
  {
   "cell_type": "code",
   "execution_count": null,
   "metadata": {},
   "outputs": [],
   "source": []
  },
  {
   "cell_type": "code",
   "execution_count": null,
   "metadata": {},
   "outputs": [],
   "source": []
  }
 ],
 "metadata": {
  "kernelspec": {
   "display_name": ".venv",
   "language": "python",
   "name": "python3"
  },
  "language_info": {
   "codemirror_mode": {
    "name": "ipython",
    "version": 3
   },
   "file_extension": ".py",
   "mimetype": "text/x-python",
   "name": "python",
   "nbconvert_exporter": "python",
   "pygments_lexer": "ipython3",
   "version": "3.10.12"
  }
 },
 "nbformat": 4,
 "nbformat_minor": 2
}
