{
 "cells": [
  {
   "cell_type": "code",
   "execution_count": null,
   "metadata": {
    "vscode": {
     "languageId": "plaintext"
    }
   },
   "outputs": [],
   "source": []
  },
  {
   "cell_type": "code",
   "execution_count": null,
   "metadata": {
    "vscode": {
     "languageId": "plaintext"
    }
   },
   "outputs": [],
   "source": []
  },
  {
   "cell_type": "code",
   "execution_count": null,
   "metadata": {
    "vscode": {
     "languageId": "plaintext"
    }
   },
   "outputs": [],
   "source": [
    "\n",
    "train_dataset = data.ImageDataset(files = train_files, \n",
    "                            mask_filename = \"masks/raster_aurb_032027.tif\", \n",
    "                            num_classes = num_classes,\n",
    "                            subtile_size = 10560/6,\n",
    "                            mean = mean, \n",
    "                            std = std,\n",
    "                            patch_size = (patch_size, patch_size),\n",
    "                            stride = stride,\n",
    "                            augment = data_aug)"
   ]
  }
 ],
 "metadata": {
  "language_info": {
   "name": "python"
  }
 },
 "nbformat": 4,
 "nbformat_minor": 2
}
