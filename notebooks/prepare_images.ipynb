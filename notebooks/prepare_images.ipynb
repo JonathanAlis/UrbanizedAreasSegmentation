{
 "cells": [
  {
   "cell_type": "markdown",
   "metadata": {},
   "source": [
    "### Cria a composição temporal \n",
    "\n",
    "- Usa o canal SCL.\n",
    "- Os valores de observação limpa são: 4, 5 e 6\n",
    "- É feita a quebra em subtiles\n"
   ]
  },
  {
   "cell_type": "code",
   "execution_count": null,
   "metadata": {},
   "outputs": [],
   "source": [
    "# imports\n",
    "\n",
    "import os\n",
    "import sys\n",
    "sys.path.append(os.path.abspath('..'))\n",
    "from rasterio.coords import BoundingBox\n",
    "\n",
    "import src.data.subtile_composition as subtile_composition\n",
    "\n",
    "\n",
    "     "
   ]
  },
  {
   "cell_type": "markdown",
   "metadata": {},
   "source": [
    "### Algumas definições\n",
    "- Número de subtiles: 12x12.\n",
    "- Gerando para o tile 032027\n",
    "- Raiz do caminho com dados brutos: data/raw\n",
    "- Raiz do caminho dos resultados: data/processed\n",
    "- É criada uma parta chamada S2-D16_V2_{tile}, e uma subpasta chamada {num_subtiles}x{num_subtiles}_subtiles.\n",
    "- São salvos valores int16, de dimensões (12, width, height)\n",
    "- Width e height são 10560/num_subtiles\n",
    "- Não há sobreposição/overlap\n"
   ]
  },
  {
   "cell_type": "code",
   "execution_count": null,
   "metadata": {},
   "outputs": [],
   "source": [
    "working_dir = os.path.abspath('..')\n",
    "raw_data_path = os.path.join(working_dir,'data/raw')\n",
    "processed_data_path = os.path.join(working_dir,'data/processed')\n",
    "num_subtiles = 6\n",
    "tile = '025037'\n",
    "subtile_composition.create_composition(in_folder=raw_data_path, \n",
    "                                        out_folder=processed_data_path,\n",
    "                                        tile = tile,\n",
    "                                        num_subtiles=num_subtiles)\n",
    "\n"
   ]
  },
  {
   "cell_type": "markdown",
   "metadata": {},
   "source": [
    "### Detalhes extras:\n",
    "\n",
    "- Composição utiliza o métod da média das observações válidas\n",
    "- Quando nenhuma observação é válida, é preenchido com NaN\n",
    "- Foi feita a interpolação dos valores de NaN, e para distinguir, foram atribuídos valores negativos.\n",
    "- Sendo assim, pra obter a imagem com interpolação basta usar np.abs\n",
    "- Para obter os valores não interpolados, basta ler os valores positivos. \n"
   ]
  },
  {
   "cell_type": "markdown",
   "metadata": {},
   "source": [
    "### Exemplo de arquivo gerado:\n"
   ]
  },
  {
   "cell_type": "code",
   "execution_count": null,
   "metadata": {},
   "outputs": [],
   "source": [
    "import rasterio\n",
    "\n",
    "composition_data_file = os.path.join(working_dir,'data/processed/S2-16D_V2_032027/12x12_subtiles/S2-16D_V2_032027_x=0_y=880.tif')\n",
    "with rasterio.open(composition_data_file) as src:\n",
    "    # Read the raster data\n",
    "    data = src.read()\n",
    "\n",
    "data.shape"
   ]
  },
  {
   "cell_type": "code",
   "execution_count": null,
   "metadata": {},
   "outputs": [],
   "source": [
    "import numpy as np\n",
    "subtile_composition.display_images(np.abs(data), limit=-1)"
   ]
  },
  {
   "cell_type": "code",
   "execution_count": null,
   "metadata": {},
   "outputs": [],
   "source": [
    "10560/1024"
   ]
  },
  {
   "cell_type": "code",
   "execution_count": null,
   "metadata": {},
   "outputs": [],
   "source": [
    "\n",
    "\n"
   ]
  },
  {
   "cell_type": "code",
   "execution_count": null,
   "metadata": {},
   "outputs": [],
   "source": [
    "working_dir = os.path.abspath('..')\n",
    "raw_data_path = os.path.join(working_dir,'data/raw')\n",
    "processed_data_path = os.path.join(working_dir,'data/processed')\n",
    "num_subtiles = 4\n",
    "tile = '025037'\n",
    "subtile_composition.create_composition(in_folder=raw_data_path, \n",
    "                                        out_folder=processed_data_path,\n",
    "                                        tile = tile,\n",
    "                                        num_subtiles=num_subtiles)"
   ]
  },
  {
   "cell_type": "code",
   "execution_count": null,
   "metadata": {},
   "outputs": [],
   "source": [
    "working_dir = os.path.abspath('..')\n",
    "raw_data_path = os.path.join(working_dir,'data/raw')\n",
    "processed_data_path = os.path.join(working_dir,'data/processed')\n",
    "num_subtiles = 12\n",
    "tile = '025037'\n",
    "subtile_composition.create_composition(in_folder=raw_data_path, \n",
    "                                        out_folder=processed_data_path,\n",
    "                                        tile = tile,\n",
    "                                        num_subtiles=num_subtiles)"
   ]
  },
  {
   "cell_type": "code",
   "execution_count": null,
   "metadata": {},
   "outputs": [],
   "source": []
  }
 ],
 "metadata": {
  "kernelspec": {
   "display_name": ".venv",
   "language": "python",
   "name": "python3"
  },
  "language_info": {
   "codemirror_mode": {
    "name": "ipython",
    "version": 3
   },
   "file_extension": ".py",
   "mimetype": "text/x-python",
   "name": "python",
   "nbconvert_exporter": "python",
   "pygments_lexer": "ipython3",
   "version": "3.10.12"
  }
 },
 "nbformat": 4,
 "nbformat_minor": 2
}
