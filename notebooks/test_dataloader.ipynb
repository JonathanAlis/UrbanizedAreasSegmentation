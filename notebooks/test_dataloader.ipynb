{
 "cells": [
  {
   "cell_type": "code",
   "execution_count": null,
   "metadata": {},
   "outputs": [],
   "source": [
    "# imports\n",
    "\n",
    "import os\n",
    "import sys\n",
    "sys.path.append(os.path.abspath('..'))\n",
    "from rasterio.coords import BoundingBox\n",
    "\n",
    "import src.data.preprocess_data as data\n",
    "#import src.models.unets as unets\n",
    "\n",
    "import torch"
   ]
  },
  {
   "cell_type": "code",
   "execution_count": 16,
   "metadata": {},
   "outputs": [],
   "source": [
    "import geopandas as gpd\n",
    "from shapely.geometry import Polygon\n",
    "import random\n",
    "\n"
   ]
  },
  {
   "cell_type": "code",
   "execution_count": null,
   "metadata": {},
   "outputs": [
    {
     "name": "stdout",
     "output_type": "stream",
     "text": [
      "40000\n"
     ]
    }
   ],
   "source": [
    "def box(x, y, patch_size, tile_size):\n",
    "    if x + patch_size > tile_size:\n",
    "        x = tile_size - patch_size\n",
    "    if y + patch_size > tile_size:\n",
    "        y = tile_size - patch_size\n",
    "\n",
    "    if x < 0:\n",
    "        x = 0\n",
    "    if y < 0:\n",
    "        y = 0\n",
    "\n",
    "    return (x, y, x+patch_size, y+patch_size)\n",
    "\n",
    "def func(patch_size = 256, tile_size = 10560, stride = None):\n",
    "    if stride is None:\n",
    "        stride = patch_size//2\n",
    "    i = 0\n",
    "    polygons = []\n",
    "    inner_polygons = []\n",
    "    for x in range(0, tile_size, stride):\n",
    "        for y in range(0, tile_size, stride):\n",
    "            xi, yi, xf, yf = box(x, y, patch_size, tile_size)\n",
    "            #print(xi, xf, yi, yf)\n",
    "            bbox = Polygon([(xi, yi), (xi, yf), (xf,yf), (xf, yi)])\n",
    "            polygons.append(bbox)\n",
    "            inner_bbox = Polygon([(xi+1, yi+1), (xi+1, yf-1), (xf-1,yf-1), (xf-1, yi+1)])\n",
    "            inner_polygons.append(inner_bbox)\n",
    "            \n",
    "            \n",
    "            i+=1\n",
    "    print(i)   \n",
    "\n",
    "    #polygons = [Polygon(coords) for coords in polygon_coords]\n",
    "\n",
    "    # Create a GeoDataFrame\n",
    "    gdf = gpd.GeoDataFrame({'geometry': polygons, 'inner_geometry': inner_polygons})\n",
    "    return gdf\n",
    "\n",
    "\n",
    "\n",
    "def random_split_gdf(gdf, sizes=[0.3, 0.3, 0.4], seed=42):\n",
    "    \"\"\"Randomly splits a GeoPandas DataFrame into three parts with a fixed seed.\n",
    "\n",
    "    Args:\n",
    "    gdf: The GeoPandas DataFrame to split.\n",
    "    sizes: A list of three floats representing the proportion of each part.\n",
    "    seed: The seed for the random number generator.\n",
    "\n",
    "    Returns:\n",
    "    A tuple of three GeoDataFrames representing the three parts.\n",
    "    \"\"\"\n",
    "\n",
    "    # Set the random seed\n",
    "    random.seed(seed)\n",
    "\n",
    "    # Shuffle the DataFrame randomly\n",
    "    gdf = gdf.sample(frac=1)\n",
    "\n",
    "    # Calculate the number of rows for each part\n",
    "    num_rows = len(gdf)\n",
    "    num_rows_part1 = int(num_rows * sizes[0])\n",
    "    num_rows_part2 = int(num_rows * sizes[1])\n",
    "\n",
    "    # Split the DataFrame\n",
    "    gdf1 = gdf.iloc[:num_rows_part1]\n",
    "    gdf2 = gdf.iloc[num_rows_part1:num_rows_part1+num_rows_part2]\n",
    "    gdf3 = gdf.iloc[num_rows_part1+num_rows_part2:]\n",
    "\n",
    "    def filter_intersecting_polygons(gdf, other_gdfs, geometry_column='inner_geometry'):\n",
    "        \"\"\"\n",
    "        Filter out polygons in gdf that intersect with any polygon in other_gdfs using the specified geometry column.\n",
    "        geometry_column: Name of the geometry column to use for intersection checks.\n",
    "        \"\"\"\n",
    "        filtered_indices = []\n",
    "        for idx, geom in gdf[geometry_column].items():\n",
    "            \n",
    "            intersects = False\n",
    "            for other_gdf in other_gdfs:\n",
    "                # Create a temporary GeoDataFrame with the specified geometry column\n",
    "                temp_gdf = gpd.GeoDataFrame(geometry=other_gdf[geometry_column])\n",
    "                other_union = temp_gdf.union_all()\n",
    "                for idx_inner, geom_inner in other_gdf[geometry_column].items():\n",
    "                    if geom.intersects(geom_inner):\n",
    "                        #print(geom)\n",
    "                        #print(other_union)\n",
    "                        intersects = True\n",
    "                        break\n",
    "            if not intersects:\n",
    "                filtered_indices.append(idx)\n",
    "        return gdf.loc[filtered_indices]\n",
    "    \n",
    "    gdf1_filtered = filter_intersecting_polygons(gdf, [gdf2, gdf3])\n",
    "    gdf2_filtered = filter_intersecting_polygons(gdf2, [gdf3])\n",
    "    gdf3_filtered = gdf3\n",
    "    #gdf3_filtered = filter_intersecting_polygons(gdf3, [gdf1, gdf2])\n",
    "\n",
    "    print(len(gdf), len(gdf2),len(gdf3))\n",
    "    print(len(gdf1_filtered), len(gdf2_filtered),len(gdf3_filtered))\n",
    "\n",
    "    return gdf1_filtered, gdf2_filtered, gdf3_filtered\n",
    "\n",
    "\n",
    "#gdf = func()\n",
    "gdf = func(patch_size = 10, tile_size = 1000, stride = 5)\n",
    "\n",
    "gdf_train, gdf_val, gdf_test = random_split_gdf(gdf, sizes=[0.7, 0.15, 0.15])\n",
    "print(gdf)\n",
    "print(gdf_train)\n",
    "print(gdf_val)\n",
    "print(gdf_test)"
   ]
  },
  {
   "cell_type": "code",
   "execution_count": null,
   "metadata": {},
   "outputs": [
    {
     "name": "stderr",
     "output_type": "stream",
     "text": [
      "/tmp/ipykernel_34214/2957970711.py:11: UserWarning: Legend does not support handles for PatchCollection instances.\n",
      "See: https://matplotlib.org/stable/tutorials/intermediate/legend_guide.html#implementing-a-custom-legend-handler\n",
      "  ax.legend()\n",
      "/tmp/ipykernel_34214/2957970711.py:11: UserWarning: No artists with labels found to put in legend.  Note that artists whose label start with an underscore are ignored when legend() is called with no argument.\n",
      "  ax.legend()\n"
     ]
    },
    {
     "data": {
      "image/png": "[encoded data removed]",
      "text/plain": [
       "<Figure size 1000x1000 with 1 Axes>"
      ]
     },
     "metadata": {},
     "output_type": "display_data"
    }
   ],
   "source": [
    "import matplotlib.pyplot as plt\n",
    "\n",
    "fig, ax = plt.subplots(figsize=(10, 10))\n",
    "\n",
    "# Plot the filtered GeoDataFrames\n",
    "gdf_train.plot(ax=ax, color='blue', label='gdf1_filtered')\n",
    "gdf_val.plot(ax=ax, color='green', label='gdf2_filtered')\n",
    "gdf_test.plot(ax=ax, color='red', label='gdf3_filtered')\n",
    "\n",
    "# Add a legend\n",
    "ax.legend()\n",
    "\n",
    "# Show the plot\n",
    "plt.show()"
   ]
  },
  {
   "cell_type": "code",
   "execution_count": null,
   "metadata": {},
   "outputs": [],
   "source": [
    "import geopandas as gpd\n",
    "from shapely.geometry import Polygon\n",
    "\n",
    "\n",
    "\n",
    "\n",
    "\n",
    "# Create a list of polygons\n",
    "polygons = [\n",
    "    Polygon([(0, 0), (0, 1), (1, 1), (1, 0)]),\n",
    "    Polygon([(2, 2), (2, 3), (3, 3), (3, 2)])\n",
    "]\n",
    "\n",
    "# Create a GeoDataFrame\n",
    "gdf = gpd.GeoDataFrame({'geometry': polygons})\n",
    "\n",
    "# Print the GeoDataFrame\n",
    "print(gdf)"
   ]
  },
  {
   "cell_type": "code",
   "execution_count": null,
   "metadata": {},
   "outputs": [],
   "source": []
  },
  {
   "cell_type": "code",
   "execution_count": null,
   "metadata": {},
   "outputs": [],
   "source": []
  },
  {
   "cell_type": "code",
   "execution_count": null,
   "metadata": {},
   "outputs": [],
   "source": [
    "\n",
    "train_dataset = data.ImageDataset(files = train_files, \n",
    "                            mask_filename = \"masks/raster_aurb_032027.tif\", \n",
    "                            num_classes = num_classes,\n",
    "                            subtile_size = 10560/6,\n",
    "                            mean = mean, \n",
    "                            std = std,\n",
    "                            patch_size = (patch_size, patch_size),\n",
    "                            stride = stride,\n",
    "                            augment = data_aug)"
   ]
  }
 ],
 "metadata": {
  "kernelspec": {
   "display_name": ".venv",
   "language": "python",
   "name": "python3"
  },
  "language_info": {
   "codemirror_mode": {
    "name": "ipython",
    "version": 3
   },
   "file_extension": ".py",
   "mimetype": "text/x-python",
   "name": "python",
   "nbconvert_exporter": "python",
   "pygments_lexer": "ipython3",
   "version": "3.10.12"
  }
 },
 "nbformat": 4,
 "nbformat_minor": 2
}
