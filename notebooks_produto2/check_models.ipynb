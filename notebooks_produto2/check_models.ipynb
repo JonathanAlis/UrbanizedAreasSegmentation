{
 "cells": [
  {
   "cell_type": "markdown",
   "metadata": {},
   "source": [
    "### Testando os modelos UNET\n",
    "\n",
    "Principalmente verificando os shapes dos inputs e outputs, e o uso de memória da GPU"
   ]
  },
  {
   "cell_type": "code",
   "execution_count": null,
   "metadata": {},
   "outputs": [],
   "source": [
    "# imports\n",
    "\n",
    "import os\n",
    "import sys\n",
    "sys.path.append(os.path.abspath('..'))\n",
    "\n",
    "import src.models.unets as unets\n",
    "#import src.models.unets as unets\n",
    "\n",
    "import torch\n",
    "from torchinfo import summary\n"
   ]
  },
  {
   "cell_type": "code",
   "execution_count": null,
   "metadata": {},
   "outputs": [],
   "source": []
  },
  {
   "cell_type": "markdown",
   "metadata": {},
   "source": []
  },
  {
   "cell_type": "code",
   "execution_count": null,
   "metadata": {},
   "outputs": [],
   "source": [
    "def print_gpu_memory(prefix=\"\"):\n",
    "    if torch.cuda.is_available():\n",
    "        allocated = torch.cuda.memory_allocated() / (1024 ** 2)\n",
    "        reserved = torch.cuda.memory_reserved() / (1024 ** 2)\n",
    "        print(f\"{prefix} Memory Allocated: {allocated:.2f} MB\")\n",
    "        print(f\"{prefix} Memory Reserved: {reserved:.2f} MB\")\n",
    "    else:\n",
    "        print(\"CUDA is not available.\")\n",
    "\n",
    "\n",
    "device = torch.device(\"cuda\" if torch.cuda.is_available() else \"cpu\")\n",
    "torch.cuda.empty_cache() \n",
    "\n",
    "print_gpu_memory()\n"
   ]
  },
  {
   "cell_type": "code",
   "execution_count": null,
   "metadata": {},
   "outputs": [],
   "source": [
    "torch.cuda.empty_cache() \n"
   ]
  },
  {
   "cell_type": "code",
   "execution_count": null,
   "metadata": {},
   "outputs": [],
   "source": [
    "batch_size = 1\n",
    "num_classes = 9\n",
    "img_size = 64\n",
    "\n",
    "model = unets.UNetSmall(12, out_channels=num_classes).to(device)  # 12 channels, 9 classes\n",
    "input_tensor = torch.rand(batch_size, 12, img_size, img_size).to(device)  # batch = 6\n",
    "output = model(input_tensor)\n",
    "print('-------------------------------------------')\n",
    "print('UNet shapes:')\n",
    "print('Input:', input_tensor.shape)\n",
    "print('Output:', output.shape)\n",
    "print_gpu_memory()\n",
    "\n",
    "print('-------- SUMMARY ----------')\n",
    "print(summary(model, input_size=(batch_size, 12, img_size, img_size), depth=1))\n",
    "torch.cuda.empty_cache() \n",
    "\n"
   ]
  },
  {
   "cell_type": "code",
   "execution_count": null,
   "metadata": {},
   "outputs": [],
   "source": [
    "batch_size = 1\n",
    "num_classes = 9\n",
    "img_size = 64\n",
    "\n",
    "model = unets.UNetSmall(12, out_channels=num_classes, use_dist=True).to(device)  # 12 channels, 9 classes\n",
    "input_tensor = torch.rand(batch_size, 12, img_size, img_size).to(device)  # batch = 6\n",
    "output = model(input_tensor)\n",
    "print('-------------------------------------------')\n",
    "print('UNet shapes:')\n",
    "print('Input:', input_tensor.shape)\n",
    "print('Output:', output.shape)\n",
    "print_gpu_memory()\n",
    "\n",
    "print('-------- SUMMARY ----------')\n",
    "print(summary(model, input_size=(batch_size, 12, img_size, img_size), depth=1))\n",
    "torch.cuda.empty_cache() \n"
   ]
  },
  {
   "cell_type": "code",
   "execution_count": null,
   "metadata": {},
   "outputs": [],
   "source": []
  },
  {
   "cell_type": "code",
   "execution_count": null,
   "metadata": {},
   "outputs": [],
   "source": [
    "batch_size = 1\n",
    "num_classes = 9\n",
    "img_size = 256\n",
    "\n",
    "model = unets.UNet(12, out_channels=num_classes).to(device)  # 12 channels, 9 classes\n",
    "input_tensor = torch.rand(batch_size, 12, img_size, img_size).to(device)  # batch = 6\n",
    "output = model(input_tensor)\n",
    "print('-------------------------------------------')\n",
    "print('UNet shapes:')\n",
    "print('Input:', input_tensor.shape)\n",
    "print('Output:', output.shape)\n",
    "print_gpu_memory()\n",
    "\n",
    "print('-------- SUMMARY ----------')\n",
    "print(summary(model, input_size=(batch_size, 12, img_size, img_size), depth=1))\n",
    "torch.cuda.empty_cache() \n"
   ]
  },
  {
   "cell_type": "code",
   "execution_count": null,
   "metadata": {},
   "outputs": [],
   "source": []
  },
  {
   "cell_type": "code",
   "execution_count": null,
   "metadata": {},
   "outputs": [],
   "source": [
    "\n",
    "if 0:\n",
    "    model = unets.MultiUNet(12, out_channels=[2, 5, 4]).to(device)  # 12 channels, 5 classes\n",
    "    #model = unets.UNetSmall(12, out_channels=5).to(device)  # 12 channels, 5 classes\n",
    "    input_tensor = torch.rand(6, 12, 64, 64).to(device)  # batch = 6\n",
    "    output = model(input_tensor)\n",
    "    print('-------------------------------------------')\n",
    "    print('UNet shapes:')\n",
    "    print('Input:', input_tensor.shape)\n",
    "    print('Output:', output.shape)\n",
    "    print_gpu_memory()\n",
    "\n",
    "    print('-------- SUMMARY ----------')\n",
    "    print(summary(model, input_size=(6, 12, 64, 64), depth=1))\n",
    "    torch.cuda.empty_cache() "
   ]
  },
  {
   "cell_type": "code",
   "execution_count": null,
   "metadata": {},
   "outputs": [],
   "source": [
    "batch_size = 1\n",
    "num_classes = 9\n",
    "\n",
    "model = unets.UNetResNet34(12, out_channels=num_classes).to(device)  # 12 channels, 5 classes\n",
    "input_tensor = torch.rand(batch_size, 12, 224, 224).to(device)  # batch = 6\n",
    "output = model(input_tensor)\n",
    "print('-------------------------------------------')\n",
    "print('UNet shapes:')\n",
    "print('Input:', input_tensor.shape)\n",
    "print('Output:', output.shape)\n",
    "print_gpu_memory()\n",
    "\n",
    "print('-------- SUMMARY ----------')\n",
    "print(summary(model, input_size=(batch_size, 12, 224, 224), depth=2))\n",
    "torch.cuda.empty_cache() \n",
    "\n"
   ]
  },
  {
   "cell_type": "code",
   "execution_count": null,
   "metadata": {},
   "outputs": [],
   "source": [
    "batch_size = 1\n",
    "num_classes = 9\n",
    "\n",
    "model = unets.UNetEfficientNetB0(12, out_channels=num_classes).to(device)\n",
    "input_tensor = torch.rand(batch_size, 12, 224, 224).to(device)  # batch = 6\n",
    "output = model(input_tensor)\n",
    "print('-------------------------------------------')\n",
    "print('UNetEfficientNetB0 shapes:')\n",
    "print('Input:', input_tensor.shape)\n",
    "print('Output:', output.shape)\n",
    "print_gpu_memory()\n",
    "torch.cuda.empty_cache() \n",
    "\n",
    "print('-------- SUMMARY ----------')\n",
    "print(summary(model, input_size=(batch_size, 12, 224, 224), depth=3))\n",
    "torch.cuda.empty_cache() \n",
    "\n",
    "#print(model.efficientnet.features)\n"
   ]
  },
  {
   "cell_type": "code",
   "execution_count": null,
   "metadata": {},
   "outputs": [],
   "source": [
    "batch_size = 1\n",
    "num_classes = 9\n",
    "\n",
    "model = unets.UNetConvNext(12, out_channels=num_classes).to(device)\n",
    "input_tensor = torch.rand(batch_size, 12, 224, 224).to(device)  # batch = 6\n",
    "output = model(input_tensor)\n",
    "print('-------------------------------------------')\n",
    "print('UNetConvNext shapes:')\n",
    "print('Input:', input_tensor.shape)\n",
    "print('Output:', output.shape)\n",
    "print_gpu_memory()\n",
    "torch.cuda.empty_cache() \n",
    "print('-------- SUMMARY ----------')\n",
    "print(summary(model, input_size=(batch_size, 12, 224, 224), depth=8))\n",
    "torch.cuda.empty_cache() \n",
    "\n"
   ]
  },
  {
   "cell_type": "code",
   "execution_count": null,
   "metadata": {},
   "outputs": [],
   "source": []
  },
  {
   "cell_type": "markdown",
   "metadata": {},
   "source": [
    "## Testando modelos HRNet"
   ]
  },
  {
   "cell_type": "code",
   "execution_count": null,
   "metadata": {},
   "outputs": [],
   "source": [
    "import src.models.hrnets as hrnets\n",
    "\n",
    "batch_size = 1\n",
    "num_classes = 9\n",
    "img_size = 512\n",
    "\n",
    "model = hrnets.HRNetSegmentation(in_channels= 12, num_classes=num_classes, backbone=\"hrnet_w18_small\", pretrained=True).to(device)  # 12 channels, 5 classes\n",
    "input_tensor = torch.rand(batch_size, 12, img_size, img_size).to(device)  # batch = 6\n",
    "output = model(input_tensor)\n",
    "print('-------------------------------------------')\n",
    "print('UNetConvNext shapes:')\n",
    "print('Input:', input_tensor.shape)\n",
    "print('Output:', output.shape)\n",
    "print('Channels:', model.backbone.feature_info.channels())\n",
    "print_gpu_memory()\n",
    "torch.cuda.empty_cache() \n",
    "print('-------- SUMMARY ----------')\n",
    "print(summary(model, input_size=(batch_size, 12, img_size, img_size), depth=8))\n",
    "torch.cuda.empty_cache() \n"
   ]
  },
  {
   "cell_type": "code",
   "execution_count": null,
   "metadata": {},
   "outputs": [],
   "source": [
    "\n"
   ]
  },
  {
   "cell_type": "markdown",
   "metadata": {},
   "source": [
    "\n"
   ]
  },
  {
   "cell_type": "code",
   "execution_count": null,
   "metadata": {},
   "outputs": [],
   "source": [
    "\n",
    "batch_size = 1\n",
    "num_classes = 9\n",
    "img_size = 512\n",
    "\n",
    "model = hrnets.HRNetSegmentation(in_channels= 12, num_classes=num_classes, backbone=\"hrnet_w32\", pretrained=True, debug=True).to(device)  # 12 channels, 5 classes\n",
    "input_tensor = torch.rand(batch_size, 12, img_size, img_size).to(device)  # batch = 6\n",
    "output = model(input_tensor)\n",
    "print('-------------------------------------------')\n",
    "print('UNetConvNext shapes:')\n",
    "print('Input:', input_tensor.shape)\n",
    "print('Output:', output.shape)\n",
    "print('Channels:', model.backbone.feature_info.channels())\n",
    "print_gpu_memory()\n",
    "torch.cuda.empty_cache() \n",
    "print('-------- SUMMARY ----------')\n",
    "print(summary(model, input_size=(batch_size, 12, img_size, img_size), depth=5))\n",
    "torch.cuda.empty_cache() "
   ]
  },
  {
   "cell_type": "code",
   "execution_count": null,
   "metadata": {},
   "outputs": [],
   "source": [
    "batch_size = 4\n",
    "num_classes = 9\n",
    "img_size = 512\n",
    "\n",
    "model = hrnets.HRNetSegmentation(in_channels= 12, num_classes=num_classes, backbone=\"hrnet_w48\", pretrained=True, debug=True).to(device)  # 12 channels, 5 classes\n",
    "input_tensor = torch.rand(batch_size, 12, img_size, img_size).to(device)  # batch = 6\n",
    "output = model(input_tensor)\n",
    "print('-------------------------------------------')\n",
    "print('UNetConvNext shapes:')\n",
    "print('Input:', input_tensor.shape)\n",
    "print('Output:', output.shape)\n",
    "print('Channels:', model.backbone.feature_info.channels())\n",
    "print_gpu_memory()\n",
    "torch.cuda.empty_cache() \n",
    "print('-------- SUMMARY ----------')\n",
    "print(summary(model, input_size=(batch_size, 12, img_size, img_size), depth=8))\n",
    "torch.cuda.empty_cache() "
   ]
  },
  {
   "cell_type": "code",
   "execution_count": null,
   "metadata": {},
   "outputs": [],
   "source": []
  },
  {
   "cell_type": "code",
   "execution_count": null,
   "metadata": {},
   "outputs": [],
   "source": []
  },
  {
   "cell_type": "code",
   "execution_count": null,
   "metadata": {},
   "outputs": [],
   "source": [
    "type(model)"
   ]
  },
  {
   "cell_type": "code",
   "execution_count": null,
   "metadata": {},
   "outputs": [],
   "source": [
    "from torchinfo import summary\n",
    "\n",
    "summary(model, input_size=(1, 12, 256, 256))  # Specify batch size and input shape"
   ]
  },
  {
   "cell_type": "code",
   "execution_count": null,
   "metadata": {},
   "outputs": [],
   "source": [
    "model.backbone"
   ]
  },
  {
   "cell_type": "code",
   "execution_count": null,
   "metadata": {},
   "outputs": [],
   "source": [
    "import timm\n",
    "sample_hrnet = timm.create_model(\"hrnet_w18_small\", features_only=True, pretrained=True).to(device)\n",
    "input_tensor = torch.rand(1, 3, 512, 512).to(device)  # batch = 6\n",
    "output = sample_hrnet(input_tensor)\n",
    "for o in output:\n",
    "    print(o.shape)"
   ]
  },
  {
   "cell_type": "code",
   "execution_count": null,
   "metadata": {},
   "outputs": [],
   "source": [
    "sample_hrnet.conv1"
   ]
  },
  {
   "cell_type": "code",
   "execution_count": null,
   "metadata": {},
   "outputs": [],
   "source": [
    "sample_hrnet.modules"
   ]
  },
  {
   "cell_type": "code",
   "execution_count": null,
   "metadata": {},
   "outputs": [],
   "source": []
  }
 ],
 "metadata": {
  "kernelspec": {
   "display_name": ".venv",
   "language": "python",
   "name": "python3"
  },
  "language_info": {
   "codemirror_mode": {
    "name": "ipython",
    "version": 3
   },
   "file_extension": ".py",
   "mimetype": "text/x-python",
   "name": "python",
   "nbconvert_exporter": "python",
   "pygments_lexer": "ipython3",
   "version": "3.10.12"
  }
 },
 "nbformat": 4,
 "nbformat_minor": 2
}
