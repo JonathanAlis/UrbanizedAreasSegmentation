{
 "cells": [
  {
   "cell_type": "markdown",
   "metadata": {},
   "source": [
    "# Experimentos"
   ]
  },
  {
   "cell_type": "code",
   "execution_count": 1,
   "metadata": {},
   "outputs": [],
   "source": [
    "import torch\n"
   ]
  },
  {
   "cell_type": "code",
   "execution_count": 2,
   "metadata": {},
   "outputs": [
    {
     "name": "stdout",
     "output_type": "stream",
     "text": [
      " Memory Allocated: 0.00 MB\n",
      " Memory Reserved: 0.00 MB\n"
     ]
    }
   ],
   "source": [
    "def print_gpu_memory(prefix=\"\"):\n",
    "    if torch.cuda.is_available():\n",
    "        allocated = torch.cuda.memory_allocated() / (1024 ** 2)\n",
    "        reserved = torch.cuda.memory_reserved() / (1024 ** 2)\n",
    "        print(f\"{prefix} Memory Allocated: {allocated:.2f} MB\")\n",
    "        print(f\"{prefix} Memory Reserved: {reserved:.2f} MB\")\n",
    "    else:\n",
    "        print(\"CUDA is not available.\")\n",
    "\n",
    "\n",
    "device = torch.device(\"cuda\" if torch.cuda.is_available() else \"cpu\")\n",
    "torch.cuda.empty_cache() \n",
    "\n",
    "print_gpu_memory()"
   ]
  },
  {
   "cell_type": "code",
   "execution_count": 3,
   "metadata": {},
   "outputs": [
    {
     "name": "stderr",
     "output_type": "stream",
     "text": [
      "/home/jonathan/UrbanizedAreasSegmentation/.venv/lib/python3.10/site-packages/tqdm/auto.py:21: TqdmWarning: IProgress not found. Please update jupyter and ipywidgets. See https://ipywidgets.readthedocs.io/en/stable/user_install.html\n",
      "  from .autonotebook import tqdm as notebook_tqdm\n"
     ]
    }
   ],
   "source": [
    "# imports\n",
    "\n",
    "import os\n",
    "import sys\n",
    "sys.path.append(os.path.abspath('..'))\n",
    "\n",
    "import src.models.unets as unets\n",
    "import src.data.preprocess_data as data\n",
    "import src.training.train_model as train\n",
    "import src.models.hrnets as hrnets\n",
    "\n",
    "from torch.utils.data import DataLoader\n",
    "import torch.optim as optim\n",
    "\n"
   ]
  },
  {
   "cell_type": "code",
   "execution_count": 4,
   "metadata": {},
   "outputs": [],
   "source": [
    "\n",
    "tiles = ['032027']#, '032026'] \n",
    "num_subtiles = 6\n",
    "classes_mode = 'binary'\n",
    "\n",
    "if classes_mode == 'type':\n",
    "    num_classes = 5\n",
    "elif classes_mode == 'density':\n",
    "    num_classes = 4\n",
    "elif classes_mode == 'binary':\n",
    "    num_classes = 2\n",
    "else:\n",
    "    num_classes = 9\n",
    "\n",
    "\n"
   ]
  },
  {
   "cell_type": "code",
   "execution_count": 5,
   "metadata": {},
   "outputs": [],
   "source": [
    "model_param_grid = {\n",
    "    #model params:\n",
    "    'model' : [f'UNet-256-{classes_mode}', #ok\n",
    "               f'UNet-64-{classes_mode}', #ok\n",
    "               f'UNetResNet34-224-{classes_mode}', #ok\n",
    "               f'UNetEfficientNetB0-224-{classes_mode}', \n",
    "               f'UNetConvNext-224-{classes_mode}',\n",
    "               f'HRNet_w18-512-{classes_mode}',\n",
    "               f'HRNet_w32-512-{classes_mode}',\n",
    "               f'HRNet_w48-512-{classes_mode}'\n",
    "               ],\n",
    "        \n",
    "    #training params\n",
    "        # loss\n",
    "    'loss': ['BCE-dice'],#'BCE', 'dice', 'BCE-dice'],\n",
    "    'weighted_loss': [False],\n",
    "    'learning_rate': [0.0001],    \n",
    "    'epochs' : [10],\n",
    "    'patience' : [3],\n",
    "    'batch_size' : [4]\n",
    "       \n",
    "}\n"
   ]
  },
  {
   "cell_type": "code",
   "execution_count": 6,
   "metadata": {},
   "outputs": [
    {
     "name": "stdout",
     "output_type": "stream",
     "text": [
      "Training set size: 25\n",
      "Validation set size: 5\n",
      "Test set size: 6\n",
      "saved /home/jonathan/UrbanizedAreasSegmentation/config/train_val_test_split-6_subtiles-032027-stratified_by_binary.yaml\n"
     ]
    }
   ],
   "source": [
    "\n",
    "train_files, val_files, test_files = data.train_val_test_stratify(tiles, \n",
    "                                                                  num_subtiles,\n",
    "                                                                    train_size = 0.7, \n",
    "                                                                    val_size = 0.15, \n",
    "                                                                    stratify_by = classes_mode)\n",
    "\n"
   ]
  },
  {
   "cell_type": "code",
   "execution_count": 7,
   "metadata": {},
   "outputs": [
    {
     "name": "stdout",
     "output_type": "stream",
     "text": [
      "{'model': 'UNet-256-binary', 'loss': 'BCE-dice', 'weighted_loss': False, 'learning_rate': 0.0001, 'epochs': 10, 'patience': 3, 'batch_size': 4}\n",
      "Doing data augmentation...\n",
      "Augmented 0 images, of 4900\n",
      "Model is already saved\n",
      "Loading it e continue training...\n",
      "LOSS mode: BCE-dice\n",
      "Training for epoch 5 until epoch 10\n",
      "Training Epoch 5/10\n",
      "Running an epoch on the train mode.\n"
     ]
    },
    {
     "name": "stderr",
     "output_type": "stream",
     "text": [
      "100%|██████████| 1225/1225 [04:23<00:00,  4.64it/s]\n"
     ]
    },
    {
     "name": "stdout",
     "output_type": "stream",
     "text": [
      "Train Loss: 0.22041805444931498\n",
      "Train Accuracy: 0.9858588576316833\n",
      "              precision    recall  f1-score    support\n",
      "Class 0        0.992807  0.992247  0.992527  303913056\n",
      "Class 1        0.864461  0.873073  0.868746   17213076\n",
      "weighted avg   0.985927  0.985859  0.985892  321126144\n",
      "macro avg      0.928634  0.932660  0.930636  321126144\n",
      "micro avg      0.985859  0.985859  0.985859  321126144\n",
      "Running an epoch on the validation mode.\n"
     ]
    },
    {
     "name": "stderr",
     "output_type": "stream",
     "text": [
      "  9%|▉         | 23/245 [00:02<00:19, 11.53it/s]"
     ]
    },
    {
     "name": "stdout",
     "output_type": "stream",
     "text": [
      "Error while showing sample images...\n",
      "name 'view' is not defined\n"
     ]
    },
    {
     "name": "stderr",
     "output_type": "stream",
     "text": [
      " 71%|███████   | 173/245 [00:14<00:06, 11.97it/s]"
     ]
    },
    {
     "name": "stdout",
     "output_type": "stream",
     "text": [
      "Error while showing sample images...\n",
      "name 'view' is not defined\n"
     ]
    },
    {
     "name": "stderr",
     "output_type": "stream",
     "text": [
      " 77%|███████▋  | 189/245 [00:15<00:04, 11.91it/s]"
     ]
    },
    {
     "name": "stdout",
     "output_type": "stream",
     "text": [
      "Error while showing sample images...\n",
      "name 'view' is not defined\n",
      "Error while showing sample images...\n",
      "name 'view' is not defined\n"
     ]
    },
    {
     "name": "stderr",
     "output_type": "stream",
     "text": [
      " 93%|█████████▎| 227/245 [00:19<00:01, 12.03it/s]"
     ]
    },
    {
     "name": "stdout",
     "output_type": "stream",
     "text": [
      "Error while showing sample images...\n",
      "name 'view' is not defined\n"
     ]
    },
    {
     "name": "stderr",
     "output_type": "stream",
     "text": [
      " 98%|█████████▊| 241/245 [00:20<00:00, 11.95it/s]"
     ]
    },
    {
     "name": "stdout",
     "output_type": "stream",
     "text": [
      "Error while showing sample images...\n",
      "name 'view' is not defined\n"
     ]
    },
    {
     "name": "stderr",
     "output_type": "stream",
     "text": [
      "100%|██████████| 245/245 [00:20<00:00, 11.85it/s]\n"
     ]
    },
    {
     "name": "stdout",
     "output_type": "stream",
     "text": [
      "Train Loss: 0.21670273819140026\n",
      "Train Accuracy: 0.9813460111618042\n",
      "              precision    recall  f1-score   support\n",
      "Class 0        0.989152  0.990940  0.990045  60120440\n",
      "Class 1        0.863701  0.840824  0.852109   4104845\n",
      "weighted avg   0.981134  0.981346  0.981229  64225284\n",
      "macro avg      0.926426  0.915882  0.921077  64225284\n",
      "micro avg      0.981346  0.981346  0.981346  64225284\n",
      "Training Epoch 6/10\n",
      "Running an epoch on the train mode.\n"
     ]
    },
    {
     "name": "stderr",
     "output_type": "stream",
     "text": [
      "100%|██████████| 1225/1225 [04:22<00:00,  4.67it/s]\n"
     ]
    },
    {
     "name": "stdout",
     "output_type": "stream",
     "text": [
      "Train Loss: 0.21784794774590707\n",
      "Train Accuracy: 0.9864393472671509\n",
      "              precision    recall  f1-score    support\n",
      "Class 0        0.993233  0.992433  0.992833  303913536\n",
      "Class 1        0.868275  0.880610  0.874399   17213076\n",
      "weighted avg   0.986535  0.986439  0.986484  321126624\n",
      "macro avg      0.930754  0.936522  0.933616  321126624\n",
      "micro avg      0.986439  0.986439  0.986439  321126624\n",
      "Running an epoch on the validation mode.\n"
     ]
    },
    {
     "name": "stderr",
     "output_type": "stream",
     "text": [
      "  8%|▊         | 20/245 [00:01<00:19, 11.52it/s]"
     ]
    },
    {
     "name": "stdout",
     "output_type": "stream",
     "text": [
      "Error while showing sample images...\n",
      "name 'view' is not defined\n"
     ]
    },
    {
     "name": "stderr",
     "output_type": "stream",
     "text": [
      " 36%|███▌      | 88/245 [00:07<00:12, 12.25it/s]"
     ]
    },
    {
     "name": "stdout",
     "output_type": "stream",
     "text": [
      "Error while showing sample images...\n",
      "name 'view' is not defined\n"
     ]
    },
    {
     "name": "stderr",
     "output_type": "stream",
     "text": [
      " 44%|████▍     | 108/245 [00:08<00:11, 12.23it/s]"
     ]
    },
    {
     "name": "stdout",
     "output_type": "stream",
     "text": [
      "Error while showing sample images...\n",
      "name 'view' is not defined\n"
     ]
    },
    {
     "name": "stderr",
     "output_type": "stream",
     "text": [
      " 52%|█████▏    | 128/245 [00:10<00:09, 12.39it/s]"
     ]
    },
    {
     "name": "stdout",
     "output_type": "stream",
     "text": [
      "Error while showing sample images...\n",
      "name 'view' is not defined\n"
     ]
    },
    {
     "name": "stderr",
     "output_type": "stream",
     "text": [
      " 60%|██████    | 148/245 [00:12<00:07, 12.39it/s]"
     ]
    },
    {
     "name": "stdout",
     "output_type": "stream",
     "text": [
      "Error while showing sample images...\n",
      "name 'view' is not defined\n"
     ]
    },
    {
     "name": "stderr",
     "output_type": "stream",
     "text": [
      " 73%|███████▎  | 178/245 [00:14<00:05, 12.40it/s]"
     ]
    },
    {
     "name": "stdout",
     "output_type": "stream",
     "text": [
      "Error while showing sample images...\n",
      "name 'view' is not defined\n"
     ]
    },
    {
     "name": "stderr",
     "output_type": "stream",
     "text": [
      " 86%|████████▌ | 210/245 [00:17<00:02, 12.38it/s]"
     ]
    },
    {
     "name": "stdout",
     "output_type": "stream",
     "text": [
      "Error while showing sample images...\n",
      "name 'view' is not defined\n"
     ]
    },
    {
     "name": "stderr",
     "output_type": "stream",
     "text": [
      " 96%|█████████▌| 234/245 [00:19<00:00, 12.41it/s]"
     ]
    },
    {
     "name": "stdout",
     "output_type": "stream",
     "text": [
      "Error while showing sample images...\n",
      "name 'view' is not defined\n"
     ]
    },
    {
     "name": "stderr",
     "output_type": "stream",
     "text": [
      "100%|██████████| 245/245 [00:20<00:00, 12.22it/s]\n"
     ]
    },
    {
     "name": "stdout",
     "output_type": "stream",
     "text": [
      "Train Loss: 0.21978262060759018\n",
      "Train Accuracy: 0.9808125495910645\n",
      "              precision    recall  f1-score   support\n",
      "Class 0        0.988073  0.991471  0.989769  60120416\n",
      "Class 1        0.868452  0.824713  0.846017   4104845\n",
      "weighted avg   0.980428  0.980813  0.980581  64225260\n",
      "macro avg      0.928262  0.908092  0.917893  64225260\n",
      "micro avg      0.980813  0.980813  0.980813  64225260\n",
      "Training Epoch 7/10\n",
      "Running an epoch on the train mode.\n"
     ]
    },
    {
     "name": "stderr",
     "output_type": "stream",
     "text": [
      "100%|██████████| 1225/1225 [04:11<00:00,  4.86it/s]\n"
     ]
    },
    {
     "name": "stdout",
     "output_type": "stream",
     "text": [
      "Train Loss: 0.2152489631699056\n",
      "Train Accuracy: 0.9871179461479187\n",
      "              precision    recall  f1-score    support\n",
      "Class 0        0.993643  0.992740  0.993191  303913344\n",
      "Class 1        0.873837  0.887861  0.880793   17213080\n",
      "weighted avg   0.987221  0.987118  0.987166  321126432\n",
      "macro avg      0.933740  0.940300  0.936992  321126432\n",
      "micro avg      0.987118  0.987118  0.987118  321126432\n",
      "Running an epoch on the validation mode.\n"
     ]
    },
    {
     "name": "stderr",
     "output_type": "stream",
     "text": [
      "  7%|▋         | 16/245 [00:01<00:19, 11.56it/s]"
     ]
    },
    {
     "name": "stdout",
     "output_type": "stream",
     "text": [
      "Error while showing sample images...\n",
      "name 'view' is not defined\n"
     ]
    },
    {
     "name": "stderr",
     "output_type": "stream",
     "text": [
      " 16%|█▋        | 40/245 [00:03<00:16, 12.26it/s]"
     ]
    },
    {
     "name": "stdout",
     "output_type": "stream",
     "text": [
      "Error while showing sample images...\n",
      "name 'view' is not defined\n"
     ]
    },
    {
     "name": "stderr",
     "output_type": "stream",
     "text": [
      " 46%|████▌     | 112/245 [00:09<00:10, 12.43it/s]"
     ]
    },
    {
     "name": "stdout",
     "output_type": "stream",
     "text": [
      "Error while showing sample images...\n",
      "name 'view' is not defined\n"
     ]
    },
    {
     "name": "stderr",
     "output_type": "stream",
     "text": [
      " 58%|█████▊    | 142/245 [00:11<00:08, 12.27it/s]"
     ]
    },
    {
     "name": "stdout",
     "output_type": "stream",
     "text": [
      "Error while showing sample images...\n",
      "name 'view' is not defined\n"
     ]
    },
    {
     "name": "stderr",
     "output_type": "stream",
     "text": [
      " 60%|██████    | 148/245 [00:12<00:07, 12.35it/s]"
     ]
    },
    {
     "name": "stdout",
     "output_type": "stream",
     "text": [
      "Error while showing sample images...\n",
      "name 'view' is not defined\n"
     ]
    },
    {
     "name": "stderr",
     "output_type": "stream",
     "text": [
      " 64%|██████▎   | 156/245 [00:12<00:07, 12.19it/s]"
     ]
    },
    {
     "name": "stdout",
     "output_type": "stream",
     "text": [
      "Error while showing sample images...\n",
      "name 'view' is not defined\n"
     ]
    },
    {
     "name": "stderr",
     "output_type": "stream",
     "text": [
      " 76%|███████▌  | 186/245 [00:15<00:04, 12.36it/s]"
     ]
    },
    {
     "name": "stdout",
     "output_type": "stream",
     "text": [
      "Error while showing sample images...\n",
      "name 'view' is not defined\n"
     ]
    },
    {
     "name": "stderr",
     "output_type": "stream",
     "text": [
      "100%|██████████| 245/245 [00:19<00:00, 12.27it/s]\n"
     ]
    },
    {
     "name": "stdout",
     "output_type": "stream",
     "text": [
      "Train Loss: 0.2277711907211615\n",
      "Train Accuracy: 0.9806463718414307\n",
      "              precision    recall  f1-score   support\n",
      "Class 0        0.985110  0.994355  0.989711  60120412\n",
      "Class 1        0.904144  0.779870  0.837422   4104845\n",
      "weighted avg   0.979935  0.980646  0.979977  64225256\n",
      "macro avg      0.944627  0.887113  0.913566  64225256\n",
      "micro avg      0.980646  0.980646  0.980646  64225256\n",
      "Training Epoch 8/10\n",
      "Running an epoch on the train mode.\n"
     ]
    },
    {
     "name": "stderr",
     "output_type": "stream",
     "text": [
      "100%|██████████| 1225/1225 [04:11<00:00,  4.86it/s]\n"
     ]
    },
    {
     "name": "stdout",
     "output_type": "stream",
     "text": [
      "Train Loss: 0.2133864805710559\n",
      "Train Accuracy: 0.9875217080116272\n",
      "              precision    recall  f1-score    support\n",
      "Class 0        0.993809  0.993001  0.993405  303913504\n",
      "Class 1        0.878171  0.890784  0.884433   17213086\n",
      "weighted avg   0.987611  0.987522  0.987564  321126592\n",
      "macro avg      0.935990  0.941893  0.938919  321126592\n",
      "micro avg      0.987522  0.987522  0.987522  321126592\n",
      "Running an epoch on the validation mode.\n"
     ]
    },
    {
     "name": "stderr",
     "output_type": "stream",
     "text": [
      " 13%|█▎        | 33/245 [00:02<00:17, 12.23it/s]"
     ]
    },
    {
     "name": "stdout",
     "output_type": "stream",
     "text": [
      "Error while showing sample images...\n",
      "name 'view' is not defined\n"
     ]
    },
    {
     "name": "stderr",
     "output_type": "stream",
     "text": [
      " 26%|██▌       | 63/245 [00:05<00:14, 12.42it/s]"
     ]
    },
    {
     "name": "stdout",
     "output_type": "stream",
     "text": [
      "Error while showing sample images...\n",
      "name 'view' is not defined\n"
     ]
    },
    {
     "name": "stderr",
     "output_type": "stream",
     "text": [
      " 40%|███▉      | 97/245 [00:08<00:12, 12.30it/s]"
     ]
    },
    {
     "name": "stdout",
     "output_type": "stream",
     "text": [
      "Error while showing sample images...\n",
      "name 'view' is not defined\n"
     ]
    },
    {
     "name": "stderr",
     "output_type": "stream",
     "text": [
      " 64%|██████▍   | 157/245 [00:12<00:07, 12.43it/s]"
     ]
    },
    {
     "name": "stdout",
     "output_type": "stream",
     "text": [
      "Error while showing sample images...\n",
      "name 'view' is not defined\n"
     ]
    },
    {
     "name": "stderr",
     "output_type": "stream",
     "text": [
      "100%|██████████| 245/245 [00:19<00:00, 12.28it/s]\n"
     ]
    },
    {
     "name": "stdout",
     "output_type": "stream",
     "text": [
      "Train Loss: 0.22355329893073256\n",
      "Train Accuracy: 0.9788089990615845\n",
      "              precision    recall  f1-score   support\n",
      "Class 0        0.990890  0.986431  0.988656  60120404\n",
      "Class 1        0.813556  0.867173  0.839509   4104845\n",
      "weighted avg   0.979556  0.978809  0.979123  64225248\n",
      "macro avg      0.902223  0.926802  0.914082  64225248\n",
      "micro avg      0.978809  0.978809  0.978809  64225248\n",
      "{'model': 'UNet-64-binary', 'loss': 'BCE-dice', 'weighted_loss': False, 'learning_rate': 0.0001, 'epochs': 10, 'patience': 3, 'batch_size': 4}\n",
      "Doing data augmentation...\n",
      "Augmented 0 images, of 75625\n",
      "Model is already saved\n",
      "Loading it e continue training...\n",
      "LOSS mode: BCE-dice\n",
      "Training for epoch 5 until epoch 10\n",
      "Training Epoch 5/10\n",
      "Running an epoch on the train mode.\n"
     ]
    },
    {
     "name": "stderr",
     "output_type": "stream",
     "text": [
      "100%|██████████| 18907/18907 [12:56<00:00, 24.34it/s]\n"
     ]
    },
    {
     "name": "stdout",
     "output_type": "stream",
     "text": [
      "Train Loss: 0.25604689717765683\n",
      "Train Accuracy: 0.9863578081130981\n",
      "              precision    recall  f1-score    support\n",
      "Class 0        0.991862  0.993700  0.992780  292378496\n",
      "Class 1        0.890612  0.862854  0.876514   17381508\n",
      "weighted avg   0.986181  0.986358  0.986256  309760000\n",
      "macro avg      0.941237  0.928277  0.934647  309760000\n",
      "micro avg      0.986358  0.986358  0.986358  309760000\n",
      "Running an epoch on the validation mode.\n"
     ]
    },
    {
     "name": "stderr",
     "output_type": "stream",
     "text": [
      "  7%|▋         | 254/3782 [00:05<01:07, 52.36it/s]"
     ]
    },
    {
     "name": "stdout",
     "output_type": "stream",
     "text": [
      "Error while showing sample images...\n",
      "name 'view' is not defined\n"
     ]
    },
    {
     "name": "stderr",
     "output_type": "stream",
     "text": [
      " 63%|██████▎   | 2384/3782 [00:46<00:27, 51.43it/s]"
     ]
    },
    {
     "name": "stdout",
     "output_type": "stream",
     "text": [
      "Error while showing sample images...\n",
      "name 'view' is not defined\n"
     ]
    },
    {
     "name": "stderr",
     "output_type": "stream",
     "text": [
      " 86%|████████▌ | 3242/3782 [01:02<00:10, 51.69it/s]"
     ]
    },
    {
     "name": "stdout",
     "output_type": "stream",
     "text": [
      "Error while showing sample images...\n",
      "name 'view' is not defined\n"
     ]
    },
    {
     "name": "stderr",
     "output_type": "stream",
     "text": [
      " 97%|█████████▋| 3680/3782 [01:11<00:01, 51.69it/s]"
     ]
    },
    {
     "name": "stdout",
     "output_type": "stream",
     "text": [
      "Error while showing sample images...\n",
      "name 'view' is not defined\n"
     ]
    },
    {
     "name": "stderr",
     "output_type": "stream",
     "text": [
      "100%|██████████| 3782/3782 [01:13<00:00, 51.51it/s]\n"
     ]
    },
    {
     "name": "stdout",
     "output_type": "stream",
     "text": [
      "Train Loss: 0.25612895784496276\n",
      "Train Accuracy: 0.9791060090065002\n",
      "              precision    recall  f1-score   support\n",
      "Class 0        0.990359  0.987254  0.988804  57898552\n",
      "Class 1        0.825742  0.862720  0.843826   4053412\n",
      "weighted avg   0.979588  0.979106  0.979318  61951964\n",
      "macro avg      0.908050  0.924987  0.916315  61951964\n",
      "micro avg      0.979106  0.979106  0.979106  61951964\n",
      "Training Epoch 6/10\n",
      "Running an epoch on the train mode.\n"
     ]
    },
    {
     "name": "stderr",
     "output_type": "stream",
     "text": [
      "100%|██████████| 18907/18907 [13:01<00:00, 24.20it/s]\n"
     ]
    },
    {
     "name": "stdout",
     "output_type": "stream",
     "text": [
      "Train Loss: 0.25464693292310414\n",
      "Train Accuracy: 0.9868764281272888\n",
      "              precision    recall  f1-score    support\n",
      "Class 0        0.992318  0.993790  0.993053  292379072\n",
      "Class 1        0.892863  0.870584  0.881583   17381532\n",
      "weighted avg   0.986737  0.986876  0.986798  309760608\n",
      "macro avg      0.942590  0.932187  0.937318  309760608\n",
      "micro avg      0.986876  0.986876  0.986876  309760608\n",
      "Running an epoch on the validation mode.\n"
     ]
    },
    {
     "name": "stderr",
     "output_type": "stream",
     "text": [
      " 24%|██▍       | 920/3782 [00:18<00:55, 51.38it/s]"
     ]
    },
    {
     "name": "stdout",
     "output_type": "stream",
     "text": [
      "Error while showing sample images...\n",
      "name 'view' is not defined\n"
     ]
    },
    {
     "name": "stderr",
     "output_type": "stream",
     "text": [
      " 50%|█████     | 1909/3782 [00:37<00:36, 51.09it/s]"
     ]
    },
    {
     "name": "stdout",
     "output_type": "stream",
     "text": [
      "Error while showing sample images...\n",
      "name 'view' is not defined\n"
     ]
    },
    {
     "name": "stderr",
     "output_type": "stream",
     "text": [
      " 56%|█████▌    | 2107/3782 [00:41<00:32, 51.18it/s]"
     ]
    },
    {
     "name": "stdout",
     "output_type": "stream",
     "text": [
      "Error while showing sample images...\n",
      "name 'view' is not defined\n"
     ]
    },
    {
     "name": "stderr",
     "output_type": "stream",
     "text": [
      " 63%|██████▎   | 2364/3782 [00:46<00:28, 49.85it/s]"
     ]
    },
    {
     "name": "stdout",
     "output_type": "stream",
     "text": [
      "Error while showing sample images...\n",
      "name 'view' is not defined\n"
     ]
    },
    {
     "name": "stderr",
     "output_type": "stream",
     "text": [
      "100%|██████████| 3782/3782 [01:14<00:00, 51.00it/s]\n"
     ]
    },
    {
     "name": "stdout",
     "output_type": "stream",
     "text": [
      "Train Loss: 0.2599396663539666\n",
      "Train Accuracy: 0.9786866903305054\n",
      "              precision    recall  f1-score   support\n",
      "Class 0        0.984400  0.992930  0.988646  57898604\n",
      "Class 1        0.884744  0.775240  0.826380   4053412\n",
      "weighted avg   0.977880  0.978687  0.978030  61952016\n",
      "macro avg      0.934572  0.884085  0.907513  61952016\n",
      "micro avg      0.978687  0.978687  0.978687  61952016\n",
      "Training Epoch 7/10\n",
      "Running an epoch on the train mode.\n"
     ]
    },
    {
     "name": "stderr",
     "output_type": "stream",
     "text": [
      "100%|██████████| 18907/18907 [13:03<00:00, 24.12it/s]\n"
     ]
    },
    {
     "name": "stdout",
     "output_type": "stream",
     "text": [
      "Train Loss: 0.25343532926149603\n",
      "Train Accuracy: 0.9874089956283569\n",
      "              precision    recall  f1-score    support\n",
      "Class 0        0.992797  0.993871  0.993334  292379168\n",
      "Class 1        0.894988  0.878712  0.886775   17381538\n",
      "weighted avg   0.987309  0.987409  0.987355  309760704\n",
      "macro avg      0.943893  0.936291  0.940054  309760704\n",
      "micro avg      0.987409  0.987409  0.987409  309760704\n",
      "Running an epoch on the validation mode.\n"
     ]
    },
    {
     "name": "stderr",
     "output_type": "stream",
     "text": [
      " 12%|█▏        | 454/3782 [00:09<01:04, 51.21it/s]"
     ]
    },
    {
     "name": "stdout",
     "output_type": "stream",
     "text": [
      "Error while showing sample images...\n",
      "name 'view' is not defined\n"
     ]
    },
    {
     "name": "stderr",
     "output_type": "stream",
     "text": [
      " 29%|██▊       | 1078/3782 [00:21<00:52, 51.45it/s]"
     ]
    },
    {
     "name": "stdout",
     "output_type": "stream",
     "text": [
      "Error while showing sample images...\n",
      "name 'view' is not defined\n"
     ]
    },
    {
     "name": "stderr",
     "output_type": "stream",
     "text": [
      " 38%|███▊      | 1455/3782 [00:28<00:47, 48.56it/s]"
     ]
    },
    {
     "name": "stdout",
     "output_type": "stream",
     "text": [
      "Error while showing sample images...\n",
      "name 'view' is not defined\n"
     ]
    },
    {
     "name": "stderr",
     "output_type": "stream",
     "text": [
      " 86%|████████▌ | 3254/3782 [01:03<00:10, 50.81it/s]"
     ]
    },
    {
     "name": "stdout",
     "output_type": "stream",
     "text": [
      "Error while showing sample images...\n",
      "name 'view' is not defined\n"
     ]
    },
    {
     "name": "stderr",
     "output_type": "stream",
     "text": [
      " 94%|█████████▍| 3554/3782 [01:09<00:04, 51.62it/s]"
     ]
    },
    {
     "name": "stdout",
     "output_type": "stream",
     "text": [
      "Error while showing sample images...\n",
      "name 'view' is not defined\n"
     ]
    },
    {
     "name": "stderr",
     "output_type": "stream",
     "text": [
      "100%|██████████| 3782/3782 [01:14<00:00, 50.96it/s]\n"
     ]
    },
    {
     "name": "stdout",
     "output_type": "stream",
     "text": [
      "Train Loss: 0.25591114101331097\n",
      "Train Accuracy: 0.9798074960708618\n",
      "              precision    recall  f1-score   support\n",
      "Class 0        0.988241  0.990175  0.989208  57898564\n",
      "Class 1        0.855631  0.831713  0.843502   4053412\n",
      "weighted avg   0.979565  0.979807  0.979674  61951976\n",
      "macro avg      0.921936  0.910944  0.916355  61951976\n",
      "micro avg      0.979808  0.979808  0.979808  61951976\n",
      "Training Epoch 8/10\n",
      "Running an epoch on the train mode.\n"
     ]
    },
    {
     "name": "stderr",
     "output_type": "stream",
     "text": [
      "100%|██████████| 18907/18907 [13:04<00:00, 24.10it/s]\n"
     ]
    },
    {
     "name": "stdout",
     "output_type": "stream",
     "text": [
      "Train Loss: 0.2520674005784279\n",
      "Train Accuracy: 0.9880613088607788\n",
      "              precision    recall  f1-score    support\n",
      "Class 0        0.993302  0.994055  0.993678  292378560\n",
      "Class 1        0.898705  0.887237  0.892935   17381520\n",
      "weighted avg   0.987993  0.988061  0.988025  309760064\n",
      "macro avg      0.946003  0.940646  0.943306  309760064\n",
      "micro avg      0.988061  0.988061  0.988061  309760064\n",
      "Running an epoch on the validation mode.\n"
     ]
    },
    {
     "name": "stderr",
     "output_type": "stream",
     "text": [
      " 67%|██████▋   | 2534/3782 [00:49<00:24, 51.33it/s]"
     ]
    },
    {
     "name": "stdout",
     "output_type": "stream",
     "text": [
      "Error while showing sample images...\n",
      "name 'view' is not defined\n"
     ]
    },
    {
     "name": "stderr",
     "output_type": "stream",
     "text": [
      " 86%|████████▌ | 3246/3782 [01:03<00:10, 51.45it/s]"
     ]
    },
    {
     "name": "stdout",
     "output_type": "stream",
     "text": [
      "Error while showing sample images...\n",
      "name 'view' is not defined\n"
     ]
    },
    {
     "name": "stderr",
     "output_type": "stream",
     "text": [
      "100%|██████████| 3782/3782 [01:14<00:00, 50.81it/s]\n"
     ]
    },
    {
     "name": "stdout",
     "output_type": "stream",
     "text": [
      "Train Loss: 0.2559713208852721\n",
      "Train Accuracy: 0.9803114533424377\n",
      "              precision    recall  f1-score   support\n",
      "Class 0        0.988010  0.990958  0.989482  57898576\n",
      "Class 1        0.865102  0.828231  0.846265   4053412\n",
      "weighted avg   0.979969  0.980311  0.980112  61951988\n",
      "macro avg      0.926556  0.909595  0.917874  61951988\n",
      "micro avg      0.980311  0.980311  0.980311  61951988\n",
      "Training Epoch 9/10\n",
      "Running an epoch on the train mode.\n"
     ]
    },
    {
     "name": "stderr",
     "output_type": "stream",
     "text": [
      "100%|██████████| 18907/18907 [13:05<00:00, 24.07it/s]\n"
     ]
    },
    {
     "name": "stdout",
     "output_type": "stream",
     "text": [
      "Train Loss: 0.2508381509796647\n",
      "Train Accuracy: 0.9885525703430176\n",
      "              precision    recall  f1-score    support\n",
      "Class 0        0.993716  0.994158  0.993937  292379328\n",
      "Class 1        0.900997  0.894255  0.897613   17381522\n",
      "weighted avg   0.988514  0.988552  0.988532  309760864\n",
      "macro avg      0.947357  0.944207  0.945775  309760864\n",
      "micro avg      0.988553  0.988553  0.988553  309760864\n",
      "Running an epoch on the validation mode.\n"
     ]
    },
    {
     "name": "stderr",
     "output_type": "stream",
     "text": [
      " 11%|█         | 404/3782 [00:08<01:05, 51.51it/s]"
     ]
    },
    {
     "name": "stdout",
     "output_type": "stream",
     "text": [
      "Error while showing sample images...\n",
      "name 'view' is not defined\n",
      "Error while showing sample images...\n",
      "name 'view' is not defined\n"
     ]
    },
    {
     "name": "stderr",
     "output_type": "stream",
     "text": [
      " 31%|███▏      | 1183/3782 [00:23<00:50, 51.24it/s]"
     ]
    },
    {
     "name": "stdout",
     "output_type": "stream",
     "text": [
      "Error while showing sample images...\n",
      "name 'view' is not defined\n"
     ]
    },
    {
     "name": "stderr",
     "output_type": "stream",
     "text": [
      " 36%|███▌      | 1368/3782 [00:26<00:47, 51.22it/s]"
     ]
    },
    {
     "name": "stdout",
     "output_type": "stream",
     "text": [
      "Error while showing sample images...\n",
      "name 'view' is not defined\n"
     ]
    },
    {
     "name": "stderr",
     "output_type": "stream",
     "text": [
      " 44%|████▍     | 1674/3782 [00:32<00:40, 51.71it/s]"
     ]
    },
    {
     "name": "stdout",
     "output_type": "stream",
     "text": [
      "Error while showing sample images...\n",
      "name 'view' is not defined\n"
     ]
    },
    {
     "name": "stderr",
     "output_type": "stream",
     "text": [
      " 54%|█████▍    | 2052/3782 [00:40<00:33, 51.01it/s]"
     ]
    },
    {
     "name": "stdout",
     "output_type": "stream",
     "text": [
      "Error while showing sample images...\n",
      "name 'view' is not defined\n"
     ]
    },
    {
     "name": "stderr",
     "output_type": "stream",
     "text": [
      " 61%|██████    | 2307/3782 [00:45<00:30, 48.70it/s]"
     ]
    },
    {
     "name": "stdout",
     "output_type": "stream",
     "text": [
      "Error while showing sample images...\n",
      "name 'view' is not defined\n"
     ]
    },
    {
     "name": "stderr",
     "output_type": "stream",
     "text": [
      " 81%|████████  | 3051/3782 [01:00<00:14, 51.33it/s]"
     ]
    },
    {
     "name": "stdout",
     "output_type": "stream",
     "text": [
      "Error while showing sample images...\n",
      "name 'view' is not defined\n"
     ]
    },
    {
     "name": "stderr",
     "output_type": "stream",
     "text": [
      " 82%|████████▏ | 3110/3782 [01:01<00:13, 50.02it/s]"
     ]
    },
    {
     "name": "stdout",
     "output_type": "stream",
     "text": [
      "Error while showing sample images...\n",
      "name 'view' is not defined\n"
     ]
    },
    {
     "name": "stderr",
     "output_type": "stream",
     "text": [
      "100%|██████████| 3782/3782 [01:14<00:00, 50.85it/s]\n"
     ]
    },
    {
     "name": "stdout",
     "output_type": "stream",
     "text": [
      "Train Loss: 0.25723030135848307\n",
      "Train Accuracy: 0.9798814654350281\n",
      "              precision    recall  f1-score   support\n",
      "Class 0        0.987491  0.991027  0.989256  57898600\n",
      "Class 1        0.864923  0.820677  0.842219   4053412\n",
      "weighted avg   0.979471  0.979881  0.979635  61952012\n",
      "macro avg      0.926207  0.905852  0.915737  61952012\n",
      "micro avg      0.979881  0.979881  0.979881  61952012\n",
      "Training Epoch 10/10\n",
      "Running an epoch on the train mode.\n"
     ]
    },
    {
     "name": "stderr",
     "output_type": "stream",
     "text": [
      "100%|██████████| 18907/18907 [13:05<00:00, 24.07it/s]\n"
     ]
    },
    {
     "name": "stdout",
     "output_type": "stream",
     "text": [
      "Train Loss: 0.2496940902745428\n",
      "Train Accuracy: 0.9891619086265564\n",
      "              precision    recall  f1-score    support\n",
      "Class 0        0.994105  0.994414  0.994260  292379360\n",
      "Class 1        0.905547  0.900809  0.903172   17381496\n",
      "weighted avg   0.989136  0.989162  0.989148  309760864\n",
      "macro avg      0.949826  0.947612  0.948716  309760864\n",
      "micro avg      0.989162  0.989162  0.989162  309760864\n",
      "Running an epoch on the validation mode.\n"
     ]
    },
    {
     "name": "stderr",
     "output_type": "stream",
     "text": [
      " 45%|████▌     | 1703/3782 [00:33<00:40, 51.42it/s]"
     ]
    },
    {
     "name": "stdout",
     "output_type": "stream",
     "text": [
      "Error while showing sample images...\n",
      "name 'view' is not defined\n"
     ]
    },
    {
     "name": "stderr",
     "output_type": "stream",
     "text": [
      "100%|██████████| 3782/3782 [01:14<00:00, 50.70it/s]\n"
     ]
    },
    {
     "name": "stdout",
     "output_type": "stream",
     "text": [
      "Train Loss: 0.2592452602898779\n",
      "Train Accuracy: 0.9795976281166077\n",
      "              precision    recall  f1-score   support\n",
      "Class 0        0.985092  0.993200  0.989129  57898592\n",
      "Class 1        0.889934  0.785297  0.834347   4053412\n",
      "weighted avg   0.978866  0.979598  0.979002  61952004\n",
      "macro avg      0.937513  0.889249  0.911738  61952004\n",
      "micro avg      0.979598  0.979598  0.979598  61952004\n",
      "{'model': 'UNetResNet34-224-binary', 'loss': 'BCE-dice', 'weighted_loss': False, 'learning_rate': 0.0001, 'epochs': 10, 'patience': 3, 'batch_size': 4}\n",
      "Doing data augmentation...\n",
      "Augmented 0 images, of 6400\n",
      "Model is already saved\n",
      "Loading it e continue training...\n",
      "LOSS mode: BCE-dice\n",
      "Training for epoch 3 until epoch 10\n",
      "Training Epoch 3/10\n",
      "Running an epoch on the train mode.\n"
     ]
    },
    {
     "name": "stderr",
     "output_type": "stream",
     "text": [
      "100%|██████████| 1600/1600 [01:44<00:00, 15.32it/s]\n"
     ]
    },
    {
     "name": "stdout",
     "output_type": "stream",
     "text": [
      "Train Loss: 0.2208306494122371\n",
      "Train Accuracy: 0.9877714514732361\n",
      "              precision    recall  f1-score    support\n",
      "Class 0        0.993587  0.993484  0.993536  303760704\n",
      "Class 1        0.886233  0.887838  0.887035   17365420\n",
      "weighted avg   0.987782  0.987771  0.987777  321126112\n",
      "macro avg      0.939910  0.940661  0.940285  321126112\n",
      "micro avg      0.987771  0.987771  0.987771  321126112\n",
      "Running an epoch on the validation mode.\n"
     ]
    },
    {
     "name": "stderr",
     "output_type": "stream",
     "text": [
      " 24%|██▍       | 76/320 [00:02<00:08, 30.38it/s]"
     ]
    },
    {
     "name": "stdout",
     "output_type": "stream",
     "text": [
      "Error while showing sample images...\n",
      "name 'view' is not defined\n"
     ]
    },
    {
     "name": "stderr",
     "output_type": "stream",
     "text": [
      " 34%|███▍      | 108/320 [00:03<00:06, 31.01it/s]"
     ]
    },
    {
     "name": "stdout",
     "output_type": "stream",
     "text": [
      "Error while showing sample images...\n",
      "name 'view' is not defined\n"
     ]
    },
    {
     "name": "stderr",
     "output_type": "stream",
     "text": [
      " 58%|█████▊    | 187/320 [00:06<00:04, 30.65it/s]"
     ]
    },
    {
     "name": "stdout",
     "output_type": "stream",
     "text": [
      "Error while showing sample images...\n",
      "name 'view' is not defined\n"
     ]
    },
    {
     "name": "stderr",
     "output_type": "stream",
     "text": [
      " 63%|██████▎   | 203/320 [00:06<00:03, 30.36it/s]"
     ]
    },
    {
     "name": "stdout",
     "output_type": "stream",
     "text": [
      "Error while showing sample images...\n",
      "name 'view' is not defined\n"
     ]
    },
    {
     "name": "stderr",
     "output_type": "stream",
     "text": [
      " 66%|██████▌   | 211/320 [00:07<00:03, 30.32it/s]"
     ]
    },
    {
     "name": "stdout",
     "output_type": "stream",
     "text": [
      "Error while showing sample images...\n",
      "name 'view' is not defined\n"
     ]
    },
    {
     "name": "stderr",
     "output_type": "stream",
     "text": [
      " 77%|███████▋  | 247/320 [00:08<00:02, 30.37it/s]"
     ]
    },
    {
     "name": "stdout",
     "output_type": "stream",
     "text": [
      "Error while showing sample images...\n",
      "name 'view' is not defined\n",
      "Error while showing sample images...\n",
      "name 'view' is not defined\n"
     ]
    },
    {
     "name": "stderr",
     "output_type": "stream",
     "text": [
      "100%|██████████| 320/320 [00:10<00:00, 29.83it/s]\n"
     ]
    },
    {
     "name": "stdout",
     "output_type": "stream",
     "text": [
      "Train Loss: 0.24200313934125006\n",
      "Train Accuracy: 0.9664908647537231\n",
      "              precision    recall  f1-score   support\n",
      "Class 0        0.994623  0.969449  0.981875  60129736\n",
      "Class 1        0.672979  0.923060  0.778427   4095537\n",
      "weighted avg   0.974113  0.966491  0.968901  64225272\n",
      "macro avg      0.833801  0.946255  0.880151  64225272\n",
      "micro avg      0.966491  0.966491  0.966491  64225272\n",
      "Training Epoch 4/10\n",
      "Running an epoch on the train mode.\n"
     ]
    },
    {
     "name": "stderr",
     "output_type": "stream",
     "text": [
      "100%|██████████| 1600/1600 [01:45<00:00, 15.23it/s]\n"
     ]
    },
    {
     "name": "stdout",
     "output_type": "stream",
     "text": [
      "Train Loss: 0.21229911221191286\n",
      "Train Accuracy: 0.990375280380249\n",
      "              precision    recall  f1-score    support\n",
      "Class 0        0.995140  0.994683  0.994911  303760928\n",
      "Class 1        0.907733  0.915025  0.911364   17365424\n",
      "weighted avg   0.990413  0.990375  0.990394  321126336\n",
      "macro avg      0.951437  0.954854  0.953138  321126336\n",
      "micro avg      0.990375  0.990375  0.990375  321126336\n",
      "Running an epoch on the validation mode.\n"
     ]
    },
    {
     "name": "stderr",
     "output_type": "stream",
     "text": [
      "  8%|▊         | 26/320 [00:01<00:10, 27.83it/s]"
     ]
    },
    {
     "name": "stdout",
     "output_type": "stream",
     "text": [
      "Error while showing sample images...\n",
      "name 'view' is not defined\n"
     ]
    },
    {
     "name": "stderr",
     "output_type": "stream",
     "text": [
      " 15%|█▌        | 48/320 [00:01<00:09, 29.46it/s]"
     ]
    },
    {
     "name": "stdout",
     "output_type": "stream",
     "text": [
      "Error while showing sample images...\n",
      "name 'view' is not defined\n"
     ]
    },
    {
     "name": "stderr",
     "output_type": "stream",
     "text": [
      " 24%|██▍       | 78/320 [00:02<00:08, 29.94it/s]"
     ]
    },
    {
     "name": "stdout",
     "output_type": "stream",
     "text": [
      "Error while showing sample images...\n",
      "name 'view' is not defined\n"
     ]
    },
    {
     "name": "stderr",
     "output_type": "stream",
     "text": [
      " 32%|███▏      | 102/320 [00:03<00:07, 30.37it/s]"
     ]
    },
    {
     "name": "stdout",
     "output_type": "stream",
     "text": [
      "Error while showing sample images...\n",
      "name 'view' is not defined\n"
     ]
    },
    {
     "name": "stderr",
     "output_type": "stream",
     "text": [
      " 54%|█████▍    | 174/320 [00:05<00:04, 30.41it/s]"
     ]
    },
    {
     "name": "stdout",
     "output_type": "stream",
     "text": [
      "Error while showing sample images...\n",
      "name 'view' is not defined\n"
     ]
    },
    {
     "name": "stderr",
     "output_type": "stream",
     "text": [
      " 62%|██████▏   | 198/320 [00:06<00:04, 30.31it/s]"
     ]
    },
    {
     "name": "stdout",
     "output_type": "stream",
     "text": [
      "Error while showing sample images...\n",
      "name 'view' is not defined\n"
     ]
    },
    {
     "name": "stderr",
     "output_type": "stream",
     "text": [
      " 87%|████████▋ | 277/320 [00:09<00:01, 30.28it/s]"
     ]
    },
    {
     "name": "stdout",
     "output_type": "stream",
     "text": [
      "Error while showing sample images...\n",
      "name 'view' is not defined\n"
     ]
    },
    {
     "name": "stderr",
     "output_type": "stream",
     "text": [
      "100%|██████████| 320/320 [00:10<00:00, 29.77it/s]\n"
     ]
    },
    {
     "name": "stdout",
     "output_type": "stream",
     "text": [
      "Train Loss: 0.24487759466283024\n",
      "Train Accuracy: 0.977412223815918\n",
      "              precision    recall  f1-score   support\n",
      "Class 0        0.980472  0.995705  0.988030  60129732\n",
      "Class 1        0.918311  0.708841  0.800093   4095537\n",
      "weighted avg   0.976508  0.977412  0.976045  64225268\n",
      "macro avg      0.949391  0.852273  0.894061  64225268\n",
      "micro avg      0.977412  0.977412  0.977412  64225268\n",
      "Training Epoch 5/10\n",
      "Running an epoch on the train mode.\n"
     ]
    },
    {
     "name": "stderr",
     "output_type": "stream",
     "text": [
      "100%|██████████| 1600/1600 [01:46<00:00, 14.98it/s]\n"
     ]
    },
    {
     "name": "stdout",
     "output_type": "stream",
     "text": [
      "Train Loss: 0.20740144041366876\n",
      "Train Accuracy: 0.9919077157974243\n",
      "              precision    recall  f1-score    support\n",
      "Class 0        0.996020  0.995423  0.995721  303761504\n",
      "Class 1        0.920764  0.930423  0.925568   17365420\n",
      "weighted avg   0.991951  0.991908  0.991928  321126912\n",
      "macro avg      0.958392  0.962923  0.960645  321126912\n",
      "micro avg      0.991908  0.991908  0.991908  321126912\n",
      "Running an epoch on the validation mode.\n"
     ]
    },
    {
     "name": "stderr",
     "output_type": "stream",
     "text": [
      "  3%|▎         | 11/320 [00:00<00:14, 21.77it/s]"
     ]
    },
    {
     "name": "stdout",
     "output_type": "stream",
     "text": [
      "Error while showing sample images...\n",
      "name 'view' is not defined\n"
     ]
    },
    {
     "name": "stderr",
     "output_type": "stream",
     "text": [
      " 15%|█▌        | 48/320 [00:01<00:09, 28.68it/s]"
     ]
    },
    {
     "name": "stdout",
     "output_type": "stream",
     "text": [
      "Error while showing sample images...\n",
      "name 'view' is not defined\n",
      "Error while showing sample images...\n",
      "name 'view' is not defined\n"
     ]
    },
    {
     "name": "stderr",
     "output_type": "stream",
     "text": [
      " 31%|███       | 99/320 [00:03<00:07, 29.77it/s]"
     ]
    },
    {
     "name": "stdout",
     "output_type": "stream",
     "text": [
      "Error while showing sample images...\n",
      "name 'view' is not defined\n",
      "Error while showing sample images...\n",
      "name 'view' is not defined\n"
     ]
    },
    {
     "name": "stderr",
     "output_type": "stream",
     "text": [
      " 46%|████▋     | 148/320 [00:05<00:05, 28.67it/s]"
     ]
    },
    {
     "name": "stdout",
     "output_type": "stream",
     "text": [
      "Error while showing sample images...\n",
      "name 'view' is not defined\n"
     ]
    },
    {
     "name": "stderr",
     "output_type": "stream",
     "text": [
      " 49%|████▉     | 157/320 [00:05<00:05, 28.86it/s]"
     ]
    },
    {
     "name": "stdout",
     "output_type": "stream",
     "text": [
      "Error while showing sample images...\n",
      "name 'view' is not defined\n"
     ]
    },
    {
     "name": "stderr",
     "output_type": "stream",
     "text": [
      " 57%|█████▋    | 181/320 [00:06<00:04, 28.73it/s]"
     ]
    },
    {
     "name": "stdout",
     "output_type": "stream",
     "text": [
      "Error while showing sample images...\n",
      "name 'view' is not defined\n"
     ]
    },
    {
     "name": "stderr",
     "output_type": "stream",
     "text": [
      " 85%|████████▌ | 273/320 [00:09<00:01, 29.03it/s]"
     ]
    },
    {
     "name": "stdout",
     "output_type": "stream",
     "text": [
      "Error while showing sample images...\n",
      "name 'view' is not defined\n"
     ]
    },
    {
     "name": "stderr",
     "output_type": "stream",
     "text": [
      "100%|██████████| 320/320 [00:11<00:00, 28.63it/s]\n"
     ]
    },
    {
     "name": "stdout",
     "output_type": "stream",
     "text": [
      "Train Loss: 0.23905331233981997\n",
      "Train Accuracy: 0.9786283373832703\n",
      "              precision    recall  f1-score   support\n",
      "Class 0        0.982848  0.994528  0.988654  60129752\n",
      "Class 1        0.902688  0.745187  0.816411   4095537\n",
      "weighted avg   0.977736  0.978628  0.977670  64225288\n",
      "macro avg      0.942768  0.869858  0.902532  64225288\n",
      "micro avg      0.978628  0.978628  0.978628  64225288\n",
      "Training Epoch 6/10\n",
      "Running an epoch on the train mode.\n"
     ]
    },
    {
     "name": "stderr",
     "output_type": "stream",
     "text": [
      "100%|██████████| 1600/1600 [01:46<00:00, 14.98it/s]\n"
     ]
    },
    {
     "name": "stdout",
     "output_type": "stream",
     "text": [
      "Train Loss: 0.20522282959427685\n",
      "Train Accuracy: 0.9924854636192322\n",
      "              precision    recall  f1-score    support\n",
      "Class 0        0.996252  0.995803  0.996027  303760960\n",
      "Class 1        0.927152  0.934462  0.930793   17365432\n",
      "weighted avg   0.992515  0.992485  0.992499  321126400\n",
      "macro avg      0.961702  0.965132  0.963410  321126400\n",
      "micro avg      0.992486  0.992486  0.992486  321126400\n",
      "Running an epoch on the validation mode.\n"
     ]
    },
    {
     "name": "stderr",
     "output_type": "stream",
     "text": [
      " 20%|█▉        | 63/320 [00:02<00:08, 29.74it/s]"
     ]
    },
    {
     "name": "stdout",
     "output_type": "stream",
     "text": [
      "Error while showing sample images...\n",
      "name 'view' is not defined\n"
     ]
    },
    {
     "name": "stderr",
     "output_type": "stream",
     "text": [
      " 29%|██▉       | 92/320 [00:03<00:07, 29.71it/s]"
     ]
    },
    {
     "name": "stdout",
     "output_type": "stream",
     "text": [
      "Error while showing sample images...\n",
      "name 'view' is not defined\n"
     ]
    },
    {
     "name": "stderr",
     "output_type": "stream",
     "text": [
      " 50%|█████     | 160/320 [00:05<00:05, 29.15it/s]"
     ]
    },
    {
     "name": "stdout",
     "output_type": "stream",
     "text": [
      "Error while showing sample images...\n",
      "name 'view' is not defined\n"
     ]
    },
    {
     "name": "stderr",
     "output_type": "stream",
     "text": [
      " 80%|███████▉  | 255/320 [00:08<00:02, 29.63it/s]"
     ]
    },
    {
     "name": "stdout",
     "output_type": "stream",
     "text": [
      "Error while showing sample images...\n",
      "name 'view' is not defined\n"
     ]
    },
    {
     "name": "stderr",
     "output_type": "stream",
     "text": [
      "100%|██████████| 320/320 [00:11<00:00, 28.80it/s]\n"
     ]
    },
    {
     "name": "stdout",
     "output_type": "stream",
     "text": [
      "Train Loss: 0.2426212590187788\n",
      "Train Accuracy: 0.9774775505065918\n",
      "              precision    recall  f1-score   support\n",
      "Class 0        0.981161  0.995049  0.988056  60129748\n",
      "Class 1        0.908239  0.719501  0.802927   4095537\n",
      "weighted avg   0.976511  0.977478  0.976251  64225284\n",
      "macro avg      0.944700  0.857275  0.895492  64225284\n",
      "micro avg      0.977478  0.977478  0.977478  64225284\n",
      "Training Epoch 7/10\n",
      "Running an epoch on the train mode.\n"
     ]
    },
    {
     "name": "stderr",
     "output_type": "stream",
     "text": [
      "100%|██████████| 1600/1600 [01:46<00:00, 14.97it/s]\n"
     ]
    },
    {
     "name": "stdout",
     "output_type": "stream",
     "text": [
      "Train Loss: 0.20175766886677593\n",
      "Train Accuracy: 0.9935465455055237\n",
      "              precision    recall  f1-score    support\n",
      "Class 0        0.996763  0.996414  0.996588  303761280\n",
      "Class 1        0.937647  0.943397  0.940513   17365420\n",
      "weighted avg   0.993566  0.993547  0.993556  321126688\n",
      "macro avg      0.967205  0.969905  0.968551  321126688\n",
      "micro avg      0.993547  0.993547  0.993547  321126688\n",
      "Running an epoch on the validation mode.\n"
     ]
    },
    {
     "name": "stderr",
     "output_type": "stream",
     "text": [
      "  5%|▌         | 16/320 [00:00<00:12, 24.01it/s]"
     ]
    },
    {
     "name": "stdout",
     "output_type": "stream",
     "text": [
      "Error while showing sample images...\n",
      "name 'view' is not defined\n"
     ]
    },
    {
     "name": "stderr",
     "output_type": "stream",
     "text": [
      " 12%|█▎        | 40/320 [00:01<00:09, 28.16it/s]"
     ]
    },
    {
     "name": "stdout",
     "output_type": "stream",
     "text": [
      "Error while showing sample images...\n",
      "name 'view' is not defined\n"
     ]
    },
    {
     "name": "stderr",
     "output_type": "stream",
     "text": [
      " 18%|█▊        | 56/320 [00:02<00:09, 29.24it/s]"
     ]
    },
    {
     "name": "stdout",
     "output_type": "stream",
     "text": [
      "Error while showing sample images...\n",
      "name 'view' is not defined\n"
     ]
    },
    {
     "name": "stderr",
     "output_type": "stream",
     "text": [
      " 24%|██▍       | 78/320 [00:02<00:08, 29.48it/s]"
     ]
    },
    {
     "name": "stdout",
     "output_type": "stream",
     "text": [
      "Error while showing sample images...\n",
      "name 'view' is not defined\n"
     ]
    },
    {
     "name": "stderr",
     "output_type": "stream",
     "text": [
      " 29%|██▉       | 94/320 [00:03<00:07, 29.12it/s]"
     ]
    },
    {
     "name": "stdout",
     "output_type": "stream",
     "text": [
      "Error while showing sample images...\n",
      "name 'view' is not defined\n"
     ]
    },
    {
     "name": "stderr",
     "output_type": "stream",
     "text": [
      " 44%|████▍     | 142/320 [00:05<00:06, 29.23it/s]"
     ]
    },
    {
     "name": "stdout",
     "output_type": "stream",
     "text": [
      "Error while showing sample images...\n",
      "name 'view' is not defined\n"
     ]
    },
    {
     "name": "stderr",
     "output_type": "stream",
     "text": [
      " 53%|█████▎    | 169/320 [00:05<00:05, 29.93it/s]"
     ]
    },
    {
     "name": "stdout",
     "output_type": "stream",
     "text": [
      "Error while showing sample images...\n",
      "name 'view' is not defined\n"
     ]
    },
    {
     "name": "stderr",
     "output_type": "stream",
     "text": [
      " 72%|███████▎  | 232/320 [00:08<00:02, 29.53it/s]"
     ]
    },
    {
     "name": "stdout",
     "output_type": "stream",
     "text": [
      "Error while showing sample images...\n",
      "name 'view' is not defined\n",
      "Error while showing sample images...\n",
      "name 'view' is not defined\n"
     ]
    },
    {
     "name": "stderr",
     "output_type": "stream",
     "text": [
      " 92%|█████████▏| 293/320 [00:10<00:00, 29.12it/s]"
     ]
    },
    {
     "name": "stdout",
     "output_type": "stream",
     "text": [
      "Error while showing sample images...\n",
      "name 'view' is not defined\n"
     ]
    },
    {
     "name": "stderr",
     "output_type": "stream",
     "text": [
      " 98%|█████████▊| 314/320 [00:10<00:00, 29.78it/s]"
     ]
    },
    {
     "name": "stdout",
     "output_type": "stream",
     "text": [
      "Error while showing sample images...\n",
      "name 'view' is not defined\n"
     ]
    },
    {
     "name": "stderr",
     "output_type": "stream",
     "text": [
      "100%|██████████| 320/320 [00:11<00:00, 28.78it/s]\n"
     ]
    },
    {
     "name": "stdout",
     "output_type": "stream",
     "text": [
      "Train Loss: 0.23595260337460786\n",
      "Train Accuracy: 0.97935950756073\n",
      "              precision    recall  f1-score   support\n",
      "Class 0        0.984148  0.993964  0.989032  60129728\n",
      "Class 1        0.896171  0.764947  0.825376   4095537\n",
      "weighted avg   0.978538  0.979360  0.978595  64225264\n",
      "macro avg      0.940160  0.879455  0.907204  64225264\n",
      "micro avg      0.979360  0.979360  0.979360  64225264\n",
      "Training Epoch 8/10\n",
      "Running an epoch on the train mode.\n"
     ]
    },
    {
     "name": "stderr",
     "output_type": "stream",
     "text": [
      "100%|██████████| 1600/1600 [01:47<00:00, 14.94it/s]\n"
     ]
    },
    {
     "name": "stdout",
     "output_type": "stream",
     "text": [
      "Train Loss: 0.19933796217432245\n",
      "Train Accuracy: 0.9942145347595215\n",
      "              precision    recall  f1-score    support\n",
      "Class 0        0.997170  0.996713  0.996941  303760960\n",
      "Class 1        0.942953  0.950521  0.946721   17365424\n",
      "weighted avg   0.994238  0.994215  0.994225  321126400\n",
      "macro avg      0.970061  0.973617  0.971831  321126400\n",
      "micro avg      0.994215  0.994215  0.994215  321126400\n",
      "Running an epoch on the validation mode.\n"
     ]
    },
    {
     "name": "stderr",
     "output_type": "stream",
     "text": [
      "  2%|▎         | 8/320 [00:00<00:14, 21.64it/s]"
     ]
    },
    {
     "name": "stdout",
     "output_type": "stream",
     "text": [
      "Error while showing sample images...\n",
      "name 'view' is not defined\n",
      "Error while showing sample images...\n",
      "name 'view' is not defined\n"
     ]
    },
    {
     "name": "stderr",
     "output_type": "stream",
     "text": [
      "  6%|▋         | 20/320 [00:00<00:11, 25.19it/s]"
     ]
    },
    {
     "name": "stdout",
     "output_type": "stream",
     "text": [
      "Error while showing sample images...\n",
      "name 'view' is not defined\n"
     ]
    },
    {
     "name": "stderr",
     "output_type": "stream",
     "text": [
      " 45%|████▍     | 143/320 [00:05<00:06, 28.98it/s]"
     ]
    },
    {
     "name": "stdout",
     "output_type": "stream",
     "text": [
      "Error while showing sample images...\n",
      "name 'view' is not defined\n"
     ]
    },
    {
     "name": "stderr",
     "output_type": "stream",
     "text": [
      " 69%|██████▉   | 222/320 [00:07<00:03, 29.58it/s]"
     ]
    },
    {
     "name": "stdout",
     "output_type": "stream",
     "text": [
      "Error while showing sample images...\n",
      "name 'view' is not defined\n"
     ]
    },
    {
     "name": "stderr",
     "output_type": "stream",
     "text": [
      "100%|██████████| 320/320 [00:11<00:00, 28.87it/s]\n"
     ]
    },
    {
     "name": "stdout",
     "output_type": "stream",
     "text": [
      "Train Loss: 0.2353749590460211\n",
      "Train Accuracy: 0.9792401790618896\n",
      "              precision    recall  f1-score   support\n",
      "Class 0        0.986738  0.991147  0.988938  60129768\n",
      "Class 1        0.860898  0.804427  0.831705   4095537\n",
      "weighted avg   0.978714  0.979240  0.978911  64225304\n",
      "macro avg      0.923818  0.897787  0.910322  64225304\n",
      "micro avg      0.979240  0.979240  0.979240  64225304\n",
      "Training Epoch 9/10\n",
      "Running an epoch on the train mode.\n"
     ]
    },
    {
     "name": "stderr",
     "output_type": "stream",
     "text": [
      "100%|██████████| 1600/1600 [01:47<00:00, 14.93it/s]\n"
     ]
    },
    {
     "name": "stdout",
     "output_type": "stream",
     "text": [
      "Train Loss: 0.19803011992946268\n",
      "Train Accuracy: 0.9945107102394104\n",
      "              precision    recall  f1-score    support\n",
      "Class 0        0.997283  0.996913  0.997098  303761184\n",
      "Class 1        0.946352  0.952487  0.949409   17365424\n",
      "weighted avg   0.994529  0.994511  0.994519  321126592\n",
      "macro avg      0.971817  0.974700  0.973254  321126592\n",
      "micro avg      0.994511  0.994511  0.994511  321126592\n",
      "Running an epoch on the validation mode.\n"
     ]
    },
    {
     "name": "stderr",
     "output_type": "stream",
     "text": [
      " 68%|██████▊   | 217/320 [00:07<00:03, 28.75it/s]"
     ]
    },
    {
     "name": "stdout",
     "output_type": "stream",
     "text": [
      "Error while showing sample images...\n",
      "name 'view' is not defined\n"
     ]
    },
    {
     "name": "stderr",
     "output_type": "stream",
     "text": [
      " 89%|████████▉ | 284/320 [00:09<00:01, 28.90it/s]"
     ]
    },
    {
     "name": "stdout",
     "output_type": "stream",
     "text": [
      "Error while showing sample images...\n",
      "name 'view' is not defined\n"
     ]
    },
    {
     "name": "stderr",
     "output_type": "stream",
     "text": [
      "100%|██████████| 320/320 [00:11<00:00, 28.71it/s]\n"
     ]
    },
    {
     "name": "stdout",
     "output_type": "stream",
     "text": [
      "Train Loss: 0.23136330803390592\n",
      "Train Accuracy: 0.9793441891670227\n",
      "              precision    recall  f1-score   support\n",
      "Class 0        0.989427  0.988500  0.988964  60129732\n",
      "Class 1        0.833455  0.844917  0.839147   4095537\n",
      "weighted avg   0.979481  0.979344  0.979410  64225268\n",
      "macro avg      0.911441  0.916709  0.914055  64225268\n",
      "micro avg      0.979344  0.979344  0.979344  64225268\n",
      "Training Epoch 10/10\n",
      "Running an epoch on the train mode.\n"
     ]
    },
    {
     "name": "stderr",
     "output_type": "stream",
     "text": [
      "100%|██████████| 1600/1600 [01:46<00:00, 14.96it/s]\n"
     ]
    },
    {
     "name": "stdout",
     "output_type": "stream",
     "text": [
      "Train Loss: 0.19712008077884094\n",
      "Train Accuracy: 0.9947131872177124\n",
      "              precision    recall  f1-score    support\n",
      "Class 0        0.997400  0.997010  0.997205  303761248\n",
      "Class 1        0.948055  0.954536  0.951285   17365436\n",
      "weighted avg   0.994731  0.994713  0.994722  321126688\n",
      "macro avg      0.972728  0.975773  0.974245  321126688\n",
      "micro avg      0.994713  0.994713  0.994713  321126688\n",
      "Running an epoch on the validation mode.\n"
     ]
    },
    {
     "name": "stderr",
     "output_type": "stream",
     "text": [
      " 13%|█▎        | 41/320 [00:01<00:09, 28.45it/s]"
     ]
    },
    {
     "name": "stdout",
     "output_type": "stream",
     "text": [
      "Error while showing sample images...\n",
      "name 'view' is not defined\n"
     ]
    },
    {
     "name": "stderr",
     "output_type": "stream",
     "text": [
      " 22%|██▏       | 69/320 [00:02<00:08, 29.58it/s]"
     ]
    },
    {
     "name": "stdout",
     "output_type": "stream",
     "text": [
      "Error while showing sample images...\n",
      "name 'view' is not defined\n"
     ]
    },
    {
     "name": "stderr",
     "output_type": "stream",
     "text": [
      " 30%|██▉       | 95/320 [00:03<00:07, 29.64it/s]"
     ]
    },
    {
     "name": "stdout",
     "output_type": "stream",
     "text": [
      "Error while showing sample images...\n",
      "name 'view' is not defined\n",
      "Error while showing sample images...\n",
      "name 'view' is not defined\n"
     ]
    },
    {
     "name": "stderr",
     "output_type": "stream",
     "text": [
      " 32%|███▏      | 101/320 [00:03<00:07, 29.54it/s]"
     ]
    },
    {
     "name": "stdout",
     "output_type": "stream",
     "text": [
      "Error while showing sample images...\n",
      "name 'view' is not defined\n"
     ]
    },
    {
     "name": "stderr",
     "output_type": "stream",
     "text": [
      " 81%|████████▏ | 260/320 [00:09<00:02, 29.31it/s]"
     ]
    },
    {
     "name": "stdout",
     "output_type": "stream",
     "text": [
      "Error while showing sample images...\n",
      "name 'view' is not defined\n"
     ]
    },
    {
     "name": "stderr",
     "output_type": "stream",
     "text": [
      "100%|██████████| 320/320 [00:11<00:00, 28.74it/s]\n"
     ]
    },
    {
     "name": "stdout",
     "output_type": "stream",
     "text": [
      "Train Loss: 0.2404487432911992\n",
      "Train Accuracy: 0.9781709909439087\n",
      "              precision    recall  f1-score   support\n",
      "Class 0        0.989783  0.986871  0.988325  60129748\n",
      "Class 1        0.815228  0.850434  0.832459   4095537\n",
      "weighted avg   0.978652  0.978171  0.978386  64225284\n",
      "macro avg      0.902505  0.918653  0.910392  64225284\n",
      "micro avg      0.978171  0.978171  0.978171  64225284\n",
      "{'model': 'UNetEfficientNetB0-224-binary', 'loss': 'BCE-dice', 'weighted_loss': False, 'learning_rate': 0.0001, 'epochs': 10, 'patience': 3, 'batch_size': 4}\n",
      "Doing data augmentation...\n",
      "Augmented 0 images, of 6400\n",
      "Model is already saved\n",
      "Loading it e continue training...\n",
      "LOSS mode: BCE-dice\n",
      "Training for epoch 2 until epoch 10\n",
      "Training Epoch 2/10\n",
      "Running an epoch on the train mode.\n"
     ]
    },
    {
     "name": "stderr",
     "output_type": "stream",
     "text": [
      "100%|██████████| 1600/1600 [01:37<00:00, 16.44it/s]\n"
     ]
    },
    {
     "name": "stdout",
     "output_type": "stream",
     "text": [
      "Train Loss: 0.22600345004815608\n",
      "Train Accuracy: 0.9870262742042542\n",
      "              precision    recall  f1-score    support\n",
      "Class 0        0.993218  0.993065  0.993142  303761248\n",
      "Class 1        0.879021  0.881391  0.880205   17365434\n",
      "weighted avg   0.987043  0.987026  0.987034  321126688\n",
      "macro avg      0.936120  0.937228  0.936673  321126688\n",
      "micro avg      0.987026  0.987026  0.987026  321126688\n",
      "Running an epoch on the validation mode.\n"
     ]
    },
    {
     "name": "stderr",
     "output_type": "stream",
     "text": [
      " 13%|█▎        | 43/320 [00:01<00:09, 29.76it/s]"
     ]
    },
    {
     "name": "stdout",
     "output_type": "stream",
     "text": [
      "Error while showing sample images...\n",
      "name 'view' is not defined\n"
     ]
    },
    {
     "name": "stderr",
     "output_type": "stream",
     "text": [
      " 18%|█▊        | 56/320 [00:02<00:08, 29.54it/s]"
     ]
    },
    {
     "name": "stdout",
     "output_type": "stream",
     "text": [
      "Error while showing sample images...\n",
      "name 'view' is not defined\n"
     ]
    },
    {
     "name": "stderr",
     "output_type": "stream",
     "text": [
      " 47%|████▋     | 149/320 [00:05<00:05, 28.77it/s]"
     ]
    },
    {
     "name": "stdout",
     "output_type": "stream",
     "text": [
      "Error while showing sample images...\n",
      "name 'view' is not defined\n"
     ]
    },
    {
     "name": "stderr",
     "output_type": "stream",
     "text": [
      " 57%|█████▋    | 182/320 [00:06<00:04, 29.74it/s]"
     ]
    },
    {
     "name": "stdout",
     "output_type": "stream",
     "text": [
      "Error while showing sample images...\n",
      "name 'view' is not defined\n"
     ]
    },
    {
     "name": "stderr",
     "output_type": "stream",
     "text": [
      " 60%|██████    | 192/320 [00:06<00:04, 30.00it/s]"
     ]
    },
    {
     "name": "stdout",
     "output_type": "stream",
     "text": [
      "Error while showing sample images...\n",
      "name 'view' is not defined\n",
      "Error while showing sample images...\n",
      "name 'view' is not defined\n"
     ]
    },
    {
     "name": "stderr",
     "output_type": "stream",
     "text": [
      " 66%|██████▌   | 211/320 [00:07<00:03, 29.99it/s]"
     ]
    },
    {
     "name": "stdout",
     "output_type": "stream",
     "text": [
      "Error while showing sample images...\n",
      "name 'view' is not defined\n"
     ]
    },
    {
     "name": "stderr",
     "output_type": "stream",
     "text": [
      " 97%|█████████▋| 310/320 [00:10<00:00, 29.71it/s]"
     ]
    },
    {
     "name": "stdout",
     "output_type": "stream",
     "text": [
      "Error while showing sample images...\n",
      "name 'view' is not defined\n"
     ]
    },
    {
     "name": "stderr",
     "output_type": "stream",
     "text": [
      "100%|██████████| 320/320 [00:10<00:00, 29.26it/s]\n"
     ]
    },
    {
     "name": "stdout",
     "output_type": "stream",
     "text": [
      "Train Loss: 0.22159268618561329\n",
      "Train Accuracy: 0.9803436398506165\n",
      "              precision    recall  f1-score   support\n",
      "Class 0        0.991456  0.987515  0.989482  60129728\n",
      "Class 1        0.826807  0.875053  0.850246   4095537\n",
      "weighted avg   0.980956  0.980344  0.980603  64225264\n",
      "macro avg      0.909131  0.931284  0.919864  64225264\n",
      "micro avg      0.980344  0.980344  0.980344  64225264\n",
      "Training Epoch 3/10\n",
      "Running an epoch on the train mode.\n"
     ]
    },
    {
     "name": "stderr",
     "output_type": "stream",
     "text": [
      "100%|██████████| 1600/1600 [01:38<00:00, 16.28it/s]\n"
     ]
    },
    {
     "name": "stdout",
     "output_type": "stream",
     "text": [
      "Train Loss: 0.21721256798133254\n",
      "Train Accuracy: 0.9893379807472229\n",
      "              precision    recall  f1-score    support\n",
      "Class 0        0.994852  0.993871  0.994361  303760832\n",
      "Class 1        0.894613  0.910036  0.902259   17365434\n",
      "weighted avg   0.989431  0.989338  0.989381  321126272\n",
      "macro avg      0.944732  0.951954  0.948310  321126272\n",
      "micro avg      0.989338  0.989338  0.989338  321126272\n",
      "Running an epoch on the validation mode.\n"
     ]
    },
    {
     "name": "stderr",
     "output_type": "stream",
     "text": [
      "  1%|          | 2/320 [00:00<00:17, 18.46it/s]"
     ]
    },
    {
     "name": "stdout",
     "output_type": "stream",
     "text": [
      "Error while showing sample images...\n",
      "name 'view' is not defined\n"
     ]
    },
    {
     "name": "stderr",
     "output_type": "stream",
     "text": [
      " 17%|█▋        | 54/320 [00:02<00:09, 29.33it/s]"
     ]
    },
    {
     "name": "stdout",
     "output_type": "stream",
     "text": [
      "Error while showing sample images...\n",
      "name 'view' is not defined\n"
     ]
    },
    {
     "name": "stderr",
     "output_type": "stream",
     "text": [
      " 20%|██        | 65/320 [00:02<00:08, 29.68it/s]"
     ]
    },
    {
     "name": "stdout",
     "output_type": "stream",
     "text": [
      "Error while showing sample images...\n",
      "name 'view' is not defined\n"
     ]
    },
    {
     "name": "stderr",
     "output_type": "stream",
     "text": [
      " 31%|███       | 98/320 [00:03<00:07, 28.48it/s]"
     ]
    },
    {
     "name": "stdout",
     "output_type": "stream",
     "text": [
      "Error while showing sample images...\n",
      "name 'view' is not defined\n"
     ]
    },
    {
     "name": "stderr",
     "output_type": "stream",
     "text": [
      " 59%|█████▉    | 190/320 [00:06<00:04, 30.09it/s]"
     ]
    },
    {
     "name": "stdout",
     "output_type": "stream",
     "text": [
      "Error while showing sample images...\n",
      "name 'view' is not defined\n"
     ]
    },
    {
     "name": "stderr",
     "output_type": "stream",
     "text": [
      " 84%|████████▍ | 268/320 [00:09<00:01, 29.42it/s]"
     ]
    },
    {
     "name": "stdout",
     "output_type": "stream",
     "text": [
      "Error while showing sample images...\n",
      "name 'view' is not defined\n"
     ]
    },
    {
     "name": "stderr",
     "output_type": "stream",
     "text": [
      " 96%|█████████▋| 308/320 [00:10<00:00, 29.59it/s]"
     ]
    },
    {
     "name": "stdout",
     "output_type": "stream",
     "text": [
      "Error while showing sample images...\n",
      "name 'view' is not defined\n"
     ]
    },
    {
     "name": "stderr",
     "output_type": "stream",
     "text": [
      "100%|██████████| 320/320 [00:11<00:00, 28.94it/s]\n"
     ]
    },
    {
     "name": "stdout",
     "output_type": "stream",
     "text": [
      "Train Loss: 0.22534786567557602\n",
      "Train Accuracy: 0.9789026379585266\n",
      "              precision    recall  f1-score   support\n",
      "Class 0        0.991520  0.985898  0.988701  60129772\n",
      "Class 1        0.808868  0.876198  0.841187   4095537\n",
      "weighted avg   0.979872  0.978903  0.979294  64225308\n",
      "macro avg      0.900194  0.931048  0.914944  64225308\n",
      "micro avg      0.978903  0.978903  0.978903  64225308\n",
      "Training Epoch 4/10\n",
      "Running an epoch on the train mode.\n"
     ]
    },
    {
     "name": "stderr",
     "output_type": "stream",
     "text": [
      "100%|██████████| 1600/1600 [01:38<00:00, 16.25it/s]\n"
     ]
    },
    {
     "name": "stdout",
     "output_type": "stream",
     "text": [
      "Train Loss: 0.212581149158068\n",
      "Train Accuracy: 0.9906931519508362\n",
      "              precision    recall  f1-score    support\n",
      "Class 0        0.995588  0.994568  0.995078  303761248\n",
      "Class 1        0.906657  0.922912  0.914712   17365438\n",
      "weighted avg   0.990779  0.990693  0.990732  321126688\n",
      "macro avg      0.951123  0.958740  0.954895  321126688\n",
      "micro avg      0.990693  0.990693  0.990693  321126688\n",
      "Running an epoch on the validation mode.\n"
     ]
    },
    {
     "name": "stderr",
     "output_type": "stream",
     "text": [
      " 20%|██        | 65/320 [00:02<00:08, 29.32it/s]"
     ]
    },
    {
     "name": "stdout",
     "output_type": "stream",
     "text": [
      "Error while showing sample images...\n",
      "name 'view' is not defined\n"
     ]
    },
    {
     "name": "stderr",
     "output_type": "stream",
     "text": [
      " 38%|███▊      | 123/320 [00:04<00:06, 30.07it/s]"
     ]
    },
    {
     "name": "stdout",
     "output_type": "stream",
     "text": [
      "Error while showing sample images...\n",
      "name 'view' is not defined\n"
     ]
    },
    {
     "name": "stderr",
     "output_type": "stream",
     "text": [
      " 51%|█████▏    | 164/320 [00:05<00:05, 29.05it/s]"
     ]
    },
    {
     "name": "stdout",
     "output_type": "stream",
     "text": [
      "Error while showing sample images...\n",
      "name 'view' is not defined\n"
     ]
    },
    {
     "name": "stderr",
     "output_type": "stream",
     "text": [
      "100%|██████████| 320/320 [00:11<00:00, 28.84it/s]\n"
     ]
    },
    {
     "name": "stdout",
     "output_type": "stream",
     "text": [
      "Train Loss: 0.2287364318035543\n",
      "Train Accuracy: 0.9810139536857605\n",
      "              precision    recall  f1-score   support\n",
      "Class 0        0.988680  0.991068  0.989873  60129744\n",
      "Class 1        0.864040  0.833404  0.848446   4095537\n",
      "weighted avg   0.980732  0.981014  0.980854  64225280\n",
      "macro avg      0.926360  0.912236  0.919159  64225280\n",
      "micro avg      0.981014  0.981014  0.981014  64225280\n",
      "Training Epoch 5/10\n",
      "Running an epoch on the train mode.\n"
     ]
    },
    {
     "name": "stderr",
     "output_type": "stream",
     "text": [
      "100%|██████████| 1600/1600 [01:38<00:00, 16.28it/s]\n"
     ]
    },
    {
     "name": "stdout",
     "output_type": "stream",
     "text": [
      "Train Loss: 0.20974207336548717\n",
      "Train Accuracy: 0.9913034439086914\n",
      "              precision    recall  f1-score    support\n",
      "Class 0        0.995766  0.995037  0.995402  303760832\n",
      "Class 1        0.914291  0.925987  0.920102   17365428\n",
      "weighted avg   0.991360  0.991303  0.991330  321126272\n",
      "macro avg      0.955028  0.960512  0.957752  321126272\n",
      "micro avg      0.991304  0.991304  0.991304  321126272\n",
      "Running an epoch on the validation mode.\n"
     ]
    },
    {
     "name": "stderr",
     "output_type": "stream",
     "text": [
      "  8%|▊         | 26/320 [00:01<00:10, 26.83it/s]"
     ]
    },
    {
     "name": "stdout",
     "output_type": "stream",
     "text": [
      "Error while showing sample images...\n",
      "name 'view' is not defined\n",
      "Error while showing sample images...\n",
      "name 'view' is not defined\n"
     ]
    },
    {
     "name": "stderr",
     "output_type": "stream",
     "text": [
      " 41%|████      | 130/320 [00:04<00:06, 29.66it/s]"
     ]
    },
    {
     "name": "stdout",
     "output_type": "stream",
     "text": [
      "Error while showing sample images...\n",
      "name 'view' is not defined\n"
     ]
    },
    {
     "name": "stderr",
     "output_type": "stream",
     "text": [
      " 50%|█████     | 161/320 [00:05<00:05, 29.55it/s]"
     ]
    },
    {
     "name": "stdout",
     "output_type": "stream",
     "text": [
      "Error while showing sample images...\n",
      "name 'view' is not defined\n"
     ]
    },
    {
     "name": "stderr",
     "output_type": "stream",
     "text": [
      " 58%|█████▊    | 187/320 [00:06<00:04, 29.80it/s]"
     ]
    },
    {
     "name": "stdout",
     "output_type": "stream",
     "text": [
      "Error while showing sample images...\n",
      "name 'view' is not defined\n"
     ]
    },
    {
     "name": "stderr",
     "output_type": "stream",
     "text": [
      "100%|██████████| 320/320 [00:11<00:00, 28.96it/s]\n"
     ]
    },
    {
     "name": "stdout",
     "output_type": "stream",
     "text": [
      "Train Loss: 0.23010948474984616\n",
      "Train Accuracy: 0.9810565710067749\n",
      "              precision    recall  f1-score   support\n",
      "Class 0        0.986228  0.993642  0.989921  60129744\n",
      "Class 1        0.895073  0.796278  0.842790   4095537\n",
      "weighted avg   0.980415  0.981057  0.980539  64225280\n",
      "macro avg      0.940651  0.894960  0.916356  64225280\n",
      "micro avg      0.981057  0.981057  0.981057  64225280\n",
      "{'model': 'UNetConvNext-224-binary', 'loss': 'BCE-dice', 'weighted_loss': False, 'learning_rate': 0.0001, 'epochs': 10, 'patience': 3, 'batch_size': 4}\n",
      "Doing data augmentation...\n",
      "Augmented 0 images, of 6400\n",
      "Model is already saved\n",
      "Loading it e continue training...\n",
      "LOSS mode: BCE-dice\n",
      "Training for epoch 2 until epoch 10\n",
      "Training Epoch 2/10\n",
      "Running an epoch on the train mode.\n"
     ]
    },
    {
     "name": "stderr",
     "output_type": "stream",
     "text": [
      "100%|██████████| 1600/1600 [02:31<00:00, 10.54it/s]\n"
     ]
    },
    {
     "name": "stdout",
     "output_type": "stream",
     "text": [
      "Train Loss: 0.22260773392859845\n",
      "Train Accuracy: 0.9872799515724182\n",
      "              precision    recall  f1-score    support\n",
      "Class 0        0.993394  0.993157  0.993276  303760864\n",
      "Class 1        0.880795  0.884481  0.882634   17365428\n",
      "weighted avg   0.987305  0.987280  0.987292  321126304\n",
      "macro avg      0.937095  0.938819  0.937955  321126304\n",
      "micro avg      0.987280  0.987280  0.987280  321126304\n",
      "Running an epoch on the validation mode.\n"
     ]
    },
    {
     "name": "stderr",
     "output_type": "stream",
     "text": [
      " 32%|███▏      | 101/320 [00:04<00:09, 23.96it/s]"
     ]
    },
    {
     "name": "stdout",
     "output_type": "stream",
     "text": [
      "Error while showing sample images...\n",
      "name 'view' is not defined\n"
     ]
    },
    {
     "name": "stderr",
     "output_type": "stream",
     "text": [
      " 69%|██████▉   | 221/320 [00:09<00:04, 24.39it/s]"
     ]
    },
    {
     "name": "stdout",
     "output_type": "stream",
     "text": [
      "Error while showing sample images...\n",
      "name 'view' is not defined\n"
     ]
    },
    {
     "name": "stderr",
     "output_type": "stream",
     "text": [
      " 71%|███████   | 227/320 [00:09<00:03, 23.89it/s]"
     ]
    },
    {
     "name": "stdout",
     "output_type": "stream",
     "text": [
      "Error while showing sample images...\n",
      "name 'view' is not defined\n"
     ]
    },
    {
     "name": "stderr",
     "output_type": "stream",
     "text": [
      " 84%|████████▍ | 269/320 [00:11<00:02, 24.43it/s]"
     ]
    },
    {
     "name": "stdout",
     "output_type": "stream",
     "text": [
      "Error while showing sample images...\n",
      "name 'view' is not defined\n"
     ]
    },
    {
     "name": "stderr",
     "output_type": "stream",
     "text": [
      "100%|██████████| 320/320 [00:13<00:00, 23.83it/s]\n"
     ]
    },
    {
     "name": "stdout",
     "output_type": "stream",
     "text": [
      "Train Loss: 0.22944644880481063\n",
      "Train Accuracy: 0.979753315448761\n",
      "              precision    recall  f1-score   support\n",
      "Class 0        0.988886  0.989496  0.989191  60129748\n",
      "Class 1        0.844368  0.836719  0.840526   4095537\n",
      "weighted avg   0.979670  0.979753  0.979710  64225284\n",
      "macro avg      0.916627  0.913107  0.914858  64225284\n",
      "micro avg      0.979753  0.979753  0.979753  64225284\n",
      "Training Epoch 3/10\n",
      "Running an epoch on the train mode.\n"
     ]
    },
    {
     "name": "stderr",
     "output_type": "stream",
     "text": [
      "100%|██████████| 1600/1600 [02:32<00:00, 10.49it/s]\n"
     ]
    },
    {
     "name": "stdout",
     "output_type": "stream",
     "text": [
      "Train Loss: 0.21292577125597745\n",
      "Train Accuracy: 0.9901170134544373\n",
      "              precision    recall  f1-score    support\n",
      "Class 0        0.994892  0.994659  0.994775  303761152\n",
      "Class 1        0.906957  0.910665  0.908807   17365434\n",
      "weighted avg   0.990137  0.990117  0.990127  321126592\n",
      "macro avg      0.950925  0.952662  0.951791  321126592\n",
      "micro avg      0.990117  0.990117  0.990117  321126592\n",
      "Running an epoch on the validation mode.\n"
     ]
    },
    {
     "name": "stderr",
     "output_type": "stream",
     "text": [
      "  2%|▎         | 8/320 [00:00<00:17, 18.14it/s]"
     ]
    },
    {
     "name": "stdout",
     "output_type": "stream",
     "text": [
      "Error while showing sample images...\n",
      "name 'view' is not defined\n"
     ]
    },
    {
     "name": "stderr",
     "output_type": "stream",
     "text": [
      "  7%|▋         | 23/320 [00:01<00:13, 21.86it/s]"
     ]
    },
    {
     "name": "stdout",
     "output_type": "stream",
     "text": [
      "Error while showing sample images...\n",
      "name 'view' is not defined\n"
     ]
    },
    {
     "name": "stderr",
     "output_type": "stream",
     "text": [
      " 15%|█▍        | 47/320 [00:02<00:11, 23.58it/s]"
     ]
    },
    {
     "name": "stdout",
     "output_type": "stream",
     "text": [
      "Error while showing sample images...\n",
      "name 'view' is not defined\n",
      "Error while showing sample images...\n",
      "name 'view' is not defined\n"
     ]
    },
    {
     "name": "stderr",
     "output_type": "stream",
     "text": [
      " 23%|██▎       | 74/320 [00:03<00:10, 23.53it/s]"
     ]
    },
    {
     "name": "stdout",
     "output_type": "stream",
     "text": [
      "Error while showing sample images...\n",
      "name 'view' is not defined\n"
     ]
    },
    {
     "name": "stderr",
     "output_type": "stream",
     "text": [
      " 36%|███▋      | 116/320 [00:05<00:08, 24.27it/s]"
     ]
    },
    {
     "name": "stdout",
     "output_type": "stream",
     "text": [
      "Error while showing sample images...\n",
      "name 'view' is not defined\n"
     ]
    },
    {
     "name": "stderr",
     "output_type": "stream",
     "text": [
      " 42%|████▏     | 134/320 [00:05<00:07, 24.24it/s]"
     ]
    },
    {
     "name": "stdout",
     "output_type": "stream",
     "text": [
      "Error while showing sample images...\n",
      "name 'view' is not defined\n"
     ]
    },
    {
     "name": "stderr",
     "output_type": "stream",
     "text": [
      " 78%|███████▊  | 248/320 [00:10<00:02, 24.16it/s]"
     ]
    },
    {
     "name": "stdout",
     "output_type": "stream",
     "text": [
      "Error while showing sample images...\n",
      "name 'view' is not defined\n"
     ]
    },
    {
     "name": "stderr",
     "output_type": "stream",
     "text": [
      " 86%|████████▌ | 275/320 [00:11<00:01, 23.79it/s]"
     ]
    },
    {
     "name": "stdout",
     "output_type": "stream",
     "text": [
      "Error while showing sample images...\n",
      "name 'view' is not defined\n"
     ]
    },
    {
     "name": "stderr",
     "output_type": "stream",
     "text": [
      " 99%|█████████▉| 317/320 [00:13<00:00, 23.84it/s]"
     ]
    },
    {
     "name": "stdout",
     "output_type": "stream",
     "text": [
      "Error while showing sample images...\n",
      "name 'view' is not defined\n"
     ]
    },
    {
     "name": "stderr",
     "output_type": "stream",
     "text": [
      "100%|██████████| 320/320 [00:13<00:00, 23.59it/s]\n"
     ]
    },
    {
     "name": "stdout",
     "output_type": "stream",
     "text": [
      "Train Loss: 0.22858894825913012\n",
      "Train Accuracy: 0.9803444743156433\n",
      "              precision    recall  f1-score   support\n",
      "Class 0        0.988484  0.990545  0.989514  60129756\n",
      "Class 1        0.856806  0.830576  0.843487   4095537\n",
      "weighted avg   0.980087  0.980344  0.980202  64225292\n",
      "macro avg      0.922645  0.910561  0.916500  64225292\n",
      "micro avg      0.980344  0.980344  0.980344  64225292\n",
      "Training Epoch 4/10\n",
      "Running an epoch on the train mode.\n"
     ]
    },
    {
     "name": "stderr",
     "output_type": "stream",
     "text": [
      "100%|██████████| 1600/1600 [02:33<00:00, 10.45it/s]\n"
     ]
    },
    {
     "name": "stdout",
     "output_type": "stream",
     "text": [
      "Train Loss: 0.20791462500346825\n",
      "Train Accuracy: 0.9915276169776917\n",
      "              precision    recall  f1-score    support\n",
      "Class 0        0.995624  0.995418  0.995521  303761216\n",
      "Class 1        0.920137  0.923477  0.921804   17365424\n",
      "weighted avg   0.991542  0.991528  0.991535  321126656\n",
      "macro avg      0.957881  0.959448  0.958663  321126656\n",
      "micro avg      0.991528  0.991528  0.991528  321126656\n",
      "Running an epoch on the validation mode.\n"
     ]
    },
    {
     "name": "stderr",
     "output_type": "stream",
     "text": [
      "  8%|▊         | 26/320 [00:01<00:13, 22.29it/s]"
     ]
    },
    {
     "name": "stdout",
     "output_type": "stream",
     "text": [
      "Error while showing sample images...\n",
      "name 'view' is not defined\n"
     ]
    },
    {
     "name": "stderr",
     "output_type": "stream",
     "text": [
      " 28%|██▊       | 89/320 [00:03<00:09, 23.95it/s]"
     ]
    },
    {
     "name": "stdout",
     "output_type": "stream",
     "text": [
      "Error while showing sample images...\n",
      "name 'view' is not defined\n",
      "Error while showing sample images...\n",
      "name 'view' is not defined\n"
     ]
    },
    {
     "name": "stderr",
     "output_type": "stream",
     "text": [
      " 31%|███       | 98/320 [00:04<00:09, 23.84it/s]"
     ]
    },
    {
     "name": "stdout",
     "output_type": "stream",
     "text": [
      "Error while showing sample images...\n",
      "name 'view' is not defined\n"
     ]
    },
    {
     "name": "stderr",
     "output_type": "stream",
     "text": [
      " 35%|███▌      | 113/320 [00:04<00:08, 23.79it/s]"
     ]
    },
    {
     "name": "stdout",
     "output_type": "stream",
     "text": [
      "Error while showing sample images...\n",
      "name 'view' is not defined\n"
     ]
    },
    {
     "name": "stderr",
     "output_type": "stream",
     "text": [
      " 56%|█████▌    | 179/320 [00:07<00:05, 23.84it/s]"
     ]
    },
    {
     "name": "stdout",
     "output_type": "stream",
     "text": [
      "Error while showing sample images...\n",
      "name 'view' is not defined\n"
     ]
    },
    {
     "name": "stderr",
     "output_type": "stream",
     "text": [
      " 58%|█████▊    | 185/320 [00:07<00:05, 22.96it/s]"
     ]
    },
    {
     "name": "stdout",
     "output_type": "stream",
     "text": [
      "Error while showing sample images...\n",
      "name 'view' is not defined\n"
     ]
    },
    {
     "name": "stderr",
     "output_type": "stream",
     "text": [
      " 78%|███████▊  | 251/320 [00:10<00:02, 23.87it/s]"
     ]
    },
    {
     "name": "stdout",
     "output_type": "stream",
     "text": [
      "Error while showing sample images...\n",
      "name 'view' is not defined\n"
     ]
    },
    {
     "name": "stderr",
     "output_type": "stream",
     "text": [
      " 94%|█████████▍| 302/320 [00:12<00:00, 23.76it/s]"
     ]
    },
    {
     "name": "stdout",
     "output_type": "stream",
     "text": [
      "Error while showing sample images...\n",
      "name 'view' is not defined\n"
     ]
    },
    {
     "name": "stderr",
     "output_type": "stream",
     "text": [
      "100%|██████████| 320/320 [00:13<00:00, 23.51it/s]\n"
     ]
    },
    {
     "name": "stdout",
     "output_type": "stream",
     "text": [
      "Train Loss: 0.23484053947031497\n",
      "Train Accuracy: 0.9792957305908203\n",
      "              precision    recall  f1-score   support\n",
      "Class 0        0.987506  0.990417  0.988959  60129732\n",
      "Class 1        0.852933  0.816023  0.834070   4095537\n",
      "weighted avg   0.978924  0.979296  0.979082  64225268\n",
      "macro avg      0.920219  0.903220  0.911514  64225268\n",
      "micro avg      0.979296  0.979296  0.979296  64225268\n",
      "Training Epoch 5/10\n",
      "Running an epoch on the train mode.\n"
     ]
    },
    {
     "name": "stderr",
     "output_type": "stream",
     "text": [
      "100%|██████████| 1600/1600 [02:32<00:00, 10.48it/s]\n"
     ]
    },
    {
     "name": "stdout",
     "output_type": "stream",
     "text": [
      "Train Loss: 0.2038976656831801\n",
      "Train Accuracy: 0.9928687214851379\n",
      "              precision    recall  f1-score    support\n",
      "Class 0        0.996411  0.996049  0.996230  303760960\n",
      "Class 1        0.931324  0.937240  0.934272   17365432\n",
      "weighted avg   0.992891  0.992869  0.992879  321126400\n",
      "macro avg      0.963867  0.966644  0.965251  321126400\n",
      "micro avg      0.992869  0.992869  0.992869  321126400\n",
      "Running an epoch on the validation mode.\n"
     ]
    },
    {
     "name": "stderr",
     "output_type": "stream",
     "text": [
      "  2%|▏         | 6/320 [00:00<00:18, 17.39it/s]"
     ]
    },
    {
     "name": "stdout",
     "output_type": "stream",
     "text": [
      "Error while showing sample images...\n",
      "name 'view' is not defined\n"
     ]
    },
    {
     "name": "stderr",
     "output_type": "stream",
     "text": [
      "  7%|▋         | 22/320 [00:01<00:13, 21.98it/s]"
     ]
    },
    {
     "name": "stdout",
     "output_type": "stream",
     "text": [
      "Error while showing sample images...\n",
      "name 'view' is not defined\n"
     ]
    },
    {
     "name": "stderr",
     "output_type": "stream",
     "text": [
      " 14%|█▍        | 46/320 [00:02<00:11, 23.85it/s]"
     ]
    },
    {
     "name": "stdout",
     "output_type": "stream",
     "text": [
      "Error while showing sample images...\n",
      "name 'view' is not defined\n"
     ]
    },
    {
     "name": "stderr",
     "output_type": "stream",
     "text": [
      " 16%|█▋        | 52/320 [00:02<00:11, 23.73it/s]"
     ]
    },
    {
     "name": "stdout",
     "output_type": "stream",
     "text": [
      "Error while showing sample images...\n",
      "name 'view' is not defined\n"
     ]
    },
    {
     "name": "stderr",
     "output_type": "stream",
     "text": [
      " 57%|█████▊    | 184/320 [00:07<00:05, 24.13it/s]"
     ]
    },
    {
     "name": "stdout",
     "output_type": "stream",
     "text": [
      "Error while showing sample images...\n",
      "name 'view' is not defined\n",
      "Error while showing sample images...\n",
      "name 'view' is not defined\n"
     ]
    },
    {
     "name": "stderr",
     "output_type": "stream",
     "text": [
      "100%|██████████| 320/320 [00:13<00:00, 23.59it/s]\n"
     ]
    },
    {
     "name": "stdout",
     "output_type": "stream",
     "text": [
      "Train Loss: 0.23178464216180145\n",
      "Train Accuracy: 0.9805796146392822\n",
      "              precision    recall  f1-score   support\n",
      "Class 0        0.988342  0.990946  0.989642  60129756\n",
      "Class 1        0.861720  0.828385  0.844724   4095537\n",
      "weighted avg   0.980267  0.980580  0.980401  64225292\n",
      "macro avg      0.925031  0.909666  0.917183  64225292\n",
      "micro avg      0.980580  0.980580  0.980580  64225292\n",
      "Training Epoch 6/10\n",
      "Running an epoch on the train mode.\n"
     ]
    },
    {
     "name": "stderr",
     "output_type": "stream",
     "text": [
      "100%|██████████| 1600/1600 [02:33<00:00, 10.44it/s]\n"
     ]
    },
    {
     "name": "stdout",
     "output_type": "stream",
     "text": [
      "Train Loss: 0.20129512451123446\n",
      "Train Accuracy: 0.9934937357902527\n",
      "              precision    recall  f1-score    support\n",
      "Class 0        0.996689  0.996432  0.996560  303761216\n",
      "Class 1        0.937862  0.942102  0.939977   17365424\n",
      "weighted avg   0.993508  0.993494  0.993501  321126656\n",
      "macro avg      0.967275  0.969267  0.968269  321126656\n",
      "micro avg      0.993494  0.993494  0.993494  321126656\n",
      "Running an epoch on the validation mode.\n"
     ]
    },
    {
     "name": "stderr",
     "output_type": "stream",
     "text": [
      " 10%|▉         | 31/320 [00:01<00:13, 22.18it/s]"
     ]
    },
    {
     "name": "stdout",
     "output_type": "stream",
     "text": [
      "Error while showing sample images...\n",
      "name 'view' is not defined\n"
     ]
    },
    {
     "name": "stderr",
     "output_type": "stream",
     "text": [
      " 12%|█▎        | 40/320 [00:01<00:12, 23.05it/s]"
     ]
    },
    {
     "name": "stdout",
     "output_type": "stream",
     "text": [
      "Error while showing sample images...\n",
      "name 'view' is not defined\n",
      "Error while showing sample images...\n",
      "name 'view' is not defined\n"
     ]
    },
    {
     "name": "stderr",
     "output_type": "stream",
     "text": [
      " 38%|███▊      | 121/320 [00:05<00:08, 23.68it/s]"
     ]
    },
    {
     "name": "stdout",
     "output_type": "stream",
     "text": [
      "Error while showing sample images...\n",
      "name 'view' is not defined\n"
     ]
    },
    {
     "name": "stderr",
     "output_type": "stream",
     "text": [
      " 80%|████████  | 256/320 [00:11<00:02, 23.72it/s]"
     ]
    },
    {
     "name": "stdout",
     "output_type": "stream",
     "text": [
      "Error while showing sample images...\n",
      "name 'view' is not defined\n"
     ]
    },
    {
     "name": "stderr",
     "output_type": "stream",
     "text": [
      "100%|█████████▉| 319/320 [00:13<00:00, 23.68it/s]"
     ]
    },
    {
     "name": "stdout",
     "output_type": "stream",
     "text": [
      "Error while showing sample images...\n",
      "name 'view' is not defined\n",
      "Error while showing sample images...\n",
      "name 'view' is not defined\n"
     ]
    },
    {
     "name": "stderr",
     "output_type": "stream",
     "text": [
      "100%|██████████| 320/320 [00:13<00:00, 23.24it/s]\n"
     ]
    },
    {
     "name": "stdout",
     "output_type": "stream",
     "text": [
      "Train Loss: 0.23473869394510985\n",
      "Train Accuracy: 0.9764280915260315\n",
      "              precision    recall  f1-score   support\n",
      "Class 0        0.991401  0.983352  0.987360  60129760\n",
      "Class 1        0.781607  0.874778  0.825572   4095537\n",
      "weighted avg   0.978023  0.976428  0.977043  64225296\n",
      "macro avg      0.886504  0.929065  0.906466  64225296\n",
      "micro avg      0.976428  0.976428  0.976428  64225296\n",
      "{'model': 'HRNet_w18-512-binary', 'loss': 'BCE-dice', 'weighted_loss': False, 'learning_rate': 0.0001, 'epochs': 10, 'patience': 3, 'batch_size': 4}\n",
      "Doing data augmentation...\n",
      "Augmented 0 images, of 1225\n",
      "Model is already saved\n",
      "{'model': 'HRNet_w32-512-binary', 'loss': 'BCE-dice', 'weighted_loss': False, 'learning_rate': 0.0001, 'epochs': 10, 'patience': 3, 'batch_size': 4}\n",
      "Doing data augmentation...\n",
      "Augmented 0 images, of 1225\n",
      "Model is already saved\n",
      "Loading it e continue training...\n",
      "LOSS mode: BCE-dice\n",
      "Training for epoch 9 until epoch 10\n",
      "Training Epoch 9/10\n",
      "Running an epoch on the train mode.\n"
     ]
    },
    {
     "name": "stderr",
     "output_type": "stream",
     "text": [
      "100%|██████████| 307/307 [01:45<00:00,  2.90it/s]\n"
     ]
    },
    {
     "name": "stdout",
     "output_type": "stream",
     "text": [
      "Train Loss: 0.3737995561045043\n",
      "Train Accuracy: 0.9494162797927856\n",
      "              precision    recall  f1-score    support\n",
      "Class 0        0.949416  1.000000  0.974052  304882784\n",
      "Class 1        0.000000  0.000000  0.000000   16243799\n",
      "weighted avg   0.901391  0.949416  0.924780  321126592\n",
      "macro avg      0.474708  0.500000  0.487026  321126592\n",
      "micro avg      0.949416  0.949416  0.949416  321126592\n",
      "Running an epoch on the validation mode.\n"
     ]
    },
    {
     "name": "stderr",
     "output_type": "stream",
     "text": [
      " 21%|██        | 13/62 [00:02<00:07,  6.57it/s]"
     ]
    },
    {
     "name": "stdout",
     "output_type": "stream",
     "text": [
      "Error while showing sample images...\n",
      "name 'view' is not defined\n"
     ]
    },
    {
     "name": "stderr",
     "output_type": "stream",
     "text": [
      " 31%|███       | 19/62 [00:02<00:06,  6.65it/s]"
     ]
    },
    {
     "name": "stdout",
     "output_type": "stream",
     "text": [
      "Error while showing sample images...\n",
      "name 'view' is not defined\n"
     ]
    },
    {
     "name": "stderr",
     "output_type": "stream",
     "text": [
      " 37%|███▋      | 23/62 [00:03<00:05,  6.65it/s]"
     ]
    },
    {
     "name": "stdout",
     "output_type": "stream",
     "text": [
      "Error while showing sample images...\n",
      "name 'view' is not defined\n"
     ]
    },
    {
     "name": "stderr",
     "output_type": "stream",
     "text": [
      "100%|██████████| 62/62 [00:09<00:00,  6.64it/s]"
     ]
    },
    {
     "name": "stdout",
     "output_type": "stream",
     "text": [
      "Error while showing sample images...\n",
      "name 'view' is not defined\n",
      "Error while showing sample images...\n",
      "name 'view' is not defined\n",
      "Train Loss: 0.3828548247716865\n",
      "Train Accuracy: 0.9402394890785217\n",
      "              precision    recall  f1-score   support\n",
      "Class 0        0.940239  1.000000  0.969199  60387136\n",
      "Class 1        0.000000  0.000000  0.000000   3838135\n",
      "weighted avg   0.884050  0.940239  0.911280  64225272\n",
      "macro avg      0.470120  0.500000  0.484600  64225272\n",
      "micro avg      0.940239  0.940239  0.940239  64225272\n"
     ]
    },
    {
     "name": "stderr",
     "output_type": "stream",
     "text": [
      "\n"
     ]
    },
    {
     "name": "stdout",
     "output_type": "stream",
     "text": [
      "Training Epoch 10/10\n",
      "Running an epoch on the train mode.\n"
     ]
    },
    {
     "name": "stderr",
     "output_type": "stream",
     "text": [
      "100%|██████████| 307/307 [01:44<00:00,  2.94it/s]\n"
     ]
    },
    {
     "name": "stdout",
     "output_type": "stream",
     "text": [
      "Train Loss: 0.3720399966045302\n",
      "Train Accuracy: 0.9494162797927856\n",
      "              precision    recall  f1-score    support\n",
      "Class 0        0.949416  1.000000  0.974052  304882752\n",
      "Class 1        0.000000  0.000000  0.000000   16243799\n",
      "weighted avg   0.901391  0.949416  0.924780  321126560\n",
      "macro avg      0.474708  0.500000  0.487026  321126560\n",
      "micro avg      0.949416  0.949416  0.949416  321126560\n",
      "Running an epoch on the validation mode.\n"
     ]
    },
    {
     "name": "stderr",
     "output_type": "stream",
     "text": [
      " 35%|███▌      | 22/62 [00:03<00:05,  6.68it/s]"
     ]
    },
    {
     "name": "stdout",
     "output_type": "stream",
     "text": [
      "Error while showing sample images...\n",
      "name 'view' is not defined\n"
     ]
    },
    {
     "name": "stderr",
     "output_type": "stream",
     "text": [
      " 45%|████▌     | 28/62 [00:04<00:05,  6.70it/s]"
     ]
    },
    {
     "name": "stdout",
     "output_type": "stream",
     "text": [
      "Error while showing sample images...\n",
      "name 'view' is not defined\n"
     ]
    },
    {
     "name": "stderr",
     "output_type": "stream",
     "text": [
      " 61%|██████▏   | 38/62 [00:05<00:03,  6.75it/s]"
     ]
    },
    {
     "name": "stdout",
     "output_type": "stream",
     "text": [
      "Error while showing sample images...\n",
      "name 'view' is not defined\n"
     ]
    },
    {
     "name": "stderr",
     "output_type": "stream",
     "text": [
      " 71%|███████   | 44/62 [00:06<00:02,  6.77it/s]"
     ]
    },
    {
     "name": "stdout",
     "output_type": "stream",
     "text": [
      "Error while showing sample images...\n",
      "name 'view' is not defined\n"
     ]
    },
    {
     "name": "stderr",
     "output_type": "stream",
     "text": [
      " 79%|███████▉  | 49/62 [00:07<00:01,  6.74it/s]"
     ]
    },
    {
     "name": "stdout",
     "output_type": "stream",
     "text": [
      "Error while showing sample images...\n",
      "name 'view' is not defined\n"
     ]
    },
    {
     "name": "stderr",
     "output_type": "stream",
     "text": [
      " 85%|████████▌ | 53/62 [00:08<00:01,  6.72it/s]"
     ]
    },
    {
     "name": "stdout",
     "output_type": "stream",
     "text": [
      "Error while showing sample images...\n",
      "name 'view' is not defined\n"
     ]
    },
    {
     "name": "stderr",
     "output_type": "stream",
     "text": [
      "100%|██████████| 62/62 [00:09<00:00,  6.65it/s]\n"
     ]
    },
    {
     "name": "stdout",
     "output_type": "stream",
     "text": [
      "Train Loss: 0.38242489002188856\n",
      "Train Accuracy: 0.9402657747268677\n",
      "              precision    recall  f1-score   support\n",
      "Class 0        0.940264  1.000000  0.969212  60387124\n",
      "Class 1        1.000000  0.000440  0.000879   3838135\n",
      "weighted avg   0.943834  0.940266  0.911344  64225260\n",
      "macro avg      0.970132  0.500220  0.485046  64225260\n",
      "micro avg      0.940266  0.940266  0.940266  64225260\n",
      "{'model': 'HRNet_w48-512-binary', 'loss': 'BCE-dice', 'weighted_loss': False, 'learning_rate': 0.0001, 'epochs': 10, 'patience': 3, 'batch_size': 4}\n",
      "Doing data augmentation...\n",
      "Augmented 0 images, of 1225\n",
      "Model is already saved\n",
      "Loading it e continue training...\n",
      "LOSS mode: BCE-dice\n",
      "Training for epoch 2 until epoch 10\n",
      "Training Epoch 2/10\n",
      "Running an epoch on the train mode.\n"
     ]
    },
    {
     "name": "stderr",
     "output_type": "stream",
     "text": [
      "100%|██████████| 307/307 [01:44<00:00,  2.95it/s]\n"
     ]
    },
    {
     "name": "stdout",
     "output_type": "stream",
     "text": [
      "Train Loss: 0.36809922415383006\n",
      "Train Accuracy: 0.94941645860672\n",
      "              precision    recall  f1-score    support\n",
      "Class 0        0.949417  1.000000  0.974052  304882752\n",
      "Class 1        0.727273  0.000006  0.000013   16243799\n",
      "weighted avg   0.938180  0.949416  0.924781  321126560\n",
      "macro avg      0.838345  0.500003  0.487032  321126560\n",
      "micro avg      0.949416  0.949416  0.949416  321126560\n",
      "Running an epoch on the validation mode.\n"
     ]
    },
    {
     "name": "stderr",
     "output_type": "stream",
     "text": [
      " 11%|█▏        | 7/62 [00:01<00:08,  6.14it/s]"
     ]
    },
    {
     "name": "stdout",
     "output_type": "stream",
     "text": [
      "Error while showing sample images...\n",
      "name 'view' is not defined\n"
     ]
    },
    {
     "name": "stderr",
     "output_type": "stream",
     "text": [
      " 15%|█▍        | 9/62 [00:01<00:08,  6.29it/s]"
     ]
    },
    {
     "name": "stdout",
     "output_type": "stream",
     "text": [
      "Error while showing sample images...\n",
      "name 'view' is not defined\n"
     ]
    },
    {
     "name": "stderr",
     "output_type": "stream",
     "text": [
      " 29%|██▉       | 18/62 [00:02<00:06,  6.52it/s]"
     ]
    },
    {
     "name": "stdout",
     "output_type": "stream",
     "text": [
      "Error while showing sample images...\n",
      "name 'view' is not defined\n",
      "Error while showing sample images...\n",
      "name 'view' is not defined\n"
     ]
    },
    {
     "name": "stderr",
     "output_type": "stream",
     "text": [
      " 40%|████      | 25/62 [00:03<00:05,  6.57it/s]"
     ]
    },
    {
     "name": "stdout",
     "output_type": "stream",
     "text": [
      "Error while showing sample images...\n",
      "name 'view' is not defined\n"
     ]
    },
    {
     "name": "stderr",
     "output_type": "stream",
     "text": [
      " 74%|███████▍  | 46/62 [00:07<00:02,  6.71it/s]"
     ]
    },
    {
     "name": "stdout",
     "output_type": "stream",
     "text": [
      "Error while showing sample images...\n",
      "name 'view' is not defined\n"
     ]
    },
    {
     "name": "stderr",
     "output_type": "stream",
     "text": [
      " 82%|████████▏ | 51/62 [00:07<00:01,  6.71it/s]"
     ]
    },
    {
     "name": "stdout",
     "output_type": "stream",
     "text": [
      "Error while showing sample images...\n",
      "name 'view' is not defined\n"
     ]
    },
    {
     "name": "stderr",
     "output_type": "stream",
     "text": [
      " 95%|█████████▌| 59/62 [00:09<00:00,  6.63it/s]"
     ]
    },
    {
     "name": "stdout",
     "output_type": "stream",
     "text": [
      "Error while showing sample images...\n",
      "name 'view' is not defined\n"
     ]
    },
    {
     "name": "stderr",
     "output_type": "stream",
     "text": [
      "100%|██████████| 62/62 [00:09<00:00,  6.58it/s]\n"
     ]
    },
    {
     "name": "stdout",
     "output_type": "stream",
     "text": [
      "Train Loss: 0.3813841657979148\n",
      "Train Accuracy: 0.9402394890785217\n",
      "              precision    recall  f1-score   support\n",
      "Class 0        0.940239  1.000000  0.969199  60387144\n",
      "Class 1        0.000000  0.000000  0.000000   3838135\n",
      "weighted avg   0.884050  0.940239  0.911280  64225280\n",
      "macro avg      0.470120  0.500000  0.484600  64225280\n",
      "micro avg      0.940239  0.940239  0.940239  64225280\n",
      "Training Epoch 3/10\n",
      "Running an epoch on the train mode.\n"
     ]
    },
    {
     "name": "stderr",
     "output_type": "stream",
     "text": [
      "100%|██████████| 307/307 [01:44<00:00,  2.94it/s]\n"
     ]
    },
    {
     "name": "stdout",
     "output_type": "stream",
     "text": [
      "Train Loss: 0.367375991636393\n",
      "Train Accuracy: 0.9494162201881409\n",
      "              precision    recall  f1-score    support\n",
      "Class 0        0.949416  1.000000  0.974052  304882592\n",
      "Class 1        0.000000  0.000000  0.000000   16243799\n",
      "weighted avg   0.901391  0.949416  0.924780  321126400\n",
      "macro avg      0.474708  0.500000  0.487026  321126400\n",
      "micro avg      0.949416  0.949416  0.949416  321126400\n",
      "Running an epoch on the validation mode.\n"
     ]
    },
    {
     "name": "stderr",
     "output_type": "stream",
     "text": [
      " 15%|█▍        | 9/62 [00:01<00:08,  6.29it/s]"
     ]
    },
    {
     "name": "stdout",
     "output_type": "stream",
     "text": [
      "Error while showing sample images...\n",
      "name 'view' is not defined\n"
     ]
    },
    {
     "name": "stderr",
     "output_type": "stream",
     "text": [
      " 23%|██▎       | 14/62 [00:02<00:07,  6.67it/s]"
     ]
    },
    {
     "name": "stdout",
     "output_type": "stream",
     "text": [
      "Error while showing sample images...\n",
      "name 'view' is not defined\n",
      "Error while showing sample images...\n",
      "name 'view' is not defined\n"
     ]
    },
    {
     "name": "stderr",
     "output_type": "stream",
     "text": [
      " 68%|██████▊   | 42/62 [00:06<00:03,  6.66it/s]"
     ]
    },
    {
     "name": "stdout",
     "output_type": "stream",
     "text": [
      "Error while showing sample images...\n",
      "name 'view' is not defined\n"
     ]
    },
    {
     "name": "stderr",
     "output_type": "stream",
     "text": [
      " 73%|███████▎  | 45/62 [00:06<00:02,  6.70it/s]"
     ]
    },
    {
     "name": "stdout",
     "output_type": "stream",
     "text": [
      "Error while showing sample images...\n",
      "name 'view' is not defined\n",
      "Error while showing sample images...\n",
      "name 'view' is not defined\n"
     ]
    },
    {
     "name": "stderr",
     "output_type": "stream",
     "text": [
      " 90%|█████████ | 56/62 [00:08<00:00,  6.71it/s]"
     ]
    },
    {
     "name": "stdout",
     "output_type": "stream",
     "text": [
      "Error while showing sample images...\n",
      "name 'view' is not defined\n"
     ]
    },
    {
     "name": "stderr",
     "output_type": "stream",
     "text": [
      "100%|██████████| 62/62 [00:09<00:00,  6.63it/s]\n"
     ]
    },
    {
     "name": "stdout",
     "output_type": "stream",
     "text": [
      "Error while showing sample images...\n",
      "name 'view' is not defined\n",
      "Train Loss: 0.37433578590957484\n",
      "Train Accuracy: 0.9402394890785217\n",
      "              precision    recall  f1-score   support\n",
      "Class 0        0.940239  1.000000  0.969199  60387148\n",
      "Class 1        0.000000  0.000000  0.000000   3838135\n",
      "weighted avg   0.884050  0.940239  0.911280  64225284\n",
      "macro avg      0.470120  0.500000  0.484600  64225284\n",
      "micro avg      0.940240  0.940240  0.940240  64225284\n",
      "Training Epoch 4/10\n",
      "Running an epoch on the train mode.\n"
     ]
    },
    {
     "name": "stderr",
     "output_type": "stream",
     "text": [
      "100%|██████████| 307/307 [01:44<00:00,  2.94it/s]\n"
     ]
    },
    {
     "name": "stdout",
     "output_type": "stream",
     "text": [
      "Train Loss: 0.36644575955916425\n",
      "Train Accuracy: 0.9494162797927856\n",
      "              precision    recall  f1-score    support\n",
      "Class 0        0.949416  1.000000  0.974052  304882656\n",
      "Class 1        0.000000  0.000000  0.000000   16243799\n",
      "weighted avg   0.901391  0.949416  0.924780  321126464\n",
      "macro avg      0.474708  0.500000  0.487026  321126464\n",
      "micro avg      0.949416  0.949416  0.949416  321126464\n",
      "Running an epoch on the validation mode.\n"
     ]
    },
    {
     "name": "stderr",
     "output_type": "stream",
     "text": [
      " 15%|█▍        | 9/62 [00:01<00:08,  6.23it/s]"
     ]
    },
    {
     "name": "stdout",
     "output_type": "stream",
     "text": [
      "Error while showing sample images...\n",
      "name 'view' is not defined\n",
      "Error while showing sample images...\n",
      "name 'view' is not defined\n"
     ]
    },
    {
     "name": "stderr",
     "output_type": "stream",
     "text": [
      " 29%|██▉       | 18/62 [00:02<00:06,  6.67it/s]"
     ]
    },
    {
     "name": "stdout",
     "output_type": "stream",
     "text": [
      "Error while showing sample images...\n",
      "name 'view' is not defined\n"
     ]
    },
    {
     "name": "stderr",
     "output_type": "stream",
     "text": [
      " 47%|████▋     | 29/62 [00:04<00:04,  6.60it/s]"
     ]
    },
    {
     "name": "stdout",
     "output_type": "stream",
     "text": [
      "Error while showing sample images...\n",
      "name 'view' is not defined\n"
     ]
    },
    {
     "name": "stderr",
     "output_type": "stream",
     "text": [
      " 98%|█████████▊| 61/62 [00:09<00:00,  6.64it/s]"
     ]
    },
    {
     "name": "stdout",
     "output_type": "stream",
     "text": [
      "Error while showing sample images...\n",
      "name 'view' is not defined\n"
     ]
    },
    {
     "name": "stderr",
     "output_type": "stream",
     "text": [
      "100%|██████████| 62/62 [00:09<00:00,  6.62it/s]\n"
     ]
    },
    {
     "name": "stdout",
     "output_type": "stream",
     "text": [
      "Error while showing sample images...\n",
      "name 'view' is not defined\n",
      "Train Loss: 0.3842506318676228\n",
      "Train Accuracy: 0.9364093542098999\n",
      "              precision    recall  f1-score   support\n",
      "Class 0        0.940010  0.995926  0.967161  60387128\n",
      "Class 1        0.000000  0.000000  0.000000   3838135\n",
      "weighted avg   0.883834  0.936409  0.909362  64225264\n",
      "macro avg      0.470005  0.497963  0.483580  64225264\n",
      "micro avg      0.936409  0.936409  0.936409  64225264\n",
      "Training Epoch 5/10\n",
      "Running an epoch on the train mode.\n"
     ]
    },
    {
     "name": "stderr",
     "output_type": "stream",
     "text": [
      "100%|██████████| 307/307 [01:44<00:00,  2.93it/s]\n"
     ]
    },
    {
     "name": "stdout",
     "output_type": "stream",
     "text": [
      "Train Loss: 0.3659222415028786\n",
      "Train Accuracy: 0.9494162797927856\n",
      "              precision    recall  f1-score    support\n",
      "Class 0        0.949416  1.000000  0.974052  304882816\n",
      "Class 1        0.000000  0.000000  0.000000   16243799\n",
      "weighted avg   0.901391  0.949416  0.924781  321126624\n",
      "macro avg      0.474708  0.500000  0.487026  321126624\n",
      "micro avg      0.949416  0.949416  0.949416  321126624\n",
      "Running an epoch on the validation mode.\n"
     ]
    },
    {
     "name": "stderr",
     "output_type": "stream",
     "text": [
      " 15%|█▍        | 9/62 [00:01<00:08,  6.38it/s]"
     ]
    },
    {
     "name": "stdout",
     "output_type": "stream",
     "text": [
      "Error while showing sample images...\n",
      "name 'view' is not defined\n"
     ]
    },
    {
     "name": "stderr",
     "output_type": "stream",
     "text": [
      " 29%|██▉       | 18/62 [00:02<00:06,  6.72it/s]"
     ]
    },
    {
     "name": "stdout",
     "output_type": "stream",
     "text": [
      "Error while showing sample images...\n",
      "name 'view' is not defined\n"
     ]
    },
    {
     "name": "stderr",
     "output_type": "stream",
     "text": [
      " 32%|███▏      | 20/62 [00:03<00:06,  6.71it/s]"
     ]
    },
    {
     "name": "stdout",
     "output_type": "stream",
     "text": [
      "Error while showing sample images...\n",
      "name 'view' is not defined\n"
     ]
    },
    {
     "name": "stderr",
     "output_type": "stream",
     "text": [
      " 47%|████▋     | 29/62 [00:04<00:04,  6.72it/s]"
     ]
    },
    {
     "name": "stdout",
     "output_type": "stream",
     "text": [
      "Error while showing sample images...\n",
      "name 'view' is not defined\n"
     ]
    },
    {
     "name": "stderr",
     "output_type": "stream",
     "text": [
      "100%|██████████| 62/62 [00:09<00:00,  6.65it/s]\n"
     ]
    },
    {
     "name": "stdout",
     "output_type": "stream",
     "text": [
      "Error while showing sample images...\n",
      "name 'view' is not defined\n",
      "Train Loss: 0.3752045399072219\n",
      "Train Accuracy: 0.9402394890785217\n",
      "              precision    recall  f1-score   support\n",
      "Class 0        0.940239  1.000000  0.969199  60387136\n",
      "Class 1        0.000000  0.000000  0.000000   3838135\n",
      "weighted avg   0.884050  0.940239  0.911280  64225272\n",
      "macro avg      0.470120  0.500000  0.484600  64225272\n",
      "micro avg      0.940239  0.940239  0.940239  64225272\n",
      "Training Epoch 6/10\n",
      "Running an epoch on the train mode.\n"
     ]
    },
    {
     "name": "stderr",
     "output_type": "stream",
     "text": [
      "100%|██████████| 307/307 [01:44<00:00,  2.94it/s]\n"
     ]
    },
    {
     "name": "stdout",
     "output_type": "stream",
     "text": [
      "Train Loss: 0.36558718890559916\n",
      "Train Accuracy: 0.9494162797927856\n",
      "              precision    recall  f1-score    support\n",
      "Class 0        0.949416  1.000000  0.974052  304882720\n",
      "Class 1        0.000000  0.000000  0.000000   16243799\n",
      "weighted avg   0.901391  0.949416  0.924780  321126528\n",
      "macro avg      0.474708  0.500000  0.487026  321126528\n",
      "micro avg      0.949416  0.949416  0.949416  321126528\n",
      "Running an epoch on the validation mode.\n"
     ]
    },
    {
     "name": "stderr",
     "output_type": "stream",
     "text": [
      " 18%|█▊        | 11/62 [00:01<00:08,  6.31it/s]"
     ]
    },
    {
     "name": "stdout",
     "output_type": "stream",
     "text": [
      "Error while showing sample images...\n",
      "name 'view' is not defined\n"
     ]
    },
    {
     "name": "stderr",
     "output_type": "stream",
     "text": [
      " 35%|███▌      | 22/62 [00:03<00:05,  6.72it/s]"
     ]
    },
    {
     "name": "stdout",
     "output_type": "stream",
     "text": [
      "Error while showing sample images...\n",
      "name 'view' is not defined\n"
     ]
    },
    {
     "name": "stderr",
     "output_type": "stream",
     "text": [
      " 40%|████      | 25/62 [00:03<00:05,  6.69it/s]"
     ]
    },
    {
     "name": "stdout",
     "output_type": "stream",
     "text": [
      "Error while showing sample images...\n",
      "name 'view' is not defined\n"
     ]
    },
    {
     "name": "stderr",
     "output_type": "stream",
     "text": [
      " 58%|█████▊    | 36/62 [00:05<00:03,  6.65it/s]"
     ]
    },
    {
     "name": "stdout",
     "output_type": "stream",
     "text": [
      "Error while showing sample images...\n",
      "name 'view' is not defined\n"
     ]
    },
    {
     "name": "stderr",
     "output_type": "stream",
     "text": [
      "100%|██████████| 62/62 [00:09<00:00,  6.62it/s]"
     ]
    },
    {
     "name": "stdout",
     "output_type": "stream",
     "text": [
      "Train Loss: 0.37467716689012487\n",
      "Train Accuracy: 0.9402394890785217\n",
      "              precision    recall  f1-score   support\n",
      "Class 0        0.940239  1.000000  0.969199  60387136\n",
      "Class 1        0.000000  0.000000  0.000000   3838135\n",
      "weighted avg   0.884050  0.940239  0.911280  64225272\n",
      "macro avg      0.470120  0.500000  0.484600  64225272\n",
      "micro avg      0.940239  0.940239  0.940239  64225272\n"
     ]
    },
    {
     "name": "stderr",
     "output_type": "stream",
     "text": [
      "\n"
     ]
    }
   ],
   "source": [
    "for model_params in train.iterate_parameter_grid(model_param_grid):\n",
    "\n",
    "    #definitions\n",
    "    model_name = model_params['model'] \n",
    "    patch_size = int(model_name.split('-')[1])\n",
    "    print(model_params)\n",
    "    model_class = model_name.split('-')[0]\n",
    "\n",
    "    batch_size = model_params['batch_size'] \n",
    "\n",
    "\n",
    "    #load data\n",
    "    train_dataset = data.SubtileDataset(train_files, \n",
    "                    num_subtiles = num_subtiles, \n",
    "                    classes_mode = classes_mode, \n",
    "                    patch_size=(patch_size, patch_size), \n",
    "                    stride=patch_size//2, \n",
    "                    data_augmentation = True, \n",
    "                    return_imgidx = False,\n",
    "                    return_nans=False,\n",
    "                    debug=False)\n",
    "\n",
    "    val_dataset = data.SubtileDataset(val_files, \n",
    "                        num_subtiles = num_subtiles, \n",
    "                        classes_mode = classes_mode, \n",
    "                        patch_size=(patch_size, patch_size), \n",
    "                        stride=patch_size//2,\n",
    "                        data_augmentation = False, \n",
    "                        return_imgidx = False,\n",
    "                        return_nans=False,\n",
    "                        debug=False)\n",
    "    \n",
    "    train_loader = DataLoader(train_dataset, batch_size=batch_size, shuffle=True)\n",
    "    val_loader = DataLoader(val_dataset, batch_size=batch_size, shuffle=True)\n",
    "\n",
    "    if model_name.startswith('UNet-'):\n",
    "        model = unets.UNet(in_channels=12, out_channels=num_classes).to(device) \n",
    "    elif model_name.startswith('UNetResNet34-'):\n",
    "        model = unets.UNetResNet34(in_channels=12, out_channels=num_classes).to(device) \n",
    "    elif model_name.startswith('UNetEfficientNetB0-'):\n",
    "        model = unets.UNetEfficientNetB0(in_channels=12, out_channels=num_classes).to(device) \n",
    "    elif model_name.startswith('UNetConvNext-'):\n",
    "        model = unets.UNetConvNext (in_channels=12, out_channels=num_classes).to(device) \n",
    "    elif model_name.startswith('HRNet_w18'):\n",
    "        model = hrnets.HRNetSegmentation(in_channels= 12, num_classes=num_classes, backbone=\"hrnet_w18\", pretrained=True, debug=True).to(device)\n",
    "    elif model_name.startswith('HRNet_w18'):\n",
    "        model = hrnets.HRNetSegmentation(in_channels= 12, num_classes=num_classes, backbone=\"hrnet_w32\", pretrained=True, debug=True).to(device)\n",
    "    elif model_name.startswith('HRNet_w18'):\n",
    "        model = hrnets.HRNetSegmentation(in_channels= 12, num_classes=num_classes, backbone=\"hrnet_w48\", pretrained=True, debug=True).to(device)\n",
    "        \n",
    "\n",
    "    optimizer = optim.Adam(model.parameters(), lr=model_params['learning_rate'], weight_decay=1e-5)\n",
    "    train.train_model(model, \n",
    "                        train_loader, \n",
    "                        val_loader, \n",
    "                        epochs=model_params['epochs'], \n",
    "                        loss_mode = model_params['loss'],\n",
    "                        optimizer = optimizer, \n",
    "                        device = device,\n",
    "                        num_classes = num_classes, \n",
    "                        patience = model_params['patience'],\n",
    "                        label_counts = None,\n",
    "                        show_batches = 1, \n",
    "                        save_to = model_name+'.pth')\n",
    "\n",
    "\n",
    "    \n"
   ]
  },
  {
   "cell_type": "code",
   "execution_count": null,
   "metadata": {},
   "outputs": [],
   "source": [
    "\n"
   ]
  },
  {
   "cell_type": "code",
   "execution_count": null,
   "metadata": {},
   "outputs": [],
   "source": [
    "\n"
   ]
  },
  {
   "cell_type": "code",
   "execution_count": null,
   "metadata": {},
   "outputs": [],
   "source": []
  },
  {
   "cell_type": "code",
   "execution_count": null,
   "metadata": {},
   "outputs": [],
   "source": [
    "\n"
   ]
  },
  {
   "cell_type": "code",
   "execution_count": null,
   "metadata": {},
   "outputs": [],
   "source": []
  },
  {
   "cell_type": "code",
   "execution_count": null,
   "metadata": {},
   "outputs": [],
   "source": []
  },
  {
   "cell_type": "code",
   "execution_count": null,
   "metadata": {},
   "outputs": [],
   "source": []
  },
  {
   "cell_type": "code",
   "execution_count": null,
   "metadata": {},
   "outputs": [],
   "source": []
  },
  {
   "cell_type": "code",
   "execution_count": null,
   "metadata": {},
   "outputs": [],
   "source": []
  },
  {
   "cell_type": "code",
   "execution_count": null,
   "metadata": {},
   "outputs": [],
   "source": []
  },
  {
   "cell_type": "code",
   "execution_count": null,
   "metadata": {},
   "outputs": [],
   "source": [
    "\n",
    "\n"
   ]
  },
  {
   "cell_type": "code",
   "execution_count": null,
   "metadata": {},
   "outputs": [],
   "source": []
  },
  {
   "cell_type": "code",
   "execution_count": null,
   "metadata": {},
   "outputs": [],
   "source": []
  },
  {
   "cell_type": "code",
   "execution_count": null,
   "metadata": {},
   "outputs": [],
   "source": []
  },
  {
   "cell_type": "code",
   "execution_count": null,
   "metadata": {},
   "outputs": [],
   "source": []
  },
  {
   "cell_type": "code",
   "execution_count": 8,
   "metadata": {},
   "outputs": [
    {
     "ename": "NameError",
     "evalue": "name 'originals' is not defined",
     "output_type": "error",
     "traceback": [
      "\u001b[0;31m---------------------------------------------------------------------------\u001b[0m",
      "\u001b[0;31mNameError\u001b[0m                                 Traceback (most recent call last)",
      "Cell \u001b[0;32mIn[8], line 2\u001b[0m\n\u001b[1;32m      1\u001b[0m ims \u001b[38;5;241m=\u001b[39m []\n\u001b[0;32m----> 2\u001b[0m \u001b[38;5;28;01mfor\u001b[39;00m f \u001b[38;5;129;01min\u001b[39;00m \u001b[43moriginals\u001b[49m:\n\u001b[1;32m      3\u001b[0m     \u001b[38;5;28;01mwith\u001b[39;00m rasterio\u001b[38;5;241m.\u001b[39mopen(f) \u001b[38;5;28;01mas\u001b[39;00m im:        \n\u001b[1;32m      4\u001b[0m         \u001b[38;5;66;03m#window = rasterio.windows.Window(x+subtile_x ,y+subtile_y , patch_size, patch_size) #TODO mudar esse hardcoded\u001b[39;00m\n\u001b[1;32m      5\u001b[0m         im \u001b[38;5;241m=\u001b[39m im\u001b[38;5;241m.\u001b[39mread()\u001b[38;5;66;03m#window = window)\u001b[39;00m\n",
      "\u001b[0;31mNameError\u001b[0m: name 'originals' is not defined"
     ]
    }
   ],
   "source": [
    "ims = []\n",
    "for f in originals:\n",
    "    with rasterio.open(f) as im:        \n",
    "        #window = rasterio.windows.Window(x+subtile_x ,y+subtile_y , patch_size, patch_size) #TODO mudar esse hardcoded\n",
    "        im = im.read()#window = window)\n",
    "        im = im[1:4,:,:]\n",
    "        im = im.transpose((1, 2, 0))\n",
    "        im = np.clip(im, 0, 10000)\n",
    "        im = im-np.min(im)\n",
    "        im = im/np.max(im)\n",
    "        ims.append(im)\n",
    "\n",
    "import numpy as np\n",
    "import matplotlib.pyplot as plt\n",
    "from matplotlib.colors import LinearSegmentedColormap\n",
    "\n",
    "limx = (1000,1700)\n",
    "limy = (1000,1700)\n",
    "for im, mask in zip(ims, results):\n",
    "    plt.figure(figsize=(10,10))\n",
    "    plt.imshow(im[limx[0]:limx[1],limy[0]:limy[1],:])\n",
    "    for c in range(5):\n",
    "        plt.figure(figsize=(10,10))\n",
    "        plt.imshow(mask[c,limx[0]:limx[1],limy[0]:limy[1]], cmap='gray')\n",
    "    print(np.min(mask), np.max(mask), mask.shape)\n",
    "    #plt.figure(figsize=(10,10))\n",
    "    #plt.imshow(mask>0.5)\n",
    "\n",
    "\n"
   ]
  },
  {
   "cell_type": "code",
   "execution_count": null,
   "metadata": {},
   "outputs": [],
   "source": [
    "\n",
    "\n",
    "\n",
    "import numpy as np\n",
    "import matplotlib.pyplot as plt\n",
    "from matplotlib.colors import LinearSegmentedColormap\n",
    "\n",
    "def plot_satellite_with_mask(ax, satellite_image, mask, title=\"Satellite Image with Mask Overlay\",\n",
    "                             mask_color=(1, 0, 0), mask_alpha=0.5, border_color='red',\n",
    "                             border_width=2):\n",
    "\n",
    "    if satellite_image.shape[-1]!=3:\n",
    "        satellite_image = satellite_image[1:4,:,:]\n",
    "        satellite_image = satellite_image.transpose((1, 2, 0))\n",
    "    # Ensure mask is binary\n",
    "    mask = (mask > 0).astype(int)\n",
    "\n",
    "    # Create a custom colormap for the mask\n",
    "    colors = [(0, 0, 0, 0), mask_color + (mask_alpha,)]\n",
    "    cmap = LinearSegmentedColormap.from_list(\"custom\", colors, N=2)\n",
    "\n",
    "    # Plot the satellite image\n",
    "    ax.imshow(satellite_image)\n",
    "    print(np.min(satellite_image))\n",
    "    print(np.max(satellite_image))\n",
    "    # Plot the mask overlay\n",
    "    #mask_plot = ax.imshow(mask, cmap=cmap)\n",
    "\n",
    "    # Plot the mask border\n",
    "    #ax.contour(mask, colors=border_color, linewidths=border_width, levels=[0.5])\n",
    "\n",
    "    # Set title and remove axis ticks\n",
    "    ax.set_title(title)\n",
    "    ax.set_xticks([])\n",
    "    ax.set_yticks([])\n",
    "\n",
    "    return ax\n",
    "    return mask_plot\n",
    "\n",
    "def plot_multiple_satellite_images(satellite_images, masks, titles=None, figsize=(20, 20),\n",
    "                                   mask_color=(1, 0, 0), mask_alpha=0.5, border_color='red',\n",
    "                                   border_width=2):\n",
    "    \"\"\"\n",
    "    Plot multiple satellite images with their corresponding masks in subplots.\n",
    "\n",
    "    Parameters:\n",
    "    satellite_images (list): List of satellite images (each a 3D numpy array)\n",
    "    masks (list): List of corresponding masks (each a 2D numpy array)\n",
    "    titles (list): List of titles for each subplot (optional)\n",
    "    figsize (tuple): Figure size in inches (width, height)\n",
    "    mask_color (tuple): RGB color for the mask (values between 0 and 1)\n",
    "    mask_alpha (float): Alpha value for mask transparency (between 0 and 1)\n",
    "    border_color (str or tuple): Color of the mask border\n",
    "    border_width (float): Width of the mask border\n",
    "\n",
    "    Returns:\n",
    "    matplotlib.figure.Figure: The created figure\n",
    "    \"\"\"\n",
    "    n = len(satellite_images)\n",
    "    rows = int(np.ceil(np.sqrt(n)))\n",
    "    cols = int(np.ceil(n / rows))\n",
    "\n",
    "    fig, axes = plt.subplots(rows, cols, figsize=figsize)\n",
    "    if n == 1:\n",
    "        axes = np.array([axes])\n",
    "    axes = axes.flatten()\n",
    "\n",
    "    for i, (image, mask) in enumerate(zip(satellite_images, masks)):\n",
    "        if i < n:\n",
    "            title = titles[i] if titles and i < len(titles) else f\"Image {i+1}\"\n",
    "            mask_plot = plot_satellite_with_mask(axes[i], image, mask, title, \n",
    "                                                 mask_color, mask_alpha, \n",
    "                                                 border_color, border_width)\n",
    "        else:\n",
    "            axes[i].axis('off')\n",
    "\n",
    "    # Add a colorbar to the last subplot\n",
    "    cbar = fig.colorbar(mask_plot, ax=axes[-1], ticks=[0, 1])\n",
    "    cbar.set_label('Mask Value')\n",
    "\n",
    "    plt.tight_layout()\n",
    "    return fig\n",
    "\n",
    "\n"
   ]
  },
  {
   "cell_type": "code",
   "execution_count": null,
   "metadata": {},
   "outputs": [],
   "source": []
  },
  {
   "cell_type": "code",
   "execution_count": null,
   "metadata": {},
   "outputs": [],
   "source": []
  },
  {
   "cell_type": "code",
   "execution_count": null,
   "metadata": {},
   "outputs": [],
   "source": []
  },
  {
   "cell_type": "code",
   "execution_count": null,
   "metadata": {},
   "outputs": [],
   "source": []
  },
  {
   "cell_type": "code",
   "execution_count": null,
   "metadata": {},
   "outputs": [],
   "source": [
    "patches com 10% dos dados?\n",
    "data aug so nas minoritarias\n",
    "mostrar os erros\n",
    "olhar o recall\n",
    "salvar as mascaras para abrir no qgis.\n",
    "aplicar só no setor censitario?\n",
    "\n",
    "\n",
    "\n",
    "qual a saida do modelo? probabilidade de cada classes?\n",
    "qual data augmentation vc fez?\n",
    "qual as imagens vc ta usando? sentinel? resolucao?\n",
    "como é a balanced accuracy?\n",
    "\n",
    "0\n",
    "loteamento vazio\n",
    "outros equipamentos\n",
    "vazio interubano\n",
    "area urbanizada\n"
   ]
  }
 ],
 "metadata": {
  "kernelspec": {
   "display_name": ".venv",
   "language": "python",
   "name": "python3"
  },
  "language_info": {
   "codemirror_mode": {
    "name": "ipython",
    "version": 3
   },
   "file_extension": ".py",
   "mimetype": "text/x-python",
   "name": "python",
   "nbconvert_exporter": "python",
   "pygments_lexer": "ipython3",
   "version": "3.10.12"
  }
 },
 "nbformat": 4,
 "nbformat_minor": 2
}
