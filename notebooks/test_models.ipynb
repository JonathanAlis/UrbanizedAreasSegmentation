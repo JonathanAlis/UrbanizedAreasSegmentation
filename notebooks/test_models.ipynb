{
 "cells": [
  {
   "cell_type": "markdown",
   "metadata": {},
   "source": [
    "### Testando os modelos UNET\n",
    "\n",
    "Principalmente verificando os shapes dos inputs e outputs, e o uso de memória da GPU"
   ]
  },
  {
   "cell_type": "code",
   "execution_count": null,
   "metadata": {},
   "outputs": [],
   "source": [
    "# imports\n",
    "\n",
    "import os\n",
    "import sys\n",
    "sys.path.append(os.path.abspath('..'))\n",
    "from rasterio.coords import BoundingBox\n",
    "\n",
    "import src.models.unets as unets\n",
    "#import src.models.unets as unets\n",
    "\n",
    "import torch"
   ]
  },
  {
   "cell_type": "code",
   "execution_count": null,
   "metadata": {},
   "outputs": [],
   "source": []
  },
  {
   "cell_type": "markdown",
   "metadata": {},
   "source": []
  },
  {
   "cell_type": "code",
   "execution_count": null,
   "metadata": {},
   "outputs": [],
   "source": [
    "def print_gpu_memory(prefix=\"\"):\n",
    "    if torch.cuda.is_available():\n",
    "        allocated = torch.cuda.memory_allocated() / (1024 ** 2)\n",
    "        reserved = torch.cuda.memory_reserved() / (1024 ** 2)\n",
    "        print(f\"{prefix} Memory Allocated: {allocated:.2f} MB\")\n",
    "        print(f\"{prefix} Memory Reserved: {reserved:.2f} MB\")\n",
    "    else:\n",
    "        print(\"CUDA is not available.\")\n",
    "\n",
    "\n",
    "device = torch.device(\"cuda\" if torch.cuda.is_available() else \"cpu\")\n",
    "torch.cuda.empty_cache() \n",
    "\n",
    "print_gpu_memory()\n"
   ]
  },
  {
   "cell_type": "code",
   "execution_count": null,
   "metadata": {},
   "outputs": [],
   "source": [
    "\n",
    "model = unets.UNet(12, out_channels=5).to(device)  # 12 channels, 5 classes\n",
    "input_tensor = torch.rand(6, 12, 64, 64).to(device)  # batch = 6\n",
    "output = model(input_tensor)\n",
    "print('-------------------------------------------')\n",
    "print('UNet shapes:')\n",
    "print('Input:', input_tensor.shape)\n",
    "print('Output:', output.shape)\n",
    "print_gpu_memory()\n",
    "torch.cuda.empty_cache() \n"
   ]
  },
  {
   "cell_type": "code",
   "execution_count": null,
   "metadata": {},
   "outputs": [],
   "source": [
    "\n",
    "model = unets.UNetResNet34(12, out_channels=5).to(device)  # 12 channels, 5 classes\n",
    "input_tensor = torch.rand(6, 12, 224, 224).to(device)  # batch = 6\n",
    "output = model(input_tensor)\n",
    "print('-------------------------------------------')\n",
    "print('UNetResNet34 shapes:')\n",
    "print('Input:', input_tensor.shape)\n",
    "print('Output:', output.shape)\n",
    "print_gpu_memory()\n",
    "torch.cuda.empty_cache() \n"
   ]
  },
  {
   "cell_type": "code",
   "execution_count": null,
   "metadata": {},
   "outputs": [],
   "source": [
    "\n",
    "model = unets.UNetEfficientNetB0(12, out_channels=5).to(device)\n",
    "input_tensor = torch.rand(6, 12, 224, 224).to(device)  # batch = 6\n",
    "output = model(input_tensor)\n",
    "print('-------------------------------------------')\n",
    "print('UNetEfficientNetB0 shapes:')\n",
    "print('Input:', input_tensor.shape)\n",
    "print('Output:', output.shape)\n",
    "print_gpu_memory()\n",
    "torch.cuda.empty_cache() \n"
   ]
  },
  {
   "cell_type": "code",
   "execution_count": null,
   "metadata": {},
   "outputs": [],
   "source": [
    "\n",
    "model = unets.UNetConvNext(12, out_channels=5).to(device)\n",
    "input_tensor = torch.rand(6, 12, 224, 224).to(device)  # batch = 6\n",
    "output = model(input_tensor)\n",
    "print('-------------------------------------------')\n",
    "print('UNetConvNext shapes:')\n",
    "print('Input:', input_tensor.shape)\n",
    "print('Output:', output.shape)\n",
    "print_gpu_memory()\n",
    "torch.cuda.empty_cache() \n",
    "\n"
   ]
  }
 ],
 "metadata": {
  "kernelspec": {
   "display_name": ".venv",
   "language": "python",
   "name": "python3"
  },
  "language_info": {
   "name": "python",
   "version": "3.12.7"
  }
 },
 "nbformat": 4,
 "nbformat_minor": 2
}
