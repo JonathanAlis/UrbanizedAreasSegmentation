{
 "cells": [
  {
   "cell_type": "markdown",
   "metadata": {},
   "source": [
    "## Download das imagens do BDC\n",
    "\n",
    "Utiliza os scripts em scr/data/BDC_downloader.py\n"
   ]
  },
  {
   "cell_type": "code",
   "execution_count": null,
   "metadata": {},
   "outputs": [],
   "source": [
    "# imports\n",
    "\n",
    "import os\n",
    "import sys\n",
    "sys.path.append(os.path.abspath('..'))\n",
    "from rasterio.coords import BoundingBox\n",
    "import rasterio\n",
    "\n",
    "import src.data.BDC_downloader as BDC_downloader\n"
   ]
  },
  {
   "cell_type": "markdown",
   "metadata": {},
   "source": [
    "### Define a região do tile para o download\n",
    "\n",
    "\n",
    "- É necessário definir qual tile será baixado.\n",
    "- É feita a busca no BDC explorer \n",
    "- Deve-se adicionar a latitude e longitude aproximada para diminuir o tempo de busca\n",
    "\n",
    "\n"
   ]
  },
  {
   "cell_type": "code",
   "execution_count": null,
   "metadata": {},
   "outputs": [],
   "source": [
    "\n",
    "tiles = {'MG':'032027',\n",
    "         'RS': '025037',\n",
    "         'AM':'016009',\n",
    "         'BA':'038019',\n",
    "         'DF': '028022',\n",
    "         'RJ': '033029'}\n"
   ]
  },
  {
   "cell_type": "code",
   "execution_count": null,
   "metadata": {},
   "outputs": [],
   "source": [
    "\n",
    "list(tiles.values())\n"
   ]
  },
  {
   "cell_type": "markdown",
   "metadata": {},
   "source": [
    "Obtém a URI dos items do tile.\n",
    "\n",
    "Não esqueça de colocar a bounding_box"
   ]
  },
  {
   "cell_type": "code",
   "execution_count": null,
   "metadata": {},
   "outputs": [],
   "source": [
    "import pystac_client\n",
    "\n",
    "\n",
    "items = BDC_downloader.get_tiles(tiles=list(tiles.values()),\n",
    "              collections=['S2-16D-2'], \n",
    "              datetime='2019-01-01/2019-12-31'\n",
    "              )\n"
   ]
  },
  {
   "cell_type": "code",
   "execution_count": null,
   "metadata": {},
   "outputs": [],
   "source": [
    "items[0]"
   ]
  },
  {
   "cell_type": "code",
   "execution_count": null,
   "metadata": {},
   "outputs": [],
   "source": [
    "it = items[0].to_dict()\n",
    "it['assets']['SCL']"
   ]
  },
  {
   "cell_type": "code",
   "execution_count": null,
   "metadata": {},
   "outputs": [],
   "source": [
    "it['assets']['SCL']['href']\n"
   ]
  },
  {
   "cell_type": "code",
   "execution_count": null,
   "metadata": {},
   "outputs": [],
   "source": [
    "#items[0]['properties']\n",
    "it = items[0].to_dict()\n",
    "it['properties']['datetime']"
   ]
  },
  {
   "cell_type": "code",
   "execution_count": null,
   "metadata": {},
   "outputs": [],
   "source": [
    "len(items)"
   ]
  },
  {
   "cell_type": "code",
   "execution_count": null,
   "metadata": {},
   "outputs": [],
   "source": [
    "import os\n",
    "import numpy as np\n",
    "import matplotlib.pyplot as plt\n",
    "import rasterio\n",
    "from datetime import datetime\n",
    "\n",
    "def plot_valid_coverage(by = 'date'):\n",
    "    ### by='ordered'\n",
    "    ### by='reversed'\n",
    "    working_dir = os.path.abspath('..')\n",
    "\n",
    "    for uf, tile in tiles.items():\n",
    "        print(uf, tile)\n",
    "\n",
    "        # Store results\n",
    "        \n",
    "\n",
    "        tile_items = []\n",
    "        for it in items:\n",
    "            it = it.to_dict()\n",
    "            if it['properties']['bdc:tiles'][0] == tile:  # Tile filtering\n",
    "                tile_items.append(it)\n",
    "\n",
    "        print()\n",
    "        counts = []\n",
    "        if by != 'time':\n",
    "            for i, it in enumerate(tile_items):\n",
    "                uri = it['assets']['SCL']['href']\n",
    "                with rasterio.open(uri) as src:\n",
    "                    data = src.read()\n",
    "                arr = np.where((data >= 4) & (data <= 6), 1, 0)  # Binary mask (valid coverage)\n",
    "                valid_pixel_count = np.sum(arr) / arr.size  # Count number of 1s in arr\n",
    "                counts.append(valid_pixel_count)  # Store it\n",
    "            \n",
    "            ordered_idx = np.argsort(counts)\n",
    "            if by == 'reversed':\n",
    "                ordered_idx = ordered_idx[::-1]\n",
    "                \n",
    "        # **Sort tile_items by date**\n",
    "        if by == 'date':\n",
    "            tile_items.sort(key=lambda it: datetime.fromisoformat(it['properties']['datetime'][:10]))\n",
    "        else:\n",
    "            tile_items = [tile_items[i] for i in ordered_idx]\n",
    "        #tile_items.sort(key=lambda it: datetime.fromisoformat(it['properties']['datetime'][:10]))\n",
    "        \n",
    "        # ---------------------------------\n",
    "        selected_arrays = []\n",
    "        sum_overlap = None  # Track total covered area\n",
    "        coverage_metric = []  # Store how coverage improves with more arrays\n",
    "        counts = []  # Store the number of valid pixels in each arr\n",
    "        dates = []  # Store corresponding dates\n",
    "        for i, it in enumerate(tile_items):\n",
    "            uri = it['assets']['SCL']['href']\n",
    "            date = datetime.fromisoformat(it['properties']['datetime'][:10]).strftime('%Y-%m-%d')  # Format date\n",
    "            dates.append(date)\n",
    "\n",
    "            # Read raster\n",
    "            with rasterio.open(uri) as src:\n",
    "                data = src.read()\n",
    "            arr = np.where((data >= 4) & (data <= 6), 1, 0)  # Binary mask (valid coverage)\n",
    "            valid_pixel_count = np.sum(arr) / arr.size  # Count number of 1s in arr\n",
    "            counts.append(valid_pixel_count)  # Store it\n",
    "\n",
    "            if sum_overlap is None:\n",
    "                sum_overlap = np.zeros_like(arr, dtype=bool)  # Initialize sum array\n",
    "\n",
    "            # Compute new overlap if this array is added\n",
    "            new_overlap = np.sum(np.logical_or(sum_overlap, arr))\n",
    "            \n",
    "            # Improvement calculation\n",
    "            improvement = new_overlap if len(selected_arrays) == 0 else new_overlap - np.sum(sum_overlap)\n",
    "            coverage_metric.append(new_overlap / arr.size)  # Normalize by total pixels\n",
    "\n",
    "            # Track selected images\n",
    "            selected_arrays.append(arr)\n",
    "            sum_overlap = np.logical_or(sum_overlap, arr)  # Update cumulative mask\n",
    "\n",
    "        # **Plot coverage metric and valid pixel counts together**\n",
    "        fig, ax1 = plt.subplots(figsize=(10, 5))\n",
    "\n",
    "        \n",
    "        ax1.set_ylim(0, 100)  # **Zoom in on y-axis for coverage metric**\n",
    "        ax1.bar(dates, [100*c for c in counts], color=\"r\", label=\"Pixels Válidos (%)\")#, marker=\"s\", linestyle=\"dashed\", label=\"Pixels Válidos\")\n",
    "        ax1.set_ylabel(\"Percentual de Pixels Válidos (%)\", color=\"r\")\n",
    "        ax1.tick_params(axis=\"y\", labelcolor=\"r\")\n",
    "        ax1.set_xticks(dates)  # Use dates as x-axis labels\n",
    "        ax1.set_xticklabels(dates, rotation=45, ha=\"right\")  # Rotate labels for readability\n",
    "        \n",
    "        ax2 = ax1.twinx()  # Create a second y-axis\n",
    "        ax2.plot(dates, [100*c for c in coverage_metric], marker=\"o\", color=\"b\", label=\"Cobertura (%)\")\n",
    "        ax2.set_xlabel(\"Datas das imagens\")\n",
    "        ax2.set_ylabel(\"Percentual de Cobertura Acumulada (%)\", color=\"b\")\n",
    "        ax2.tick_params(axis=\"y\", labelcolor=\"b\")\n",
    "        ax2.set_ylim(0, 100)  # **Zoom in on y-axis for coverage metric**\n",
    "        ax2.grid(True, linestyle=\"--\", alpha=0.7)  # Add grid\n",
    "        ax2.grid(True, which='minor', color='0.5', linestyle='-')\n",
    "\n",
    "        \n",
    "\n",
    "        # **Add legend inside the plot (bottom right)**\n",
    "        lines_1, labels_1 = ax1.get_legend_handles_labels()\n",
    "        lines_2, labels_2 = ax2.get_legend_handles_labels()\n",
    "        ax1.legend(lines_1 + lines_2, labels_1 + labels_2, loc=\"lower right\", frameon=True)\n",
    "\n",
    "        fig.suptitle(f\"Melhoria da Cobertura vs. Pixels Válidos ({uf}:{tile})\")\n",
    "        fig.tight_layout()\n",
    "\n",
    "        save_to = os.path.join(working_dir, 'figs', f'Coverage_Counts_{by}_{uf}_{tile}.png')\n",
    "        plt.savefig(save_to, bbox_inches=\"tight\", pad_inches=0)\n",
    "        plt.show()\n"
   ]
  },
  {
   "cell_type": "code",
   "execution_count": null,
   "metadata": {},
   "outputs": [],
   "source": [
    "plot_valid_coverage(by = 'date')\n"
   ]
  },
  {
   "cell_type": "code",
   "execution_count": null,
   "metadata": {},
   "outputs": [],
   "source": [
    "plot_valid_coverage(by = 'ordered')\n",
    "\n"
   ]
  },
  {
   "cell_type": "code",
   "execution_count": null,
   "metadata": {},
   "outputs": [],
   "source": [
    "plot_valid_coverage(by = 'reversed')\n"
   ]
  },
  {
   "cell_type": "markdown",
   "metadata": {},
   "source": [
    "### Download\n",
    "\n",
    "- Faz o download e salva imagens tif no disco.\n",
    "- Calcula automaticamente quantas datas vai baixar, de forma a maximizar a cobertura de pixels válidos, com menor número de datas.\n",
    "- Será salvo em data/raw/S2-16D_V2_{tile}\n"
   ]
  },
  {
   "cell_type": "code",
   "execution_count": null,
   "metadata": {},
   "outputs": [],
   "source": []
  },
  {
   "cell_type": "code",
   "execution_count": null,
   "metadata": {},
   "outputs": [],
   "source": [
    "\n",
    "tiles = {'MG':'032027',\n",
    "         'RS': '025037',\n",
    "         'AM':'016009',\n",
    "         'BA':'038019',\n",
    "         'DF': '028022',\n",
    "         'RJ': '033029'}\n",
    "\n",
    "working_dir = os.path.abspath('..')\n",
    "save_dir = os.path.join(working_dir,'data/raw')\n",
    "\n",
    "for tile in tiles.values(): \n",
    "    items  = BDC_downloader.get_max_coverage_items(tile, N = 4, threshold = 98, collections=['S2-16D-2'], datetime='2019-01-01/2019-12-31')\n",
    "    for item in items:\n",
    "        BDC_downloader.download_and_save_item(item, save_dir = save_dir)\n",
    "\n"
   ]
  },
  {
   "cell_type": "code",
   "execution_count": null,
   "metadata": {},
   "outputs": [],
   "source": []
  },
  {
   "cell_type": "code",
   "execution_count": null,
   "metadata": {},
   "outputs": [],
   "source": [
    "# imports\n",
    "\n",
    "import os\n",
    "import sys\n",
    "sys.path.append(os.path.abspath('..'))\n",
    "from rasterio.coords import BoundingBox\n",
    "import rasterio\n",
    "\n",
    "import src.data.BDC_downloader as BDC_downloader\n"
   ]
  },
  {
   "cell_type": "code",
   "execution_count": null,
   "metadata": {},
   "outputs": [],
   "source": [
    "\n",
    "tiles_escolhidos = {\n",
    "              'Boa Vista': '015002',  \n",
    "              'Manaus': '016009',\n",
    "              'Campo Grande': '021027',\n",
    "              'Macapá': '025005',\n",
    "              'Porto Alegre': '025037',\n",
    "              'Curitiba': '027032',\n",
    "              'Brasília': '028022',                      \n",
    "              'Belo Horizonte': '032027',\n",
    "              'Rio de Janeiro': '033029',\n",
    "              'Teresina': '034011',\n",
    "              'Petrolina': '036016',\n",
    "              'Salvador': '038019',      \n",
    "              }\n"
   ]
  },
  {
   "cell_type": "code",
   "execution_count": null,
   "metadata": {},
   "outputs": [],
   "source": []
  },
  {
   "cell_type": "code",
   "execution_count": null,
   "metadata": {},
   "outputs": [],
   "source": [
    "# imports\n",
    "\n",
    "import os\n",
    "import sys\n",
    "sys.path.append(os.path.abspath('..'))\n",
    "from rasterio.coords import BoundingBox\n",
    "import rasterio\n",
    "\n",
    "import src.data.BDC_downloader as BDC_downloader\n",
    "\n",
    "\n",
    "working_dir = os.path.abspath('..')\n",
    "save_dir = os.path.join(working_dir,'data/raw')\n",
    "\n",
    "#for tile in tiles_escolhidos.values(): \n",
    "for tile in ['016009']:\n",
    "    items  = BDC_downloader.get_max_coverage_items(tile, N = 4, threshold = 98, collections=['S2-16D-2'], datetime='2019-01-01/2019-12-31')\n",
    "    for item in items:\n",
    "        BDC_downloader.download_and_save_item(item, save_dir = save_dir)"
   ]
  },
  {
   "cell_type": "code",
   "execution_count": null,
   "metadata": {},
   "outputs": [],
   "source": []
  },
  {
   "cell_type": "code",
   "execution_count": null,
   "metadata": {},
   "outputs": [],
   "source": []
  },
  {
   "cell_type": "code",
   "execution_count": null,
   "metadata": {},
   "outputs": [],
   "source": []
  },
  {
   "cell_type": "code",
   "execution_count": null,
   "metadata": {},
   "outputs": [],
   "source": []
  }
 ],
 "metadata": {
  "kernelspec": {
   "display_name": ".venv",
   "language": "python",
   "name": "python3"
  },
  "language_info": {
   "codemirror_mode": {
    "name": "ipython",
    "version": 3
   },
   "file_extension": ".py",
   "mimetype": "text/x-python",
   "name": "python",
   "nbconvert_exporter": "python",
   "pygments_lexer": "ipython3",
   "version": "3.10.12"
  }
 },
 "nbformat": 4,
 "nbformat_minor": 2
}
