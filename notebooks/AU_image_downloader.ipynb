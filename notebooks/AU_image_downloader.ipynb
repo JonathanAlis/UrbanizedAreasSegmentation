{
 "cells": [
  {
   "cell_type": "markdown",
   "metadata": {},
   "source": [
    "# Download das imagens do BDC"
   ]
  },
  {
   "cell_type": "code",
   "execution_count": 1,
   "metadata": {},
   "outputs": [],
   "source": [
    "# imports\n",
    "\n",
    "import os\n",
    "import sys\n",
    "sys.path.append(os.path.abspath('..'))\n",
    "from rasterio.coords import BoundingBox\n",
    "\n",
    "import src.data.BDC_downloader as BDC_downloader\n"
   ]
  },
  {
   "cell_type": "code",
   "execution_count": 2,
   "metadata": {},
   "outputs": [
    {
     "name": "stdout",
     "output_type": "stream",
     "text": [
      "Bounding Box in Lat/Lon:\n",
      "Left-Bottom: (-44.32729056461349, -20.80707257210646)\n",
      "Right-Top: (-43.34879738591701, -19.823979268627337)\n"
     ]
    }
   ],
   "source": [
    "\n",
    "left, bottom = (-44.32729056461349, -20.80707257210646)\n",
    "right, top = (-43.34879738591701, -19.823979268627337)\n",
    "\n",
    "print(\"Bounding Box in Lat/Lon:\")\n",
    "print(f\"Left-Bottom: ({left}, {bottom})\")\n",
    "print(f\"Right-Top: ({right}, {top})\")\n",
    "bounding_box = BoundingBox(left=left, bottom=bottom, right=right, top=top)\n",
    "\n",
    "tile = '032027'"
   ]
  },
  {
   "cell_type": "code",
   "execution_count": 3,
   "metadata": {},
   "outputs": [],
   "source": [
    "\n",
    "items = BDC_downloader.get_items_by_tile(tile=tile, \n",
    "                                         collections=['S2-16D-2'], \n",
    "                                         datetime='2019-01-01/2019-12-31',\n",
    "                                         bounding_box_filter=bounding_box)"
   ]
  },
  {
   "cell_type": "code",
   "execution_count": 4,
   "metadata": {},
   "outputs": [
    {
     "data": {
      "text/plain": [
       "[<Item id=S2-16D_V2_032027_20191219>,\n",
       " <Item id=S2-16D_V2_032027_20191203>,\n",
       " <Item id=S2-16D_V2_032027_20191117>,\n",
       " <Item id=S2-16D_V2_032027_20191101>,\n",
       " <Item id=S2-16D_V2_032027_20191016>,\n",
       " <Item id=S2-16D_V2_032027_20190930>,\n",
       " <Item id=S2-16D_V2_032027_20190914>,\n",
       " <Item id=S2-16D_V2_032027_20190829>,\n",
       " <Item id=S2-16D_V2_032027_20190813>,\n",
       " <Item id=S2-16D_V2_032027_20190728>,\n",
       " <Item id=S2-16D_V2_032027_20190712>,\n",
       " <Item id=S2-16D_V2_032027_20190626>,\n",
       " <Item id=S2-16D_V2_032027_20190610>,\n",
       " <Item id=S2-16D_V2_032027_20190525>,\n",
       " <Item id=S2-16D_V2_032027_20190509>,\n",
       " <Item id=S2-16D_V2_032027_20190423>,\n",
       " <Item id=S2-16D_V2_032027_20190407>,\n",
       " <Item id=S2-16D_V2_032027_20190322>,\n",
       " <Item id=S2-16D_V2_032027_20190306>,\n",
       " <Item id=S2-16D_V2_032027_20190218>,\n",
       " <Item id=S2-16D_V2_032027_20190202>,\n",
       " <Item id=S2-16D_V2_032027_20190117>,\n",
       " <Item id=S2-16D_V2_032027_20190101>]"
      ]
     },
     "execution_count": 4,
     "metadata": {},
     "output_type": "execute_result"
    }
   ],
   "source": [
    "items\n"
   ]
  },
  {
   "cell_type": "code",
   "execution_count": 13,
   "metadata": {},
   "outputs": [
    {
     "data": {
      "text/plain": [
       "-20.3155259203669"
      ]
     },
     "execution_count": 13,
     "metadata": {},
     "output_type": "execute_result"
    }
   ],
   "source": []
  },
  {
   "cell_type": "code",
   "execution_count": null,
   "metadata": {},
   "outputs": [],
   "source": []
  },
  {
   "cell_type": "code",
   "execution_count": 3,
   "metadata": {},
   "outputs": [],
   "source": [
    "\n",
    "\n",
    "\n"
   ]
  },
  {
   "cell_type": "code",
   "execution_count": 4,
   "metadata": {},
   "outputs": [
    {
     "name": "stdout",
     "output_type": "stream",
     "text": [
      "{'B01': <Asset href=https://data.inpe.br/bdc/data/s2-16d/v2/032/027/2019/12/19/S2-16D_V2_032027_20191219_B01.tif>, 'B02': <Asset href=https://data.inpe.br/bdc/data/s2-16d/v2/032/027/2019/12/19/S2-16D_V2_032027_20191219_B02.tif>, 'B03': <Asset href=https://data.inpe.br/bdc/data/s2-16d/v2/032/027/2019/12/19/S2-16D_V2_032027_20191219_B03.tif>, 'B04': <Asset href=https://data.inpe.br/bdc/data/s2-16d/v2/032/027/2019/12/19/S2-16D_V2_032027_20191219_B04.tif>, 'B05': <Asset href=https://data.inpe.br/bdc/data/s2-16d/v2/032/027/2019/12/19/S2-16D_V2_032027_20191219_B05.tif>, 'B06': <Asset href=https://data.inpe.br/bdc/data/s2-16d/v2/032/027/2019/12/19/S2-16D_V2_032027_20191219_B06.tif>, 'B07': <Asset href=https://data.inpe.br/bdc/data/s2-16d/v2/032/027/2019/12/19/S2-16D_V2_032027_20191219_B07.tif>, 'B08': <Asset href=https://data.inpe.br/bdc/data/s2-16d/v2/032/027/2019/12/19/S2-16D_V2_032027_20191219_B08.tif>, 'B09': <Asset href=https://data.inpe.br/bdc/data/s2-16d/v2/032/027/2019/12/19/S2-16D_V2_032027_20191219_B09.tif>, 'B11': <Asset href=https://data.inpe.br/bdc/data/s2-16d/v2/032/027/2019/12/19/S2-16D_V2_032027_20191219_B11.tif>, 'B12': <Asset href=https://data.inpe.br/bdc/data/s2-16d/v2/032/027/2019/12/19/S2-16D_V2_032027_20191219_B12.tif>, 'B8A': <Asset href=https://data.inpe.br/bdc/data/s2-16d/v2/032/027/2019/12/19/S2-16D_V2_032027_20191219_B8A.tif>, 'EVI': <Asset href=https://data.inpe.br/bdc/data/s2-16d/v2/032/027/2019/12/19/S2-16D_V2_032027_20191219_EVI.tif>, 'NBR': <Asset href=https://data.inpe.br/bdc/data/s2-16d/v2/032/027/2019/12/19/S2-16D_V2_032027_20191219_NBR.tif>, 'SCL': <Asset href=https://data.inpe.br/bdc/data/s2-16d/v2/032/027/2019/12/19/S2-16D_V2_032027_20191219_SCL.tif>, 'NDVI': <Asset href=https://data.inpe.br/bdc/data/s2-16d/v2/032/027/2019/12/19/S2-16D_V2_032027_20191219_NDVI.tif>, 'CLEAROB': <Asset href=https://data.inpe.br/bdc/data/s2-16d/v2/032/027/2019/12/19/S2-16D_V2_032027_20191219_CLEAROB.tif>, 'TOTALOB': <Asset href=https://data.inpe.br/bdc/data/s2-16d/v2/032/027/2019/12/19/S2-16D_V2_032027_20191219_TOTALOB.tif>, 'thumbnail': <Asset href=https://data.inpe.br/bdc/data/s2-16d/v2/032/027/2019/12/19/S2-16D_V2_032027_20191219.png>, 'PROVENANCE': <Asset href=https://data.inpe.br/bdc/data/s2-16d/v2/032/027/2019/12/19/S2-16D_V2_032027_20191219_PROVENANCE.tif>}\n",
      "{'driver': 'GTiff', 'dtype': 'int16', 'nodata': 0.0, 'width': 10560, 'height': 10560, 'count': 1, 'crs': CRS.from_wkt('PROJCS[\"unknown\",GEOGCS[\"unknown\",DATUM[\"Unknown_based_on_GRS80_ellipsoid\",SPHEROID[\"GRS 1980\",6378137,298.257222101004,AUTHORITY[\"EPSG\",\"7019\"]]],PRIMEM[\"Greenwich\",0],UNIT[\"degree\",0.0174532925199433,AUTHORITY[\"EPSG\",\"9122\"]]],PROJECTION[\"Albers_Conic_Equal_Area\"],PARAMETER[\"latitude_of_center\",-12],PARAMETER[\"longitude_of_center\",-54],PARAMETER[\"standard_parallel_1\",-2],PARAMETER[\"standard_parallel_2\",-22],PARAMETER[\"false_easting\",5000000],PARAMETER[\"false_northing\",10000000],UNIT[\"metre\",1,AUTHORITY[\"EPSG\",\"9001\"]],AXIS[\"Easting\",EAST],AXIS[\"Northing\",NORTH]]'), 'transform': Affine(10.0, 0.0, 6003200.0,\n",
      "       0.0, -10.0, 9102400.0)}\n",
      "B01 (1, 10560, 10560) int16\n"
     ]
    }
   ],
   "source": [
    "item_limit=1\n",
    "for item in items:\n",
    "    assets = item.assets\n",
    "    print(assets)\n",
    "    for k in assets.keys():\n",
    "        img, meta = BDC_downloader.read_and_save_raster(assets[k].href, save_folder = 'data/raw')\n",
    "        print(meta)\n",
    "        print(k, img.shape, img.dtype)\n",
    "        break\n",
    "    break"
   ]
  },
  {
   "cell_type": "code",
   "execution_count": 5,
   "metadata": {},
   "outputs": [
    {
     "data": {
      "text/plain": [
       "array([[[8528, 8423, 8317, ...,  314,  313,  311],\n",
       "        [8699, 8588, 8478, ...,  314,  312,  310],\n",
       "        [8869, 8754, 8638, ...,  314,  312,  310],\n",
       "        ...,\n",
       "        [1030, 1015, 1001, ...,  784,  809,  835],\n",
       "        [1094, 1066, 1039, ...,  770,  795,  819],\n",
       "        [1157, 1116, 1077, ...,  756,  780,  803]]], dtype=int16)"
      ]
     },
     "execution_count": 5,
     "metadata": {},
     "output_type": "execute_result"
    }
   ],
   "source": [
    "img"
   ]
  },
  {
   "cell_type": "code",
   "execution_count": 14,
   "metadata": {},
   "outputs": [
    {
     "data": {
      "text/plain": [
       "{'B01': <Asset href=https://data.inpe.br/bdc/data/s2-16d/v2/032/027/2019/12/19/S2-16D_V2_032027_20191219_B01.tif>,\n",
       " 'B02': <Asset href=https://data.inpe.br/bdc/data/s2-16d/v2/032/027/2019/12/19/S2-16D_V2_032027_20191219_B02.tif>,\n",
       " 'B03': <Asset href=https://data.inpe.br/bdc/data/s2-16d/v2/032/027/2019/12/19/S2-16D_V2_032027_20191219_B03.tif>,\n",
       " 'B04': <Asset href=https://data.inpe.br/bdc/data/s2-16d/v2/032/027/2019/12/19/S2-16D_V2_032027_20191219_B04.tif>,\n",
       " 'B05': <Asset href=https://data.inpe.br/bdc/data/s2-16d/v2/032/027/2019/12/19/S2-16D_V2_032027_20191219_B05.tif>,\n",
       " 'B06': <Asset href=https://data.inpe.br/bdc/data/s2-16d/v2/032/027/2019/12/19/S2-16D_V2_032027_20191219_B06.tif>,\n",
       " 'B07': <Asset href=https://data.inpe.br/bdc/data/s2-16d/v2/032/027/2019/12/19/S2-16D_V2_032027_20191219_B07.tif>,\n",
       " 'B08': <Asset href=https://data.inpe.br/bdc/data/s2-16d/v2/032/027/2019/12/19/S2-16D_V2_032027_20191219_B08.tif>,\n",
       " 'B09': <Asset href=https://data.inpe.br/bdc/data/s2-16d/v2/032/027/2019/12/19/S2-16D_V2_032027_20191219_B09.tif>,\n",
       " 'B11': <Asset href=https://data.inpe.br/bdc/data/s2-16d/v2/032/027/2019/12/19/S2-16D_V2_032027_20191219_B11.tif>,\n",
       " 'B12': <Asset href=https://data.inpe.br/bdc/data/s2-16d/v2/032/027/2019/12/19/S2-16D_V2_032027_20191219_B12.tif>,\n",
       " 'B8A': <Asset href=https://data.inpe.br/bdc/data/s2-16d/v2/032/027/2019/12/19/S2-16D_V2_032027_20191219_B8A.tif>,\n",
       " 'EVI': <Asset href=https://data.inpe.br/bdc/data/s2-16d/v2/032/027/2019/12/19/S2-16D_V2_032027_20191219_EVI.tif>,\n",
       " 'NBR': <Asset href=https://data.inpe.br/bdc/data/s2-16d/v2/032/027/2019/12/19/S2-16D_V2_032027_20191219_NBR.tif>,\n",
       " 'SCL': <Asset href=https://data.inpe.br/bdc/data/s2-16d/v2/032/027/2019/12/19/S2-16D_V2_032027_20191219_SCL.tif>,\n",
       " 'NDVI': <Asset href=https://data.inpe.br/bdc/data/s2-16d/v2/032/027/2019/12/19/S2-16D_V2_032027_20191219_NDVI.tif>,\n",
       " 'CLEAROB': <Asset href=https://data.inpe.br/bdc/data/s2-16d/v2/032/027/2019/12/19/S2-16D_V2_032027_20191219_CLEAROB.tif>,\n",
       " 'TOTALOB': <Asset href=https://data.inpe.br/bdc/data/s2-16d/v2/032/027/2019/12/19/S2-16D_V2_032027_20191219_TOTALOB.tif>,\n",
       " 'thumbnail': <Asset href=https://data.inpe.br/bdc/data/s2-16d/v2/032/027/2019/12/19/S2-16D_V2_032027_20191219.png>,\n",
       " 'PROVENANCE': <Asset href=https://data.inpe.br/bdc/data/s2-16d/v2/032/027/2019/12/19/S2-16D_V2_032027_20191219_PROVENANCE.tif>}"
      ]
     },
     "execution_count": 14,
     "metadata": {},
     "output_type": "execute_result"
    }
   ],
   "source": [
    "item.assets"
   ]
  },
  {
   "cell_type": "code",
   "execution_count": 17,
   "metadata": {},
   "outputs": [
    {
     "name": "stdout",
     "output_type": "stream",
     "text": [
      "(1, 10560, 10560)\n"
     ]
    },
    {
     "data": {
      "text/plain": [
       "array([[[2, 2, 2, ..., 3, 3, 3],\n",
       "        [2, 2, 2, ..., 3, 3, 3],\n",
       "        [2, 2, 2, ..., 3, 3, 3],\n",
       "        ...,\n",
       "        [2, 2, 2, ..., 3, 3, 3],\n",
       "        [2, 2, 2, ..., 3, 3, 3],\n",
       "        [2, 2, 2, ..., 3, 3, 3]]], dtype=uint8)"
      ]
     },
     "execution_count": 17,
     "metadata": {},
     "output_type": "execute_result"
    }
   ],
   "source": [
    "item.assets['SCL']\n",
    "with rasterio.open(item.assets['TOTALOB'].href) as src:\n",
    "    data = src.read()\n",
    "print(data.shape)\n",
    "data\n",
    "    "
   ]
  },
  {
   "cell_type": "code",
   "execution_count": 13,
   "metadata": {},
   "outputs": [
    {
     "data": {
      "text/plain": [
       "(1, 10560, 10560)"
      ]
     },
     "execution_count": 13,
     "metadata": {},
     "output_type": "execute_result"
    }
   ],
   "source": [
    "data.shape"
   ]
  },
  {
   "cell_type": "code",
   "execution_count": null,
   "metadata": {},
   "outputs": [],
   "source": []
  }
 ],
 "metadata": {
  "kernelspec": {
   "display_name": ".venv",
   "language": "python",
   "name": "python3"
  },
  "language_info": {
   "codemirror_mode": {
    "name": "ipython",
    "version": 3
   },
   "file_extension": ".py",
   "mimetype": "text/x-python",
   "name": "python",
   "nbconvert_exporter": "python",
   "pygments_lexer": "ipython3",
   "version": "3.12.7"
  }
 },
 "nbformat": 4,
 "nbformat_minor": 2
}
